{
  "cells": [
    {
      "cell_type": "markdown",
      "metadata": {
        "id": "view-in-github",
        "colab_type": "text"
      },
      "source": [
        "<a href=\"https://colab.research.google.com/github/Moimschoh/data-analyst/blob/main/Exemplar_Build_a_random_forest_model.ipynb\" target=\"_parent\"><img src=\"https://colab.research.google.com/assets/colab-badge.svg\" alt=\"Open In Colab\"/></a>"
      ]
    },
    {
      "cell_type": "markdown",
      "id": "a11068cd",
      "metadata": {
        "id": "a11068cd"
      },
      "source": [
        "# Build a random forest model"
      ]
    },
    {
      "cell_type": "markdown",
      "id": "51b73e73",
      "metadata": {
        "id": "51b73e73"
      },
      "source": [
        "## **Introduction**\n",
        "\n",
        "\n",
        "As we're learning, random forests are popular statistical learning algorithms. Some of their primary benefits include reducing variance, bias, and the chance of overfitting.\n",
        "\n",
        "This lab is a continuation of the project we began modeling with decision trees for an airline. Here, we will train, tune, and evaluate a random forest model using data from spreadsheet of survey responses from 129,880 customers. It includes data points such as class, flight distance, and inflight entertainment. Your random forest model will be used to predict whether a customer will be satisfied with their flight experience.\n",
        "\n"
      ]
    },
    {
      "cell_type": "markdown",
      "id": "48c86d6e",
      "metadata": {
        "id": "48c86d6e"
      },
      "source": [
        "## **Step 1: Imports**"
      ]
    },
    {
      "cell_type": "markdown",
      "id": "e4d6a984",
      "metadata": {
        "id": "e4d6a984"
      },
      "source": [
        "Import relevant Python libraries and modules, including `numpy` and `pandas`libraries for data processing; the `pickle` package to save the model; and the `sklearn` library, containing:\n",
        "- The module `ensemble`, which has the function `RandomForestClassifier`\n",
        "- The module `model_selection`, which has the functions `train_test_split`, `PredefinedSplit`, and `GridSearchCV`\n",
        "- The module `metrics`, which has the functions `f1_score`, `precision_score`, `recall_score`, and `accuracy_score`"
      ]
    },
    {
      "cell_type": "code",
      "execution_count": null,
      "id": "3d5d6992",
      "metadata": {
        "id": "3d5d6992"
      },
      "outputs": [],
      "source": [
        "# Import `numpy`, `pandas`, `pickle`, and `sklearn`.\n",
        "# Import the relevant functions from `sklearn.ensemble`, `sklearn.model_selection`, and `sklearn.metrics`.\n",
        "\n",
        "\n",
        "\n",
        "import numpy as np\n",
        "import pandas as pd\n",
        "\n",
        "import pickle as pkl\n",
        "\n",
        "from sklearn.ensemble import RandomForestClassifier\n",
        "from sklearn.model_selection import train_test_split, PredefinedSplit, GridSearchCV\n",
        "from sklearn.metrics import f1_score, precision_score, recall_score, accuracy_score"
      ]
    },
    {
      "cell_type": "code",
      "execution_count": null,
      "id": "efcc3ca8",
      "metadata": {
        "id": "efcc3ca8"
      },
      "outputs": [],
      "source": [
        "# RUN THIS CELL TO IMPORT YOUR DATA.\n",
        "\n",
        "\n",
        "\n",
        "air_data = pd.read_csv(\"Invistico_Airline.csv\")"
      ]
    },
    {
      "cell_type": "markdown",
      "id": "1499ebf1",
      "metadata": {
        "id": "1499ebf1"
      },
      "source": [
        "Now, we're ready to begin cleaning our data."
      ]
    },
    {
      "cell_type": "markdown",
      "id": "caa916b5",
      "metadata": {
        "id": "caa916b5"
      },
      "source": [
        "## **Step 2: Data cleaning**"
      ]
    },
    {
      "cell_type": "markdown",
      "id": "86b972ce",
      "metadata": {
        "id": "86b972ce"
      },
      "source": [
        "To get a sense of the data, display the first 10 rows."
      ]
    },
    {
      "cell_type": "code",
      "execution_count": null,
      "id": "d6704e39",
      "metadata": {
        "colab": {
          "base_uri": "https://localhost:8080/",
          "height": 682
        },
        "id": "d6704e39",
        "outputId": "d0f4a1f0-efb8-4a50-e74d-3af2638c1a98"
      },
      "outputs": [
        {
          "data": {
            "text/html": [
              "<div>\n",
              "<style scoped>\n",
              "    .dataframe tbody tr th:only-of-type {\n",
              "        vertical-align: middle;\n",
              "    }\n",
              "\n",
              "    .dataframe tbody tr th {\n",
              "        vertical-align: top;\n",
              "    }\n",
              "\n",
              "    .dataframe thead th {\n",
              "        text-align: right;\n",
              "    }\n",
              "</style>\n",
              "<table border=\"1\" class=\"dataframe\">\n",
              "  <thead>\n",
              "    <tr style=\"text-align: right;\">\n",
              "      <th></th>\n",
              "      <th>satisfaction</th>\n",
              "      <th>Customer Type</th>\n",
              "      <th>Age</th>\n",
              "      <th>Type of Travel</th>\n",
              "      <th>Class</th>\n",
              "      <th>Flight Distance</th>\n",
              "      <th>Seat comfort</th>\n",
              "      <th>Departure/Arrival time convenient</th>\n",
              "      <th>Food and drink</th>\n",
              "      <th>Gate location</th>\n",
              "      <th>...</th>\n",
              "      <th>Online support</th>\n",
              "      <th>Ease of Online booking</th>\n",
              "      <th>On-board service</th>\n",
              "      <th>Leg room service</th>\n",
              "      <th>Baggage handling</th>\n",
              "      <th>Checkin service</th>\n",
              "      <th>Cleanliness</th>\n",
              "      <th>Online boarding</th>\n",
              "      <th>Departure Delay in Minutes</th>\n",
              "      <th>Arrival Delay in Minutes</th>\n",
              "    </tr>\n",
              "  </thead>\n",
              "  <tbody>\n",
              "    <tr>\n",
              "      <th>0</th>\n",
              "      <td>satisfied</td>\n",
              "      <td>Loyal Customer</td>\n",
              "      <td>65</td>\n",
              "      <td>Personal Travel</td>\n",
              "      <td>Eco</td>\n",
              "      <td>265</td>\n",
              "      <td>0</td>\n",
              "      <td>0</td>\n",
              "      <td>0</td>\n",
              "      <td>2</td>\n",
              "      <td>...</td>\n",
              "      <td>2</td>\n",
              "      <td>3</td>\n",
              "      <td>3</td>\n",
              "      <td>0</td>\n",
              "      <td>3</td>\n",
              "      <td>5</td>\n",
              "      <td>3</td>\n",
              "      <td>2</td>\n",
              "      <td>0</td>\n",
              "      <td>0.0</td>\n",
              "    </tr>\n",
              "    <tr>\n",
              "      <th>1</th>\n",
              "      <td>satisfied</td>\n",
              "      <td>Loyal Customer</td>\n",
              "      <td>47</td>\n",
              "      <td>Personal Travel</td>\n",
              "      <td>Business</td>\n",
              "      <td>2464</td>\n",
              "      <td>0</td>\n",
              "      <td>0</td>\n",
              "      <td>0</td>\n",
              "      <td>3</td>\n",
              "      <td>...</td>\n",
              "      <td>2</td>\n",
              "      <td>3</td>\n",
              "      <td>4</td>\n",
              "      <td>4</td>\n",
              "      <td>4</td>\n",
              "      <td>2</td>\n",
              "      <td>3</td>\n",
              "      <td>2</td>\n",
              "      <td>310</td>\n",
              "      <td>305.0</td>\n",
              "    </tr>\n",
              "    <tr>\n",
              "      <th>2</th>\n",
              "      <td>satisfied</td>\n",
              "      <td>Loyal Customer</td>\n",
              "      <td>15</td>\n",
              "      <td>Personal Travel</td>\n",
              "      <td>Eco</td>\n",
              "      <td>2138</td>\n",
              "      <td>0</td>\n",
              "      <td>0</td>\n",
              "      <td>0</td>\n",
              "      <td>3</td>\n",
              "      <td>...</td>\n",
              "      <td>2</td>\n",
              "      <td>2</td>\n",
              "      <td>3</td>\n",
              "      <td>3</td>\n",
              "      <td>4</td>\n",
              "      <td>4</td>\n",
              "      <td>4</td>\n",
              "      <td>2</td>\n",
              "      <td>0</td>\n",
              "      <td>0.0</td>\n",
              "    </tr>\n",
              "    <tr>\n",
              "      <th>3</th>\n",
              "      <td>satisfied</td>\n",
              "      <td>Loyal Customer</td>\n",
              "      <td>60</td>\n",
              "      <td>Personal Travel</td>\n",
              "      <td>Eco</td>\n",
              "      <td>623</td>\n",
              "      <td>0</td>\n",
              "      <td>0</td>\n",
              "      <td>0</td>\n",
              "      <td>3</td>\n",
              "      <td>...</td>\n",
              "      <td>3</td>\n",
              "      <td>1</td>\n",
              "      <td>1</td>\n",
              "      <td>0</td>\n",
              "      <td>1</td>\n",
              "      <td>4</td>\n",
              "      <td>1</td>\n",
              "      <td>3</td>\n",
              "      <td>0</td>\n",
              "      <td>0.0</td>\n",
              "    </tr>\n",
              "    <tr>\n",
              "      <th>4</th>\n",
              "      <td>satisfied</td>\n",
              "      <td>Loyal Customer</td>\n",
              "      <td>70</td>\n",
              "      <td>Personal Travel</td>\n",
              "      <td>Eco</td>\n",
              "      <td>354</td>\n",
              "      <td>0</td>\n",
              "      <td>0</td>\n",
              "      <td>0</td>\n",
              "      <td>3</td>\n",
              "      <td>...</td>\n",
              "      <td>4</td>\n",
              "      <td>2</td>\n",
              "      <td>2</td>\n",
              "      <td>0</td>\n",
              "      <td>2</td>\n",
              "      <td>4</td>\n",
              "      <td>2</td>\n",
              "      <td>5</td>\n",
              "      <td>0</td>\n",
              "      <td>0.0</td>\n",
              "    </tr>\n",
              "    <tr>\n",
              "      <th>5</th>\n",
              "      <td>satisfied</td>\n",
              "      <td>Loyal Customer</td>\n",
              "      <td>30</td>\n",
              "      <td>Personal Travel</td>\n",
              "      <td>Eco</td>\n",
              "      <td>1894</td>\n",
              "      <td>0</td>\n",
              "      <td>0</td>\n",
              "      <td>0</td>\n",
              "      <td>3</td>\n",
              "      <td>...</td>\n",
              "      <td>2</td>\n",
              "      <td>2</td>\n",
              "      <td>5</td>\n",
              "      <td>4</td>\n",
              "      <td>5</td>\n",
              "      <td>5</td>\n",
              "      <td>4</td>\n",
              "      <td>2</td>\n",
              "      <td>0</td>\n",
              "      <td>0.0</td>\n",
              "    </tr>\n",
              "    <tr>\n",
              "      <th>6</th>\n",
              "      <td>satisfied</td>\n",
              "      <td>Loyal Customer</td>\n",
              "      <td>66</td>\n",
              "      <td>Personal Travel</td>\n",
              "      <td>Eco</td>\n",
              "      <td>227</td>\n",
              "      <td>0</td>\n",
              "      <td>0</td>\n",
              "      <td>0</td>\n",
              "      <td>3</td>\n",
              "      <td>...</td>\n",
              "      <td>5</td>\n",
              "      <td>5</td>\n",
              "      <td>5</td>\n",
              "      <td>0</td>\n",
              "      <td>5</td>\n",
              "      <td>5</td>\n",
              "      <td>5</td>\n",
              "      <td>3</td>\n",
              "      <td>17</td>\n",
              "      <td>15.0</td>\n",
              "    </tr>\n",
              "    <tr>\n",
              "      <th>7</th>\n",
              "      <td>satisfied</td>\n",
              "      <td>Loyal Customer</td>\n",
              "      <td>10</td>\n",
              "      <td>Personal Travel</td>\n",
              "      <td>Eco</td>\n",
              "      <td>1812</td>\n",
              "      <td>0</td>\n",
              "      <td>0</td>\n",
              "      <td>0</td>\n",
              "      <td>3</td>\n",
              "      <td>...</td>\n",
              "      <td>2</td>\n",
              "      <td>2</td>\n",
              "      <td>3</td>\n",
              "      <td>3</td>\n",
              "      <td>4</td>\n",
              "      <td>5</td>\n",
              "      <td>4</td>\n",
              "      <td>2</td>\n",
              "      <td>0</td>\n",
              "      <td>0.0</td>\n",
              "    </tr>\n",
              "    <tr>\n",
              "      <th>8</th>\n",
              "      <td>satisfied</td>\n",
              "      <td>Loyal Customer</td>\n",
              "      <td>56</td>\n",
              "      <td>Personal Travel</td>\n",
              "      <td>Business</td>\n",
              "      <td>73</td>\n",
              "      <td>0</td>\n",
              "      <td>0</td>\n",
              "      <td>0</td>\n",
              "      <td>3</td>\n",
              "      <td>...</td>\n",
              "      <td>5</td>\n",
              "      <td>4</td>\n",
              "      <td>4</td>\n",
              "      <td>0</td>\n",
              "      <td>1</td>\n",
              "      <td>5</td>\n",
              "      <td>4</td>\n",
              "      <td>4</td>\n",
              "      <td>0</td>\n",
              "      <td>0.0</td>\n",
              "    </tr>\n",
              "    <tr>\n",
              "      <th>9</th>\n",
              "      <td>satisfied</td>\n",
              "      <td>Loyal Customer</td>\n",
              "      <td>22</td>\n",
              "      <td>Personal Travel</td>\n",
              "      <td>Eco</td>\n",
              "      <td>1556</td>\n",
              "      <td>0</td>\n",
              "      <td>0</td>\n",
              "      <td>0</td>\n",
              "      <td>3</td>\n",
              "      <td>...</td>\n",
              "      <td>2</td>\n",
              "      <td>2</td>\n",
              "      <td>2</td>\n",
              "      <td>4</td>\n",
              "      <td>5</td>\n",
              "      <td>3</td>\n",
              "      <td>4</td>\n",
              "      <td>2</td>\n",
              "      <td>30</td>\n",
              "      <td>26.0</td>\n",
              "    </tr>\n",
              "  </tbody>\n",
              "</table>\n",
              "<p>10 rows × 22 columns</p>\n",
              "</div>"
            ],
            "text/plain": [
              "  satisfaction   Customer Type  Age   Type of Travel     Class  \\\n",
              "0    satisfied  Loyal Customer   65  Personal Travel       Eco   \n",
              "1    satisfied  Loyal Customer   47  Personal Travel  Business   \n",
              "2    satisfied  Loyal Customer   15  Personal Travel       Eco   \n",
              "3    satisfied  Loyal Customer   60  Personal Travel       Eco   \n",
              "4    satisfied  Loyal Customer   70  Personal Travel       Eco   \n",
              "5    satisfied  Loyal Customer   30  Personal Travel       Eco   \n",
              "6    satisfied  Loyal Customer   66  Personal Travel       Eco   \n",
              "7    satisfied  Loyal Customer   10  Personal Travel       Eco   \n",
              "8    satisfied  Loyal Customer   56  Personal Travel  Business   \n",
              "9    satisfied  Loyal Customer   22  Personal Travel       Eco   \n",
              "\n",
              "   Flight Distance  Seat comfort  Departure/Arrival time convenient  \\\n",
              "0              265             0                                  0   \n",
              "1             2464             0                                  0   \n",
              "2             2138             0                                  0   \n",
              "3              623             0                                  0   \n",
              "4              354             0                                  0   \n",
              "5             1894             0                                  0   \n",
              "6              227             0                                  0   \n",
              "7             1812             0                                  0   \n",
              "8               73             0                                  0   \n",
              "9             1556             0                                  0   \n",
              "\n",
              "   Food and drink  Gate location  ...  Online support  Ease of Online booking  \\\n",
              "0               0              2  ...               2                       3   \n",
              "1               0              3  ...               2                       3   \n",
              "2               0              3  ...               2                       2   \n",
              "3               0              3  ...               3                       1   \n",
              "4               0              3  ...               4                       2   \n",
              "5               0              3  ...               2                       2   \n",
              "6               0              3  ...               5                       5   \n",
              "7               0              3  ...               2                       2   \n",
              "8               0              3  ...               5                       4   \n",
              "9               0              3  ...               2                       2   \n",
              "\n",
              "   On-board service  Leg room service  Baggage handling  Checkin service  \\\n",
              "0                 3                 0                 3                5   \n",
              "1                 4                 4                 4                2   \n",
              "2                 3                 3                 4                4   \n",
              "3                 1                 0                 1                4   \n",
              "4                 2                 0                 2                4   \n",
              "5                 5                 4                 5                5   \n",
              "6                 5                 0                 5                5   \n",
              "7                 3                 3                 4                5   \n",
              "8                 4                 0                 1                5   \n",
              "9                 2                 4                 5                3   \n",
              "\n",
              "   Cleanliness  Online boarding  Departure Delay in Minutes  \\\n",
              "0            3                2                           0   \n",
              "1            3                2                         310   \n",
              "2            4                2                           0   \n",
              "3            1                3                           0   \n",
              "4            2                5                           0   \n",
              "5            4                2                           0   \n",
              "6            5                3                          17   \n",
              "7            4                2                           0   \n",
              "8            4                4                           0   \n",
              "9            4                2                          30   \n",
              "\n",
              "   Arrival Delay in Minutes  \n",
              "0                       0.0  \n",
              "1                     305.0  \n",
              "2                       0.0  \n",
              "3                       0.0  \n",
              "4                       0.0  \n",
              "5                       0.0  \n",
              "6                      15.0  \n",
              "7                       0.0  \n",
              "8                       0.0  \n",
              "9                      26.0  \n",
              "\n",
              "[10 rows x 22 columns]"
            ]
          },
          "execution_count": 3,
          "metadata": {},
          "output_type": "execute_result"
        }
      ],
      "source": [
        "# Display first 10 rows.\n",
        "\n",
        "\n",
        "air_data.head(10)"
      ]
    },
    {
      "cell_type": "markdown",
      "id": "0efb095a",
      "metadata": {
        "id": "0efb095a"
      },
      "source": [
        "Now, display the variable names and their data types."
      ]
    },
    {
      "cell_type": "code",
      "execution_count": null,
      "id": "fb3e4353",
      "metadata": {
        "colab": {
          "base_uri": "https://localhost:8080/"
        },
        "id": "fb3e4353",
        "outputId": "43f19198-4e92-40d0-b3ad-651d9c6d82ff"
      },
      "outputs": [
        {
          "data": {
            "text/plain": [
              "satisfaction                          object\n",
              "Customer Type                         object\n",
              "Age                                    int64\n",
              "Type of Travel                        object\n",
              "Class                                 object\n",
              "Flight Distance                        int64\n",
              "Seat comfort                           int64\n",
              "Departure/Arrival time convenient      int64\n",
              "Food and drink                         int64\n",
              "Gate location                          int64\n",
              "Inflight wifi service                  int64\n",
              "Inflight entertainment                 int64\n",
              "Online support                         int64\n",
              "Ease of Online booking                 int64\n",
              "On-board service                       int64\n",
              "Leg room service                       int64\n",
              "Baggage handling                       int64\n",
              "Checkin service                        int64\n",
              "Cleanliness                            int64\n",
              "Online boarding                        int64\n",
              "Departure Delay in Minutes             int64\n",
              "Arrival Delay in Minutes             float64\n",
              "dtype: object"
            ]
          },
          "execution_count": 4,
          "metadata": {},
          "output_type": "execute_result"
        }
      ],
      "source": [
        "# Display variable names and types.\n",
        "\n",
        "\n",
        "air_data.dtypes"
      ]
    },
    {
      "cell_type": "markdown",
      "id": "c717b5b5",
      "metadata": {
        "id": "c717b5b5"
      },
      "source": [
        "**Question:** What do you observe about the differences in data types among the variables included in the data?\n",
        "\n",
        "There are three types of variables included in the data: int64, float64, and object. The object variables are satisfaction, customer type, type of travel, and class."
      ]
    },
    {
      "cell_type": "markdown",
      "id": "fec28b03",
      "metadata": {
        "id": "fec28b03"
      },
      "source": [
        "Next, to understand the size of the dataset, identify the number of rows and the number of columns."
      ]
    },
    {
      "cell_type": "code",
      "execution_count": null,
      "id": "88a474bc",
      "metadata": {
        "colab": {
          "base_uri": "https://localhost:8080/"
        },
        "id": "88a474bc",
        "outputId": "6f032712-04eb-43ca-b7d1-47e863d2766e"
      },
      "outputs": [
        {
          "data": {
            "text/plain": [
              "(129880, 22)"
            ]
          },
          "execution_count": 5,
          "metadata": {},
          "output_type": "execute_result"
        }
      ],
      "source": [
        "# Identify the number of rows and the number of columns.\n",
        "\n",
        "\n",
        "air_data.shape"
      ]
    },
    {
      "cell_type": "markdown",
      "id": "d0044a14",
      "metadata": {
        "id": "d0044a14",
        "tags": []
      },
      "source": [
        "Now, check for missing values in the rows of the data. Start with .isna() to get Booleans indicating whether each value in the data is missing. Then, use .any(axis=1) to get Booleans indicating whether there are any missing values along the columns in each row. Finally, use .sum() to get the number of rows that contain missing values."
      ]
    },
    {
      "cell_type": "code",
      "execution_count": null,
      "id": "dcec2210",
      "metadata": {
        "colab": {
          "base_uri": "https://localhost:8080/"
        },
        "id": "dcec2210",
        "outputId": "87ff2ba9-3e52-41bc-bffe-40181eedd382"
      },
      "outputs": [
        {
          "data": {
            "text/plain": [
              "393"
            ]
          },
          "execution_count": 6,
          "metadata": {},
          "output_type": "execute_result"
        }
      ],
      "source": [
        "# Get Booleans to find missing values in data.\n",
        "# Get Booleans to find missing values along columns.\n",
        "# Get the number of rows that contain missing values.\n",
        "\n",
        "\n",
        "air_data.isna().any(axis=1).sum()"
      ]
    },
    {
      "cell_type": "markdown",
      "id": "4745b0e1",
      "metadata": {
        "id": "4745b0e1"
      },
      "source": [
        "**Question:** How many rows of data are missing values?**\n",
        "\n",
        "There are 393 rows with missing values."
      ]
    },
    {
      "cell_type": "markdown",
      "id": "445301a6",
      "metadata": {
        "id": "445301a6"
      },
      "source": [
        "Drop the rows with missing values. This is an important step in data cleaning, as it makes the data more useful for analysis and regression. Then, save the resulting pandas DataFrame in a variable named `air_data_subset`."
      ]
    },
    {
      "cell_type": "code",
      "execution_count": null,
      "id": "33bd7d7b",
      "metadata": {
        "id": "33bd7d7b"
      },
      "outputs": [],
      "source": [
        "# Drop missing values.\n",
        "# Save the DataFrame in variable `air_data_subset`.\n",
        "\n",
        "\n",
        "air_data_subset = air_data.dropna(axis=0)"
      ]
    },
    {
      "cell_type": "markdown",
      "id": "51946719",
      "metadata": {
        "id": "51946719"
      },
      "source": [
        "Next, display the first 10 rows to examine the data subset."
      ]
    },
    {
      "cell_type": "code",
      "execution_count": null,
      "id": "db72bc83",
      "metadata": {
        "colab": {
          "base_uri": "https://localhost:8080/",
          "height": 682
        },
        "id": "db72bc83",
        "outputId": "f10297f7-f4d6-415b-d487-de4a1a9e6ef3"
      },
      "outputs": [
        {
          "data": {
            "text/html": [
              "<div>\n",
              "<style scoped>\n",
              "    .dataframe tbody tr th:only-of-type {\n",
              "        vertical-align: middle;\n",
              "    }\n",
              "\n",
              "    .dataframe tbody tr th {\n",
              "        vertical-align: top;\n",
              "    }\n",
              "\n",
              "    .dataframe thead th {\n",
              "        text-align: right;\n",
              "    }\n",
              "</style>\n",
              "<table border=\"1\" class=\"dataframe\">\n",
              "  <thead>\n",
              "    <tr style=\"text-align: right;\">\n",
              "      <th></th>\n",
              "      <th>satisfaction</th>\n",
              "      <th>Customer Type</th>\n",
              "      <th>Age</th>\n",
              "      <th>Type of Travel</th>\n",
              "      <th>Class</th>\n",
              "      <th>Flight Distance</th>\n",
              "      <th>Seat comfort</th>\n",
              "      <th>Departure/Arrival time convenient</th>\n",
              "      <th>Food and drink</th>\n",
              "      <th>Gate location</th>\n",
              "      <th>...</th>\n",
              "      <th>Online support</th>\n",
              "      <th>Ease of Online booking</th>\n",
              "      <th>On-board service</th>\n",
              "      <th>Leg room service</th>\n",
              "      <th>Baggage handling</th>\n",
              "      <th>Checkin service</th>\n",
              "      <th>Cleanliness</th>\n",
              "      <th>Online boarding</th>\n",
              "      <th>Departure Delay in Minutes</th>\n",
              "      <th>Arrival Delay in Minutes</th>\n",
              "    </tr>\n",
              "  </thead>\n",
              "  <tbody>\n",
              "    <tr>\n",
              "      <th>0</th>\n",
              "      <td>satisfied</td>\n",
              "      <td>Loyal Customer</td>\n",
              "      <td>65</td>\n",
              "      <td>Personal Travel</td>\n",
              "      <td>Eco</td>\n",
              "      <td>265</td>\n",
              "      <td>0</td>\n",
              "      <td>0</td>\n",
              "      <td>0</td>\n",
              "      <td>2</td>\n",
              "      <td>...</td>\n",
              "      <td>2</td>\n",
              "      <td>3</td>\n",
              "      <td>3</td>\n",
              "      <td>0</td>\n",
              "      <td>3</td>\n",
              "      <td>5</td>\n",
              "      <td>3</td>\n",
              "      <td>2</td>\n",
              "      <td>0</td>\n",
              "      <td>0.0</td>\n",
              "    </tr>\n",
              "    <tr>\n",
              "      <th>1</th>\n",
              "      <td>satisfied</td>\n",
              "      <td>Loyal Customer</td>\n",
              "      <td>47</td>\n",
              "      <td>Personal Travel</td>\n",
              "      <td>Business</td>\n",
              "      <td>2464</td>\n",
              "      <td>0</td>\n",
              "      <td>0</td>\n",
              "      <td>0</td>\n",
              "      <td>3</td>\n",
              "      <td>...</td>\n",
              "      <td>2</td>\n",
              "      <td>3</td>\n",
              "      <td>4</td>\n",
              "      <td>4</td>\n",
              "      <td>4</td>\n",
              "      <td>2</td>\n",
              "      <td>3</td>\n",
              "      <td>2</td>\n",
              "      <td>310</td>\n",
              "      <td>305.0</td>\n",
              "    </tr>\n",
              "    <tr>\n",
              "      <th>2</th>\n",
              "      <td>satisfied</td>\n",
              "      <td>Loyal Customer</td>\n",
              "      <td>15</td>\n",
              "      <td>Personal Travel</td>\n",
              "      <td>Eco</td>\n",
              "      <td>2138</td>\n",
              "      <td>0</td>\n",
              "      <td>0</td>\n",
              "      <td>0</td>\n",
              "      <td>3</td>\n",
              "      <td>...</td>\n",
              "      <td>2</td>\n",
              "      <td>2</td>\n",
              "      <td>3</td>\n",
              "      <td>3</td>\n",
              "      <td>4</td>\n",
              "      <td>4</td>\n",
              "      <td>4</td>\n",
              "      <td>2</td>\n",
              "      <td>0</td>\n",
              "      <td>0.0</td>\n",
              "    </tr>\n",
              "    <tr>\n",
              "      <th>3</th>\n",
              "      <td>satisfied</td>\n",
              "      <td>Loyal Customer</td>\n",
              "      <td>60</td>\n",
              "      <td>Personal Travel</td>\n",
              "      <td>Eco</td>\n",
              "      <td>623</td>\n",
              "      <td>0</td>\n",
              "      <td>0</td>\n",
              "      <td>0</td>\n",
              "      <td>3</td>\n",
              "      <td>...</td>\n",
              "      <td>3</td>\n",
              "      <td>1</td>\n",
              "      <td>1</td>\n",
              "      <td>0</td>\n",
              "      <td>1</td>\n",
              "      <td>4</td>\n",
              "      <td>1</td>\n",
              "      <td>3</td>\n",
              "      <td>0</td>\n",
              "      <td>0.0</td>\n",
              "    </tr>\n",
              "    <tr>\n",
              "      <th>4</th>\n",
              "      <td>satisfied</td>\n",
              "      <td>Loyal Customer</td>\n",
              "      <td>70</td>\n",
              "      <td>Personal Travel</td>\n",
              "      <td>Eco</td>\n",
              "      <td>354</td>\n",
              "      <td>0</td>\n",
              "      <td>0</td>\n",
              "      <td>0</td>\n",
              "      <td>3</td>\n",
              "      <td>...</td>\n",
              "      <td>4</td>\n",
              "      <td>2</td>\n",
              "      <td>2</td>\n",
              "      <td>0</td>\n",
              "      <td>2</td>\n",
              "      <td>4</td>\n",
              "      <td>2</td>\n",
              "      <td>5</td>\n",
              "      <td>0</td>\n",
              "      <td>0.0</td>\n",
              "    </tr>\n",
              "    <tr>\n",
              "      <th>5</th>\n",
              "      <td>satisfied</td>\n",
              "      <td>Loyal Customer</td>\n",
              "      <td>30</td>\n",
              "      <td>Personal Travel</td>\n",
              "      <td>Eco</td>\n",
              "      <td>1894</td>\n",
              "      <td>0</td>\n",
              "      <td>0</td>\n",
              "      <td>0</td>\n",
              "      <td>3</td>\n",
              "      <td>...</td>\n",
              "      <td>2</td>\n",
              "      <td>2</td>\n",
              "      <td>5</td>\n",
              "      <td>4</td>\n",
              "      <td>5</td>\n",
              "      <td>5</td>\n",
              "      <td>4</td>\n",
              "      <td>2</td>\n",
              "      <td>0</td>\n",
              "      <td>0.0</td>\n",
              "    </tr>\n",
              "    <tr>\n",
              "      <th>6</th>\n",
              "      <td>satisfied</td>\n",
              "      <td>Loyal Customer</td>\n",
              "      <td>66</td>\n",
              "      <td>Personal Travel</td>\n",
              "      <td>Eco</td>\n",
              "      <td>227</td>\n",
              "      <td>0</td>\n",
              "      <td>0</td>\n",
              "      <td>0</td>\n",
              "      <td>3</td>\n",
              "      <td>...</td>\n",
              "      <td>5</td>\n",
              "      <td>5</td>\n",
              "      <td>5</td>\n",
              "      <td>0</td>\n",
              "      <td>5</td>\n",
              "      <td>5</td>\n",
              "      <td>5</td>\n",
              "      <td>3</td>\n",
              "      <td>17</td>\n",
              "      <td>15.0</td>\n",
              "    </tr>\n",
              "    <tr>\n",
              "      <th>7</th>\n",
              "      <td>satisfied</td>\n",
              "      <td>Loyal Customer</td>\n",
              "      <td>10</td>\n",
              "      <td>Personal Travel</td>\n",
              "      <td>Eco</td>\n",
              "      <td>1812</td>\n",
              "      <td>0</td>\n",
              "      <td>0</td>\n",
              "      <td>0</td>\n",
              "      <td>3</td>\n",
              "      <td>...</td>\n",
              "      <td>2</td>\n",
              "      <td>2</td>\n",
              "      <td>3</td>\n",
              "      <td>3</td>\n",
              "      <td>4</td>\n",
              "      <td>5</td>\n",
              "      <td>4</td>\n",
              "      <td>2</td>\n",
              "      <td>0</td>\n",
              "      <td>0.0</td>\n",
              "    </tr>\n",
              "    <tr>\n",
              "      <th>8</th>\n",
              "      <td>satisfied</td>\n",
              "      <td>Loyal Customer</td>\n",
              "      <td>56</td>\n",
              "      <td>Personal Travel</td>\n",
              "      <td>Business</td>\n",
              "      <td>73</td>\n",
              "      <td>0</td>\n",
              "      <td>0</td>\n",
              "      <td>0</td>\n",
              "      <td>3</td>\n",
              "      <td>...</td>\n",
              "      <td>5</td>\n",
              "      <td>4</td>\n",
              "      <td>4</td>\n",
              "      <td>0</td>\n",
              "      <td>1</td>\n",
              "      <td>5</td>\n",
              "      <td>4</td>\n",
              "      <td>4</td>\n",
              "      <td>0</td>\n",
              "      <td>0.0</td>\n",
              "    </tr>\n",
              "    <tr>\n",
              "      <th>9</th>\n",
              "      <td>satisfied</td>\n",
              "      <td>Loyal Customer</td>\n",
              "      <td>22</td>\n",
              "      <td>Personal Travel</td>\n",
              "      <td>Eco</td>\n",
              "      <td>1556</td>\n",
              "      <td>0</td>\n",
              "      <td>0</td>\n",
              "      <td>0</td>\n",
              "      <td>3</td>\n",
              "      <td>...</td>\n",
              "      <td>2</td>\n",
              "      <td>2</td>\n",
              "      <td>2</td>\n",
              "      <td>4</td>\n",
              "      <td>5</td>\n",
              "      <td>3</td>\n",
              "      <td>4</td>\n",
              "      <td>2</td>\n",
              "      <td>30</td>\n",
              "      <td>26.0</td>\n",
              "    </tr>\n",
              "  </tbody>\n",
              "</table>\n",
              "<p>10 rows × 22 columns</p>\n",
              "</div>"
            ],
            "text/plain": [
              "  satisfaction   Customer Type  Age   Type of Travel     Class  \\\n",
              "0    satisfied  Loyal Customer   65  Personal Travel       Eco   \n",
              "1    satisfied  Loyal Customer   47  Personal Travel  Business   \n",
              "2    satisfied  Loyal Customer   15  Personal Travel       Eco   \n",
              "3    satisfied  Loyal Customer   60  Personal Travel       Eco   \n",
              "4    satisfied  Loyal Customer   70  Personal Travel       Eco   \n",
              "5    satisfied  Loyal Customer   30  Personal Travel       Eco   \n",
              "6    satisfied  Loyal Customer   66  Personal Travel       Eco   \n",
              "7    satisfied  Loyal Customer   10  Personal Travel       Eco   \n",
              "8    satisfied  Loyal Customer   56  Personal Travel  Business   \n",
              "9    satisfied  Loyal Customer   22  Personal Travel       Eco   \n",
              "\n",
              "   Flight Distance  Seat comfort  Departure/Arrival time convenient  \\\n",
              "0              265             0                                  0   \n",
              "1             2464             0                                  0   \n",
              "2             2138             0                                  0   \n",
              "3              623             0                                  0   \n",
              "4              354             0                                  0   \n",
              "5             1894             0                                  0   \n",
              "6              227             0                                  0   \n",
              "7             1812             0                                  0   \n",
              "8               73             0                                  0   \n",
              "9             1556             0                                  0   \n",
              "\n",
              "   Food and drink  Gate location  ...  Online support  Ease of Online booking  \\\n",
              "0               0              2  ...               2                       3   \n",
              "1               0              3  ...               2                       3   \n",
              "2               0              3  ...               2                       2   \n",
              "3               0              3  ...               3                       1   \n",
              "4               0              3  ...               4                       2   \n",
              "5               0              3  ...               2                       2   \n",
              "6               0              3  ...               5                       5   \n",
              "7               0              3  ...               2                       2   \n",
              "8               0              3  ...               5                       4   \n",
              "9               0              3  ...               2                       2   \n",
              "\n",
              "   On-board service  Leg room service  Baggage handling  Checkin service  \\\n",
              "0                 3                 0                 3                5   \n",
              "1                 4                 4                 4                2   \n",
              "2                 3                 3                 4                4   \n",
              "3                 1                 0                 1                4   \n",
              "4                 2                 0                 2                4   \n",
              "5                 5                 4                 5                5   \n",
              "6                 5                 0                 5                5   \n",
              "7                 3                 3                 4                5   \n",
              "8                 4                 0                 1                5   \n",
              "9                 2                 4                 5                3   \n",
              "\n",
              "   Cleanliness  Online boarding  Departure Delay in Minutes  \\\n",
              "0            3                2                           0   \n",
              "1            3                2                         310   \n",
              "2            4                2                           0   \n",
              "3            1                3                           0   \n",
              "4            2                5                           0   \n",
              "5            4                2                           0   \n",
              "6            5                3                          17   \n",
              "7            4                2                           0   \n",
              "8            4                4                           0   \n",
              "9            4                2                          30   \n",
              "\n",
              "   Arrival Delay in Minutes  \n",
              "0                       0.0  \n",
              "1                     305.0  \n",
              "2                       0.0  \n",
              "3                       0.0  \n",
              "4                       0.0  \n",
              "5                       0.0  \n",
              "6                      15.0  \n",
              "7                       0.0  \n",
              "8                       0.0  \n",
              "9                      26.0  \n",
              "\n",
              "[10 rows x 22 columns]"
            ]
          },
          "execution_count": 8,
          "metadata": {},
          "output_type": "execute_result"
        }
      ],
      "source": [
        "# Display the first 10 rows.\n",
        "\n",
        "\n",
        "air_data_subset.head(10)"
      ]
    },
    {
      "cell_type": "markdown",
      "id": "0169ef90",
      "metadata": {
        "id": "0169ef90",
        "tags": []
      },
      "source": [
        "Confirm that it does not contain any missing values."
      ]
    },
    {
      "cell_type": "code",
      "execution_count": null,
      "id": "4e2e2599",
      "metadata": {
        "colab": {
          "base_uri": "https://localhost:8080/"
        },
        "id": "4e2e2599",
        "outputId": "9995365d-6956-4bce-8dcb-ed400478d798"
      },
      "outputs": [
        {
          "data": {
            "text/plain": [
              "satisfaction                         0\n",
              "Customer Type                        0\n",
              "Age                                  0\n",
              "Type of Travel                       0\n",
              "Class                                0\n",
              "Flight Distance                      0\n",
              "Seat comfort                         0\n",
              "Departure/Arrival time convenient    0\n",
              "Food and drink                       0\n",
              "Gate location                        0\n",
              "Inflight wifi service                0\n",
              "Inflight entertainment               0\n",
              "Online support                       0\n",
              "Ease of Online booking               0\n",
              "On-board service                     0\n",
              "Leg room service                     0\n",
              "Baggage handling                     0\n",
              "Checkin service                      0\n",
              "Cleanliness                          0\n",
              "Online boarding                      0\n",
              "Departure Delay in Minutes           0\n",
              "Arrival Delay in Minutes             0\n",
              "dtype: int64"
            ]
          },
          "execution_count": 9,
          "metadata": {},
          "output_type": "execute_result"
        }
      ],
      "source": [
        "# Count of missing values.\n",
        "\n",
        "\n",
        "air_data_subset.isna().sum()"
      ]
    },
    {
      "cell_type": "markdown",
      "id": "cd757059",
      "metadata": {
        "id": "cd757059"
      },
      "source": [
        "Next, convert the categorical features to indicator (one-hot encoded) features.\n",
        "\n",
        "**Note:** The `drop_first` argument can be kept as default (`False`) during one-hot encoding for random forest models, so it does not need to be specified. Also, the target variable, `satisfaction`, does not need to be encoded and will be extracted in a later step."
      ]
    },
    {
      "cell_type": "code",
      "execution_count": null,
      "id": "2d04ef72",
      "metadata": {
        "id": "2d04ef72"
      },
      "outputs": [],
      "source": [
        "# Convert categorical features to one-hot encoded features.\n",
        "\n",
        "\n",
        "air_data_subset_dummies = pd.get_dummies(air_data_subset,\n",
        "                                         columns=['Customer Type','Type of Travel','Class'])"
      ]
    },
    {
      "cell_type": "markdown",
      "id": "28f9eaea",
      "metadata": {
        "id": "28f9eaea"
      },
      "source": [
        "**Question:** Why is it necessary to convert categorical data into dummy variables?**\n",
        "\n",
        "It is necessary because the sklearn implementation of `RandomForestClassifier()` requires that categorical features be encoded to numeric, which can be done using dummy variables or one-hot encoding."
      ]
    },
    {
      "cell_type": "markdown",
      "id": "8843c64c",
      "metadata": {
        "id": "8843c64c"
      },
      "source": [
        "Next, display the first 10 rows to review the `air_data_subset_dummies`."
      ]
    },
    {
      "cell_type": "code",
      "execution_count": null,
      "id": "54cd345d",
      "metadata": {
        "colab": {
          "base_uri": "https://localhost:8080/",
          "height": 509
        },
        "id": "54cd345d",
        "outputId": "8fde7c8c-9e24-4b2d-d39f-810fafbfdd2b"
      },
      "outputs": [
        {
          "data": {
            "text/html": [
              "<div>\n",
              "<style scoped>\n",
              "    .dataframe tbody tr th:only-of-type {\n",
              "        vertical-align: middle;\n",
              "    }\n",
              "\n",
              "    .dataframe tbody tr th {\n",
              "        vertical-align: top;\n",
              "    }\n",
              "\n",
              "    .dataframe thead th {\n",
              "        text-align: right;\n",
              "    }\n",
              "</style>\n",
              "<table border=\"1\" class=\"dataframe\">\n",
              "  <thead>\n",
              "    <tr style=\"text-align: right;\">\n",
              "      <th></th>\n",
              "      <th>satisfaction</th>\n",
              "      <th>Age</th>\n",
              "      <th>Flight Distance</th>\n",
              "      <th>Seat comfort</th>\n",
              "      <th>Departure/Arrival time convenient</th>\n",
              "      <th>Food and drink</th>\n",
              "      <th>Gate location</th>\n",
              "      <th>Inflight wifi service</th>\n",
              "      <th>Inflight entertainment</th>\n",
              "      <th>Online support</th>\n",
              "      <th>...</th>\n",
              "      <th>Online boarding</th>\n",
              "      <th>Departure Delay in Minutes</th>\n",
              "      <th>Arrival Delay in Minutes</th>\n",
              "      <th>Customer Type_Loyal Customer</th>\n",
              "      <th>Customer Type_disloyal Customer</th>\n",
              "      <th>Type of Travel_Business travel</th>\n",
              "      <th>Type of Travel_Personal Travel</th>\n",
              "      <th>Class_Business</th>\n",
              "      <th>Class_Eco</th>\n",
              "      <th>Class_Eco Plus</th>\n",
              "    </tr>\n",
              "  </thead>\n",
              "  <tbody>\n",
              "    <tr>\n",
              "      <th>0</th>\n",
              "      <td>satisfied</td>\n",
              "      <td>65</td>\n",
              "      <td>265</td>\n",
              "      <td>0</td>\n",
              "      <td>0</td>\n",
              "      <td>0</td>\n",
              "      <td>2</td>\n",
              "      <td>2</td>\n",
              "      <td>4</td>\n",
              "      <td>2</td>\n",
              "      <td>...</td>\n",
              "      <td>2</td>\n",
              "      <td>0</td>\n",
              "      <td>0.0</td>\n",
              "      <td>1</td>\n",
              "      <td>0</td>\n",
              "      <td>0</td>\n",
              "      <td>1</td>\n",
              "      <td>0</td>\n",
              "      <td>1</td>\n",
              "      <td>0</td>\n",
              "    </tr>\n",
              "    <tr>\n",
              "      <th>1</th>\n",
              "      <td>satisfied</td>\n",
              "      <td>47</td>\n",
              "      <td>2464</td>\n",
              "      <td>0</td>\n",
              "      <td>0</td>\n",
              "      <td>0</td>\n",
              "      <td>3</td>\n",
              "      <td>0</td>\n",
              "      <td>2</td>\n",
              "      <td>2</td>\n",
              "      <td>...</td>\n",
              "      <td>2</td>\n",
              "      <td>310</td>\n",
              "      <td>305.0</td>\n",
              "      <td>1</td>\n",
              "      <td>0</td>\n",
              "      <td>0</td>\n",
              "      <td>1</td>\n",
              "      <td>1</td>\n",
              "      <td>0</td>\n",
              "      <td>0</td>\n",
              "    </tr>\n",
              "    <tr>\n",
              "      <th>2</th>\n",
              "      <td>satisfied</td>\n",
              "      <td>15</td>\n",
              "      <td>2138</td>\n",
              "      <td>0</td>\n",
              "      <td>0</td>\n",
              "      <td>0</td>\n",
              "      <td>3</td>\n",
              "      <td>2</td>\n",
              "      <td>0</td>\n",
              "      <td>2</td>\n",
              "      <td>...</td>\n",
              "      <td>2</td>\n",
              "      <td>0</td>\n",
              "      <td>0.0</td>\n",
              "      <td>1</td>\n",
              "      <td>0</td>\n",
              "      <td>0</td>\n",
              "      <td>1</td>\n",
              "      <td>0</td>\n",
              "      <td>1</td>\n",
              "      <td>0</td>\n",
              "    </tr>\n",
              "    <tr>\n",
              "      <th>3</th>\n",
              "      <td>satisfied</td>\n",
              "      <td>60</td>\n",
              "      <td>623</td>\n",
              "      <td>0</td>\n",
              "      <td>0</td>\n",
              "      <td>0</td>\n",
              "      <td>3</td>\n",
              "      <td>3</td>\n",
              "      <td>4</td>\n",
              "      <td>3</td>\n",
              "      <td>...</td>\n",
              "      <td>3</td>\n",
              "      <td>0</td>\n",
              "      <td>0.0</td>\n",
              "      <td>1</td>\n",
              "      <td>0</td>\n",
              "      <td>0</td>\n",
              "      <td>1</td>\n",
              "      <td>0</td>\n",
              "      <td>1</td>\n",
              "      <td>0</td>\n",
              "    </tr>\n",
              "    <tr>\n",
              "      <th>4</th>\n",
              "      <td>satisfied</td>\n",
              "      <td>70</td>\n",
              "      <td>354</td>\n",
              "      <td>0</td>\n",
              "      <td>0</td>\n",
              "      <td>0</td>\n",
              "      <td>3</td>\n",
              "      <td>4</td>\n",
              "      <td>3</td>\n",
              "      <td>4</td>\n",
              "      <td>...</td>\n",
              "      <td>5</td>\n",
              "      <td>0</td>\n",
              "      <td>0.0</td>\n",
              "      <td>1</td>\n",
              "      <td>0</td>\n",
              "      <td>0</td>\n",
              "      <td>1</td>\n",
              "      <td>0</td>\n",
              "      <td>1</td>\n",
              "      <td>0</td>\n",
              "    </tr>\n",
              "    <tr>\n",
              "      <th>5</th>\n",
              "      <td>satisfied</td>\n",
              "      <td>30</td>\n",
              "      <td>1894</td>\n",
              "      <td>0</td>\n",
              "      <td>0</td>\n",
              "      <td>0</td>\n",
              "      <td>3</td>\n",
              "      <td>2</td>\n",
              "      <td>0</td>\n",
              "      <td>2</td>\n",
              "      <td>...</td>\n",
              "      <td>2</td>\n",
              "      <td>0</td>\n",
              "      <td>0.0</td>\n",
              "      <td>1</td>\n",
              "      <td>0</td>\n",
              "      <td>0</td>\n",
              "      <td>1</td>\n",
              "      <td>0</td>\n",
              "      <td>1</td>\n",
              "      <td>0</td>\n",
              "    </tr>\n",
              "    <tr>\n",
              "      <th>6</th>\n",
              "      <td>satisfied</td>\n",
              "      <td>66</td>\n",
              "      <td>227</td>\n",
              "      <td>0</td>\n",
              "      <td>0</td>\n",
              "      <td>0</td>\n",
              "      <td>3</td>\n",
              "      <td>2</td>\n",
              "      <td>5</td>\n",
              "      <td>5</td>\n",
              "      <td>...</td>\n",
              "      <td>3</td>\n",
              "      <td>17</td>\n",
              "      <td>15.0</td>\n",
              "      <td>1</td>\n",
              "      <td>0</td>\n",
              "      <td>0</td>\n",
              "      <td>1</td>\n",
              "      <td>0</td>\n",
              "      <td>1</td>\n",
              "      <td>0</td>\n",
              "    </tr>\n",
              "    <tr>\n",
              "      <th>7</th>\n",
              "      <td>satisfied</td>\n",
              "      <td>10</td>\n",
              "      <td>1812</td>\n",
              "      <td>0</td>\n",
              "      <td>0</td>\n",
              "      <td>0</td>\n",
              "      <td>3</td>\n",
              "      <td>2</td>\n",
              "      <td>0</td>\n",
              "      <td>2</td>\n",
              "      <td>...</td>\n",
              "      <td>2</td>\n",
              "      <td>0</td>\n",
              "      <td>0.0</td>\n",
              "      <td>1</td>\n",
              "      <td>0</td>\n",
              "      <td>0</td>\n",
              "      <td>1</td>\n",
              "      <td>0</td>\n",
              "      <td>1</td>\n",
              "      <td>0</td>\n",
              "    </tr>\n",
              "    <tr>\n",
              "      <th>8</th>\n",
              "      <td>satisfied</td>\n",
              "      <td>56</td>\n",
              "      <td>73</td>\n",
              "      <td>0</td>\n",
              "      <td>0</td>\n",
              "      <td>0</td>\n",
              "      <td>3</td>\n",
              "      <td>5</td>\n",
              "      <td>3</td>\n",
              "      <td>5</td>\n",
              "      <td>...</td>\n",
              "      <td>4</td>\n",
              "      <td>0</td>\n",
              "      <td>0.0</td>\n",
              "      <td>1</td>\n",
              "      <td>0</td>\n",
              "      <td>0</td>\n",
              "      <td>1</td>\n",
              "      <td>1</td>\n",
              "      <td>0</td>\n",
              "      <td>0</td>\n",
              "    </tr>\n",
              "    <tr>\n",
              "      <th>9</th>\n",
              "      <td>satisfied</td>\n",
              "      <td>22</td>\n",
              "      <td>1556</td>\n",
              "      <td>0</td>\n",
              "      <td>0</td>\n",
              "      <td>0</td>\n",
              "      <td>3</td>\n",
              "      <td>2</td>\n",
              "      <td>0</td>\n",
              "      <td>2</td>\n",
              "      <td>...</td>\n",
              "      <td>2</td>\n",
              "      <td>30</td>\n",
              "      <td>26.0</td>\n",
              "      <td>1</td>\n",
              "      <td>0</td>\n",
              "      <td>0</td>\n",
              "      <td>1</td>\n",
              "      <td>0</td>\n",
              "      <td>1</td>\n",
              "      <td>0</td>\n",
              "    </tr>\n",
              "  </tbody>\n",
              "</table>\n",
              "<p>10 rows × 26 columns</p>\n",
              "</div>"
            ],
            "text/plain": [
              "  satisfaction  Age  Flight Distance  Seat comfort  \\\n",
              "0    satisfied   65              265             0   \n",
              "1    satisfied   47             2464             0   \n",
              "2    satisfied   15             2138             0   \n",
              "3    satisfied   60              623             0   \n",
              "4    satisfied   70              354             0   \n",
              "5    satisfied   30             1894             0   \n",
              "6    satisfied   66              227             0   \n",
              "7    satisfied   10             1812             0   \n",
              "8    satisfied   56               73             0   \n",
              "9    satisfied   22             1556             0   \n",
              "\n",
              "   Departure/Arrival time convenient  Food and drink  Gate location  \\\n",
              "0                                  0               0              2   \n",
              "1                                  0               0              3   \n",
              "2                                  0               0              3   \n",
              "3                                  0               0              3   \n",
              "4                                  0               0              3   \n",
              "5                                  0               0              3   \n",
              "6                                  0               0              3   \n",
              "7                                  0               0              3   \n",
              "8                                  0               0              3   \n",
              "9                                  0               0              3   \n",
              "\n",
              "   Inflight wifi service  Inflight entertainment  Online support  ...  \\\n",
              "0                      2                       4               2  ...   \n",
              "1                      0                       2               2  ...   \n",
              "2                      2                       0               2  ...   \n",
              "3                      3                       4               3  ...   \n",
              "4                      4                       3               4  ...   \n",
              "5                      2                       0               2  ...   \n",
              "6                      2                       5               5  ...   \n",
              "7                      2                       0               2  ...   \n",
              "8                      5                       3               5  ...   \n",
              "9                      2                       0               2  ...   \n",
              "\n",
              "   Online boarding  Departure Delay in Minutes  Arrival Delay in Minutes  \\\n",
              "0                2                           0                       0.0   \n",
              "1                2                         310                     305.0   \n",
              "2                2                           0                       0.0   \n",
              "3                3                           0                       0.0   \n",
              "4                5                           0                       0.0   \n",
              "5                2                           0                       0.0   \n",
              "6                3                          17                      15.0   \n",
              "7                2                           0                       0.0   \n",
              "8                4                           0                       0.0   \n",
              "9                2                          30                      26.0   \n",
              "\n",
              "   Customer Type_Loyal Customer  Customer Type_disloyal Customer  \\\n",
              "0                             1                                0   \n",
              "1                             1                                0   \n",
              "2                             1                                0   \n",
              "3                             1                                0   \n",
              "4                             1                                0   \n",
              "5                             1                                0   \n",
              "6                             1                                0   \n",
              "7                             1                                0   \n",
              "8                             1                                0   \n",
              "9                             1                                0   \n",
              "\n",
              "   Type of Travel_Business travel  Type of Travel_Personal Travel  \\\n",
              "0                               0                               1   \n",
              "1                               0                               1   \n",
              "2                               0                               1   \n",
              "3                               0                               1   \n",
              "4                               0                               1   \n",
              "5                               0                               1   \n",
              "6                               0                               1   \n",
              "7                               0                               1   \n",
              "8                               0                               1   \n",
              "9                               0                               1   \n",
              "\n",
              "   Class_Business  Class_Eco  Class_Eco Plus  \n",
              "0               0          1               0  \n",
              "1               1          0               0  \n",
              "2               0          1               0  \n",
              "3               0          1               0  \n",
              "4               0          1               0  \n",
              "5               0          1               0  \n",
              "6               0          1               0  \n",
              "7               0          1               0  \n",
              "8               1          0               0  \n",
              "9               0          1               0  \n",
              "\n",
              "[10 rows x 26 columns]"
            ]
          },
          "execution_count": 11,
          "metadata": {},
          "output_type": "execute_result"
        }
      ],
      "source": [
        "# Display the first 10 rows.\n",
        "\n",
        "\n",
        "air_data_subset_dummies.head(10)"
      ]
    },
    {
      "cell_type": "markdown",
      "id": "e9ca5c2d",
      "metadata": {
        "id": "e9ca5c2d"
      },
      "source": [
        "Then, check the variables of air_data_subset_dummies."
      ]
    },
    {
      "cell_type": "code",
      "execution_count": null,
      "id": "ee5674a2",
      "metadata": {
        "colab": {
          "base_uri": "https://localhost:8080/"
        },
        "id": "ee5674a2",
        "outputId": "9d0a4a46-8f29-43bd-8572-fd9295343370"
      },
      "outputs": [
        {
          "data": {
            "text/plain": [
              "satisfaction                          object\n",
              "Age                                    int64\n",
              "Flight Distance                        int64\n",
              "Seat comfort                           int64\n",
              "Departure/Arrival time convenient      int64\n",
              "Food and drink                         int64\n",
              "Gate location                          int64\n",
              "Inflight wifi service                  int64\n",
              "Inflight entertainment                 int64\n",
              "Online support                         int64\n",
              "Ease of Online booking                 int64\n",
              "On-board service                       int64\n",
              "Leg room service                       int64\n",
              "Baggage handling                       int64\n",
              "Checkin service                        int64\n",
              "Cleanliness                            int64\n",
              "Online boarding                        int64\n",
              "Departure Delay in Minutes             int64\n",
              "Arrival Delay in Minutes             float64\n",
              "Customer Type_Loyal Customer           uint8\n",
              "Customer Type_disloyal Customer        uint8\n",
              "Type of Travel_Business travel         uint8\n",
              "Type of Travel_Personal Travel         uint8\n",
              "Class_Business                         uint8\n",
              "Class_Eco                              uint8\n",
              "Class_Eco Plus                         uint8\n",
              "dtype: object"
            ]
          },
          "execution_count": 12,
          "metadata": {},
          "output_type": "execute_result"
        }
      ],
      "source": [
        "# Display variables.\n",
        "\n",
        "\n",
        "air_data_subset_dummies.dtypes"
      ]
    },
    {
      "cell_type": "markdown",
      "id": "95c4c097",
      "metadata": {
        "id": "95c4c097"
      },
      "source": [
        "**Question:** What changes do you observe after converting the string data to dummy variables?**\n",
        "\n",
        "All of the following changes could be observed:\n",
        "\n",
        "- Customer Type  -->  Customer Type_Loyal Customer and Customer Type_disloyal Customer\n",
        "- Type of Travel -->  Type of Travel_Business travel and Type of Travel_Personal travel\n",
        "- Class          --> Class_Business, Class_Eco, Class_Eco Plus"
      ]
    },
    {
      "cell_type": "markdown",
      "id": "493a6c0c",
      "metadata": {
        "id": "493a6c0c",
        "tags": []
      },
      "source": [
        "## **Step 3: Model building**"
      ]
    },
    {
      "cell_type": "markdown",
      "id": "3af87416",
      "metadata": {
        "id": "3af87416"
      },
      "source": [
        "The first step to building your model is separating the labels (y) from the features (X)."
      ]
    },
    {
      "cell_type": "code",
      "execution_count": null,
      "id": "eb783a07",
      "metadata": {
        "id": "eb783a07"
      },
      "outputs": [],
      "source": [
        "# Separate the dataset into labels (y) and features (X).\n",
        "\n",
        "\n",
        "y = air_data_subset_dummies[\"satisfaction\"]\n",
        "X = air_data_subset_dummies.drop(\"satisfaction\", axis=1)"
      ]
    },
    {
      "cell_type": "markdown",
      "id": "2b352d4a",
      "metadata": {
        "id": "2b352d4a"
      },
      "source": [
        "Once separated, split the data into train, validate, and test sets."
      ]
    },
    {
      "cell_type": "code",
      "execution_count": null,
      "id": "211c3700",
      "metadata": {
        "id": "211c3700"
      },
      "outputs": [],
      "source": [
        "# Separate into train, validate, test sets.\n",
        "\n",
        "\n",
        "X_train, X_test, y_train, y_test = train_test_split(X, y, test_size = 0.25, random_state = 0)\n",
        "X_tr, X_val, y_tr, y_val = train_test_split(X_train, y_train, test_size = 0.25, random_state = 0)\n"
      ]
    },
    {
      "cell_type": "markdown",
      "id": "ec46d5ba",
      "metadata": {
        "id": "ec46d5ba",
        "tags": []
      },
      "source": [
        "### Tune the model\n",
        "\n",
        "Now, fit and tune a random forest model with separate validation set. Begin by determining a set of hyperparameters for tuning the model using GridSearchCV."
      ]
    },
    {
      "cell_type": "code",
      "execution_count": null,
      "id": "1b612ee1",
      "metadata": {
        "id": "1b612ee1"
      },
      "outputs": [],
      "source": [
        "# Determine set of hyperparameters.\n",
        "\n",
        "\n",
        "cv_params = {'n_estimators' : [50,100],\n",
        "              'max_depth' : [10,50],\n",
        "              'min_samples_leaf' : [0.5,1],\n",
        "              'min_samples_split' : [0.001, 0.01],\n",
        "              'max_features' : [\"sqrt\"],\n",
        "              'max_samples' : [.5,.9]}"
      ]
    },
    {
      "cell_type": "markdown",
      "id": "5ad7e3f2",
      "metadata": {
        "id": "5ad7e3f2"
      },
      "source": [
        "Next, create a list of split indices."
      ]
    },
    {
      "cell_type": "code",
      "execution_count": null,
      "id": "c879c0aa",
      "metadata": {
        "id": "c879c0aa"
      },
      "outputs": [],
      "source": [
        "# Create list of split indices.\n",
        "\n",
        "\n",
        "split_index = [0 if x in X_val.index else -1 for x in X_train.index]\n",
        "custom_split = PredefinedSplit(split_index)"
      ]
    },
    {
      "cell_type": "markdown",
      "id": "7344c3fd",
      "metadata": {
        "id": "7344c3fd"
      },
      "source": [
        "Now, instantiate your model."
      ]
    },
    {
      "cell_type": "code",
      "execution_count": null,
      "id": "f2261b12",
      "metadata": {
        "id": "f2261b12"
      },
      "outputs": [],
      "source": [
        "# Instantiate model.\n",
        "\n",
        "\n",
        "rf = RandomForestClassifier(random_state=0)"
      ]
    },
    {
      "cell_type": "markdown",
      "id": "bb228e6c",
      "metadata": {
        "id": "bb228e6c"
      },
      "source": [
        "Next, use GridSearchCV to search over the specified parameters."
      ]
    },
    {
      "cell_type": "code",
      "execution_count": null,
      "id": "106bf570",
      "metadata": {
        "id": "106bf570"
      },
      "outputs": [],
      "source": [
        "# Search over specified parameters.\n",
        "\n",
        "\n",
        "rf_val = GridSearchCV(rf, cv_params, cv=custom_split, refit='f1', n_jobs = -1, verbose = 1)"
      ]
    },
    {
      "cell_type": "markdown",
      "id": "ebd307b3",
      "metadata": {
        "id": "ebd307b3"
      },
      "source": [
        "Now, fit your model."
      ]
    },
    {
      "cell_type": "code",
      "execution_count": null,
      "id": "6e588f25",
      "metadata": {
        "colab": {
          "base_uri": "https://localhost:8080/"
        },
        "id": "6e588f25",
        "outputId": "4928a458-1ff2-476e-9a0b-df5504b4ebe3"
      },
      "outputs": [
        {
          "name": "stdout",
          "output_type": "stream",
          "text": [
            "Fitting 1 folds for each of 32 candidates, totalling 32 fits\n",
            "Wall time: 31.9 s\n"
          ]
        },
        {
          "data": {
            "text/plain": [
              "GridSearchCV(cv=PredefinedSplit(test_fold=array([-1, -1, ..., -1, -1])),\n",
              "             estimator=RandomForestClassifier(random_state=0), n_jobs=-1,\n",
              "             param_grid={'max_depth': [10, 50], 'max_features': ['sqrt'],\n",
              "                         'max_samples': [0.5, 0.9],\n",
              "                         'min_samples_leaf': [0.5, 1],\n",
              "                         'min_samples_split': [0.001, 0.01],\n",
              "                         'n_estimators': [50, 100]},\n",
              "             refit='f1', verbose=1)"
            ]
          },
          "execution_count": 19,
          "metadata": {},
          "output_type": "execute_result"
        }
      ],
      "source": [
        "%%time\n",
        "\n",
        "# Fit the model.\n",
        "\n",
        "\n",
        "\n",
        "rf_val.fit(X_train, y_train)"
      ]
    },
    {
      "cell_type": "markdown",
      "id": "49ba56ef",
      "metadata": {
        "id": "49ba56ef"
      },
      "source": [
        "Finally, obtain the optimal parameters."
      ]
    },
    {
      "cell_type": "code",
      "execution_count": null,
      "id": "32e1ba58",
      "metadata": {
        "colab": {
          "base_uri": "https://localhost:8080/"
        },
        "id": "32e1ba58",
        "outputId": "e5def2af-f1b9-4d49-9076-35c18e4bdb38"
      },
      "outputs": [
        {
          "data": {
            "text/plain": [
              "{'max_depth': 50,\n",
              " 'max_features': 'sqrt',\n",
              " 'max_samples': 0.9,\n",
              " 'min_samples_leaf': 1,\n",
              " 'min_samples_split': 0.001,\n",
              " 'n_estimators': 50}"
            ]
          },
          "execution_count": 20,
          "metadata": {},
          "output_type": "execute_result"
        }
      ],
      "source": [
        "# Obtain optimal parameters.\n",
        "\n",
        "\n",
        "rf_val.best_params_"
      ]
    },
    {
      "cell_type": "markdown",
      "id": "8c545d87",
      "metadata": {
        "id": "8c545d87"
      },
      "source": [
        "## **Step 4: Results and evaluation**"
      ]
    },
    {
      "cell_type": "markdown",
      "id": "a720da68",
      "metadata": {
        "id": "a720da68"
      },
      "source": [
        "Use the selected model to predict on your test data. Use the optimal parameters found via GridSearchCV."
      ]
    },
    {
      "cell_type": "code",
      "execution_count": null,
      "id": "fea98435",
      "metadata": {
        "id": "fea98435"
      },
      "outputs": [],
      "source": [
        "# Use optimal parameters on GridSearchCV.\n",
        "\n",
        "\n",
        "rf_opt = RandomForestClassifier(n_estimators = 50, max_depth = 50,\n",
        "                                min_samples_leaf = 1, min_samples_split = 0.001,\n",
        "                                max_features=\"sqrt\", max_samples = 0.9, random_state = 0)"
      ]
    },
    {
      "cell_type": "markdown",
      "id": "ed69a872",
      "metadata": {
        "id": "ed69a872"
      },
      "source": [
        "Once again, fit the optimal model."
      ]
    },
    {
      "cell_type": "code",
      "execution_count": null,
      "id": "158edea7",
      "metadata": {
        "colab": {
          "base_uri": "https://localhost:8080/"
        },
        "id": "158edea7",
        "outputId": "d53a73a4-b993-4d34-93b9-9364aae56c20"
      },
      "outputs": [
        {
          "data": {
            "text/plain": [
              "RandomForestClassifier(max_depth=50, max_features='sqrt', max_samples=0.9,\n",
              "                       min_samples_split=0.001, n_estimators=50,\n",
              "                       random_state=0)"
            ]
          },
          "execution_count": 22,
          "metadata": {},
          "output_type": "execute_result"
        }
      ],
      "source": [
        "# Fit the optimal model.\n",
        "\n",
        "\n",
        "rf_opt.fit(X_train, y_train)"
      ]
    },
    {
      "cell_type": "markdown",
      "id": "18910686",
      "metadata": {
        "id": "18910686"
      },
      "source": [
        "And predict on the test set using the optimal model."
      ]
    },
    {
      "cell_type": "code",
      "execution_count": null,
      "id": "c2a05d15",
      "metadata": {
        "id": "c2a05d15"
      },
      "outputs": [],
      "source": [
        "# Predict on test set.\n",
        "\n",
        "\n",
        "y_pred = rf_opt.predict(X_test)"
      ]
    },
    {
      "cell_type": "markdown",
      "id": "130202b2",
      "metadata": {
        "id": "130202b2"
      },
      "source": [
        "### Obtain performance scores"
      ]
    },
    {
      "cell_type": "markdown",
      "id": "88b5d94f",
      "metadata": {
        "id": "88b5d94f"
      },
      "source": [
        "First, get your precision score."
      ]
    },
    {
      "cell_type": "code",
      "execution_count": null,
      "id": "bdc4af78",
      "metadata": {
        "colab": {
          "base_uri": "https://localhost:8080/"
        },
        "id": "bdc4af78",
        "outputId": "779df510-8f17-4e92-85c1-e722b4154e51"
      },
      "outputs": [
        {
          "name": "stdout",
          "output_type": "stream",
          "text": [
            "The precision score is 0.950\n"
          ]
        }
      ],
      "source": [
        "# Get precision score.\n",
        "\n",
        "\n",
        "pc_test = precision_score(y_test, y_pred, pos_label = \"satisfied\")\n",
        "print(\"The precision score is {pc:.3f}\".format(pc = pc_test))"
      ]
    },
    {
      "cell_type": "markdown",
      "id": "0cff23ad",
      "metadata": {
        "id": "0cff23ad"
      },
      "source": [
        "Then, collect the recall score."
      ]
    },
    {
      "cell_type": "code",
      "execution_count": null,
      "id": "d89b53be",
      "metadata": {
        "colab": {
          "base_uri": "https://localhost:8080/"
        },
        "id": "d89b53be",
        "outputId": "62641fc3-e6f1-42e5-efdf-398e9ee24e22"
      },
      "outputs": [
        {
          "name": "stdout",
          "output_type": "stream",
          "text": [
            "The recall score is 0.945\n"
          ]
        }
      ],
      "source": [
        "# Get recall score.\n",
        "\n",
        "\n",
        "rc_test = recall_score(y_test, y_pred, pos_label = \"satisfied\")\n",
        "print(\"The recall score is {rc:.3f}\".format(rc = rc_test))"
      ]
    },
    {
      "cell_type": "markdown",
      "id": "1d1b490f",
      "metadata": {
        "id": "1d1b490f"
      },
      "source": [
        "Next, obtain your accuracy score."
      ]
    },
    {
      "cell_type": "code",
      "execution_count": null,
      "id": "21bb3099",
      "metadata": {
        "colab": {
          "base_uri": "https://localhost:8080/"
        },
        "id": "21bb3099",
        "outputId": "eabca891-7da1-4da6-8109-9c778297436f"
      },
      "outputs": [
        {
          "name": "stdout",
          "output_type": "stream",
          "text": [
            "The accuracy score is 0.942\n"
          ]
        }
      ],
      "source": [
        "# Get accuracy score.\n",
        "\n",
        "\n",
        "ac_test = accuracy_score(y_test, y_pred)\n",
        "print(\"The accuracy score is {ac:.3f}\".format(ac = ac_test))"
      ]
    },
    {
      "cell_type": "markdown",
      "id": "5f0d73dc",
      "metadata": {
        "id": "5f0d73dc"
      },
      "source": [
        "Finally, collect your F1-score."
      ]
    },
    {
      "cell_type": "code",
      "execution_count": null,
      "id": "e25bd5c0",
      "metadata": {
        "colab": {
          "base_uri": "https://localhost:8080/"
        },
        "id": "e25bd5c0",
        "outputId": "a69a2aec-0b53-4a59-ee5b-650149dce00d"
      },
      "outputs": [
        {
          "name": "stdout",
          "output_type": "stream",
          "text": [
            "The F1 score is 0.947\n"
          ]
        }
      ],
      "source": [
        "# Get F1 score.\n",
        "\n",
        "\n",
        "f1_test = f1_score(y_test, y_pred, pos_label = \"satisfied\")\n",
        "print(\"The F1 score is {f1:.3f}\".format(f1 = f1_test))"
      ]
    },
    {
      "cell_type": "markdown",
      "id": "d9b5264e",
      "metadata": {
        "id": "d9b5264e"
      },
      "source": [
        "**Question:** How is the F1-score calculated?\n",
        "\n",
        "F1 scores are calculated using the following formula:\n",
        "\n",
        "F1 = 2 * (precision * recall) / (precision + recall)"
      ]
    },
    {
      "cell_type": "markdown",
      "id": "6fa720ec",
      "metadata": {
        "id": "6fa720ec"
      },
      "source": [
        "**Question:** What are the pros and cons of performing the model selection using test data instead of a separate validation dataset?\n",
        "\n",
        "Pros: <br />\n",
        "*  The coding workload is reduced.\n",
        "*  The scripts for data splitting are shorter.\n",
        "*  It's only  necessary to evaluate test dataset performance once, instead of two evaluations (validate and test).\n",
        "\n",
        "Cons: <br />\n",
        "* If a model is evaluated using samples that were also used to build or fine-tune that model, it likely will provide a biased evaluation.\n",
        "* A potential overfitting issue could happen when fitting the model's scores on the test data.\n",
        "\n"
      ]
    },
    {
      "cell_type": "markdown",
      "id": "b155e305",
      "metadata": {
        "id": "b155e305"
      },
      "source": [
        "### Evaluate the model\n",
        "\n",
        "Now that you have results, evaluate the model."
      ]
    },
    {
      "cell_type": "markdown",
      "id": "f0e3c8b4",
      "metadata": {
        "id": "f0e3c8b4"
      },
      "source": [
        "**Question:** What are the four basic parameters for evaluating the performance of a classification model?\n",
        "\n",
        "1. True positives (TP): These are correctly predicted positive values, which means the value of actual and predicted classes are positive.\n",
        "\n",
        "2. True negatives (TN): These are correctly predicted negative values, which means the value of the actual and predicted classes are negative.\n",
        "\n",
        "3. False positives (FP): This occurs when the value of the actual class is negative and the value of the predicted class is positive.\n",
        "\n",
        "4. False negatives (FN): This occurs when the value of the actual class is positive and the value of the predicted class in negative.\n",
        "\n",
        "**Reminder:** When fitting and tuning classification modeld, data professioals aim to minimize false positives and false negatives."
      ]
    },
    {
      "cell_type": "markdown",
      "id": "b64e9c73",
      "metadata": {
        "id": "b64e9c73"
      },
      "source": [
        "**Question:**  What do the four scores demonstrate about your model, and how do you calculate them?\n",
        "\n",
        "- Accuracy (TP+TN/TP+FP+FN+TN): The ratio of correctly predicted observations to total observations.\n",
        "\n",
        "- Precision (TP/TP+FP): The ratio of correctly predicted positive observations to total predicted positive observations.\n",
        "\n",
        "- Recall (Sensitivity, TP/TP+FN): The ratio of correctly predicted positive observations to all observations in actual class.\n",
        "\n",
        "- F1 score: The harmonic average of precision and recall, which takes into account both false positives and false negatives."
      ]
    },
    {
      "cell_type": "markdown",
      "id": "46bcf16e",
      "metadata": {
        "id": "46bcf16e"
      },
      "source": [
        "Calculate the scores: precision score, recall score, accuracy score, F1 score."
      ]
    },
    {
      "cell_type": "code",
      "execution_count": null,
      "id": "5c5b9b2f",
      "metadata": {
        "colab": {
          "base_uri": "https://localhost:8080/"
        },
        "id": "5c5b9b2f",
        "outputId": "0e65d9bd-6617-42b9-fd35-14974bd3b4d5"
      },
      "outputs": [
        {
          "name": "stdout",
          "output_type": "stream",
          "text": [
            "\n",
            "The precision score is: 0.950 for the test set, \n",
            "which means of all positive predictions, 95.0% prediction are true positive.\n"
          ]
        }
      ],
      "source": [
        "# Precision score on test data set.\n",
        "\n",
        "\n",
        "print(\"\\nThe precision score is: {pc:.3f}\".format(pc = pc_test), \"for the test set,\", \"\\nwhich means of all positive predictions,\", \"{pc_pct:.1f}% prediction are true positive.\".format(pc_pct = pc_test * 100))"
      ]
    },
    {
      "cell_type": "code",
      "execution_count": null,
      "id": "4bf053d0",
      "metadata": {
        "colab": {
          "base_uri": "https://localhost:8080/"
        },
        "id": "4bf053d0",
        "outputId": "97e3637d-ed56-4ef1-ea8b-4dd5902ee6ee"
      },
      "outputs": [
        {
          "name": "stdout",
          "output_type": "stream",
          "text": [
            "\n",
            "The recall score is: 0.945 for the test set, \n",
            "which means of which means of all real positive cases in test set, 94.5% are  predicted positive.\n"
          ]
        }
      ],
      "source": [
        "# Recall score on test data set.\n",
        "\n",
        "\n",
        "print(\"\\nThe recall score is: {rc:.3f}\".format(rc = rc_test), \"for the test set,\", \"\\nwhich means of which means of all real positive cases in test set,\", \"{rc_pct:.1f}% are  predicted positive.\".format(rc_pct = rc_test * 100))"
      ]
    },
    {
      "cell_type": "code",
      "execution_count": null,
      "id": "a82cfe75",
      "metadata": {
        "colab": {
          "base_uri": "https://localhost:8080/"
        },
        "id": "a82cfe75",
        "outputId": "ec36d8b8-c284-4e50-fba8-8e6de185383d"
      },
      "outputs": [
        {
          "name": "stdout",
          "output_type": "stream",
          "text": [
            "\n",
            "The accuracy score is: 0.942 for the test set, \n",
            "which means of all cases in test set, 94.2% are predicted true positive or true negative.\n"
          ]
        }
      ],
      "source": [
        "# Accuracy score on test data set.\n",
        "\n",
        "\n",
        "print(\"\\nThe accuracy score is: {ac:.3f}\".format(ac = ac_test), \"for the test set,\", \"\\nwhich means of all cases in test set,\", \"{ac_pct:.1f}% are predicted true positive or true negative.\".format(ac_pct = ac_test * 100))"
      ]
    },
    {
      "cell_type": "code",
      "execution_count": null,
      "id": "8622031e",
      "metadata": {
        "colab": {
          "base_uri": "https://localhost:8080/"
        },
        "id": "8622031e",
        "outputId": "86d8c589-efa6-44dd-b925-1a891288d5a3"
      },
      "outputs": [
        {
          "name": "stdout",
          "output_type": "stream",
          "text": [
            "\n",
            "The F1 score is: 0.947 for the test set, \n",
            "which means the test set's harmonic mean is 94.7%.\n"
          ]
        }
      ],
      "source": [
        "# F1 score on test data set.\n",
        "\n",
        "\n",
        "print(\"\\nThe F1 score is: {f1:.3f}\".format(f1 = f1_test), \"for the test set,\", \"\\nwhich means the test set's harmonic mean is {f1_pct:.1f}%.\".format(f1_pct = f1_test * 100))"
      ]
    },
    {
      "cell_type": "markdown",
      "id": "1200c57e",
      "metadata": {
        "id": "1200c57e"
      },
      "source": [
        "**Question:** How does this model perform based on the four scores?\n",
        "\n",
        "The model performs well according to all 4 performance metrics. The model's precision score is slightly better than the 3 other metrics."
      ]
    },
    {
      "cell_type": "markdown",
      "id": "b4838cfd",
      "metadata": {
        "id": "b4838cfd"
      },
      "source": [
        "### Evaluate the model\n",
        "\n",
        "Finally, create a table of results that you can use to evaluate the performace of your model."
      ]
    },
    {
      "cell_type": "code",
      "execution_count": null,
      "id": "262ce1d0",
      "metadata": {
        "colab": {
          "base_uri": "https://localhost:8080/",
          "height": 112
        },
        "id": "262ce1d0",
        "outputId": "ce6c30b7-29d9-44c0-e484-0ab64aeeda6a",
        "scrolled": true
      },
      "outputs": [
        {
          "data": {
            "text/html": [
              "<div>\n",
              "<style scoped>\n",
              "    .dataframe tbody tr th:only-of-type {\n",
              "        vertical-align: middle;\n",
              "    }\n",
              "\n",
              "    .dataframe tbody tr th {\n",
              "        vertical-align: top;\n",
              "    }\n",
              "\n",
              "    .dataframe thead th {\n",
              "        text-align: right;\n",
              "    }\n",
              "</style>\n",
              "<table border=\"1\" class=\"dataframe\">\n",
              "  <thead>\n",
              "    <tr style=\"text-align: right;\">\n",
              "      <th></th>\n",
              "      <th>Model</th>\n",
              "      <th>F1</th>\n",
              "      <th>Recall</th>\n",
              "      <th>Precision</th>\n",
              "      <th>Accuracy</th>\n",
              "    </tr>\n",
              "  </thead>\n",
              "  <tbody>\n",
              "    <tr>\n",
              "      <th>0</th>\n",
              "      <td>Tuned Decision Tree</td>\n",
              "      <td>0.945422</td>\n",
              "      <td>0.935863</td>\n",
              "      <td>0.955197</td>\n",
              "      <td>0.940864</td>\n",
              "    </tr>\n",
              "    <tr>\n",
              "      <th>1</th>\n",
              "      <td>Tuned Random Forest</td>\n",
              "      <td>0.947306</td>\n",
              "      <td>0.944501</td>\n",
              "      <td>0.950128</td>\n",
              "      <td>0.942450</td>\n",
              "    </tr>\n",
              "  </tbody>\n",
              "</table>\n",
              "</div>"
            ],
            "text/plain": [
              "                 Model        F1    Recall  Precision  Accuracy\n",
              "0  Tuned Decision Tree  0.945422  0.935863   0.955197  0.940864\n",
              "1  Tuned Random Forest  0.947306  0.944501   0.950128  0.942450"
            ]
          },
          "execution_count": 33,
          "metadata": {},
          "output_type": "execute_result"
        }
      ],
      "source": [
        "# Create table of results.\n",
        "\n",
        "table = pd.DataFrame({'Model': [\"Tuned Decision Tree\", \"Tuned Random Forest\"],\n",
        "                        'F1':  [0.945422, f1_test],\n",
        "                        'Recall': [0.935863, rc_test],\n",
        "                        'Precision': [0.955197, pc_test],\n",
        "                        'Accuracy': [0.940864, ac_test]\n",
        "                      }\n",
        "                    )\n",
        "table"
      ]
    },
    {
      "cell_type": "markdown",
      "id": "35d86003",
      "metadata": {
        "id": "35d86003"
      },
      "source": [
        "**Question:** How does the random forest model compare to the decision tree model you built in the previous lab?\n",
        "\n",
        "The tuned random forest has higher scores overall, so it is the better model. Particularly, it shows a better F1 score than the decision tree model, which indicates that the random forest model may do better at classification when taking into account false positives and false negatives.\n",
        "\n"
      ]
    },
    {
      "cell_type": "markdown",
      "id": "a9260a92",
      "metadata": {
        "id": "a9260a92"
      },
      "source": [
        "## **Considerations**\n",
        "\n",
        "\n",
        "**What are the key takeaways from this lab?**\n",
        "- Data exploring, cleaning, and encoding are necessary for model building.\n",
        "- A separate validation set is typically used for tuning a model, rather than using the test set. This also helps avoid the evaluation becoming biased.\n",
        "-  F1 scores are usually more useful than accuracy scores. If the cost of false positives and false negatives are very different, it’s better to use the F1 score and combine the information from precision and recall.\n",
        "* The random forest model yields a more effective performance than a decision tree model.\n",
        "\n",
        "**What summary would you provide to stakeholders?**\n",
        "* The random forest model predicted satisfaction with more than 94.2% accuracy. The precision is over 95% and the recall is approximately 94.5%.\n",
        "* The random forest model outperformed the tuned decision tree with the best hyperparameters in most of the four scores. This indicates that the random forest model may perform better.\n",
        "* Because stakeholders were interested in learning about the factors that are most important to customer satisfaction, this would be shared based on the tuned random forest.\n",
        "* In addition, you would provide details about the precision, recall, accuracy, and F1 scores to support your findings."
      ]
    },
    {
      "cell_type": "markdown",
      "id": "914eb1a9",
      "metadata": {
        "id": "914eb1a9"
      },
      "source": [
        "### References"
      ]
    },
    {
      "cell_type": "markdown",
      "id": "8e09ab71",
      "metadata": {
        "id": "8e09ab71"
      },
      "source": [
        "[What is the Difference Between Test and Validation Datasets?,  Jason Brownlee](https://machinelearningmastery.com/difference-test-validation-datasets/)\n",
        "\n",
        "[Decision Trees and Random Forests Neil Liberman](https://towardsdatascience.com/decision-trees-and-random-forests-df0c3123f991)"
      ]
    }
  ],
  "metadata": {
    "colab": {
      "provenance": [],
      "include_colab_link": true
    },
    "gpuClass": "standard",
    "kernelspec": {
      "display_name": "Python 3 (ipykernel)",
      "language": "python",
      "name": "python3"
    },
    "language_info": {
      "codemirror_mode": {
        "name": "ipython",
        "version": 3
      },
      "file_extension": ".py",
      "mimetype": "text/x-python",
      "name": "python",
      "nbconvert_exporter": "python",
      "pygments_lexer": "ipython3",
      "version": "3.9.13"
    }
  },
  "nbformat": 4,
  "nbformat_minor": 5
}