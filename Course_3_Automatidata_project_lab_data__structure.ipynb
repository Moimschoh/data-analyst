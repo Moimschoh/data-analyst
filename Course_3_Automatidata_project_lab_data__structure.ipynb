{
  "cells": [
    {
      "cell_type": "markdown",
      "metadata": {
        "id": "view-in-github",
        "colab_type": "text"
      },
      "source": [
        "<a href=\"https://colab.research.google.com/github/Moimschoh/data-analyst/blob/main/Course_3_Automatidata_project_lab_data__structure.ipynb\" target=\"_parent\"><img src=\"https://colab.research.google.com/assets/colab-badge.svg\" alt=\"Open In Colab\"/></a>"
      ]
    },
    {
      "cell_type": "markdown",
      "metadata": {
        "id": "DtNBZFHO3M7n"
      },
      "source": [
        "# ** Automatidata project**\n",
        "**Go Beyond the Numbers: Translate Data into Insights**"
      ]
    },
    {
      "cell_type": "markdown",
      "metadata": {
        "id": "g-E8SNtmRUkN"
      },
      "source": [
        "As a data professional in a fictional data consulting firm: Automatidata. The team is still early into the project, having only just completed an initial plan of action and some early Python coding work.\n",
        "\n",
        "The senior data analyst at Automatidata, is pleased with the work you have already completed and requests your assistance with some EDA and data visualization work for the New York City Taxi and Limousine Commission project (New York City TLC) to get a general understanding of what taxi ridership looks like. The management team is asking for a Python notebook showing data structuring and cleaning, as well as any matplotlib/seaborn visualizations plotted to help understand the data. At the very least, include a box plot of the ride durations and some time series plots, like a breakdown by quarter or month.\n",
        "\n",
        "Additionally, the management team has recently asked all EDA to include Tableau visualizations. For this taxi data, create a Tableau dashboard showing a New York City map of taxi/limo trips by month.\n",
        "\n"
      ]
    },
    {
      "cell_type": "markdown",
      "metadata": {
        "id": "rgSbVJvomcVa"
      },
      "source": [
        "# Exploratory data analysis\n",
        "\n",
        "In this activity, we will examine data provided and prepare it for analysis. we will also design a professional data visualization that tells a story, and will help data-driven decisions for business needs.\n",
        "\n",
        "The structure of this activity is designed to emulate the proposals we will likely be assigned in your career as a data professional. Completing this activity will help prepare us for those career moments.\n",
        "\n",
        "**The purpose** of this project is to conduct exploratory data analysis on a provided data set. our mission is to continue the investigation we began in C2 and perform further EDA on this data with the aim of learning more about the variables.\n",
        "  \n",
        "**The goal** is to clean data set and create a visualization.\n",
        "<br/>  \n",
        "*This activity has 4 parts:*\n",
        "\n",
        "**Part 1:** Imports, links, and loading\n",
        "\n",
        "**Part 2:** Data Exploration\n",
        "*   Data cleaning\n",
        "\n",
        "\n",
        "**Part 3:** Building visualizations\n",
        "\n",
        "**Part 4:** Evaluate and share results\n",
        "\n",
        "<br/>\n"
      ]
    },
    {
      "cell_type": "markdown",
      "metadata": {
        "id": "p5CHWd9rxIyp"
      },
      "source": [
        "# Visualize a story in Tableau and Python"
      ]
    },
    {
      "cell_type": "markdown",
      "metadata": {
        "id": "rdR5eWbYx8GE"
      },
      "source": [
        "# **PACE stages**\n",
        "\n",
        "\n",
        "<img src=\"images/Pace.png\" width=\"100\" height=\"100\" align=left>\n",
        "\n",
        "   *        [Plan](#scrollTo=psz51YkZVwtN&line=3&uniqifier=1)\n",
        "   *        [Analyze](#scrollTo=mA7Mz_SnI8km&line=4&uniqifier=1)\n",
        "   *        [Construct](#scrollTo=Lca9c8XON8lc&line=2&uniqifier=1)\n",
        "   *        [Execute](#scrollTo=401PgchTPr4E&line=2&uniqifier=1)"
      ]
    },
    {
      "cell_type": "markdown",
      "metadata": {
        "id": "B1375hku_del"
      },
      "source": [
        "Throughout these project notebooks, we'll see references to the problem-solving framework PACE. The following notebook components are labeled with the respective PACE stage: Plan, Analyze, Construct, and Execute."
      ]
    },
    {
      "cell_type": "markdown",
      "metadata": {
        "id": "xKLZJUqMx8GE"
      },
      "source": [
        "<img src=\"images/Plan.png\" width=\"100\" height=\"100\" align=left>\n",
        "\n",
        "\n",
        "## PACE: Plan\n",
        "\n",
        "In this stage, consider the following questions where applicable to complete our code response:\n",
        "\n",
        "\n",
        "**Exemplar response:**\n",
        "\n",
        "1. Identify any outliers:\n",
        "\n",
        "\n",
        "*   What methods are best for identifying outliers?\n",
        "  * Use numpy functions to investigate the `mean()` and `median()` of the data and understand range of data values\n",
        "  * Use a boxplot to visualize the distribution of the data\n",
        "  * Use histograms to visualize the distribution of the data\n",
        "*   How do we make the decision to keep or exclude outliers from any future models?\n",
        "  * There are three main options for dealing with outliers: keeping them as they are, deleting them, or reassigning them. Whether you keep outliers as they are, delete them, or reassign values is a decision that you make taking into account the nature of the outlying data and the assumptions of the model you are building. To help you make the decision, you can start with these general guidelines:\n",
        "\n",
        "      * Delete them: If we are sure the outliers are mistakes, typos, or errors and the dataset will be used for modeling or machine learning, then we are more likely to decide to delete outliers. Of the three choices, we’ll use this one the least.\n",
        "      * Reassign them: If the dataset is small and/or the data will be used for modeling or machine learning, we are more likely to choose a path of deriving new values to replace the outlier values.\n",
        "      * Leave them: For a dataset that you plan to do EDA/analysis on and nothing else, or for a dataset we are preparing for a model that is resistant to outliers, it is most likely that we are going to leave them in.\n"
      ]
    },
    {
      "cell_type": "markdown",
      "metadata": {
        "id": "SKur6gTPRcvy"
      },
      "source": [
        "### Task 1. Imports, links, and loading\n",
        "Go to Tableau Public\n",
        "The following link will help you complete this activity. Keep Tableau Public open as you proceed to the next steps.\n",
        "\n",
        "Link to supporting materials:\n",
        "Public Tableau: https://public.tableau.com/s/\n",
        "\n",
        "For EDA of the data, import the data and packages that would be most helpful, such as pandas, numpy and matplotlib.\n",
        "\n",
        "Then, import the dataset."
      ]
    },
    {
      "cell_type": "code",
      "execution_count": null,
      "metadata": {
        "id": "EO8vKZI8x8GF"
      },
      "outputs": [],
      "source": [
        "import pandas as pd\n",
        "import matplotlib.pyplot as plt\n",
        "import numpy as np\n",
        "import datetime as dt\n",
        "import seaborn as sns\n",
        "import glob"
      ]
    },
    {
      "cell_type": "code",
      "execution_count": null,
      "metadata": {
        "id": "Y_U3rH93_dge",
        "outputId": "604f5e09-3d13-4f80-ae1c-6a31186c83fe"
      },
      "outputs": [
        {
          "data": {
            "text/plain": [
              "['C:\\\\Users\\\\49178\\\\Desktop\\\\Data analysist\\\\python\\\\project\\\\Automatidata project lab\\\\data structure\\\\2017_Yellow_Taxi_Trip_Data.csv']"
            ]
          },
          "execution_count": 8,
          "metadata": {},
          "output_type": "execute_result"
        }
      ],
      "source": [
        "# here we use glob module in python to read a file from the local pc for practice\n",
        "Cut_EVENTS_Df_DATA_PATH = r'C:\\Users\\49178\\Desktop\\Data analysist\\python\\project\\Automatidata project lab\\data structure'\n",
        "\n",
        "files = glob.glob(f'{Cut_EVENTS_Df_DATA_PATH}\\*2017_Yellow_Taxi_Trip_Data.csv')\n",
        "\n",
        "mylist = list()\n",
        "for fi in files[:]: # reading all files\n",
        "    mylist.append(fi)\n",
        "mylist"
      ]
    },
    {
      "cell_type": "code",
      "execution_count": null,
      "metadata": {
        "id": "uBOQCK-q_dgh",
        "outputId": "3958bda5-e74a-4fd7-fac8-9452bbcf8a68"
      },
      "outputs": [
        {
          "data": {
            "text/html": [
              "<div>\n",
              "<style scoped>\n",
              "    .dataframe tbody tr th:only-of-type {\n",
              "        vertical-align: middle;\n",
              "    }\n",
              "\n",
              "    .dataframe tbody tr th {\n",
              "        vertical-align: top;\n",
              "    }\n",
              "\n",
              "    .dataframe thead th {\n",
              "        text-align: right;\n",
              "    }\n",
              "</style>\n",
              "<table border=\"1\" class=\"dataframe\">\n",
              "  <thead>\n",
              "    <tr style=\"text-align: right;\">\n",
              "      <th></th>\n",
              "      <th>VendorID</th>\n",
              "      <th>tpep_pickup_datetime</th>\n",
              "      <th>tpep_dropoff_datetime</th>\n",
              "      <th>passenger_count</th>\n",
              "      <th>trip_distance</th>\n",
              "      <th>RatecodeID</th>\n",
              "      <th>store_and_fwd_flag</th>\n",
              "      <th>PULocationID</th>\n",
              "      <th>DOLocationID</th>\n",
              "      <th>payment_type</th>\n",
              "      <th>fare_amount</th>\n",
              "      <th>extra</th>\n",
              "      <th>mta_tax</th>\n",
              "      <th>tip_amount</th>\n",
              "      <th>tolls_amount</th>\n",
              "      <th>improvement_surcharge</th>\n",
              "      <th>total_amount</th>\n",
              "    </tr>\n",
              "  </thead>\n",
              "  <tbody>\n",
              "    <tr>\n",
              "      <th>0</th>\n",
              "      <td>2</td>\n",
              "      <td>03/25/2017 8:55:43 AM</td>\n",
              "      <td>03/25/2017 9:09:47 AM</td>\n",
              "      <td>6</td>\n",
              "      <td>3.34</td>\n",
              "      <td>1</td>\n",
              "      <td>N</td>\n",
              "      <td>100</td>\n",
              "      <td>231</td>\n",
              "      <td>1</td>\n",
              "      <td>13.0</td>\n",
              "      <td>0.0</td>\n",
              "      <td>0.5</td>\n",
              "      <td>2.76</td>\n",
              "      <td>0.00</td>\n",
              "      <td>0.3</td>\n",
              "      <td>16.56</td>\n",
              "    </tr>\n",
              "    <tr>\n",
              "      <th>1</th>\n",
              "      <td>1</td>\n",
              "      <td>04/11/2017 2:53:28 PM</td>\n",
              "      <td>04/11/2017 3:19:58 PM</td>\n",
              "      <td>1</td>\n",
              "      <td>1.80</td>\n",
              "      <td>1</td>\n",
              "      <td>N</td>\n",
              "      <td>186</td>\n",
              "      <td>43</td>\n",
              "      <td>1</td>\n",
              "      <td>16.0</td>\n",
              "      <td>0.0</td>\n",
              "      <td>0.5</td>\n",
              "      <td>4.00</td>\n",
              "      <td>0.00</td>\n",
              "      <td>0.3</td>\n",
              "      <td>20.80</td>\n",
              "    </tr>\n",
              "    <tr>\n",
              "      <th>2</th>\n",
              "      <td>1</td>\n",
              "      <td>12/15/2017 7:26:56 AM</td>\n",
              "      <td>12/15/2017 7:34:08 AM</td>\n",
              "      <td>1</td>\n",
              "      <td>1.00</td>\n",
              "      <td>1</td>\n",
              "      <td>N</td>\n",
              "      <td>262</td>\n",
              "      <td>236</td>\n",
              "      <td>1</td>\n",
              "      <td>6.5</td>\n",
              "      <td>0.0</td>\n",
              "      <td>0.5</td>\n",
              "      <td>1.45</td>\n",
              "      <td>0.00</td>\n",
              "      <td>0.3</td>\n",
              "      <td>8.75</td>\n",
              "    </tr>\n",
              "    <tr>\n",
              "      <th>3</th>\n",
              "      <td>2</td>\n",
              "      <td>05/07/2017 1:17:59 PM</td>\n",
              "      <td>05/07/2017 1:48:14 PM</td>\n",
              "      <td>1</td>\n",
              "      <td>3.70</td>\n",
              "      <td>1</td>\n",
              "      <td>N</td>\n",
              "      <td>188</td>\n",
              "      <td>97</td>\n",
              "      <td>1</td>\n",
              "      <td>20.5</td>\n",
              "      <td>0.0</td>\n",
              "      <td>0.5</td>\n",
              "      <td>6.39</td>\n",
              "      <td>0.00</td>\n",
              "      <td>0.3</td>\n",
              "      <td>27.69</td>\n",
              "    </tr>\n",
              "    <tr>\n",
              "      <th>4</th>\n",
              "      <td>2</td>\n",
              "      <td>04/15/2017 11:32:20 PM</td>\n",
              "      <td>04/15/2017 11:49:03 PM</td>\n",
              "      <td>1</td>\n",
              "      <td>4.37</td>\n",
              "      <td>1</td>\n",
              "      <td>N</td>\n",
              "      <td>4</td>\n",
              "      <td>112</td>\n",
              "      <td>2</td>\n",
              "      <td>16.5</td>\n",
              "      <td>0.5</td>\n",
              "      <td>0.5</td>\n",
              "      <td>0.00</td>\n",
              "      <td>0.00</td>\n",
              "      <td>0.3</td>\n",
              "      <td>17.80</td>\n",
              "    </tr>\n",
              "    <tr>\n",
              "      <th>...</th>\n",
              "      <td>...</td>\n",
              "      <td>...</td>\n",
              "      <td>...</td>\n",
              "      <td>...</td>\n",
              "      <td>...</td>\n",
              "      <td>...</td>\n",
              "      <td>...</td>\n",
              "      <td>...</td>\n",
              "      <td>...</td>\n",
              "      <td>...</td>\n",
              "      <td>...</td>\n",
              "      <td>...</td>\n",
              "      <td>...</td>\n",
              "      <td>...</td>\n",
              "      <td>...</td>\n",
              "      <td>...</td>\n",
              "      <td>...</td>\n",
              "    </tr>\n",
              "    <tr>\n",
              "      <th>22694</th>\n",
              "      <td>2</td>\n",
              "      <td>02/24/2017 5:37:23 PM</td>\n",
              "      <td>02/24/2017 5:40:39 PM</td>\n",
              "      <td>3</td>\n",
              "      <td>0.61</td>\n",
              "      <td>1</td>\n",
              "      <td>N</td>\n",
              "      <td>48</td>\n",
              "      <td>186</td>\n",
              "      <td>2</td>\n",
              "      <td>4.0</td>\n",
              "      <td>1.0</td>\n",
              "      <td>0.5</td>\n",
              "      <td>0.00</td>\n",
              "      <td>0.00</td>\n",
              "      <td>0.3</td>\n",
              "      <td>5.80</td>\n",
              "    </tr>\n",
              "    <tr>\n",
              "      <th>22695</th>\n",
              "      <td>2</td>\n",
              "      <td>08/06/2017 4:43:59 PM</td>\n",
              "      <td>08/06/2017 5:24:47 PM</td>\n",
              "      <td>1</td>\n",
              "      <td>16.71</td>\n",
              "      <td>2</td>\n",
              "      <td>N</td>\n",
              "      <td>132</td>\n",
              "      <td>164</td>\n",
              "      <td>1</td>\n",
              "      <td>52.0</td>\n",
              "      <td>0.0</td>\n",
              "      <td>0.5</td>\n",
              "      <td>14.64</td>\n",
              "      <td>5.76</td>\n",
              "      <td>0.3</td>\n",
              "      <td>73.20</td>\n",
              "    </tr>\n",
              "    <tr>\n",
              "      <th>22696</th>\n",
              "      <td>2</td>\n",
              "      <td>09/04/2017 2:54:14 PM</td>\n",
              "      <td>09/04/2017 2:58:22 PM</td>\n",
              "      <td>1</td>\n",
              "      <td>0.42</td>\n",
              "      <td>1</td>\n",
              "      <td>N</td>\n",
              "      <td>107</td>\n",
              "      <td>234</td>\n",
              "      <td>2</td>\n",
              "      <td>4.5</td>\n",
              "      <td>0.0</td>\n",
              "      <td>0.5</td>\n",
              "      <td>0.00</td>\n",
              "      <td>0.00</td>\n",
              "      <td>0.3</td>\n",
              "      <td>5.30</td>\n",
              "    </tr>\n",
              "    <tr>\n",
              "      <th>22697</th>\n",
              "      <td>2</td>\n",
              "      <td>07/15/2017 12:56:30 PM</td>\n",
              "      <td>07/15/2017 1:08:26 PM</td>\n",
              "      <td>1</td>\n",
              "      <td>2.36</td>\n",
              "      <td>1</td>\n",
              "      <td>N</td>\n",
              "      <td>68</td>\n",
              "      <td>144</td>\n",
              "      <td>1</td>\n",
              "      <td>10.5</td>\n",
              "      <td>0.0</td>\n",
              "      <td>0.5</td>\n",
              "      <td>1.70</td>\n",
              "      <td>0.00</td>\n",
              "      <td>0.3</td>\n",
              "      <td>13.00</td>\n",
              "    </tr>\n",
              "    <tr>\n",
              "      <th>22698</th>\n",
              "      <td>1</td>\n",
              "      <td>03/02/2017 1:02:49 PM</td>\n",
              "      <td>03/02/2017 1:16:09 PM</td>\n",
              "      <td>1</td>\n",
              "      <td>2.10</td>\n",
              "      <td>1</td>\n",
              "      <td>N</td>\n",
              "      <td>239</td>\n",
              "      <td>236</td>\n",
              "      <td>1</td>\n",
              "      <td>11.0</td>\n",
              "      <td>0.0</td>\n",
              "      <td>0.5</td>\n",
              "      <td>2.35</td>\n",
              "      <td>0.00</td>\n",
              "      <td>0.3</td>\n",
              "      <td>14.15</td>\n",
              "    </tr>\n",
              "  </tbody>\n",
              "</table>\n",
              "<p>22699 rows × 17 columns</p>\n",
              "</div>"
            ],
            "text/plain": [
              "       VendorID    tpep_pickup_datetime   tpep_dropoff_datetime  \\\n",
              "0             2   03/25/2017 8:55:43 AM   03/25/2017 9:09:47 AM   \n",
              "1             1   04/11/2017 2:53:28 PM   04/11/2017 3:19:58 PM   \n",
              "2             1   12/15/2017 7:26:56 AM   12/15/2017 7:34:08 AM   \n",
              "3             2   05/07/2017 1:17:59 PM   05/07/2017 1:48:14 PM   \n",
              "4             2  04/15/2017 11:32:20 PM  04/15/2017 11:49:03 PM   \n",
              "...         ...                     ...                     ...   \n",
              "22694         2   02/24/2017 5:37:23 PM   02/24/2017 5:40:39 PM   \n",
              "22695         2   08/06/2017 4:43:59 PM   08/06/2017 5:24:47 PM   \n",
              "22696         2   09/04/2017 2:54:14 PM   09/04/2017 2:58:22 PM   \n",
              "22697         2  07/15/2017 12:56:30 PM   07/15/2017 1:08:26 PM   \n",
              "22698         1   03/02/2017 1:02:49 PM   03/02/2017 1:16:09 PM   \n",
              "\n",
              "       passenger_count  trip_distance  RatecodeID store_and_fwd_flag  \\\n",
              "0                    6           3.34           1                  N   \n",
              "1                    1           1.80           1                  N   \n",
              "2                    1           1.00           1                  N   \n",
              "3                    1           3.70           1                  N   \n",
              "4                    1           4.37           1                  N   \n",
              "...                ...            ...         ...                ...   \n",
              "22694                3           0.61           1                  N   \n",
              "22695                1          16.71           2                  N   \n",
              "22696                1           0.42           1                  N   \n",
              "22697                1           2.36           1                  N   \n",
              "22698                1           2.10           1                  N   \n",
              "\n",
              "       PULocationID  DOLocationID  payment_type  fare_amount  extra  mta_tax  \\\n",
              "0               100           231             1         13.0    0.0      0.5   \n",
              "1               186            43             1         16.0    0.0      0.5   \n",
              "2               262           236             1          6.5    0.0      0.5   \n",
              "3               188            97             1         20.5    0.0      0.5   \n",
              "4                 4           112             2         16.5    0.5      0.5   \n",
              "...             ...           ...           ...          ...    ...      ...   \n",
              "22694            48           186             2          4.0    1.0      0.5   \n",
              "22695           132           164             1         52.0    0.0      0.5   \n",
              "22696           107           234             2          4.5    0.0      0.5   \n",
              "22697            68           144             1         10.5    0.0      0.5   \n",
              "22698           239           236             1         11.0    0.0      0.5   \n",
              "\n",
              "       tip_amount  tolls_amount  improvement_surcharge  total_amount  \n",
              "0            2.76          0.00                    0.3         16.56  \n",
              "1            4.00          0.00                    0.3         20.80  \n",
              "2            1.45          0.00                    0.3          8.75  \n",
              "3            6.39          0.00                    0.3         27.69  \n",
              "4            0.00          0.00                    0.3         17.80  \n",
              "...           ...           ...                    ...           ...  \n",
              "22694        0.00          0.00                    0.3          5.80  \n",
              "22695       14.64          5.76                    0.3         73.20  \n",
              "22696        0.00          0.00                    0.3          5.30  \n",
              "22697        1.70          0.00                    0.3         13.00  \n",
              "22698        2.35          0.00                    0.3         14.15  \n",
              "\n",
              "[22699 rows x 17 columns]"
            ]
          },
          "execution_count": 7,
          "metadata": {},
          "output_type": "execute_result"
        }
      ],
      "source": [
        "li = []\n",
        "for f in sorted(files):\n",
        "    df = pd.read_csv(f, index_col=[0] , header=0)   # to get rid of unnamed column we use index_col=[0]  index_col=['timestamp'] for indexes insteads of date\n",
        "    li.append(df)\n",
        "    df = df.reset_index(drop=True)\n",
        "df"
      ]
    },
    {
      "cell_type": "markdown",
      "metadata": {
        "id": "3mipEiyZx8GI"
      },
      "source": [
        "<img src=\"images/Analyze.png\" width=\"100\" height=\"100\" align=left>\n",
        "\n",
        "## PACE: Analyze\n",
        "\n",
        "Consider these questions in your PACE Strategy Document to reflect on the Analyze stage."
      ]
    },
    {
      "cell_type": "markdown",
      "metadata": {
        "id": "n09krlKWRw_2",
        "tags": [
          "hi"
        ]
      },
      "source": [
        "### Task 2a. Data exploration and cleaning\n",
        "\n",
        "we should decide which columns are applicable\n",
        "\n",
        "The first step is to assess our data. Check the Data Source page on Tableau Public to get a sense of the size, shape and makeup of the data set. Then answer these questions to ourself:\n",
        "\n",
        "Given our scenario, which data columns are most applicable?\n",
        "Which data columns can we eliminate, knowing they won’t solve our problem scenario?\n",
        "\n",
        "Consider functions that help us understand and structure the data.\n",
        "\n",
        "*    `head()`\n",
        "*    `describe()`\n",
        "*    `info()`\n",
        "*    `groupby()`\n",
        "*    `sortby()`\n",
        "\n",
        "we shall consider these questions as you work:\n",
        "\n",
        "What do we do about missing data (if any)?\n",
        "\n",
        "Are there data outliers?  \n",
        "\n",
        "What do the distributions of our variables tell you about the question we're asking or the problem we're trying to solve?\n",
        "\n",
        "\n"
      ]
    },
    {
      "cell_type": "markdown",
      "metadata": {
        "id": "uk6zuv_mUU2k"
      },
      "source": [
        "we start by discovering, using head and size."
      ]
    },
    {
      "cell_type": "code",
      "execution_count": null,
      "metadata": {
        "colab": {
          "base_uri": "https://localhost:8080/",
          "height": 427
        },
        "id": "cBOUo5p-tbib",
        "outputId": "74b2f7ba-d3e3-4527-f91d-9ad489da8b29"
      },
      "outputs": [
        {
          "data": {
            "text/html": [
              "<div>\n",
              "<style scoped>\n",
              "    .dataframe tbody tr th:only-of-type {\n",
              "        vertical-align: middle;\n",
              "    }\n",
              "\n",
              "    .dataframe tbody tr th {\n",
              "        vertical-align: top;\n",
              "    }\n",
              "\n",
              "    .dataframe thead th {\n",
              "        text-align: right;\n",
              "    }\n",
              "</style>\n",
              "<table border=\"1\" class=\"dataframe\">\n",
              "  <thead>\n",
              "    <tr style=\"text-align: right;\">\n",
              "      <th></th>\n",
              "      <th>VendorID</th>\n",
              "      <th>tpep_pickup_datetime</th>\n",
              "      <th>tpep_dropoff_datetime</th>\n",
              "      <th>passenger_count</th>\n",
              "      <th>trip_distance</th>\n",
              "      <th>RatecodeID</th>\n",
              "      <th>store_and_fwd_flag</th>\n",
              "      <th>PULocationID</th>\n",
              "      <th>DOLocationID</th>\n",
              "      <th>payment_type</th>\n",
              "      <th>fare_amount</th>\n",
              "      <th>extra</th>\n",
              "      <th>mta_tax</th>\n",
              "      <th>tip_amount</th>\n",
              "      <th>tolls_amount</th>\n",
              "      <th>improvement_surcharge</th>\n",
              "      <th>total_amount</th>\n",
              "    </tr>\n",
              "  </thead>\n",
              "  <tbody>\n",
              "    <tr>\n",
              "      <th>0</th>\n",
              "      <td>2</td>\n",
              "      <td>03/25/2017 8:55:43 AM</td>\n",
              "      <td>03/25/2017 9:09:47 AM</td>\n",
              "      <td>6</td>\n",
              "      <td>3.34</td>\n",
              "      <td>1</td>\n",
              "      <td>N</td>\n",
              "      <td>100</td>\n",
              "      <td>231</td>\n",
              "      <td>1</td>\n",
              "      <td>13.0</td>\n",
              "      <td>0.0</td>\n",
              "      <td>0.5</td>\n",
              "      <td>2.76</td>\n",
              "      <td>0.0</td>\n",
              "      <td>0.3</td>\n",
              "      <td>16.56</td>\n",
              "    </tr>\n",
              "    <tr>\n",
              "      <th>1</th>\n",
              "      <td>1</td>\n",
              "      <td>04/11/2017 2:53:28 PM</td>\n",
              "      <td>04/11/2017 3:19:58 PM</td>\n",
              "      <td>1</td>\n",
              "      <td>1.80</td>\n",
              "      <td>1</td>\n",
              "      <td>N</td>\n",
              "      <td>186</td>\n",
              "      <td>43</td>\n",
              "      <td>1</td>\n",
              "      <td>16.0</td>\n",
              "      <td>0.0</td>\n",
              "      <td>0.5</td>\n",
              "      <td>4.00</td>\n",
              "      <td>0.0</td>\n",
              "      <td>0.3</td>\n",
              "      <td>20.80</td>\n",
              "    </tr>\n",
              "    <tr>\n",
              "      <th>2</th>\n",
              "      <td>1</td>\n",
              "      <td>12/15/2017 7:26:56 AM</td>\n",
              "      <td>12/15/2017 7:34:08 AM</td>\n",
              "      <td>1</td>\n",
              "      <td>1.00</td>\n",
              "      <td>1</td>\n",
              "      <td>N</td>\n",
              "      <td>262</td>\n",
              "      <td>236</td>\n",
              "      <td>1</td>\n",
              "      <td>6.5</td>\n",
              "      <td>0.0</td>\n",
              "      <td>0.5</td>\n",
              "      <td>1.45</td>\n",
              "      <td>0.0</td>\n",
              "      <td>0.3</td>\n",
              "      <td>8.75</td>\n",
              "    </tr>\n",
              "    <tr>\n",
              "      <th>3</th>\n",
              "      <td>2</td>\n",
              "      <td>05/07/2017 1:17:59 PM</td>\n",
              "      <td>05/07/2017 1:48:14 PM</td>\n",
              "      <td>1</td>\n",
              "      <td>3.70</td>\n",
              "      <td>1</td>\n",
              "      <td>N</td>\n",
              "      <td>188</td>\n",
              "      <td>97</td>\n",
              "      <td>1</td>\n",
              "      <td>20.5</td>\n",
              "      <td>0.0</td>\n",
              "      <td>0.5</td>\n",
              "      <td>6.39</td>\n",
              "      <td>0.0</td>\n",
              "      <td>0.3</td>\n",
              "      <td>27.69</td>\n",
              "    </tr>\n",
              "    <tr>\n",
              "      <th>4</th>\n",
              "      <td>2</td>\n",
              "      <td>04/15/2017 11:32:20 PM</td>\n",
              "      <td>04/15/2017 11:49:03 PM</td>\n",
              "      <td>1</td>\n",
              "      <td>4.37</td>\n",
              "      <td>1</td>\n",
              "      <td>N</td>\n",
              "      <td>4</td>\n",
              "      <td>112</td>\n",
              "      <td>2</td>\n",
              "      <td>16.5</td>\n",
              "      <td>0.5</td>\n",
              "      <td>0.5</td>\n",
              "      <td>0.00</td>\n",
              "      <td>0.0</td>\n",
              "      <td>0.3</td>\n",
              "      <td>17.80</td>\n",
              "    </tr>\n",
              "    <tr>\n",
              "      <th>5</th>\n",
              "      <td>2</td>\n",
              "      <td>03/25/2017 8:34:11 PM</td>\n",
              "      <td>03/25/2017 8:42:11 PM</td>\n",
              "      <td>6</td>\n",
              "      <td>2.30</td>\n",
              "      <td>1</td>\n",
              "      <td>N</td>\n",
              "      <td>161</td>\n",
              "      <td>236</td>\n",
              "      <td>1</td>\n",
              "      <td>9.0</td>\n",
              "      <td>0.5</td>\n",
              "      <td>0.5</td>\n",
              "      <td>2.06</td>\n",
              "      <td>0.0</td>\n",
              "      <td>0.3</td>\n",
              "      <td>12.36</td>\n",
              "    </tr>\n",
              "    <tr>\n",
              "      <th>6</th>\n",
              "      <td>2</td>\n",
              "      <td>05/03/2017 7:04:09 PM</td>\n",
              "      <td>05/03/2017 8:03:47 PM</td>\n",
              "      <td>1</td>\n",
              "      <td>12.83</td>\n",
              "      <td>1</td>\n",
              "      <td>N</td>\n",
              "      <td>79</td>\n",
              "      <td>241</td>\n",
              "      <td>1</td>\n",
              "      <td>47.5</td>\n",
              "      <td>1.0</td>\n",
              "      <td>0.5</td>\n",
              "      <td>9.86</td>\n",
              "      <td>0.0</td>\n",
              "      <td>0.3</td>\n",
              "      <td>59.16</td>\n",
              "    </tr>\n",
              "    <tr>\n",
              "      <th>7</th>\n",
              "      <td>2</td>\n",
              "      <td>08/15/2017 5:41:06 PM</td>\n",
              "      <td>08/15/2017 6:03:05 PM</td>\n",
              "      <td>1</td>\n",
              "      <td>2.98</td>\n",
              "      <td>1</td>\n",
              "      <td>N</td>\n",
              "      <td>237</td>\n",
              "      <td>114</td>\n",
              "      <td>1</td>\n",
              "      <td>16.0</td>\n",
              "      <td>1.0</td>\n",
              "      <td>0.5</td>\n",
              "      <td>1.78</td>\n",
              "      <td>0.0</td>\n",
              "      <td>0.3</td>\n",
              "      <td>19.58</td>\n",
              "    </tr>\n",
              "    <tr>\n",
              "      <th>8</th>\n",
              "      <td>2</td>\n",
              "      <td>02/04/2017 4:17:07 PM</td>\n",
              "      <td>02/04/2017 4:29:14 PM</td>\n",
              "      <td>1</td>\n",
              "      <td>1.20</td>\n",
              "      <td>1</td>\n",
              "      <td>N</td>\n",
              "      <td>234</td>\n",
              "      <td>249</td>\n",
              "      <td>2</td>\n",
              "      <td>9.0</td>\n",
              "      <td>0.0</td>\n",
              "      <td>0.5</td>\n",
              "      <td>0.00</td>\n",
              "      <td>0.0</td>\n",
              "      <td>0.3</td>\n",
              "      <td>9.80</td>\n",
              "    </tr>\n",
              "    <tr>\n",
              "      <th>9</th>\n",
              "      <td>1</td>\n",
              "      <td>11/10/2017 3:20:29 PM</td>\n",
              "      <td>11/10/2017 3:40:55 PM</td>\n",
              "      <td>1</td>\n",
              "      <td>1.60</td>\n",
              "      <td>1</td>\n",
              "      <td>N</td>\n",
              "      <td>239</td>\n",
              "      <td>237</td>\n",
              "      <td>1</td>\n",
              "      <td>13.0</td>\n",
              "      <td>0.0</td>\n",
              "      <td>0.5</td>\n",
              "      <td>2.75</td>\n",
              "      <td>0.0</td>\n",
              "      <td>0.3</td>\n",
              "      <td>16.55</td>\n",
              "    </tr>\n",
              "  </tbody>\n",
              "</table>\n",
              "</div>"
            ],
            "text/plain": [
              "   VendorID    tpep_pickup_datetime   tpep_dropoff_datetime  passenger_count  \\\n",
              "0         2   03/25/2017 8:55:43 AM   03/25/2017 9:09:47 AM                6   \n",
              "1         1   04/11/2017 2:53:28 PM   04/11/2017 3:19:58 PM                1   \n",
              "2         1   12/15/2017 7:26:56 AM   12/15/2017 7:34:08 AM                1   \n",
              "3         2   05/07/2017 1:17:59 PM   05/07/2017 1:48:14 PM                1   \n",
              "4         2  04/15/2017 11:32:20 PM  04/15/2017 11:49:03 PM                1   \n",
              "5         2   03/25/2017 8:34:11 PM   03/25/2017 8:42:11 PM                6   \n",
              "6         2   05/03/2017 7:04:09 PM   05/03/2017 8:03:47 PM                1   \n",
              "7         2   08/15/2017 5:41:06 PM   08/15/2017 6:03:05 PM                1   \n",
              "8         2   02/04/2017 4:17:07 PM   02/04/2017 4:29:14 PM                1   \n",
              "9         1   11/10/2017 3:20:29 PM   11/10/2017 3:40:55 PM                1   \n",
              "\n",
              "   trip_distance  RatecodeID store_and_fwd_flag  PULocationID  DOLocationID  \\\n",
              "0           3.34           1                  N           100           231   \n",
              "1           1.80           1                  N           186            43   \n",
              "2           1.00           1                  N           262           236   \n",
              "3           3.70           1                  N           188            97   \n",
              "4           4.37           1                  N             4           112   \n",
              "5           2.30           1                  N           161           236   \n",
              "6          12.83           1                  N            79           241   \n",
              "7           2.98           1                  N           237           114   \n",
              "8           1.20           1                  N           234           249   \n",
              "9           1.60           1                  N           239           237   \n",
              "\n",
              "   payment_type  fare_amount  extra  mta_tax  tip_amount  tolls_amount  \\\n",
              "0             1         13.0    0.0      0.5        2.76           0.0   \n",
              "1             1         16.0    0.0      0.5        4.00           0.0   \n",
              "2             1          6.5    0.0      0.5        1.45           0.0   \n",
              "3             1         20.5    0.0      0.5        6.39           0.0   \n",
              "4             2         16.5    0.5      0.5        0.00           0.0   \n",
              "5             1          9.0    0.5      0.5        2.06           0.0   \n",
              "6             1         47.5    1.0      0.5        9.86           0.0   \n",
              "7             1         16.0    1.0      0.5        1.78           0.0   \n",
              "8             2          9.0    0.0      0.5        0.00           0.0   \n",
              "9             1         13.0    0.0      0.5        2.75           0.0   \n",
              "\n",
              "   improvement_surcharge  total_amount  \n",
              "0                    0.3         16.56  \n",
              "1                    0.3         20.80  \n",
              "2                    0.3          8.75  \n",
              "3                    0.3         27.69  \n",
              "4                    0.3         17.80  \n",
              "5                    0.3         12.36  \n",
              "6                    0.3         59.16  \n",
              "7                    0.3         19.58  \n",
              "8                    0.3          9.80  \n",
              "9                    0.3         16.55  "
            ]
          },
          "execution_count": 9,
          "metadata": {},
          "output_type": "execute_result"
        }
      ],
      "source": [
        "df.head(10)\n"
      ]
    },
    {
      "cell_type": "code",
      "execution_count": null,
      "metadata": {
        "colab": {
          "base_uri": "https://localhost:8080/"
        },
        "id": "GvT82D1qyF9F",
        "outputId": "b9a42ee6-0573-4949-859b-32639e7f4bb9"
      },
      "outputs": [
        {
          "data": {
            "text/plain": [
              "385883"
            ]
          },
          "execution_count": 10,
          "metadata": {},
          "output_type": "execute_result"
        }
      ],
      "source": [
        "df.size"
      ]
    },
    {
      "cell_type": "markdown",
      "metadata": {
        "id": "WulP4lZ9UVgy"
      },
      "source": [
        "we use now describe..."
      ]
    },
    {
      "cell_type": "code",
      "execution_count": null,
      "metadata": {
        "colab": {
          "base_uri": "https://localhost:8080/",
          "height": 364
        },
        "id": "xMpkdNQ0UPmW",
        "outputId": "f873b702-8962-4715-9198-023dd9951849"
      },
      "outputs": [
        {
          "data": {
            "text/html": [
              "<div>\n",
              "<style scoped>\n",
              "    .dataframe tbody tr th:only-of-type {\n",
              "        vertical-align: middle;\n",
              "    }\n",
              "\n",
              "    .dataframe tbody tr th {\n",
              "        vertical-align: top;\n",
              "    }\n",
              "\n",
              "    .dataframe thead th {\n",
              "        text-align: right;\n",
              "    }\n",
              "</style>\n",
              "<table border=\"1\" class=\"dataframe\">\n",
              "  <thead>\n",
              "    <tr style=\"text-align: right;\">\n",
              "      <th></th>\n",
              "      <th>VendorID</th>\n",
              "      <th>passenger_count</th>\n",
              "      <th>trip_distance</th>\n",
              "      <th>RatecodeID</th>\n",
              "      <th>PULocationID</th>\n",
              "      <th>DOLocationID</th>\n",
              "      <th>payment_type</th>\n",
              "      <th>fare_amount</th>\n",
              "      <th>extra</th>\n",
              "      <th>mta_tax</th>\n",
              "      <th>tip_amount</th>\n",
              "      <th>tolls_amount</th>\n",
              "      <th>improvement_surcharge</th>\n",
              "      <th>total_amount</th>\n",
              "    </tr>\n",
              "  </thead>\n",
              "  <tbody>\n",
              "    <tr>\n",
              "      <th>count</th>\n",
              "      <td>22699.000000</td>\n",
              "      <td>22699.000000</td>\n",
              "      <td>22699.000000</td>\n",
              "      <td>22699.000000</td>\n",
              "      <td>22699.000000</td>\n",
              "      <td>22699.000000</td>\n",
              "      <td>22699.000000</td>\n",
              "      <td>22699.000000</td>\n",
              "      <td>22699.000000</td>\n",
              "      <td>22699.000000</td>\n",
              "      <td>22699.000000</td>\n",
              "      <td>22699.000000</td>\n",
              "      <td>22699.000000</td>\n",
              "      <td>22699.000000</td>\n",
              "    </tr>\n",
              "    <tr>\n",
              "      <th>mean</th>\n",
              "      <td>1.556236</td>\n",
              "      <td>1.642319</td>\n",
              "      <td>2.913313</td>\n",
              "      <td>1.043394</td>\n",
              "      <td>162.412353</td>\n",
              "      <td>161.527997</td>\n",
              "      <td>1.336887</td>\n",
              "      <td>13.026629</td>\n",
              "      <td>0.333275</td>\n",
              "      <td>0.497445</td>\n",
              "      <td>1.835781</td>\n",
              "      <td>0.312542</td>\n",
              "      <td>0.299551</td>\n",
              "      <td>16.310502</td>\n",
              "    </tr>\n",
              "    <tr>\n",
              "      <th>std</th>\n",
              "      <td>0.496838</td>\n",
              "      <td>1.285231</td>\n",
              "      <td>3.653171</td>\n",
              "      <td>0.708391</td>\n",
              "      <td>66.633373</td>\n",
              "      <td>70.139691</td>\n",
              "      <td>0.496211</td>\n",
              "      <td>13.243791</td>\n",
              "      <td>0.463097</td>\n",
              "      <td>0.039465</td>\n",
              "      <td>2.800626</td>\n",
              "      <td>1.399212</td>\n",
              "      <td>0.015673</td>\n",
              "      <td>16.097295</td>\n",
              "    </tr>\n",
              "    <tr>\n",
              "      <th>min</th>\n",
              "      <td>1.000000</td>\n",
              "      <td>0.000000</td>\n",
              "      <td>0.000000</td>\n",
              "      <td>1.000000</td>\n",
              "      <td>1.000000</td>\n",
              "      <td>1.000000</td>\n",
              "      <td>1.000000</td>\n",
              "      <td>-120.000000</td>\n",
              "      <td>-1.000000</td>\n",
              "      <td>-0.500000</td>\n",
              "      <td>0.000000</td>\n",
              "      <td>0.000000</td>\n",
              "      <td>-0.300000</td>\n",
              "      <td>-120.300000</td>\n",
              "    </tr>\n",
              "    <tr>\n",
              "      <th>25%</th>\n",
              "      <td>1.000000</td>\n",
              "      <td>1.000000</td>\n",
              "      <td>0.990000</td>\n",
              "      <td>1.000000</td>\n",
              "      <td>114.000000</td>\n",
              "      <td>112.000000</td>\n",
              "      <td>1.000000</td>\n",
              "      <td>6.500000</td>\n",
              "      <td>0.000000</td>\n",
              "      <td>0.500000</td>\n",
              "      <td>0.000000</td>\n",
              "      <td>0.000000</td>\n",
              "      <td>0.300000</td>\n",
              "      <td>8.750000</td>\n",
              "    </tr>\n",
              "    <tr>\n",
              "      <th>50%</th>\n",
              "      <td>2.000000</td>\n",
              "      <td>1.000000</td>\n",
              "      <td>1.610000</td>\n",
              "      <td>1.000000</td>\n",
              "      <td>162.000000</td>\n",
              "      <td>162.000000</td>\n",
              "      <td>1.000000</td>\n",
              "      <td>9.500000</td>\n",
              "      <td>0.000000</td>\n",
              "      <td>0.500000</td>\n",
              "      <td>1.350000</td>\n",
              "      <td>0.000000</td>\n",
              "      <td>0.300000</td>\n",
              "      <td>11.800000</td>\n",
              "    </tr>\n",
              "    <tr>\n",
              "      <th>75%</th>\n",
              "      <td>2.000000</td>\n",
              "      <td>2.000000</td>\n",
              "      <td>3.060000</td>\n",
              "      <td>1.000000</td>\n",
              "      <td>233.000000</td>\n",
              "      <td>233.000000</td>\n",
              "      <td>2.000000</td>\n",
              "      <td>14.500000</td>\n",
              "      <td>0.500000</td>\n",
              "      <td>0.500000</td>\n",
              "      <td>2.450000</td>\n",
              "      <td>0.000000</td>\n",
              "      <td>0.300000</td>\n",
              "      <td>17.800000</td>\n",
              "    </tr>\n",
              "    <tr>\n",
              "      <th>max</th>\n",
              "      <td>2.000000</td>\n",
              "      <td>6.000000</td>\n",
              "      <td>33.960000</td>\n",
              "      <td>99.000000</td>\n",
              "      <td>265.000000</td>\n",
              "      <td>265.000000</td>\n",
              "      <td>4.000000</td>\n",
              "      <td>999.990000</td>\n",
              "      <td>4.500000</td>\n",
              "      <td>0.500000</td>\n",
              "      <td>200.000000</td>\n",
              "      <td>19.100000</td>\n",
              "      <td>0.300000</td>\n",
              "      <td>1200.290000</td>\n",
              "    </tr>\n",
              "  </tbody>\n",
              "</table>\n",
              "</div>"
            ],
            "text/plain": [
              "           VendorID  passenger_count  trip_distance    RatecodeID  \\\n",
              "count  22699.000000     22699.000000   22699.000000  22699.000000   \n",
              "mean       1.556236         1.642319       2.913313      1.043394   \n",
              "std        0.496838         1.285231       3.653171      0.708391   \n",
              "min        1.000000         0.000000       0.000000      1.000000   \n",
              "25%        1.000000         1.000000       0.990000      1.000000   \n",
              "50%        2.000000         1.000000       1.610000      1.000000   \n",
              "75%        2.000000         2.000000       3.060000      1.000000   \n",
              "max        2.000000         6.000000      33.960000     99.000000   \n",
              "\n",
              "       PULocationID  DOLocationID  payment_type   fare_amount         extra  \\\n",
              "count  22699.000000  22699.000000  22699.000000  22699.000000  22699.000000   \n",
              "mean     162.412353    161.527997      1.336887     13.026629      0.333275   \n",
              "std       66.633373     70.139691      0.496211     13.243791      0.463097   \n",
              "min        1.000000      1.000000      1.000000   -120.000000     -1.000000   \n",
              "25%      114.000000    112.000000      1.000000      6.500000      0.000000   \n",
              "50%      162.000000    162.000000      1.000000      9.500000      0.000000   \n",
              "75%      233.000000    233.000000      2.000000     14.500000      0.500000   \n",
              "max      265.000000    265.000000      4.000000    999.990000      4.500000   \n",
              "\n",
              "            mta_tax    tip_amount  tolls_amount  improvement_surcharge  \\\n",
              "count  22699.000000  22699.000000  22699.000000           22699.000000   \n",
              "mean       0.497445      1.835781      0.312542               0.299551   \n",
              "std        0.039465      2.800626      1.399212               0.015673   \n",
              "min       -0.500000      0.000000      0.000000              -0.300000   \n",
              "25%        0.500000      0.000000      0.000000               0.300000   \n",
              "50%        0.500000      1.350000      0.000000               0.300000   \n",
              "75%        0.500000      2.450000      0.000000               0.300000   \n",
              "max        0.500000    200.000000     19.100000               0.300000   \n",
              "\n",
              "       total_amount  \n",
              "count  22699.000000  \n",
              "mean      16.310502  \n",
              "std       16.097295  \n",
              "min     -120.300000  \n",
              "25%        8.750000  \n",
              "50%       11.800000  \n",
              "75%       17.800000  \n",
              "max     1200.290000  "
            ]
          },
          "execution_count": 11,
          "metadata": {},
          "output_type": "execute_result"
        }
      ],
      "source": [
        "df.describe()"
      ]
    },
    {
      "cell_type": "markdown",
      "metadata": {
        "id": "psmn0VD0UWBk"
      },
      "source": [
        "And info."
      ]
    },
    {
      "cell_type": "code",
      "execution_count": null,
      "metadata": {
        "colab": {
          "base_uri": "https://localhost:8080/"
        },
        "id": "Thlb8oiyUPwe",
        "outputId": "e578639c-683e-449c-838b-5c218674377b"
      },
      "outputs": [
        {
          "name": "stdout",
          "output_type": "stream",
          "text": [
            "<class 'pandas.core.frame.DataFrame'>\n",
            "RangeIndex: 22699 entries, 0 to 22698\n",
            "Data columns (total 17 columns):\n",
            " #   Column                 Non-Null Count  Dtype  \n",
            "---  ------                 --------------  -----  \n",
            " 0   VendorID               22699 non-null  int64  \n",
            " 1   tpep_pickup_datetime   22699 non-null  object \n",
            " 2   tpep_dropoff_datetime  22699 non-null  object \n",
            " 3   passenger_count        22699 non-null  int64  \n",
            " 4   trip_distance          22699 non-null  float64\n",
            " 5   RatecodeID             22699 non-null  int64  \n",
            " 6   store_and_fwd_flag     22699 non-null  object \n",
            " 7   PULocationID           22699 non-null  int64  \n",
            " 8   DOLocationID           22699 non-null  int64  \n",
            " 9   payment_type           22699 non-null  int64  \n",
            " 10  fare_amount            22699 non-null  float64\n",
            " 11  extra                  22699 non-null  float64\n",
            " 12  mta_tax                22699 non-null  float64\n",
            " 13  tip_amount             22699 non-null  float64\n",
            " 14  tolls_amount           22699 non-null  float64\n",
            " 15  improvement_surcharge  22699 non-null  float64\n",
            " 16  total_amount           22699 non-null  float64\n",
            "dtypes: float64(8), int64(6), object(3)\n",
            "memory usage: 2.9+ MB\n"
          ]
        }
      ],
      "source": [
        "df.info()"
      ]
    },
    {
      "cell_type": "markdown",
      "metadata": {
        "id": "Wa-IoAHLUWi8"
      },
      "source": [
        "**Exemplar note:** There is no missing data according to the results from the `info()` function."
      ]
    },
    {
      "cell_type": "markdown",
      "metadata": {
        "id": "vCGi3U9nw4Er"
      },
      "source": [
        "### Task 2b. Assess whether dimensions and measures are correct"
      ]
    },
    {
      "cell_type": "markdown",
      "metadata": {
        "id": "aNBRa33TR_Is"
      },
      "source": [
        "On the data source page in Tableau, double check the data types for the applicable columns we selected on the previous step. Pay close attention to the dimensions and measures to ensure they are correct.\n",
        "\n",
        "In Python, consider the data types of the columns. *Consider:* Do they make sense?\n"
      ]
    },
    {
      "cell_type": "markdown",
      "metadata": {
        "id": "ywUoKjQRyF9I"
      },
      "source": [
        "Review the link provided in the previous activity instructions to create the required Tableau visualization."
      ]
    },
    {
      "cell_type": "markdown",
      "metadata": {
        "id": "sPlm615Ywifi"
      },
      "source": [
        "### Task 2c. Select visualization type(s)"
      ]
    },
    {
      "cell_type": "markdown",
      "metadata": {
        "id": "2YdC51QBSG2v"
      },
      "source": [
        "Select data visualization types that will help you understand and explain the data.\n",
        "\n",
        "Now that we know which data columns you’ll use, it is time to decide which data visualization makes the most sense for EDA of the TLC dataset. What type of data visualization(s) would be most helpful?\n",
        "\n",
        "* Line graph\n",
        "* Bar chart\n",
        "* Box plot\n",
        "* Histogram\n",
        "* Heat map\n",
        "* Scatter plot\n",
        "* A geographic map"
      ]
    },
    {
      "cell_type": "markdown",
      "metadata": {
        "id": "jQTBV9XL_dgo"
      },
      "source": [
        "**Exemplar response:**\n",
        "\n",
        "As you'll see below, a bar chart, box plot and scatter plot will be most helpful in your understanding of this data.\n",
        "\n",
        "*A box plot will be helpful to determine outliers and where the bulk of the data points reside in terms of `trip_distance`, `duration`, and `total_amount`*\n",
        "\n",
        "*A scatter plot will be helpful to visualize the trends and patters and outliers of critical variables, such as `trip_distance` and `total_amount`*\n",
        "\n",
        "*A bar chart will help determine average number of trips per month, weekday, weekend, etc.*"
      ]
    },
    {
      "cell_type": "markdown",
      "metadata": {
        "id": "f0sHpfkhx8GM"
      },
      "source": [
        "<img src=\"images/Construct.png\" width=\"100\" height=\"100\" align=left>\n",
        "\n",
        "## PACE: Construct\n",
        "\n",
        "Consider these questions in your PACE Strategy Document to reflect on the Construct stage."
      ]
    },
    {
      "cell_type": "markdown",
      "metadata": {
        "id": "BYWkZ4i3wgv4"
      },
      "source": [
        "### Task 3. Data visualization\n",
        "\n",
        "we’ve assessed your data, and decided on which data variables are most applicable. It’s time to plot your visualization(s)!\n"
      ]
    },
    {
      "cell_type": "markdown",
      "metadata": {
        "id": "oMOs4lb1crry"
      },
      "source": [
        "## Boxplots"
      ]
    },
    {
      "cell_type": "markdown",
      "metadata": {
        "id": "0wjP7kUX_dgq"
      },
      "source": [
        "Perform a check for outliers on relevant columns such as trip distance and trip duration. Remember, some of the best ways to identify the presence of outliers in data are box plots and histograms.\n",
        "\n",
        "**Note:** we should remember to convert our date columns to datetime in order to derive total trip duration.  "
      ]
    },
    {
      "cell_type": "code",
      "execution_count": null,
      "metadata": {
        "id": "Ts_lcV6qUQHq"
      },
      "outputs": [],
      "source": [
        "# Convert data columns to datetime\n",
        "df['tpep_pickup_datetime']=pd.to_datetime(df['tpep_pickup_datetime'])\n",
        "df['tpep_dropoff_datetime']=pd.to_datetime(df['tpep_dropoff_datetime'])"
      ]
    },
    {
      "cell_type": "markdown",
      "metadata": {
        "id": "jA_AQQVs_dgr"
      },
      "source": [
        "**trip_distance**"
      ]
    },
    {
      "cell_type": "code",
      "execution_count": null,
      "metadata": {
        "colab": {
          "base_uri": "https://localhost:8080/",
          "height": 297
        },
        "id": "qlUccI91a4NH",
        "outputId": "787a5adc-9de1-4e7c-b835-3bed4f029daf"
      },
      "outputs": [
        {
          "data": {
            "image/png": "[encoded data removed]",
            "text/plain": [
              "<Figure size 700x200 with 1 Axes>"
            ]
          },
          "metadata": {},
          "output_type": "display_data"
        }
      ],
      "source": [
        "# Create box plot of trip_distance\n",
        "plt.figure(figsize=(7,2))\n",
        "plt.title('trip_distance')\n",
        "sns.boxplot(data=None, x=df['trip_distance'], fliersize=1);"
      ]
    },
    {
      "cell_type": "code",
      "execution_count": null,
      "metadata": {
        "id": "s9e581Sx_dgr",
        "outputId": "ffbe8536-173f-4b0a-ee76-263f7cbbc344"
      },
      "outputs": [
        {
          "data": {
            "image/png": "[encoded data removed]",
            "text/plain": [
              "<Figure size 1000x500 with 1 Axes>"
            ]
          },
          "metadata": {},
          "output_type": "display_data"
        }
      ],
      "source": [
        "# Create histogram of trip_distance\n",
        "plt.figure(figsize=(10,5))\n",
        "sns.histplot(df['trip_distance'], bins=range(0,26,1))\n",
        "plt.title('Trip distance histogram');"
      ]
    },
    {
      "cell_type": "markdown",
      "metadata": {
        "id": "w9VB0hju_dgs"
      },
      "source": [
        "**Exemplar note:** The majority of trips were journeys of less than two miles. The number of trips falls away steeply as the distance traveled increases beyond two miles."
      ]
    },
    {
      "cell_type": "markdown",
      "metadata": {
        "id": "YtgSqP82_dgs"
      },
      "source": [
        "**total_amount**"
      ]
    },
    {
      "cell_type": "code",
      "execution_count": null,
      "metadata": {
        "colab": {
          "base_uri": "https://localhost:8080/",
          "height": 297
        },
        "id": "uLvs3_hMyF9H",
        "outputId": "bc0ba9a1-d749-4527-e332-b387f622408d"
      },
      "outputs": [
        {
          "data": {
            "image/png": "[encoded data removed]",
            "text/plain": [
              "<Figure size 700x200 with 1 Axes>"
            ]
          },
          "metadata": {},
          "output_type": "display_data"
        }
      ],
      "source": [
        "# Create box plot of total_amount\n",
        "plt.figure(figsize=(7,2))\n",
        "plt.title('total_amount')\n",
        "sns.boxplot(x=df['total_amount'], fliersize=1);"
      ]
    },
    {
      "cell_type": "code",
      "execution_count": null,
      "metadata": {
        "id": "ArWjvXPI_dgs",
        "outputId": "d3e46b2e-1c40-49e7-82ee-7e9e0d70ea17"
      },
      "outputs": [
        {
          "data": {
            "image/png": "[encoded data removed]",
            "text/plain": [
              "<Figure size 1200x600 with 1 Axes>"
            ]
          },
          "metadata": {},
          "output_type": "display_data"
        }
      ],
      "source": [
        "# Create histogram of total_amount\n",
        "plt.figure(figsize=(12,6))\n",
        "ax = sns.histplot(df['total_amount'], bins=range(-10,101,5))\n",
        "ax.set_xticks(range(-10,101,5))\n",
        "ax.set_xticklabels(range(-10,101,5))\n",
        "plt.title('Total amount histogram');"
      ]
    },
    {
      "cell_type": "markdown",
      "metadata": {
        "id": "EZax-Vwd_dg2"
      },
      "source": [
        "**Exemplar note:** The total cost of each trip also has a distribution that skews right, with most costs falling in the $5-15 range."
      ]
    },
    {
      "cell_type": "markdown",
      "metadata": {
        "id": "AzPZYG3h_dg3"
      },
      "source": [
        "**tip_amount**"
      ]
    },
    {
      "cell_type": "code",
      "execution_count": null,
      "metadata": {
        "id": "CqrRAiVu_dg3",
        "outputId": "a30a7d5b-e4fa-4c13-ed13-0a2b56128b07"
      },
      "outputs": [
        {
          "data": {
            "image/png": "[encoded data removed]",
            "text/plain": [
              "<Figure size 700x200 with 1 Axes>"
            ]
          },
          "metadata": {},
          "output_type": "display_data"
        }
      ],
      "source": [
        "# Create box plot of tip_amount\n",
        "plt.figure(figsize=(7,2))\n",
        "plt.title('tip_amount')\n",
        "sns.boxplot(x=df['tip_amount'], fliersize=1);"
      ]
    },
    {
      "cell_type": "code",
      "execution_count": null,
      "metadata": {
        "id": "VcHYieAr_dg4",
        "outputId": "218ea806-cca3-4378-baf6-e9ff41479059"
      },
      "outputs": [
        {
          "data": {
            "image/png": "[encoded data removed]",
            "text/plain": [
              "<Figure size 1200x600 with 1 Axes>"
            ]
          },
          "metadata": {},
          "output_type": "display_data"
        }
      ],
      "source": [
        "# Create histogram of tip_amount\n",
        "plt.figure(figsize=(12,6))\n",
        "ax = sns.histplot(df['tip_amount'], bins=range(0,21,1))\n",
        "ax.set_xticks(range(0,21,2))\n",
        "ax.set_xticklabels(range(0,21,2))\n",
        "plt.title('Tip amount histogram');"
      ]
    },
    {
      "cell_type": "markdown",
      "metadata": {
        "id": "2JNdUnyB_dg5"
      },
      "source": [
        "**Exemplar note:** The distribution for tip amount is right-skewed, with nearly all the tips in the $0-3 range."
      ]
    },
    {
      "cell_type": "markdown",
      "metadata": {
        "id": "iORSyl5O_dg5"
      },
      "source": [
        "**tip_amount by vendor**"
      ]
    },
    {
      "cell_type": "code",
      "execution_count": null,
      "metadata": {
        "id": "R5zIIYeY_dg5",
        "outputId": "1600a096-aa81-4b9c-91fb-d4d7839e1b14"
      },
      "outputs": [
        {
          "data": {
            "image/png": "[encoded data removed]",
            "text/plain": [
              "<Figure size 1200x700 with 1 Axes>"
            ]
          },
          "metadata": {},
          "output_type": "display_data"
        }
      ],
      "source": [
        "# Create histogram of tip_amount by vendor\n",
        "plt.figure(figsize=(12,7))\n",
        "ax = sns.histplot(data=df, x='tip_amount', bins=range(0,21,1),\n",
        "                  hue='VendorID',\n",
        "                  multiple='stack',\n",
        "                  palette='pastel')\n",
        "ax.set_xticks(range(0,21,1))\n",
        "ax.set_xticklabels(range(0,21,1))\n",
        "plt.title('Tip amount by vendor histogram');"
      ]
    },
    {
      "cell_type": "markdown",
      "metadata": {
        "id": "XiS-s4Uj_dg6"
      },
      "source": [
        "**Exemplar note:** Separating the tip amount by vendor reveals that there are no noticeable aberrations in the distribution of tips between the two vendors in the dataset. Vendor two has a slightly higher share of the rides, and this proportion is approximately maintained for all tip amounts.\n",
        "\n",
        "Next, we can zoom in on the upper end of the range of tips to check whether vendor one gets noticeably more of the most generous tips."
      ]
    },
    {
      "cell_type": "code",
      "execution_count": null,
      "metadata": {
        "id": "6S7lWcJv_dg6",
        "outputId": "a5887b06-33c7-40fa-edd9-7fe0dbdf9a40"
      },
      "outputs": [
        {
          "data": {
            "image/png": "[encoded data removed]",
            "text/plain": [
              "<Figure size 1200x700 with 1 Axes>"
            ]
          },
          "metadata": {},
          "output_type": "display_data"
        }
      ],
      "source": [
        "# Create histogram of tip_amount by vendor for tips > $10\n",
        "tips_over_ten = df[df['tip_amount'] > 10]\n",
        "plt.figure(figsize=(12,7))\n",
        "ax = sns.histplot(data=tips_over_ten, x='tip_amount', bins=range(10,21,1),\n",
        "                  hue='VendorID',\n",
        "                  multiple='stack',\n",
        "                  palette='pastel')\n",
        "ax.set_xticks(range(10,21,1))\n",
        "ax.set_xticklabels(range(10,21,1))\n",
        "plt.title('Tip amount by vendor histogram');"
      ]
    },
    {
      "cell_type": "markdown",
      "metadata": {
        "id": "0nCudKCp_dg6"
      },
      "source": [
        "**Exemplar note:** The proportions are maintained even at these higher tip amounts, with the exception being at highest extremity, but this is not noteworthy due to the low sample size at these tip amounts."
      ]
    },
    {
      "cell_type": "markdown",
      "metadata": {
        "id": "ctCXY2tT_dg7"
      },
      "source": [
        "**Mean tips by passenger count**\n",
        "\n",
        "Examine the unique values in the `passenger_count` column."
      ]
    },
    {
      "cell_type": "code",
      "execution_count": null,
      "metadata": {
        "id": "DBgxe6DI_dg7",
        "outputId": "969928f3-7c5e-46d0-ec22-33d0d10b40dc"
      },
      "outputs": [
        {
          "data": {
            "text/plain": [
              "1    16117\n",
              "2     3305\n",
              "5     1143\n",
              "3      953\n",
              "6      693\n",
              "4      455\n",
              "0       33\n",
              "Name: passenger_count, dtype: int64"
            ]
          },
          "execution_count": 22,
          "metadata": {},
          "output_type": "execute_result"
        }
      ],
      "source": [
        "df['passenger_count'].value_counts()"
      ]
    },
    {
      "cell_type": "markdown",
      "metadata": {
        "id": "QOUNZF4O_dg8"
      },
      "source": [
        "**Exemplar note:** Nearly two thirds of the rides were single occupancy, though there were still nearly 700 rides with as many as six passengers. Also, there are 33 rides with an occupancy count of zero, which doesn't make sense. These would likely be dropped unless a reasonable explanation can be found for them."
      ]
    },
    {
      "cell_type": "code",
      "execution_count": null,
      "metadata": {
        "id": "9t3tB21a_dg8",
        "outputId": "2b0e1948-5845-47b6-99f9-ab7060df206f"
      },
      "outputs": [
        {
          "data": {
            "text/html": [
              "<div>\n",
              "<style scoped>\n",
              "    .dataframe tbody tr th:only-of-type {\n",
              "        vertical-align: middle;\n",
              "    }\n",
              "\n",
              "    .dataframe tbody tr th {\n",
              "        vertical-align: top;\n",
              "    }\n",
              "\n",
              "    .dataframe thead th {\n",
              "        text-align: right;\n",
              "    }\n",
              "</style>\n",
              "<table border=\"1\" class=\"dataframe\">\n",
              "  <thead>\n",
              "    <tr style=\"text-align: right;\">\n",
              "      <th></th>\n",
              "      <th>tip_amount</th>\n",
              "    </tr>\n",
              "    <tr>\n",
              "      <th>passenger_count</th>\n",
              "      <th></th>\n",
              "    </tr>\n",
              "  </thead>\n",
              "  <tbody>\n",
              "    <tr>\n",
              "      <th>0</th>\n",
              "      <td>2.135758</td>\n",
              "    </tr>\n",
              "    <tr>\n",
              "      <th>1</th>\n",
              "      <td>1.848920</td>\n",
              "    </tr>\n",
              "    <tr>\n",
              "      <th>2</th>\n",
              "      <td>1.856378</td>\n",
              "    </tr>\n",
              "    <tr>\n",
              "      <th>3</th>\n",
              "      <td>1.716768</td>\n",
              "    </tr>\n",
              "    <tr>\n",
              "      <th>4</th>\n",
              "      <td>1.530264</td>\n",
              "    </tr>\n",
              "    <tr>\n",
              "      <th>5</th>\n",
              "      <td>1.873185</td>\n",
              "    </tr>\n",
              "    <tr>\n",
              "      <th>6</th>\n",
              "      <td>1.720260</td>\n",
              "    </tr>\n",
              "  </tbody>\n",
              "</table>\n",
              "</div>"
            ],
            "text/plain": [
              "                 tip_amount\n",
              "passenger_count            \n",
              "0                  2.135758\n",
              "1                  1.848920\n",
              "2                  1.856378\n",
              "3                  1.716768\n",
              "4                  1.530264\n",
              "5                  1.873185\n",
              "6                  1.720260"
            ]
          },
          "execution_count": 23,
          "metadata": {},
          "output_type": "execute_result"
        }
      ],
      "source": [
        "# Calculate mean tips by passenger_count\n",
        "mean_tips_by_passenger_count = df.groupby(['passenger_count']).mean()[['tip_amount']]\n",
        "mean_tips_by_passenger_count\n"
      ]
    },
    {
      "cell_type": "code",
      "execution_count": null,
      "metadata": {
        "id": "UgeOF8qO_dg-",
        "outputId": "c2da6bcb-a9e6-420e-ab02-ea78d5563570"
      },
      "outputs": [
        {
          "data": {
            "image/png": "[encoded data removed]",
            "text/plain": [
              "<Figure size 1200x700 with 1 Axes>"
            ]
          },
          "metadata": {},
          "output_type": "display_data"
        }
      ],
      "source": [
        "# Create bar plot for mean tips by passenger count\n",
        "data = mean_tips_by_passenger_count.tail(-1)\n",
        "pal = sns.color_palette(\"Greens_d\", len(data))\n",
        "rank = data['tip_amount'].argsort().argsort()\n",
        "plt.figure(figsize=(12,7))\n",
        "ax = sns.barplot(x=data.index,\n",
        "            y=data['tip_amount'],\n",
        "            palette=np.array(pal[::-1])[rank])\n",
        "ax.axhline(df['tip_amount'].mean(), ls='--', color='red', label='global mean')\n",
        "ax.legend()\n",
        "plt.title('Mean tip amount by passenger count', fontsize=16);"
      ]
    },
    {
      "cell_type": "markdown",
      "metadata": {
        "id": "tvyuBLO__dg-"
      },
      "source": [
        "**Exemplar note:** Mean tip amount varies very little by passenger count. Although it does drop noticeably for four-passenger rides, it's expected that there would be a higher degree of fluctuation because rides with four passengers were the least plentiful in the dataset (aside from rides with zero passengers)."
      ]
    },
    {
      "cell_type": "markdown",
      "metadata": {
        "id": "WueXP2lN_dg_"
      },
      "source": [
        "**Create month and day columns**"
      ]
    },
    {
      "cell_type": "code",
      "execution_count": null,
      "metadata": {
        "scrolled": true,
        "id": "HyFyPZZY_dg_"
      },
      "outputs": [],
      "source": [
        "# Create a month column\n",
        "df['month'] = df['tpep_pickup_datetime'].dt.month_name()\n",
        "# Create a day column\n",
        "df['day'] = df['tpep_pickup_datetime'].dt.day_name()"
      ]
    },
    {
      "cell_type": "markdown",
      "metadata": {
        "id": "uVzpxeek_dg_"
      },
      "source": [
        "**Plot total ride count by month**\n",
        "\n",
        "Begin by calculating total ride count by month."
      ]
    },
    {
      "cell_type": "code",
      "execution_count": null,
      "metadata": {
        "id": "cx_XoLo8_dhA",
        "outputId": "fa39c4fa-2d32-4bf1-c420-11aab8271abe"
      },
      "outputs": [
        {
          "data": {
            "text/plain": [
              "March        2049\n",
              "October      2027\n",
              "April        2019\n",
              "May          2013\n",
              "January      1997\n",
              "June         1964\n",
              "December     1863\n",
              "November     1843\n",
              "February     1769\n",
              "September    1734\n",
              "August       1724\n",
              "July         1697\n",
              "Name: month, dtype: int64"
            ]
          },
          "execution_count": 26,
          "metadata": {},
          "output_type": "execute_result"
        }
      ],
      "source": [
        "# Get total number of rides for each month\n",
        "monthly_rides = df['month'].value_counts()\n",
        "monthly_rides"
      ]
    },
    {
      "cell_type": "markdown",
      "metadata": {
        "id": "ClkQMngw_dhB"
      },
      "source": [
        "**Exemplar note:** The months are out of order.\n",
        "\n",
        "Reorder the results to put the months in calendar order."
      ]
    },
    {
      "cell_type": "code",
      "execution_count": null,
      "metadata": {
        "scrolled": true,
        "id": "CSdWV7kG_dhB",
        "outputId": "52b750d2-822b-4d32-c1b4-cf794f51a5a2"
      },
      "outputs": [
        {
          "data": {
            "text/plain": [
              "January      1997\n",
              "February     1769\n",
              "March        2049\n",
              "April        2019\n",
              "May          2013\n",
              "June         1964\n",
              "July         1697\n",
              "August       1724\n",
              "September    1734\n",
              "October      2027\n",
              "November     1843\n",
              "December     1863\n",
              "Name: month, dtype: int64"
            ]
          },
          "execution_count": 27,
          "metadata": {},
          "output_type": "execute_result"
        }
      ],
      "source": [
        "# Reorder the monthly ride list so months go in order\n",
        "month_order = ['January', 'February', 'March', 'April', 'May', 'June', 'July',\n",
        "         'August', 'September', 'October', 'November', 'December']\n",
        "\n",
        "monthly_rides = monthly_rides.reindex(index=month_order)\n",
        "monthly_rides"
      ]
    },
    {
      "cell_type": "code",
      "execution_count": null,
      "metadata": {
        "id": "OlHcepDz_dhB",
        "outputId": "dfad285a-209e-4c81-e3d4-b7fde884835c"
      },
      "outputs": [
        {
          "data": {
            "text/plain": [
              "Index(['January', 'February', 'March', 'April', 'May', 'June', 'July',\n",
              "       'August', 'September', 'October', 'November', 'December'],\n",
              "      dtype='object')"
            ]
          },
          "execution_count": 28,
          "metadata": {},
          "output_type": "execute_result"
        }
      ],
      "source": [
        "# Show the index\n",
        "monthly_rides.index"
      ]
    },
    {
      "cell_type": "code",
      "execution_count": null,
      "metadata": {
        "id": "wrhsnIBg_dhC",
        "outputId": "343483c5-fe9e-4566-e73d-ab353e9e8d64"
      },
      "outputs": [
        {
          "data": {
            "image/png": "[encoded data removed]",
            "text/plain": [
              "<Figure size 1200x700 with 1 Axes>"
            ]
          },
          "metadata": {},
          "output_type": "display_data"
        }
      ],
      "source": [
        "# Create a bar plot of total rides per month\n",
        "plt.figure(figsize=(12,7))\n",
        "ax = sns.barplot(x=monthly_rides.index, y=monthly_rides)\n",
        "ax.set_xticklabels(month_order)\n",
        "plt.title('Ride count by month', fontsize=16);"
      ]
    },
    {
      "cell_type": "markdown",
      "metadata": {
        "id": "DC6UaXTJ_dhE"
      },
      "source": [
        "**Exemplar note:** Monthly rides are fairly consistent, with notable dips in the summer months of July, August, and September, and also in February."
      ]
    },
    {
      "cell_type": "markdown",
      "metadata": {
        "id": "je6RL6f4_dhF"
      },
      "source": [
        "**Plot total ride count by day**\n",
        "\n",
        "we will repeat the above process, but now calculate the total rides by day of the week."
      ]
    },
    {
      "cell_type": "code",
      "execution_count": null,
      "metadata": {
        "id": "qmGXm4yA_dhF",
        "outputId": "a4d740e2-d45c-4a00-b9ac-5a2f62263320"
      },
      "outputs": [
        {
          "data": {
            "text/plain": [
              "Monday       2931\n",
              "Tuesday      3198\n",
              "Wednesday    3390\n",
              "Thursday     3402\n",
              "Friday       3413\n",
              "Saturday     3367\n",
              "Sunday       2998\n",
              "Name: day, dtype: int64"
            ]
          },
          "execution_count": 30,
          "metadata": {},
          "output_type": "execute_result"
        }
      ],
      "source": [
        "# Repeat the above process, this time for rides by day\n",
        "daily_rides = df['day'].value_counts()\n",
        "day_order = ['Monday', 'Tuesday', 'Wednesday', 'Thursday', 'Friday', 'Saturday', 'Sunday']\n",
        "daily_rides = daily_rides.reindex(index=day_order)\n",
        "daily_rides"
      ]
    },
    {
      "cell_type": "code",
      "execution_count": null,
      "metadata": {
        "id": "zK2rCaXW_dhG",
        "outputId": "40d67eb6-40fa-4c7d-d04a-6beafdfe36ca"
      },
      "outputs": [
        {
          "data": {
            "image/png": "[encoded data removed]",
            "text/plain": [
              "<Figure size 1200x700 with 1 Axes>"
            ]
          },
          "metadata": {},
          "output_type": "display_data"
        }
      ],
      "source": [
        "# Create bar plot for ride count by day\n",
        "plt.figure(figsize=(12,7))\n",
        "ax = sns.barplot(x=daily_rides.index, y=daily_rides)\n",
        "ax.set_xticklabels(day_order)\n",
        "ax.set_ylabel('Count')\n",
        "plt.title('Ride count by day', fontsize=16);"
      ]
    },
    {
      "cell_type": "markdown",
      "metadata": {
        "id": "3wjYHgWs_dhH"
      },
      "source": [
        "**Exemplar note:** Suprisingly, Wednesday through Saturday had the highest number of daily rides, while Sunday and Monday had the least."
      ]
    },
    {
      "cell_type": "markdown",
      "metadata": {
        "id": "CiFAQsyU_dhH"
      },
      "source": [
        "**Plot total revenue by day of the week**\n",
        "we will repeat the above process, but now calculate the total revenue by day of the week."
      ]
    },
    {
      "cell_type": "code",
      "execution_count": null,
      "metadata": {
        "id": "SiLe9tWs_dhI",
        "outputId": "566cb10a-e4cf-4539-80bb-1786df6e1320"
      },
      "outputs": [
        {
          "data": {
            "text/html": [
              "<div>\n",
              "<style scoped>\n",
              "    .dataframe tbody tr th:only-of-type {\n",
              "        vertical-align: middle;\n",
              "    }\n",
              "\n",
              "    .dataframe tbody tr th {\n",
              "        vertical-align: top;\n",
              "    }\n",
              "\n",
              "    .dataframe thead th {\n",
              "        text-align: right;\n",
              "    }\n",
              "</style>\n",
              "<table border=\"1\" class=\"dataframe\">\n",
              "  <thead>\n",
              "    <tr style=\"text-align: right;\">\n",
              "      <th></th>\n",
              "      <th>total_amount</th>\n",
              "    </tr>\n",
              "    <tr>\n",
              "      <th>day</th>\n",
              "      <th></th>\n",
              "    </tr>\n",
              "  </thead>\n",
              "  <tbody>\n",
              "    <tr>\n",
              "      <th>Monday</th>\n",
              "      <td>49574.37</td>\n",
              "    </tr>\n",
              "    <tr>\n",
              "      <th>Tuesday</th>\n",
              "      <td>52527.14</td>\n",
              "    </tr>\n",
              "    <tr>\n",
              "      <th>Wednesday</th>\n",
              "      <td>55310.47</td>\n",
              "    </tr>\n",
              "    <tr>\n",
              "      <th>Thursday</th>\n",
              "      <td>57181.91</td>\n",
              "    </tr>\n",
              "    <tr>\n",
              "      <th>Friday</th>\n",
              "      <td>55818.74</td>\n",
              "    </tr>\n",
              "    <tr>\n",
              "      <th>Saturday</th>\n",
              "      <td>51195.40</td>\n",
              "    </tr>\n",
              "    <tr>\n",
              "      <th>Sunday</th>\n",
              "      <td>48624.06</td>\n",
              "    </tr>\n",
              "  </tbody>\n",
              "</table>\n",
              "</div>"
            ],
            "text/plain": [
              "           total_amount\n",
              "day                    \n",
              "Monday         49574.37\n",
              "Tuesday        52527.14\n",
              "Wednesday      55310.47\n",
              "Thursday       57181.91\n",
              "Friday         55818.74\n",
              "Saturday       51195.40\n",
              "Sunday         48624.06"
            ]
          },
          "execution_count": 32,
          "metadata": {},
          "output_type": "execute_result"
        }
      ],
      "source": [
        "# Repeat the process, this time for total revenue by day\n",
        "day_order = ['Monday', 'Tuesday', 'Wednesday', 'Thursday', 'Friday', 'Saturday', 'Sunday']\n",
        "total_amount_day = df.groupby('day').sum()[['total_amount']]\n",
        "total_amount_day = total_amount_day.reindex(index=day_order)\n",
        "total_amount_day"
      ]
    },
    {
      "cell_type": "code",
      "execution_count": null,
      "metadata": {
        "id": "w5qgbdWL_dhI",
        "outputId": "f4a7a5f2-621d-43e3-f8b1-867586ff410c"
      },
      "outputs": [
        {
          "data": {
            "image/png": "[encoded data removed]",
            "text/plain": [
              "<Figure size 1200x700 with 1 Axes>"
            ]
          },
          "metadata": {},
          "output_type": "display_data"
        }
      ],
      "source": [
        "# Create bar plot of total revenue by day\n",
        "plt.figure(figsize=(12,7))\n",
        "ax = sns.barplot(x=total_amount_day.index, y=total_amount_day['total_amount'])\n",
        "ax.set_xticklabels(day_order)\n",
        "ax.set_ylabel('Revenue (USD)')\n",
        "plt.title('Total revenue by day', fontsize=16);"
      ]
    },
    {
      "cell_type": "markdown",
      "metadata": {
        "id": "qAX0SsoD_dhJ"
      },
      "source": [
        "**Exemplar note:** Thursday had the highest gross revenue of all days, and Sunday and Monday had the least. Interestingly, although Saturday had only 35 fewer rides than Thursday, its gross revenue was ~$6,000 less than Thursday's&mdash;more than a 10% drop."
      ]
    },
    {
      "cell_type": "markdown",
      "metadata": {
        "id": "qf2Gv3PM_dhJ"
      },
      "source": [
        "**Plot total revenue by month**"
      ]
    },
    {
      "cell_type": "code",
      "execution_count": null,
      "metadata": {
        "id": "M6JC-OKW_dhK",
        "outputId": "0b73e559-39ab-4224-8f23-809915a914ab"
      },
      "outputs": [
        {
          "data": {
            "text/html": [
              "<div>\n",
              "<style scoped>\n",
              "    .dataframe tbody tr th:only-of-type {\n",
              "        vertical-align: middle;\n",
              "    }\n",
              "\n",
              "    .dataframe tbody tr th {\n",
              "        vertical-align: top;\n",
              "    }\n",
              "\n",
              "    .dataframe thead th {\n",
              "        text-align: right;\n",
              "    }\n",
              "</style>\n",
              "<table border=\"1\" class=\"dataframe\">\n",
              "  <thead>\n",
              "    <tr style=\"text-align: right;\">\n",
              "      <th></th>\n",
              "      <th>total_amount</th>\n",
              "    </tr>\n",
              "    <tr>\n",
              "      <th>month</th>\n",
              "      <th></th>\n",
              "    </tr>\n",
              "  </thead>\n",
              "  <tbody>\n",
              "    <tr>\n",
              "      <th>January</th>\n",
              "      <td>31735.25</td>\n",
              "    </tr>\n",
              "    <tr>\n",
              "      <th>February</th>\n",
              "      <td>28937.89</td>\n",
              "    </tr>\n",
              "    <tr>\n",
              "      <th>March</th>\n",
              "      <td>33085.89</td>\n",
              "    </tr>\n",
              "    <tr>\n",
              "      <th>April</th>\n",
              "      <td>32012.54</td>\n",
              "    </tr>\n",
              "    <tr>\n",
              "      <th>May</th>\n",
              "      <td>33828.58</td>\n",
              "    </tr>\n",
              "    <tr>\n",
              "      <th>June</th>\n",
              "      <td>32920.52</td>\n",
              "    </tr>\n",
              "    <tr>\n",
              "      <th>July</th>\n",
              "      <td>26617.64</td>\n",
              "    </tr>\n",
              "    <tr>\n",
              "      <th>August</th>\n",
              "      <td>27759.56</td>\n",
              "    </tr>\n",
              "    <tr>\n",
              "      <th>September</th>\n",
              "      <td>28206.38</td>\n",
              "    </tr>\n",
              "    <tr>\n",
              "      <th>October</th>\n",
              "      <td>33065.83</td>\n",
              "    </tr>\n",
              "    <tr>\n",
              "      <th>November</th>\n",
              "      <td>30800.44</td>\n",
              "    </tr>\n",
              "    <tr>\n",
              "      <th>December</th>\n",
              "      <td>31261.57</td>\n",
              "    </tr>\n",
              "  </tbody>\n",
              "</table>\n",
              "</div>"
            ],
            "text/plain": [
              "           total_amount\n",
              "month                  \n",
              "January        31735.25\n",
              "February       28937.89\n",
              "March          33085.89\n",
              "April          32012.54\n",
              "May            33828.58\n",
              "June           32920.52\n",
              "July           26617.64\n",
              "August         27759.56\n",
              "September      28206.38\n",
              "October        33065.83\n",
              "November       30800.44\n",
              "December       31261.57"
            ]
          },
          "execution_count": 34,
          "metadata": {},
          "output_type": "execute_result"
        }
      ],
      "source": [
        "# Repeat the process, this time for total revenue by month\n",
        "total_amount_month = df.groupby('month').sum()[['total_amount']]\n",
        "total_amount_month = total_amount_month.reindex(index=month_order)\n",
        "total_amount_month"
      ]
    },
    {
      "cell_type": "code",
      "execution_count": null,
      "metadata": {
        "id": "XsA9mKJO_dhK",
        "outputId": "e3b62317-1c14-4016-eb70-56e50289fbef"
      },
      "outputs": [
        {
          "data": {
            "image/png": "[encoded data removed]",
            "text/plain": [
              "<Figure size 1200x700 with 1 Axes>"
            ]
          },
          "metadata": {},
          "output_type": "display_data"
        }
      ],
      "source": [
        "# Create a bar plot of total revenue by month\n",
        "plt.figure(figsize=(12,7))\n",
        "ax = sns.barplot(x=total_amount_month.index, y=total_amount_month['total_amount'])\n",
        "plt.title('Total revenue by month', fontsize=16);"
      ]
    },
    {
      "cell_type": "markdown",
      "metadata": {
        "id": "CWjzS8OO_dhK"
      },
      "source": [
        "**Exemplar note:** Monthly revenue generally follows the pattern of monthly rides, with noticeable dips in the summer months of July, August, and September, and also one in February."
      ]
    },
    {
      "cell_type": "markdown",
      "metadata": {
        "id": "j3AW_1yH0trT"
      },
      "source": [
        "we can create a scatterplot in Tableau Public, which can be easier to manipulate and present. If we'd like step by step instructions, we can review the following link. Those instructions create a scatterplot showing the relationship between total_amount and trip_distance. we can consider adding the Tableau visualization to our executive summary, and adding key insights from our findings on those two variables."
      ]
    },
    {
      "cell_type": "markdown",
      "metadata": {
        "id": "8TQjML4-0_35"
      },
      "source": [
        "[Tableau visualization guidelines](https://docs.google.com/document/d/1pcfUlttD2Y_a9A4VrKPzikZWCAfFLsBAhuKuomjcUjA/template/preview#heading=h.8983o7y9d2y2)"
      ]
    },
    {
      "cell_type": "markdown",
      "metadata": {
        "id": "19euHE7s_dhN"
      },
      "source": [
        "**Plot mean trip distance by drop-off location**"
      ]
    },
    {
      "cell_type": "code",
      "execution_count": null,
      "metadata": {
        "id": "1NxYhWLW_dhO",
        "outputId": "b10621a5-bc11-443a-d521-f7c294b1f61c"
      },
      "outputs": [
        {
          "data": {
            "text/plain": [
              "216"
            ]
          },
          "execution_count": 36,
          "metadata": {},
          "output_type": "execute_result"
        }
      ],
      "source": [
        "# Get number of unique drop-off location IDs\n",
        "df['DOLocationID'].nunique()"
      ]
    },
    {
      "cell_type": "code",
      "execution_count": null,
      "metadata": {
        "id": "kD52xAUe_dhO",
        "outputId": "0b4068e1-1046-409a-e9f1-482479073395"
      },
      "outputs": [
        {
          "data": {
            "text/html": [
              "<div>\n",
              "<style scoped>\n",
              "    .dataframe tbody tr th:only-of-type {\n",
              "        vertical-align: middle;\n",
              "    }\n",
              "\n",
              "    .dataframe tbody tr th {\n",
              "        vertical-align: top;\n",
              "    }\n",
              "\n",
              "    .dataframe thead th {\n",
              "        text-align: right;\n",
              "    }\n",
              "</style>\n",
              "<table border=\"1\" class=\"dataframe\">\n",
              "  <thead>\n",
              "    <tr style=\"text-align: right;\">\n",
              "      <th></th>\n",
              "      <th>trip_distance</th>\n",
              "    </tr>\n",
              "    <tr>\n",
              "      <th>DOLocationID</th>\n",
              "      <th></th>\n",
              "    </tr>\n",
              "  </thead>\n",
              "  <tbody>\n",
              "    <tr>\n",
              "      <th>207</th>\n",
              "      <td>1.200000</td>\n",
              "    </tr>\n",
              "    <tr>\n",
              "      <th>193</th>\n",
              "      <td>1.390556</td>\n",
              "    </tr>\n",
              "    <tr>\n",
              "      <th>237</th>\n",
              "      <td>1.555494</td>\n",
              "    </tr>\n",
              "    <tr>\n",
              "      <th>234</th>\n",
              "      <td>1.727806</td>\n",
              "    </tr>\n",
              "    <tr>\n",
              "      <th>137</th>\n",
              "      <td>1.818852</td>\n",
              "    </tr>\n",
              "    <tr>\n",
              "      <th>...</th>\n",
              "      <td>...</td>\n",
              "    </tr>\n",
              "    <tr>\n",
              "      <th>51</th>\n",
              "      <td>17.310000</td>\n",
              "    </tr>\n",
              "    <tr>\n",
              "      <th>11</th>\n",
              "      <td>17.945000</td>\n",
              "    </tr>\n",
              "    <tr>\n",
              "      <th>210</th>\n",
              "      <td>20.500000</td>\n",
              "    </tr>\n",
              "    <tr>\n",
              "      <th>29</th>\n",
              "      <td>21.650000</td>\n",
              "    </tr>\n",
              "    <tr>\n",
              "      <th>23</th>\n",
              "      <td>24.275000</td>\n",
              "    </tr>\n",
              "  </tbody>\n",
              "</table>\n",
              "<p>216 rows × 1 columns</p>\n",
              "</div>"
            ],
            "text/plain": [
              "              trip_distance\n",
              "DOLocationID               \n",
              "207                1.200000\n",
              "193                1.390556\n",
              "237                1.555494\n",
              "234                1.727806\n",
              "137                1.818852\n",
              "...                     ...\n",
              "51                17.310000\n",
              "11                17.945000\n",
              "210               20.500000\n",
              "29                21.650000\n",
              "23                24.275000\n",
              "\n",
              "[216 rows x 1 columns]"
            ]
          },
          "execution_count": 37,
          "metadata": {},
          "output_type": "execute_result"
        }
      ],
      "source": [
        "# Calculate the mean trip distance for each drop-off location\n",
        "distance_by_dropoff = df.groupby('DOLocationID').mean()[['trip_distance']]\n",
        "\n",
        "# Sort the results in descending order by mean trip distance\n",
        "distance_by_dropoff = distance_by_dropoff.sort_values(by='trip_distance')\n",
        "distance_by_dropoff"
      ]
    },
    {
      "cell_type": "code",
      "execution_count": null,
      "metadata": {
        "id": "TVOLW7mR_dhP",
        "outputId": "343d5b8e-1e34-4095-e70c-9e99783e51b4"
      },
      "outputs": [
        {
          "data": {
            "image/png": "[encoded data removed]",
            "text/plain": [
              "<Figure size 1400x600 with 1 Axes>"
            ]
          },
          "metadata": {},
          "output_type": "display_data"
        }
      ],
      "source": [
        "# Create a bar plot of mean trip distances by drop-off location in ascending order by distance\n",
        "plt.figure(figsize=(14,6))\n",
        "ax = sns.barplot(x=distance_by_dropoff.index,\n",
        "                 y=distance_by_dropoff['trip_distance'],\n",
        "                 order=distance_by_dropoff.index)\n",
        "ax.set_xticklabels([])\n",
        "ax.set_xticks([])\n",
        "plt.title('Mean trip distance by drop-off location', fontsize=16);"
      ]
    },
    {
      "cell_type": "markdown",
      "metadata": {
        "id": "z6tPkqDd_dhP"
      },
      "source": [
        "**Exemplar note:** This plot presents a characteristic curve related to the cumulative density function of a normal distribution. In other words, it indicates that the drop-off points are relatively evenly distributed over the terrain. This is good to know, because geographic coordinates were not included in this dataset, so there was no obvious way to test for the distibution of locations.\n",
        "\n",
        "To confirm this conclusion, consider the following experiment:\n",
        "1. Create a sample of coordinates from a normal distribution&mdash;in this case 1,500 pairs of points from a normal distribution with a mean of 10 and a standard deviation of 5\n",
        "2. Calculate the distance between each pair of coordinates\n",
        "3. Group the coordinates by endpoint and calculate the mean distance between that endpoint and all other points it was paired with\n",
        "4. Plot the mean distance for each unique endpoint"
      ]
    },
    {
      "cell_type": "code",
      "execution_count": null,
      "metadata": {
        "id": "EU8rI7pp_dhQ",
        "outputId": "d41b0cbd-1102-4697-bde1-8251ec155f06"
      },
      "outputs": [
        {
          "data": {
            "image/png": "[encoded data removed]",
            "text/plain": [
              "<Figure size 1400x600 with 1 Axes>"
            ]
          },
          "metadata": {},
          "output_type": "display_data"
        }
      ],
      "source": [
        "# 1. Generate random points on a 2D plane from a normal distribution\n",
        "test = np.round(np.random.normal(10, 5, (3000, 2)), 1)\n",
        "midway = int(len(test)/2)  # Calculate midpoint of the array of coordinates\n",
        "start = test[:midway]      # Isolate first half of array (\"pick-up locations\")\n",
        "end = test[midway:]        # Isolate second half of array (\"drop-off locations\")\n",
        "\n",
        "# 2. Calculate Euclidean distances between points in first half and second half of array\n",
        "distances = (start - end)**2\n",
        "distances = distances.sum(axis=-1)\n",
        "distances = np.sqrt(distances)\n",
        "\n",
        "# 3. Group the coordinates by \"drop-off location\", compute mean distance\n",
        "test_df = pd.DataFrame({'start': [tuple(x) for x in start.tolist()],\n",
        "                   'end': [tuple(x) for x in end.tolist()],\n",
        "                   'distance': distances})\n",
        "data = test_df[['end', 'distance']].groupby('end').mean()\n",
        "data = data.sort_values(by='distance')\n",
        "\n",
        "# 4. Plot the mean distance between each endpoint (\"drop-off location\") and all points it connected to\n",
        "plt.figure(figsize=(14,6))\n",
        "ax = sns.barplot(x=data.index,\n",
        "                 y=data['distance'],\n",
        "                 order=data.index)\n",
        "ax.set_xticklabels([])\n",
        "ax.set_xticks([])\n",
        "ax.set_xlabel('Endpoint')\n",
        "ax.set_ylabel('Mean distance to all other points')\n",
        "ax.set_title('Mean distance between points taken randomly from normal distribution');"
      ]
    },
    {
      "cell_type": "markdown",
      "metadata": {
        "id": "f3qa7Zzv_dhQ"
      },
      "source": [
        "**Exemplar note:** The curve described by this graph is nearly identical to that of the mean distance traveled by each taxi ride to each drop-off location. This reveals that the drop-off locations in the taxi dataset are evenly distributed geographically. Note, however, that this does *not* mean that there was an even distrubtion of *rides* to each drop-off point. Examine this next."
      ]
    },
    {
      "cell_type": "markdown",
      "metadata": {
        "id": "cIlCxdAZ_dhR"
      },
      "source": [
        "**Histogram of rides by drop-off location**"
      ]
    },
    {
      "cell_type": "markdown",
      "metadata": {
        "id": "tEpb_MpR_dhR"
      },
      "source": [
        "First, check whether the drop-off locations IDs are consecutively numbered. For instance, does it go 1, 2, 3, 4..., or are some numbers missing (e.g., 1, 3, 4...). If numbers aren't all consecutive, the histogram will look like some locations have very few or no rides when in reality there's no bar because there's no location.\n",
        "\n",
        "There are many ways to do this."
      ]
    },
    {
      "cell_type": "code",
      "execution_count": null,
      "metadata": {
        "id": "kfshMn24_dhS",
        "outputId": "1571fe88-a7f8-41a9-a404-4c992baccc42"
      },
      "outputs": [
        {
          "data": {
            "text/plain": [
              "49"
            ]
          },
          "execution_count": 40,
          "metadata": {},
          "output_type": "execute_result"
        }
      ],
      "source": [
        "# Check if all drop-off locations are consecutively numbered\n",
        "df['DOLocationID'].max() - len(set(df['DOLocationID']))"
      ]
    },
    {
      "cell_type": "markdown",
      "metadata": {
        "id": "Vvk8B-0k_dhS"
      },
      "source": [
        "**Exemplar note:** There are 49 numbers that do not represent a drop-off location.\n",
        "\n",
        "To eliminate the spaces in the historgram that these missing numbers would create, sort the unique drop-off location values, then convert them to strings. This will make the histplot function display all bars directly next to each other."
      ]
    },
    {
      "cell_type": "code",
      "execution_count": null,
      "metadata": {
        "id": "5MCUCAee_dhS",
        "outputId": "dddc0421-2de0-4957-8465-da0681ad0316"
      },
      "outputs": [
        {
          "data": {
            "image/png": "[encoded data removed]",
            "text/plain": [
              "<Figure size 1600x400 with 1 Axes>"
            ]
          },
          "metadata": {},
          "output_type": "display_data"
        }
      ],
      "source": [
        "plt.figure(figsize=(16,4))\n",
        "# DOLocationID column is numeric, so sort in ascending order\n",
        "sorted_dropoffs = df['DOLocationID'].sort_values()\n",
        "# Convert to string\n",
        "sorted_dropoffs = sorted_dropoffs.astype('str')\n",
        "# Plot\n",
        "sns.histplot(sorted_dropoffs, bins=range(0, df['DOLocationID'].max()+1, 1))\n",
        "plt.xticks([])\n",
        "plt.xlabel('Drop-off locations')\n",
        "plt.title('Histogram of rides by drop-off location', fontsize=16);"
      ]
    },
    {
      "cell_type": "markdown",
      "metadata": {
        "id": "19t7QRvC_dhT"
      },
      "source": [
        "**Exemplar note:** Notice that out of the 200+ drop-off locations, a disproportionate number of locations receive the majority of the traffic, while all the rest get relatively few trips. It's likely that these high-traffic locations are near popular tourist attractions like the Empire State Building or Times Square, airports, and train and bus terminals. However, it would be helpful to know the location that each ID corresponds with. Unfortunately, this is not in the data."
      ]
    },
    {
      "cell_type": "markdown",
      "metadata": {
        "id": "NsvBtco1x8GN"
      },
      "source": [
        "<img src=\"images/Execute.png\" width=\"100\" height=\"100\" align=left>\n",
        "\n",
        "## PACE: Execute\n",
        "\n",
        "Consider the PACE Strategy Document to reflect on the Execute stage."
      ]
    },
    {
      "cell_type": "markdown",
      "metadata": {
        "id": "csHAfM-RSO7l"
      },
      "source": [
        "### Task 4a. Results and evaluation\n",
        "\n",
        "Having built visualizations in Tableau and in Python, what have we learned about the dataset? What other questions have our visualizations uncovered that we should pursue?\n",
        "\n",
        "***Pro tip:*** Put yourself in your client's perspective. What would they want to know?\n",
        "\n",
        "Use the following code fields to pursue any additional EDA based on the visualizations we've already plotted. Also we can use the space to make sure our visualizations are clean, easily understandable, and accessible.\n",
        "\n",
        "***Ask yourself:*** Did you consider color, contrast, emphasis, and labeling?\n",
        "\n"
      ]
    },
    {
      "cell_type": "markdown",
      "metadata": {
        "id": "pOp0vmf1zOHO"
      },
      "source": [
        "[Learners: insert your response here]\n",
        "\n",
        "I have learned .... the highest distribution of trip distances are below 5 miles, but there are outliers all the way out to 35 miles. There are no missing values.\n",
        "\n",
        "My other questions are .... There are several trips that have a trip distance of \"0.0.\" What might those trips be? Will they impact our model?\n",
        "\n",
        "My client would likely want to know ... that the data includes dropoff and pickup times. We can use that information to derive a trip duration for each line of data. This would likely be something that will help the client with their model.\n"
      ]
    },
    {
      "cell_type": "code",
      "execution_count": null,
      "metadata": {
        "id": "puYiPmvGdTJH"
      },
      "outputs": [],
      "source": [
        "df['trip_duration'] = (df['tpep_dropoff_datetime']-df['tpep_pickup_datetime'])"
      ]
    },
    {
      "cell_type": "code",
      "execution_count": null,
      "metadata": {
        "id": "iEv7pHw-dTRP",
        "outputId": "c4af2841-0ade-4f20-e082-675e6abe077e"
      },
      "outputs": [
        {
          "data": {
            "text/html": [
              "<div>\n",
              "<style scoped>\n",
              "    .dataframe tbody tr th:only-of-type {\n",
              "        vertical-align: middle;\n",
              "    }\n",
              "\n",
              "    .dataframe tbody tr th {\n",
              "        vertical-align: top;\n",
              "    }\n",
              "\n",
              "    .dataframe thead th {\n",
              "        text-align: right;\n",
              "    }\n",
              "</style>\n",
              "<table border=\"1\" class=\"dataframe\">\n",
              "  <thead>\n",
              "    <tr style=\"text-align: right;\">\n",
              "      <th></th>\n",
              "      <th>VendorID</th>\n",
              "      <th>tpep_pickup_datetime</th>\n",
              "      <th>tpep_dropoff_datetime</th>\n",
              "      <th>passenger_count</th>\n",
              "      <th>trip_distance</th>\n",
              "      <th>RatecodeID</th>\n",
              "      <th>store_and_fwd_flag</th>\n",
              "      <th>PULocationID</th>\n",
              "      <th>DOLocationID</th>\n",
              "      <th>payment_type</th>\n",
              "      <th>fare_amount</th>\n",
              "      <th>extra</th>\n",
              "      <th>mta_tax</th>\n",
              "      <th>tip_amount</th>\n",
              "      <th>tolls_amount</th>\n",
              "      <th>improvement_surcharge</th>\n",
              "      <th>total_amount</th>\n",
              "      <th>month</th>\n",
              "      <th>day</th>\n",
              "      <th>trip_duration</th>\n",
              "    </tr>\n",
              "  </thead>\n",
              "  <tbody>\n",
              "    <tr>\n",
              "      <th>0</th>\n",
              "      <td>2</td>\n",
              "      <td>2017-03-25 08:55:43</td>\n",
              "      <td>2017-03-25 09:09:47</td>\n",
              "      <td>6</td>\n",
              "      <td>3.34</td>\n",
              "      <td>1</td>\n",
              "      <td>N</td>\n",
              "      <td>100</td>\n",
              "      <td>231</td>\n",
              "      <td>1</td>\n",
              "      <td>13.0</td>\n",
              "      <td>0.0</td>\n",
              "      <td>0.5</td>\n",
              "      <td>2.76</td>\n",
              "      <td>0.0</td>\n",
              "      <td>0.3</td>\n",
              "      <td>16.56</td>\n",
              "      <td>March</td>\n",
              "      <td>Saturday</td>\n",
              "      <td>0 days 00:14:04</td>\n",
              "    </tr>\n",
              "    <tr>\n",
              "      <th>1</th>\n",
              "      <td>1</td>\n",
              "      <td>2017-04-11 14:53:28</td>\n",
              "      <td>2017-04-11 15:19:58</td>\n",
              "      <td>1</td>\n",
              "      <td>1.80</td>\n",
              "      <td>1</td>\n",
              "      <td>N</td>\n",
              "      <td>186</td>\n",
              "      <td>43</td>\n",
              "      <td>1</td>\n",
              "      <td>16.0</td>\n",
              "      <td>0.0</td>\n",
              "      <td>0.5</td>\n",
              "      <td>4.00</td>\n",
              "      <td>0.0</td>\n",
              "      <td>0.3</td>\n",
              "      <td>20.80</td>\n",
              "      <td>April</td>\n",
              "      <td>Tuesday</td>\n",
              "      <td>0 days 00:26:30</td>\n",
              "    </tr>\n",
              "    <tr>\n",
              "      <th>2</th>\n",
              "      <td>1</td>\n",
              "      <td>2017-12-15 07:26:56</td>\n",
              "      <td>2017-12-15 07:34:08</td>\n",
              "      <td>1</td>\n",
              "      <td>1.00</td>\n",
              "      <td>1</td>\n",
              "      <td>N</td>\n",
              "      <td>262</td>\n",
              "      <td>236</td>\n",
              "      <td>1</td>\n",
              "      <td>6.5</td>\n",
              "      <td>0.0</td>\n",
              "      <td>0.5</td>\n",
              "      <td>1.45</td>\n",
              "      <td>0.0</td>\n",
              "      <td>0.3</td>\n",
              "      <td>8.75</td>\n",
              "      <td>December</td>\n",
              "      <td>Friday</td>\n",
              "      <td>0 days 00:07:12</td>\n",
              "    </tr>\n",
              "    <tr>\n",
              "      <th>3</th>\n",
              "      <td>2</td>\n",
              "      <td>2017-05-07 13:17:59</td>\n",
              "      <td>2017-05-07 13:48:14</td>\n",
              "      <td>1</td>\n",
              "      <td>3.70</td>\n",
              "      <td>1</td>\n",
              "      <td>N</td>\n",
              "      <td>188</td>\n",
              "      <td>97</td>\n",
              "      <td>1</td>\n",
              "      <td>20.5</td>\n",
              "      <td>0.0</td>\n",
              "      <td>0.5</td>\n",
              "      <td>6.39</td>\n",
              "      <td>0.0</td>\n",
              "      <td>0.3</td>\n",
              "      <td>27.69</td>\n",
              "      <td>May</td>\n",
              "      <td>Sunday</td>\n",
              "      <td>0 days 00:30:15</td>\n",
              "    </tr>\n",
              "    <tr>\n",
              "      <th>4</th>\n",
              "      <td>2</td>\n",
              "      <td>2017-04-15 23:32:20</td>\n",
              "      <td>2017-04-15 23:49:03</td>\n",
              "      <td>1</td>\n",
              "      <td>4.37</td>\n",
              "      <td>1</td>\n",
              "      <td>N</td>\n",
              "      <td>4</td>\n",
              "      <td>112</td>\n",
              "      <td>2</td>\n",
              "      <td>16.5</td>\n",
              "      <td>0.5</td>\n",
              "      <td>0.5</td>\n",
              "      <td>0.00</td>\n",
              "      <td>0.0</td>\n",
              "      <td>0.3</td>\n",
              "      <td>17.80</td>\n",
              "      <td>April</td>\n",
              "      <td>Saturday</td>\n",
              "      <td>0 days 00:16:43</td>\n",
              "    </tr>\n",
              "    <tr>\n",
              "      <th>5</th>\n",
              "      <td>2</td>\n",
              "      <td>2017-03-25 20:34:11</td>\n",
              "      <td>2017-03-25 20:42:11</td>\n",
              "      <td>6</td>\n",
              "      <td>2.30</td>\n",
              "      <td>1</td>\n",
              "      <td>N</td>\n",
              "      <td>161</td>\n",
              "      <td>236</td>\n",
              "      <td>1</td>\n",
              "      <td>9.0</td>\n",
              "      <td>0.5</td>\n",
              "      <td>0.5</td>\n",
              "      <td>2.06</td>\n",
              "      <td>0.0</td>\n",
              "      <td>0.3</td>\n",
              "      <td>12.36</td>\n",
              "      <td>March</td>\n",
              "      <td>Saturday</td>\n",
              "      <td>0 days 00:08:00</td>\n",
              "    </tr>\n",
              "    <tr>\n",
              "      <th>6</th>\n",
              "      <td>2</td>\n",
              "      <td>2017-05-03 19:04:09</td>\n",
              "      <td>2017-05-03 20:03:47</td>\n",
              "      <td>1</td>\n",
              "      <td>12.83</td>\n",
              "      <td>1</td>\n",
              "      <td>N</td>\n",
              "      <td>79</td>\n",
              "      <td>241</td>\n",
              "      <td>1</td>\n",
              "      <td>47.5</td>\n",
              "      <td>1.0</td>\n",
              "      <td>0.5</td>\n",
              "      <td>9.86</td>\n",
              "      <td>0.0</td>\n",
              "      <td>0.3</td>\n",
              "      <td>59.16</td>\n",
              "      <td>May</td>\n",
              "      <td>Wednesday</td>\n",
              "      <td>0 days 00:59:38</td>\n",
              "    </tr>\n",
              "    <tr>\n",
              "      <th>7</th>\n",
              "      <td>2</td>\n",
              "      <td>2017-08-15 17:41:06</td>\n",
              "      <td>2017-08-15 18:03:05</td>\n",
              "      <td>1</td>\n",
              "      <td>2.98</td>\n",
              "      <td>1</td>\n",
              "      <td>N</td>\n",
              "      <td>237</td>\n",
              "      <td>114</td>\n",
              "      <td>1</td>\n",
              "      <td>16.0</td>\n",
              "      <td>1.0</td>\n",
              "      <td>0.5</td>\n",
              "      <td>1.78</td>\n",
              "      <td>0.0</td>\n",
              "      <td>0.3</td>\n",
              "      <td>19.58</td>\n",
              "      <td>August</td>\n",
              "      <td>Tuesday</td>\n",
              "      <td>0 days 00:21:59</td>\n",
              "    </tr>\n",
              "    <tr>\n",
              "      <th>8</th>\n",
              "      <td>2</td>\n",
              "      <td>2017-02-04 16:17:07</td>\n",
              "      <td>2017-02-04 16:29:14</td>\n",
              "      <td>1</td>\n",
              "      <td>1.20</td>\n",
              "      <td>1</td>\n",
              "      <td>N</td>\n",
              "      <td>234</td>\n",
              "      <td>249</td>\n",
              "      <td>2</td>\n",
              "      <td>9.0</td>\n",
              "      <td>0.0</td>\n",
              "      <td>0.5</td>\n",
              "      <td>0.00</td>\n",
              "      <td>0.0</td>\n",
              "      <td>0.3</td>\n",
              "      <td>9.80</td>\n",
              "      <td>February</td>\n",
              "      <td>Saturday</td>\n",
              "      <td>0 days 00:12:07</td>\n",
              "    </tr>\n",
              "    <tr>\n",
              "      <th>9</th>\n",
              "      <td>1</td>\n",
              "      <td>2017-11-10 15:20:29</td>\n",
              "      <td>2017-11-10 15:40:55</td>\n",
              "      <td>1</td>\n",
              "      <td>1.60</td>\n",
              "      <td>1</td>\n",
              "      <td>N</td>\n",
              "      <td>239</td>\n",
              "      <td>237</td>\n",
              "      <td>1</td>\n",
              "      <td>13.0</td>\n",
              "      <td>0.0</td>\n",
              "      <td>0.5</td>\n",
              "      <td>2.75</td>\n",
              "      <td>0.0</td>\n",
              "      <td>0.3</td>\n",
              "      <td>16.55</td>\n",
              "      <td>November</td>\n",
              "      <td>Friday</td>\n",
              "      <td>0 days 00:20:26</td>\n",
              "    </tr>\n",
              "  </tbody>\n",
              "</table>\n",
              "</div>"
            ],
            "text/plain": [
              "   VendorID tpep_pickup_datetime tpep_dropoff_datetime  passenger_count  \\\n",
              "0         2  2017-03-25 08:55:43   2017-03-25 09:09:47                6   \n",
              "1         1  2017-04-11 14:53:28   2017-04-11 15:19:58                1   \n",
              "2         1  2017-12-15 07:26:56   2017-12-15 07:34:08                1   \n",
              "3         2  2017-05-07 13:17:59   2017-05-07 13:48:14                1   \n",
              "4         2  2017-04-15 23:32:20   2017-04-15 23:49:03                1   \n",
              "5         2  2017-03-25 20:34:11   2017-03-25 20:42:11                6   \n",
              "6         2  2017-05-03 19:04:09   2017-05-03 20:03:47                1   \n",
              "7         2  2017-08-15 17:41:06   2017-08-15 18:03:05                1   \n",
              "8         2  2017-02-04 16:17:07   2017-02-04 16:29:14                1   \n",
              "9         1  2017-11-10 15:20:29   2017-11-10 15:40:55                1   \n",
              "\n",
              "   trip_distance  RatecodeID store_and_fwd_flag  PULocationID  DOLocationID  \\\n",
              "0           3.34           1                  N           100           231   \n",
              "1           1.80           1                  N           186            43   \n",
              "2           1.00           1                  N           262           236   \n",
              "3           3.70           1                  N           188            97   \n",
              "4           4.37           1                  N             4           112   \n",
              "5           2.30           1                  N           161           236   \n",
              "6          12.83           1                  N            79           241   \n",
              "7           2.98           1                  N           237           114   \n",
              "8           1.20           1                  N           234           249   \n",
              "9           1.60           1                  N           239           237   \n",
              "\n",
              "   payment_type  fare_amount  extra  mta_tax  tip_amount  tolls_amount  \\\n",
              "0             1         13.0    0.0      0.5        2.76           0.0   \n",
              "1             1         16.0    0.0      0.5        4.00           0.0   \n",
              "2             1          6.5    0.0      0.5        1.45           0.0   \n",
              "3             1         20.5    0.0      0.5        6.39           0.0   \n",
              "4             2         16.5    0.5      0.5        0.00           0.0   \n",
              "5             1          9.0    0.5      0.5        2.06           0.0   \n",
              "6             1         47.5    1.0      0.5        9.86           0.0   \n",
              "7             1         16.0    1.0      0.5        1.78           0.0   \n",
              "8             2          9.0    0.0      0.5        0.00           0.0   \n",
              "9             1         13.0    0.0      0.5        2.75           0.0   \n",
              "\n",
              "   improvement_surcharge  total_amount     month        day   trip_duration  \n",
              "0                    0.3         16.56     March   Saturday 0 days 00:14:04  \n",
              "1                    0.3         20.80     April    Tuesday 0 days 00:26:30  \n",
              "2                    0.3          8.75  December     Friday 0 days 00:07:12  \n",
              "3                    0.3         27.69       May     Sunday 0 days 00:30:15  \n",
              "4                    0.3         17.80     April   Saturday 0 days 00:16:43  \n",
              "5                    0.3         12.36     March   Saturday 0 days 00:08:00  \n",
              "6                    0.3         59.16       May  Wednesday 0 days 00:59:38  \n",
              "7                    0.3         19.58    August    Tuesday 0 days 00:21:59  \n",
              "8                    0.3          9.80  February   Saturday 0 days 00:12:07  \n",
              "9                    0.3         16.55  November     Friday 0 days 00:20:26  "
            ]
          },
          "execution_count": 43,
          "metadata": {},
          "output_type": "execute_result"
        }
      ],
      "source": [
        "df.head(10)"
      ]
    },
    {
      "cell_type": "markdown",
      "metadata": {
        "id": "U4HeITeOwXfo"
      },
      "source": [
        "### Task 4b. Conclusion\n",
        "*Make it professional and presentable*\n",
        "\n",
        "we have visualized the data we need to share with the director now. Remember, the goal of a data visualization is for an audience member to glean the information on the chart in mere seconds.\n",
        "\n",
        "*Questions to ask yourself for reflection:*\n",
        "Why is it important to conduct Exploratory Data Analysis? Why are the data visualizations provided in this notebook useful?\n"
      ]
    },
    {
      "cell_type": "markdown",
      "metadata": {
        "id": "5o3dV6NYzNSs"
      },
      "source": [
        "**Exemplar response:**\n",
        "\n",
        "EDA is important because ...\n",
        "\n",
        "* *EDA helps a data professional to get to know the data, understand its outliers, clean its missing values, and prepare it for future modeling.*\n",
        "\n",
        "Visualizations helped me understand ..\n",
        "\n",
        "* *That this dataset has some outliers that we will need to make decisions on prior to designing a model.*\n"
      ]
    }
  ],
  "metadata": {
    "colab": {
      "provenance": [],
      "include_colab_link": true
    },
    "kernelspec": {
      "display_name": "Python 3 (ipykernel)",
      "language": "python",
      "name": "python3"
    },
    "language_info": {
      "codemirror_mode": {
        "name": "ipython",
        "version": 3
      },
      "file_extension": ".py",
      "mimetype": "text/x-python",
      "name": "python",
      "nbconvert_exporter": "python",
      "pygments_lexer": "ipython3",
      "version": "3.9.13"
    }
  },
  "nbformat": 4,
  "nbformat_minor": 0
}