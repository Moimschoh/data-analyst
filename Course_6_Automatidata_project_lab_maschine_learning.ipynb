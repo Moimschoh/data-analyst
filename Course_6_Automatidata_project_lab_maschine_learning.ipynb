{
  "cells": [
    {
      "cell_type": "markdown",
      "metadata": {
        "id": "view-in-github",
        "colab_type": "text"
      },
      "source": [
        "<a href=\"https://colab.research.google.com/github/Moimschoh/data-analyst/blob/main/Course_6_Automatidata_project_lab_maschine_learning.ipynb\" target=\"_parent\"><img src=\"https://colab.research.google.com/assets/colab-badge.svg\" alt=\"Open In Colab\"/></a>"
      ]
    },
    {
      "cell_type": "markdown",
      "metadata": {
        "id": "DtNBZFHO3M7n"
      },
      "source": [
        "# **Automatidata project**\n",
        "** The nuts and bolts of machine learning**"
      ]
    },
    {
      "cell_type": "markdown",
      "metadata": {
        "id": "9ttxbfHXzB4e"
      },
      "source": [
        "As a data professional in a data consulting firm called Automatidata. Their client, the New York City Taxi & Limousine Commission (New York City TLC), has requested that you build a machine learning model to predict if a customer will not leave a tip. They want to use the model in an app that will alert taxi drivers to customers who are unlikely to tip, since drivers depend on tips.\n",
        "\n"
      ]
    },
    {
      "cell_type": "markdown",
      "metadata": {
        "id": "rgSbVJvomcVa"
      },
      "source": [
        "# Build a machine learning model\n",
        "\n",
        "In this activity, we will practice using tree-based modeling techniques to predict on a binary target class.  \n",
        "<br/>   \n",
        "\n",
        "**The purpose** of this model is to find ways to generate more revenue for taxi cab drivers.  \n",
        "  \n",
        "**The goal** of this model is to predict whether or not a customer is a generous tipper.  \n",
        "<br/>  \n",
        "\n",
        "*This activity has three parts:*\n",
        "\n",
        "**Part 1:** Ethical considerations\n",
        "* Consider the ethical implications of the request\n",
        "\n",
        "* Should the objective of the model be adjusted?\n",
        "\n",
        "**Part 2:** Feature engineering\n",
        "\n",
        "* Perform feature selection, extraction, and transformation to prepare the data for modeling\n",
        "\n",
        "**Part 3:** Modeling\n",
        "\n",
        "* Build the models, evaluate them, and advise on next steps\n",
        "\n",
        "\n",
        "\n"
      ]
    },
    {
      "cell_type": "markdown",
      "metadata": {
        "id": "gowjhy0PDOkD"
      },
      "source": [
        "# Build a machine learning model"
      ]
    },
    {
      "cell_type": "markdown",
      "metadata": {
        "id": "NzDjfCSLf6Jq"
      },
      "source": [
        "<img src=\"images/Pace.png\" width=\"100\" height=\"100\" align=left>\n",
        "\n",
        "# **PACE stages**\n"
      ]
    },
    {
      "cell_type": "markdown",
      "metadata": {
        "id": "bZBgQbovDOkE"
      },
      "source": [
        "Throughout these project notebooks, we'll see references to the problem-solving framework PACE. The following notebook components are labeled with the respective PACE stage: Plan, Analyze, Construct, and Execute."
      ]
    },
    {
      "cell_type": "markdown",
      "metadata": {
        "id": "E5g1A74r0ow_"
      },
      "source": [
        "<img src=\"images/Plan.png\" width=\"100\" height=\"100\" align=left>\n",
        "\n",
        "\n",
        "## PACE: Plan\n",
        "\n",
        "Consider the questions in your PACE Strategy Document to reflect on the Plan stage.\n",
        "\n",
        "In this stage, consider the following questions:\n",
        "\n",
        "1.   What are you being asked to do?\n",
        "\n",
        "\n",
        "2.   What are the ethical implications of the model? What are the consequences of our model making errors?\n",
        "  *   What is the likely effect of the model when it predicts a false negative (i.e., when the model says a customer will give a tip, but they actually won't)?\n",
        "  \n",
        "  *   What is the likely effect of the model when it predicts a false positive (i.e., when the model says a customer will not give a tip, but they actually will)?  \n",
        "  \n",
        "  \n",
        "3.   Do the benefits of such a model outweigh the potential problems?\n",
        "  \n",
        "4.   Would you proceed with the request to build this model? Why or why not?\n",
        "\n",
        "5.   Can the objective be modified to make it less problematic?\n",
        "\n",
        "**Exemplar responses:**\n",
        "\n",
        "**Question 1:**\n",
        "\n",
        "Predict if a customer will **not** leave a tip.\n",
        "\n",
        "**Question 2:**\n",
        "\n",
        "Drivers who didn't receive tips will probably be upset that the app told them a customer would leave a tip. If it happened often, drivers might not trust the app.\n",
        "Drivers are unlikely to pick up people who are predicted to not leave tips. Customers will have difficulty finding a taxi that will pick them up, and might get angry at the taxi company. Even when the model is correct, people who can't afford to tip will find it more difficult to get taxis, which limits the accessibility of taxi service to those who pay extra.\n",
        "\n",
        "**Question 3:**\n",
        "\n",
        "It's not good to disincentivize drivers from picking up customers. It could also cause a customer backlash. The problems seem to outweigh the benefits.\n",
        "\n",
        "**Question 4:**\n",
        "\n",
        "No. Effectively limiting equal access to taxis is ethically problematic, and carries a lot of risk.\n",
        "\n",
        "**Question 5:**\n",
        "\n",
        "We can build a model that predicts the most generous customers. This could accomplish the goal of helping taxi drivers increase their earnings from tips while preventing the wrongful exclusion of certain people from using taxis."
      ]
    },
    {
      "cell_type": "markdown",
      "metadata": {
        "id": "GUUrVKTe4cc5"
      },
      "source": [
        "Suppose we were to modify the modeling objective so, instead of predicting people who won't tip at all, you predicted people who are particularly generous&mdash;those who will tip 20% or more? Consider the following questions:\n",
        "\n",
        "**Exemplar responses:**\n",
        "\n",
        "**Question 1:**  What features do we need to make this prediction?\n",
        "\n",
        "Ideally, we'd have behavioral history for each customer, so we could know how much they tipped on previous taxi rides. We'd also want times, dates, and locations of both pickups and dropoffs, estimated fares, and payment method.\n",
        "\n",
        "**Question 2:**  What would be the target variable?\n",
        "\n",
        "\n",
        "The target variable would be a binary variable (1 or 0) that indicates whether or not the customer is expected to tip ≥ 20%.\n",
        "\n",
        "**Question 3:**  \n",
        "\n",
        "This is a supervised learning, classification task. We could use accuracy, precision, recall, F-score, area under the ROC curve, or a number of other metrics. However, we don't have enough information at this time to know which are most appropriate. We need to know the class balance of the target variable."
      ]
    },
    {
      "cell_type": "markdown",
      "metadata": {
        "id": "dDn0Oo9FDOkG"
      },
      "source": [
        "\n",
        "**_Complete the following steps to begin:_**"
      ]
    },
    {
      "cell_type": "markdown",
      "metadata": {
        "id": "e8Vm3QEfGELS"
      },
      "source": [
        "### **Task 1. Imports and data loading**\n",
        "\n",
        "Import packages and libraries needed to build and evaluate random forest and XGBoost classification models."
      ]
    },
    {
      "cell_type": "code",
      "execution_count": null,
      "metadata": {
        "id": "dQZ7P6LLDOkH",
        "outputId": "73ee6fd0-76b5-4a49-e7f6-3bd25db51e95"
      },
      "outputs": [
        {
          "name": "stdout",
          "output_type": "stream",
          "text": [
            "Retrieving notices: ...working... done\n",
            "Collecting package metadata (current_repodata.json): ...working... done\n",
            "Solving environment: ...working... done\n",
            "\n",
            "## Package Plan ##\n",
            "\n",
            "  environment location: C:\\Users\\1111\n",
            "\n",
            "  added / updated specs:\n",
            "    - xgboost\n",
            "\n",
            "\n",
            "The following packages will be downloaded:\n",
            "\n",
            "    package                    |            build\n",
            "    ---------------------------|-----------------\n",
            "    _py-xgboost-mutex-2.0      |            cpu_0          11 KB  conda-forge\n",
            "    attrs-23.2.0               |     pyh71513ae_0          53 KB  conda-forge\n",
            "    ca-certificates-2024.7.4   |       h56e8100_0         151 KB  conda-forge\n",
            "    certifi-2024.7.4           |     pyhd8ed1ab_0         156 KB  conda-forge\n",
            "    libxgboost-2.0.3           |   cpu_hb3f76d0_4         1.3 MB  conda-forge\n",
            "    openssl-1.1.1w             |       hcfcfb64_0         5.0 MB  conda-forge\n",
            "    py-xgboost-2.0.3           | cpu_pyh995e691_4         130 KB  conda-forge\n",
            "    sniffio-1.3.1              |     pyhd8ed1ab_0          15 KB  conda-forge\n",
            "    typing-extensions-4.12.2   |       hd8ed1ab_0          10 KB  conda-forge\n",
            "    typing_extensions-4.12.2   |     pyha770c72_0          39 KB  conda-forge\n",
            "    xgboost-2.0.3              | cpu_pyhb8f9a19_4          16 KB  conda-forge\n",
            "    ------------------------------------------------------------\n",
            "                                           Total:         6.9 MB\n",
            "\n",
            "The following NEW packages will be INSTALLED:\n",
            "\n",
            "  _py-xgboost-mutex  conda-forge/win-64::_py-xgboost-mutex-2.0-cpu_0 \n",
            "  attrs              conda-forge/noarch::attrs-23.2.0-pyh71513ae_0 \n",
            "  libxgboost         conda-forge/win-64::libxgboost-2.0.3-cpu_hb3f76d0_4 \n",
            "  py-xgboost         conda-forge/noarch::py-xgboost-2.0.3-cpu_pyh995e691_4 \n",
            "  sniffio            conda-forge/noarch::sniffio-1.3.1-pyhd8ed1ab_0 \n",
            "  typing_extensions  conda-forge/noarch::typing_extensions-4.12.2-pyha770c72_0 \n",
            "  xgboost            conda-forge/noarch::xgboost-2.0.3-cpu_pyhb8f9a19_4 \n",
            "\n",
            "The following packages will be UPDATED:\n",
            "\n",
            "  ca-certificates                       2023.5.7-h56e8100_0 --> 2024.7.4-h56e8100_0 \n",
            "  certifi                             2023.5.7-pyhd8ed1ab_0 --> 2024.7.4-pyhd8ed1ab_0 \n",
            "  openssl                                 1.1.1t-hcfcfb64_0 --> 1.1.1w-hcfcfb64_0 \n",
            "  typing-extensions  pkgs/main/win-64::typing-extensions-4~ --> conda-forge/noarch::typing-extensions-4.12.2-hd8ed1ab_0 \n",
            "\n",
            "\n",
            "\n",
            "Downloading and Extracting Packages\n",
            "\n",
            "_py-xgboost-mutex-2. | 11 KB     |            |   0% \n",
            "\n",
            "sniffio-1.3.1        | 15 KB     |            |   0% \u001b[A\n",
            "\n",
            "\n",
            "xgboost-2.0.3        | 16 KB     |            |   0% \u001b[A\u001b[A\n",
            "\n",
            "\n",
            "\n",
            "libxgboost-2.0.3     | 1.3 MB    |            |   0% \u001b[A\u001b[A\u001b[A\n",
            "\n",
            "\n",
            "\n",
            "\n",
            "py-xgboost-2.0.3     | 130 KB    |            |   0% \u001b[A\u001b[A\u001b[A\u001b[A\n",
            "\n",
            "\n",
            "\n",
            "\n",
            "\n",
            "openssl-1.1.1w       | 5.0 MB    |            |   0% \u001b[A\u001b[A\u001b[A\u001b[A\u001b[A\n",
            "\n",
            "\n",
            "\n",
            "\n",
            "\n",
            "\n",
            "typing_extensions-4. | 39 KB     |            |   0% \u001b[A\u001b[A\u001b[A\u001b[A\u001b[A\u001b[A\n",
            "\n",
            "\n",
            "\n",
            "\n",
            "\n",
            "\n",
            "\n",
            "typing-extensions-4. | 10 KB     |            |   0% \u001b[A\u001b[A\u001b[A\u001b[A\u001b[A\u001b[A\u001b[A\n",
            "\n",
            "\n",
            "\n",
            "\n",
            "\n",
            "\n",
            "\n",
            "\n",
            "attrs-23.2.0         | 53 KB     |            |   0% \u001b[A\u001b[A\u001b[A\u001b[A\u001b[A\u001b[A\u001b[A\u001b[A\n",
            "\n",
            "\n",
            "\n",
            "\n",
            "\n",
            "\n",
            "\n",
            "\n",
            "\n",
            "ca-certificates-2024 | 151 KB    |            |   0% \u001b[A\u001b[A\u001b[A\u001b[A\u001b[A\u001b[A\u001b[A\u001b[A\u001b[A\n",
            "\n",
            "\n",
            "\n",
            "\n",
            "\n",
            "\n",
            "\n",
            "\n",
            "\n",
            "\n",
            "certifi-2024.7.4     | 156 KB    |            |   0% \u001b[A\u001b[A\u001b[A\u001b[A\u001b[A\u001b[A\u001b[A\u001b[A\u001b[A\u001b[A\n",
            "\n",
            "\n",
            "\n",
            "\n",
            "py-xgboost-2.0.3     | 130 KB    | #2         |  12% \u001b[A\u001b[A\u001b[A\u001b[A\n",
            "\n",
            "\n",
            "xgboost-2.0.3        | 16 KB     | ########## | 100% \u001b[A\u001b[A\n",
            "\n",
            "\n",
            "\n",
            "\n",
            "py-xgboost-2.0.3     | 130 KB    | ########6  |  86% \u001b[A\u001b[A\u001b[A\u001b[A\n",
            "\n",
            "sniffio-1.3.1        | 15 KB     | ########## | 100% \u001b[A\n",
            "_py-xgboost-mutex-2. | 11 KB     | ########## | 100% \n",
            "\n",
            "\n",
            "\n",
            "libxgboost-2.0.3     | 1.3 MB    | 1          |   1% \u001b[A\u001b[A\u001b[A\n",
            "\n",
            "\n",
            "xgboost-2.0.3        | 16 KB     | ########## | 100% \u001b[A\u001b[A\n",
            "\n",
            "\n",
            "\n",
            "libxgboost-2.0.3     | 1.3 MB    | 5          |   6% \u001b[A\u001b[A\u001b[A\n",
            "\n",
            "sniffio-1.3.1        | 15 KB     | ########## | 100% \u001b[A\n",
            "\n",
            "\n",
            "\n",
            "\n",
            "\n",
            "openssl-1.1.1w       | 5.0 MB    |            |   0% \u001b[A\u001b[A\u001b[A\u001b[A\u001b[A\n",
            "_py-xgboost-mutex-2. | 11 KB     | ########## | 100% \n",
            "\n",
            "\n",
            "\n",
            "\n",
            "\n",
            "openssl-1.1.1w       | 5.0 MB    | 1          |   1% \u001b[A\u001b[A\u001b[A\u001b[A\u001b[A\n",
            "\n",
            "\n",
            "\n",
            "\n",
            "\n",
            "openssl-1.1.1w       | 5.0 MB    | 2          |   2% \u001b[A\u001b[A\u001b[A\u001b[A\u001b[A\n",
            "\n",
            "\n",
            "\n",
            "libxgboost-2.0.3     | 1.3 MB    | 9          |   9% \u001b[A\u001b[A\u001b[A\n",
            "\n",
            "\n",
            "\n",
            "\n",
            "\n",
            "\n",
            "\n",
            "typing-extensions-4. | 10 KB     | ########## | 100% \u001b[A\u001b[A\u001b[A\u001b[A\u001b[A\u001b[A\u001b[A\n",
            "\n",
            "\n",
            "\n",
            "\n",
            "\n",
            "\n",
            "typing_extensions-4. | 39 KB     | ####1      |  41% \u001b[A\u001b[A\u001b[A\u001b[A\u001b[A\u001b[A\n",
            "\n",
            "\n",
            "\n",
            "\n",
            "py-xgboost-2.0.3     | 130 KB    | ########## | 100% \u001b[A\u001b[A\u001b[A\u001b[A\n",
            "\n",
            "\n",
            "\n",
            "libxgboost-2.0.3     | 1.3 MB    | #7         |  18% \u001b[A\u001b[A\u001b[A\n",
            "\n",
            "\n",
            "\n",
            "\n",
            "\n",
            "\n",
            "\n",
            "typing-extensions-4. | 10 KB     | ########## | 100% \u001b[A\u001b[A\u001b[A\u001b[A\u001b[A\u001b[A\u001b[A\n",
            "\n",
            "\n",
            "\n",
            "libxgboost-2.0.3     | 1.3 MB    | ##2        |  22% \u001b[A\u001b[A\u001b[A\n",
            "\n",
            "\n",
            "\n",
            "\n",
            "\n",
            "\n",
            "typing_extensions-4. | 39 KB     | ########## | 100% \u001b[A\u001b[A\u001b[A\u001b[A\u001b[A\u001b[A\n",
            "\n",
            "\n",
            "\n",
            "\n",
            "\n",
            "\n",
            "typing_extensions-4. | 39 KB     | ########## | 100% \u001b[A\u001b[A\u001b[A\u001b[A\u001b[A\u001b[A\n",
            "\n",
            "\n",
            "\n",
            "\n",
            "\n",
            "openssl-1.1.1w       | 5.0 MB    | 3          |   3% \u001b[A\u001b[A\u001b[A\u001b[A\u001b[A\n",
            "\n",
            "\n",
            "\n",
            "\n",
            "\n",
            "\n",
            "\n",
            "\n",
            "attrs-23.2.0         | 53 KB     | ###        |  30% \u001b[A\u001b[A\u001b[A\u001b[A\u001b[A\u001b[A\u001b[A\u001b[A\n",
            "\n",
            "\n",
            "\n",
            "\n",
            "\n",
            "openssl-1.1.1w       | 5.0 MB    | 4          |   5% \u001b[A\u001b[A\u001b[A\u001b[A\u001b[A\n",
            "\n",
            "\n",
            "\n",
            "\n",
            "\n",
            "openssl-1.1.1w       | 5.0 MB    | 5          |   6% \u001b[A\u001b[A\u001b[A\u001b[A\u001b[A\n",
            "\n",
            "\n",
            "\n",
            "\n",
            "\n",
            "\n",
            "\n",
            "\n",
            "attrs-23.2.0         | 53 KB     | ########## | 100% \u001b[A\u001b[A\u001b[A\u001b[A\u001b[A\u001b[A\u001b[A\u001b[A\n",
            "\n",
            "\n",
            "\n",
            "\n",
            "\n",
            "\n",
            "\n",
            "\n",
            "attrs-23.2.0         | 53 KB     | ########## | 100% \u001b[A\u001b[A\u001b[A\u001b[A\u001b[A\u001b[A\u001b[A\u001b[A\n",
            "\n",
            "\n",
            "\n",
            "libxgboost-2.0.3     | 1.3 MB    | ##8        |  28% \u001b[A\u001b[A\u001b[A\n",
            "\n",
            "\n",
            "\n",
            "\n",
            "\n",
            "\n",
            "\n",
            "\n",
            "\n",
            "\n",
            "certifi-2024.7.4     | 156 KB    | #          |  10% \u001b[A\u001b[A\u001b[A\u001b[A\u001b[A\u001b[A\u001b[A\u001b[A\u001b[A\u001b[A\n",
            "\n",
            "\n",
            "\n",
            "\n",
            "\n",
            "openssl-1.1.1w       | 5.0 MB    | 7          |   7% \u001b[A\u001b[A\u001b[A\u001b[A\u001b[A\n",
            "\n",
            "\n",
            "\n",
            "libxgboost-2.0.3     | 1.3 MB    | ###7       |  37% \u001b[A\u001b[A\u001b[A\n",
            "\n",
            "\n",
            "\n",
            "\n",
            "\n",
            "\n",
            "\n",
            "\n",
            "\n",
            "ca-certificates-2024 | 151 KB    | #          |  11% \u001b[A\u001b[A\u001b[A\u001b[A\u001b[A\u001b[A\u001b[A\u001b[A\u001b[A\n",
            "\n",
            "\n",
            "\n",
            "libxgboost-2.0.3     | 1.3 MB    | ####3      |  43% \u001b[A\u001b[A\u001b[A\n",
            "\n",
            "\n",
            "\n",
            "\n",
            "\n",
            "openssl-1.1.1w       | 5.0 MB    | 8          |   8% \u001b[A\u001b[A\u001b[A\u001b[A\u001b[A\n",
            "\n",
            "\n",
            "\n",
            "\n",
            "\n",
            "openssl-1.1.1w       | 5.0 MB    | #1         |  11% \u001b[A\u001b[A\u001b[A\u001b[A\u001b[A\n",
            "\n",
            "\n",
            "\n",
            "libxgboost-2.0.3     | 1.3 MB    | ####8      |  48% \u001b[A\u001b[A\u001b[A\n",
            "\n",
            "\n",
            "\n",
            "libxgboost-2.0.3     | 1.3 MB    | #####5     |  55% \u001b[A\u001b[A\u001b[A\n",
            "\n",
            "\n",
            "\n",
            "\n",
            "\n",
            "\n",
            "\n",
            "\n",
            "\n",
            "\n",
            "certifi-2024.7.4     | 156 KB    | ########2  |  82% \u001b[A\u001b[A\u001b[A\u001b[A\u001b[A\u001b[A\u001b[A\u001b[A\u001b[A\u001b[A\n",
            "\n",
            "\n",
            "\n",
            "libxgboost-2.0.3     | 1.3 MB    | #####9     |  60% \u001b[A\u001b[A\u001b[A\n",
            "\n",
            "\n",
            "\n",
            "\n",
            "\n",
            "\n",
            "\n",
            "\n",
            "\n",
            "ca-certificates-2024 | 151 KB    | ########4  |  85% \u001b[A\u001b[A\u001b[A\u001b[A\u001b[A\u001b[A\u001b[A\u001b[A\u001b[A\n",
            "\n",
            "\n",
            "\n",
            "\n",
            "\n",
            "\n",
            "\n",
            "\n",
            "\n",
            "\n",
            "certifi-2024.7.4     | 156 KB    | ########## | 100% \u001b[A\u001b[A\u001b[A\u001b[A\u001b[A\u001b[A\u001b[A\u001b[A\u001b[A\u001b[A\n",
            "\n",
            "\n",
            "\n",
            "\n",
            "\n",
            "\n",
            "\n",
            "\n",
            "\n",
            "\n",
            "certifi-2024.7.4     | 156 KB    | ########## | 100% \u001b[A\u001b[A\u001b[A\u001b[A\u001b[A\u001b[A\u001b[A\u001b[A\u001b[A\u001b[A\n",
            "\n",
            "\n",
            "\n",
            "\n",
            "\n",
            "openssl-1.1.1w       | 5.0 MB    | #2         |  13% \u001b[A\u001b[A\u001b[A\u001b[A\u001b[A\n",
            "\n",
            "\n",
            "\n",
            "libxgboost-2.0.3     | 1.3 MB    | ######4    |  64% \u001b[A\u001b[A\u001b[A\n",
            "\n",
            "\n",
            "\n",
            "\n",
            "\n",
            "\n",
            "\n",
            "\n",
            "\n",
            "ca-certificates-2024 | 151 KB    | ########## | 100% \u001b[A\u001b[A\u001b[A\u001b[A\u001b[A\u001b[A\u001b[A\u001b[A\u001b[A\n",
            "\n",
            "\n",
            "\n",
            "\n",
            "\n",
            "\n",
            "\n",
            "\n",
            "\n",
            "ca-certificates-2024 | 151 KB    | ########## | 100% \u001b[A\u001b[A\u001b[A\u001b[A\u001b[A\u001b[A\u001b[A\u001b[A\u001b[A\n",
            "\n",
            "\n",
            "\n",
            "\n",
            "\n",
            "openssl-1.1.1w       | 5.0 MB    | #6         |  17% \u001b[A\u001b[A\u001b[A\u001b[A\u001b[A\n",
            "\n",
            "\n",
            "\n",
            "libxgboost-2.0.3     | 1.3 MB    | ######9    |  69% \u001b[A\u001b[A\u001b[A\n",
            "\n",
            "\n",
            "\n",
            "libxgboost-2.0.3     | 1.3 MB    | #######9   |  80% \u001b[A\u001b[A\u001b[A\n",
            "\n",
            "\n",
            "\n",
            "\n",
            "\n",
            "openssl-1.1.1w       | 5.0 MB    | #8         |  19% \u001b[A\u001b[A\u001b[A\u001b[A\u001b[A\n",
            "\n",
            "\n",
            "\n",
            "libxgboost-2.0.3     | 1.3 MB    | ########4  |  84% \u001b[A\u001b[A\u001b[A\n",
            "\n",
            "\n",
            "\n",
            "\n",
            "\n",
            "openssl-1.1.1w       | 5.0 MB    | ##1        |  22% \u001b[A\u001b[A\u001b[A\u001b[A\u001b[A\n",
            "\n",
            "\n",
            "\n",
            "libxgboost-2.0.3     | 1.3 MB    | #########4 |  95% \u001b[A\u001b[A\u001b[A\n",
            "\n",
            "\n",
            "\n",
            "\n",
            "\n",
            "openssl-1.1.1w       | 5.0 MB    | ##3        |  24% \u001b[A\u001b[A\u001b[A\u001b[A\u001b[A\n",
            "\n",
            "\n",
            "\n",
            "\n",
            "\n",
            "openssl-1.1.1w       | 5.0 MB    | ##6        |  26% \u001b[A\u001b[A\u001b[A\u001b[A\u001b[A\n",
            "\n",
            "\n",
            "\n",
            "libxgboost-2.0.3     | 1.3 MB    | ########## | 100% \u001b[A\u001b[A\u001b[A\n",
            "\n",
            "\n",
            "\n",
            "\n",
            "\n",
            "openssl-1.1.1w       | 5.0 MB    | ##8        |  29% \u001b[A\u001b[A\u001b[A\u001b[A\u001b[A\n",
            "\n",
            "\n",
            "\n",
            "\n",
            "\n",
            "openssl-1.1.1w       | 5.0 MB    | ###1       |  31% \u001b[A\u001b[A\u001b[A\u001b[A\u001b[A\n",
            "\n",
            "\n",
            "\n",
            "\n",
            "\n",
            "openssl-1.1.1w       | 5.0 MB    | ###3       |  34% \u001b[A\u001b[A\u001b[A\u001b[A\u001b[A\n",
            "\n",
            "\n",
            "\n",
            "\n",
            "\n",
            "openssl-1.1.1w       | 5.0 MB    | ###5       |  36% \u001b[A\u001b[A\u001b[A\u001b[A\u001b[A\n",
            "\n",
            "\n",
            "\n",
            "\n",
            "\n",
            "openssl-1.1.1w       | 5.0 MB    | ###9       |  39% \u001b[A\u001b[A\u001b[A\u001b[A\u001b[A\n",
            "\n",
            "\n",
            "\n",
            "\n",
            "\n",
            "openssl-1.1.1w       | 5.0 MB    | ####3      |  43% \u001b[A\u001b[A\u001b[A\u001b[A\u001b[A\n",
            "\n",
            "\n",
            "\n",
            "\n",
            "\n",
            "openssl-1.1.1w       | 5.0 MB    | ####6      |  46% \u001b[A\u001b[A\u001b[A\u001b[A\u001b[A\n",
            "\n",
            "\n",
            "\n",
            "\n",
            "\n",
            "openssl-1.1.1w       | 5.0 MB    | #####      |  51% \u001b[A\u001b[A\u001b[A\u001b[A\u001b[A\n",
            "\n",
            "\n",
            "\n",
            "\n",
            "\n",
            "openssl-1.1.1w       | 5.0 MB    | #####3     |  54% \u001b[A\u001b[A\u001b[A\u001b[A\u001b[A\n",
            "\n",
            "\n",
            "\n",
            "\n",
            "\n",
            "openssl-1.1.1w       | 5.0 MB    | #####6     |  57% \u001b[A\u001b[A\u001b[A\u001b[A\u001b[A\n",
            "\n",
            "\n",
            "\n",
            "\n",
            "\n",
            "openssl-1.1.1w       | 5.0 MB    | ######1    |  61% \u001b[A\u001b[A\u001b[A\u001b[A\u001b[A\n",
            "\n",
            "\n",
            "\n",
            "\n",
            "\n",
            "openssl-1.1.1w       | 5.0 MB    | ######4    |  65% \u001b[A\u001b[A\u001b[A\u001b[A\u001b[A\n",
            "\n",
            "\n",
            "\n",
            "\n",
            "\n",
            "openssl-1.1.1w       | 5.0 MB    | ######7    |  68% \u001b[A\u001b[A\u001b[A\u001b[A\u001b[A\n",
            "\n",
            "\n",
            "\n",
            "\n",
            "\n",
            "openssl-1.1.1w       | 5.0 MB    | #######    |  71% \u001b[A\u001b[A\u001b[A\u001b[A\u001b[A\n",
            "\n",
            "\n",
            "\n",
            "\n",
            "\n",
            "openssl-1.1.1w       | 5.0 MB    | #######4   |  74% \u001b[A\u001b[A\u001b[A\u001b[A\u001b[A\n",
            "\n",
            "\n",
            "\n",
            "\n",
            "\n",
            "openssl-1.1.1w       | 5.0 MB    | #######7   |  77% \u001b[A\u001b[A\u001b[A\u001b[A\u001b[A\n",
            "\n",
            "\n",
            "\n",
            "\n",
            "\n",
            "openssl-1.1.1w       | 5.0 MB    | ########   |  81% \u001b[A\u001b[A\u001b[A\u001b[A\u001b[A\n",
            "\n",
            "\n",
            "\n",
            "\n",
            "\n",
            "openssl-1.1.1w       | 5.0 MB    | ########4  |  85% \u001b[A\u001b[A\u001b[A\u001b[A\u001b[A\n",
            "\n",
            "\n",
            "\n",
            "\n",
            "\n",
            "openssl-1.1.1w       | 5.0 MB    | ########8  |  89% \u001b[A\u001b[A\u001b[A\u001b[A\u001b[A\n",
            "\n",
            "\n",
            "\n",
            "\n",
            "\n",
            "openssl-1.1.1w       | 5.0 MB    | #########2 |  92% \u001b[A\u001b[A\u001b[A\u001b[A\u001b[A\n",
            "\n",
            "\n",
            "\n",
            "\n",
            "\n",
            "openssl-1.1.1w       | 5.0 MB    | #########5 |  95% \u001b[A\u001b[A\u001b[A\u001b[A\u001b[A\n",
            "\n",
            "\n",
            "\n",
            "\n",
            "\n",
            "openssl-1.1.1w       | 5.0 MB    | #########8 |  99% \u001b[A\u001b[A\u001b[A\u001b[A\u001b[A\n",
            "\n",
            "\n",
            "\n",
            "\n",
            "\n",
            "openssl-1.1.1w       | 5.0 MB    | ########## | 100% \u001b[A\u001b[A\u001b[A\u001b[A\u001b[A\n",
            "                                                     \n",
            "\n",
            "\n",
            "                                                     \u001b[A\n",
            "\n",
            "\n",
            "                                                     \u001b[A\u001b[A\n",
            "\n",
            "\n",
            "\n",
            "                                                     \u001b[A\u001b[A\u001b[A\n",
            "\n",
            "\n",
            "\n",
            "\n",
            "                                                     \u001b[A\u001b[A\u001b[A\u001b[A\n",
            "\n",
            "\n",
            "\n",
            "\n",
            "\n",
            "                                                     \u001b[A\u001b[A\u001b[A\u001b[A\u001b[A\n",
            "\n",
            "\n",
            "\n",
            "\n",
            "\n",
            "\n",
            "                                                     \u001b[A\u001b[A\u001b[A\u001b[A\u001b[A\u001b[A\n",
            "\n",
            "\n",
            "\n",
            "\n",
            "\n",
            "\n",
            "\n",
            "                                                     \u001b[A\u001b[A\u001b[A\u001b[A\u001b[A\u001b[A\u001b[A\n",
            "\n",
            "\n",
            "\n",
            "\n",
            "\n",
            "\n",
            "\n",
            "\n",
            "                                                     \u001b[A\u001b[A\u001b[A\u001b[A\u001b[A\u001b[A\u001b[A\u001b[A\n",
            "\n",
            "\n",
            "\n",
            "\n",
            "\n",
            "\n",
            "\n",
            "\n",
            "\n",
            "                                                     \u001b[A\u001b[A\u001b[A\u001b[A\u001b[A\u001b[A\u001b[A\u001b[A\u001b[A\n",
            "\n",
            "\n",
            "\n",
            "\n",
            "\n",
            "\n",
            "\n",
            "\n",
            "\n",
            "\n",
            "                                                     \u001b[A\u001b[A\u001b[A\u001b[A\u001b[A\u001b[A\u001b[A\u001b[A\u001b[A\u001b[A\n",
            "\n",
            "Preparing transaction: ...working... done\n",
            "Verifying transaction: ...working... done\n",
            "Executing transaction: ...working... done\n",
            "\n",
            "Note: you may need to restart the kernel to use updated packages.\n"
          ]
        },
        {
          "name": "stderr",
          "output_type": "stream",
          "text": [
            "\n",
            "The environment is inconsistent, please check the package plan carefully\n",
            "The following packages are causing the inconsistency:\n",
            "\n",
            "  - defaults/win-64::anaconda-client==1.11.0=py39haa95532_0\n",
            "  - defaults/win-64::anaconda==custom=py39_1\n",
            "  - defaults/win-64::anaconda-navigator==2.3.2=py39haa95532_0\n",
            "  - defaults/win-64::anaconda-project==0.11.1=py39haa95532_0\n",
            "  - defaults/win-64::anyio==3.5.0=py39haa95532_0\n",
            "  - defaults/noarch::argon2-cffi==21.3.0=pyhd3eb1b0_0\n",
            "  - defaults/noarch::arrow==1.2.2=pyhd3eb1b0_0\n",
            "  - defaults/win-64::astroid==2.11.7=py39haa95532_0\n",
            "  - defaults/noarch::automat==20.2.0=py_0\n",
            "  - defaults/win-64::black==22.6.0=py39haa95532_0\n",
            "  - defaults/win-64::bokeh==2.4.3=py39haa95532_0\n",
            "  - defaults/win-64::conda-repo-cli==1.0.20=py39haa95532_0\n",
            "  - defaults/noarch::cookiecutter==1.7.3=pyhd3eb1b0_0\n",
            "  - defaults/win-64::dask==2022.7.0=py39haa95532_0\n",
            "  - defaults/win-64::datashader==0.14.1=py39haa95532_0\n",
            "  - defaults/win-64::holoviews==1.15.0=py39haa95532_0\n",
            "  - conda-forge/noarch::huggingface_hub==0.14.1=pyhd8ed1ab_0\n",
            "  - defaults/win-64::hvplot==0.8.0=py39haa95532_0\n",
            "  - defaults/noarch::intake==0.6.5=pyhd3eb1b0_0\n",
            "  - defaults/noarch::ipywidgets==7.6.5=pyhd3eb1b0_1\n",
            "  - defaults/noarch::jinja2-time==0.2.0=pyhd3eb1b0_3\n",
            "  - defaults/win-64::jsonschema==4.16.0=py39haa95532_0\n",
            "  - defaults/win-64::jupyter==1.0.0=py39haa95532_8\n",
            "  - defaults/win-64::jupyterlab==3.4.4=py39haa95532_0\n",
            "  - defaults/noarch::jupyterlab_server==2.10.3=pyhd3eb1b0_1\n",
            "  - defaults/win-64::jupyter_server==1.18.1=py39haa95532_0\n",
            "  - defaults/noarch::nbclassic==0.3.5=pyhd3eb1b0_0\n",
            "  - defaults/win-64::nbclient==0.5.13=py39haa95532_0\n",
            "  - defaults/win-64::nbconvert==6.4.4=py39haa95532_0\n",
            "  - defaults/win-64::nbformat==5.5.0=py39haa95532_0\n",
            "  - defaults/win-64::notebook==6.4.12=py39haa95532_0\n",
            "  - defaults/win-64::panel==0.13.1=py39haa95532_0\n",
            "  - defaults/win-64::pylint==2.14.5=py39haa95532_0\n",
            "  - defaults/noarch::pyls-spyder==0.4.0=pyhd3eb1b0_0\n",
            "  - defaults/win-64::pytest==7.1.2=py39haa95532_0\n",
            "  - defaults/noarch::python-lsp-black==1.0.0=pyhd3eb1b0_0\n",
            "  - defaults/noarch::python-lsp-server==1.3.3=pyhd3eb1b0_0\n",
            "  - defaults/win-64::pytorch==1.12.1=cpu_py39h5e1f01c_1\n",
            "  - defaults/win-64::scrapy==2.6.2=py39haa95532_0\n",
            "  - defaults/noarch::service_identity==18.1.0=pyhd3eb1b0_1\n",
            "  - defaults/win-64::spyder==5.2.2=py39haa95532_1\n",
            "  - defaults/win-64::transformers==4.24.0=py39haa95532_0\n",
            "  - defaults/win-64::twisted==22.2.0=py39h2bbff1b_1\n",
            "  - defaults/win-64::typing-extensions==4.3.0=py39haa95532_0\n",
            "  - defaults/win-64::widgetsnbextension==3.5.2=py39haa95532_0\n",
            "  - defaults/noarch::xarray==0.20.1=pyhd3eb1b0_1\n",
            "  - defaults/win-64::_anaconda_depends==2023.03=py39_0\n",
            "  - defaults/win-64::_ipyw_jlab_nb_ext_conf==0.1.0=py39haa95532_0\n",
            "\n",
            "\n",
            "==> WARNING: A newer version of conda exists. <==\n",
            "  current version: 22.11.1\n",
            "  latest version: 24.5.0\n",
            "\n",
            "Please update conda by running\n",
            "\n",
            "    $ conda update -n base -c conda-forge conda\n",
            "\n",
            "Or to minimize the number of packages updated during conda update use\n",
            "\n",
            "     conda install conda=24.5.0\n",
            "\n",
            "\n"
          ]
        }
      ],
      "source": [
        "conda install -c conda-forge xgboost"
      ]
    },
    {
      "cell_type": "code",
      "execution_count": null,
      "metadata": {
        "id": "fKhnX2Puf4Bt"
      },
      "outputs": [],
      "source": [
        "import numpy as np\n",
        "import pandas as pd\n",
        "\n",
        "import matplotlib.pyplot as plt\n",
        "\n",
        "from sklearn.model_selection import GridSearchCV, train_test_split\n",
        "from sklearn.metrics import roc_auc_score, roc_curve\n",
        "from sklearn.metrics import accuracy_score, precision_score, recall_score,\\\n",
        "f1_score, confusion_matrix, ConfusionMatrixDisplay, RocCurveDisplay\n",
        "\n",
        "from sklearn.ensemble import RandomForestClassifier\n",
        "from xgboost import XGBClassifier\n",
        "\n",
        "# This is the function that helps plot feature importance\n",
        "from xgboost import plot_importance"
      ]
    },
    {
      "cell_type": "code",
      "execution_count": null,
      "metadata": {
        "id": "WtMcbup7DOkJ"
      },
      "outputs": [],
      "source": [
        "# RUN THIS CELL TO SEE ALL COLUMNS\n",
        "# This lets us see all of the columns, preventing Juptyer from redacting them.\n",
        "pd.set_option('display.max_columns', None)"
      ]
    },
    {
      "cell_type": "markdown",
      "metadata": {
        "id": "IeXTZ2tdbALL"
      },
      "source": [
        "we will begin by reading in the data. There are two dataframes: one containing the original data, the other containing the mean durations, mean distances, and predicted fares from the previous course's project called nyc_preds_means.csv.\n",
        "\n",
        "**Note:** `pandas` reads in the dataset as `df0`, now inspect the first five rows."
      ]
    },
    {
      "cell_type": "code",
      "execution_count": null,
      "metadata": {
        "id": "5weTXGKqa_iG"
      },
      "outputs": [],
      "source": [
        "# Load dataset into dataframe\n",
        "df0 = pd.read_csv('2017_Yellow_Taxi_Trip_Data.csv')\n",
        "\n",
        "# Import predicted fares and mean distance and duration from previous course\n",
        "nyc_preds_means = pd.read_csv('nyc_preds_means.csv')"
      ]
    },
    {
      "cell_type": "markdown",
      "metadata": {
        "id": "WRNgD5TtDOkK"
      },
      "source": [
        "Inspect the first few rows of `df0`."
      ]
    },
    {
      "cell_type": "code",
      "execution_count": null,
      "metadata": {
        "id": "BHK2xe-1DOkK",
        "outputId": "915c5660-4896-49ce-9c05-f2f2b77b90c1"
      },
      "outputs": [
        {
          "data": {
            "text/html": [
              "<div>\n",
              "<style scoped>\n",
              "    .dataframe tbody tr th:only-of-type {\n",
              "        vertical-align: middle;\n",
              "    }\n",
              "\n",
              "    .dataframe tbody tr th {\n",
              "        vertical-align: top;\n",
              "    }\n",
              "\n",
              "    .dataframe thead th {\n",
              "        text-align: right;\n",
              "    }\n",
              "</style>\n",
              "<table border=\"1\" class=\"dataframe\">\n",
              "  <thead>\n",
              "    <tr style=\"text-align: right;\">\n",
              "      <th></th>\n",
              "      <th>Unnamed: 0</th>\n",
              "      <th>VendorID</th>\n",
              "      <th>tpep_pickup_datetime</th>\n",
              "      <th>tpep_dropoff_datetime</th>\n",
              "      <th>passenger_count</th>\n",
              "      <th>trip_distance</th>\n",
              "      <th>RatecodeID</th>\n",
              "      <th>store_and_fwd_flag</th>\n",
              "      <th>PULocationID</th>\n",
              "      <th>DOLocationID</th>\n",
              "      <th>payment_type</th>\n",
              "      <th>fare_amount</th>\n",
              "      <th>extra</th>\n",
              "      <th>mta_tax</th>\n",
              "      <th>tip_amount</th>\n",
              "      <th>tolls_amount</th>\n",
              "      <th>improvement_surcharge</th>\n",
              "      <th>total_amount</th>\n",
              "    </tr>\n",
              "  </thead>\n",
              "  <tbody>\n",
              "    <tr>\n",
              "      <th>0</th>\n",
              "      <td>24870114</td>\n",
              "      <td>2</td>\n",
              "      <td>03/25/2017 8:55:43 AM</td>\n",
              "      <td>03/25/2017 9:09:47 AM</td>\n",
              "      <td>6</td>\n",
              "      <td>3.34</td>\n",
              "      <td>1</td>\n",
              "      <td>N</td>\n",
              "      <td>100</td>\n",
              "      <td>231</td>\n",
              "      <td>1</td>\n",
              "      <td>13.0</td>\n",
              "      <td>0.0</td>\n",
              "      <td>0.5</td>\n",
              "      <td>2.76</td>\n",
              "      <td>0.0</td>\n",
              "      <td>0.3</td>\n",
              "      <td>16.56</td>\n",
              "    </tr>\n",
              "    <tr>\n",
              "      <th>1</th>\n",
              "      <td>35634249</td>\n",
              "      <td>1</td>\n",
              "      <td>04/11/2017 2:53:28 PM</td>\n",
              "      <td>04/11/2017 3:19:58 PM</td>\n",
              "      <td>1</td>\n",
              "      <td>1.80</td>\n",
              "      <td>1</td>\n",
              "      <td>N</td>\n",
              "      <td>186</td>\n",
              "      <td>43</td>\n",
              "      <td>1</td>\n",
              "      <td>16.0</td>\n",
              "      <td>0.0</td>\n",
              "      <td>0.5</td>\n",
              "      <td>4.00</td>\n",
              "      <td>0.0</td>\n",
              "      <td>0.3</td>\n",
              "      <td>20.80</td>\n",
              "    </tr>\n",
              "    <tr>\n",
              "      <th>2</th>\n",
              "      <td>106203690</td>\n",
              "      <td>1</td>\n",
              "      <td>12/15/2017 7:26:56 AM</td>\n",
              "      <td>12/15/2017 7:34:08 AM</td>\n",
              "      <td>1</td>\n",
              "      <td>1.00</td>\n",
              "      <td>1</td>\n",
              "      <td>N</td>\n",
              "      <td>262</td>\n",
              "      <td>236</td>\n",
              "      <td>1</td>\n",
              "      <td>6.5</td>\n",
              "      <td>0.0</td>\n",
              "      <td>0.5</td>\n",
              "      <td>1.45</td>\n",
              "      <td>0.0</td>\n",
              "      <td>0.3</td>\n",
              "      <td>8.75</td>\n",
              "    </tr>\n",
              "    <tr>\n",
              "      <th>3</th>\n",
              "      <td>38942136</td>\n",
              "      <td>2</td>\n",
              "      <td>05/07/2017 1:17:59 PM</td>\n",
              "      <td>05/07/2017 1:48:14 PM</td>\n",
              "      <td>1</td>\n",
              "      <td>3.70</td>\n",
              "      <td>1</td>\n",
              "      <td>N</td>\n",
              "      <td>188</td>\n",
              "      <td>97</td>\n",
              "      <td>1</td>\n",
              "      <td>20.5</td>\n",
              "      <td>0.0</td>\n",
              "      <td>0.5</td>\n",
              "      <td>6.39</td>\n",
              "      <td>0.0</td>\n",
              "      <td>0.3</td>\n",
              "      <td>27.69</td>\n",
              "    </tr>\n",
              "    <tr>\n",
              "      <th>4</th>\n",
              "      <td>30841670</td>\n",
              "      <td>2</td>\n",
              "      <td>04/15/2017 11:32:20 PM</td>\n",
              "      <td>04/15/2017 11:49:03 PM</td>\n",
              "      <td>1</td>\n",
              "      <td>4.37</td>\n",
              "      <td>1</td>\n",
              "      <td>N</td>\n",
              "      <td>4</td>\n",
              "      <td>112</td>\n",
              "      <td>2</td>\n",
              "      <td>16.5</td>\n",
              "      <td>0.5</td>\n",
              "      <td>0.5</td>\n",
              "      <td>0.00</td>\n",
              "      <td>0.0</td>\n",
              "      <td>0.3</td>\n",
              "      <td>17.80</td>\n",
              "    </tr>\n",
              "  </tbody>\n",
              "</table>\n",
              "</div>"
            ],
            "text/plain": [
              "   Unnamed: 0  VendorID    tpep_pickup_datetime   tpep_dropoff_datetime  \\\n",
              "0    24870114         2   03/25/2017 8:55:43 AM   03/25/2017 9:09:47 AM   \n",
              "1    35634249         1   04/11/2017 2:53:28 PM   04/11/2017 3:19:58 PM   \n",
              "2   106203690         1   12/15/2017 7:26:56 AM   12/15/2017 7:34:08 AM   \n",
              "3    38942136         2   05/07/2017 1:17:59 PM   05/07/2017 1:48:14 PM   \n",
              "4    30841670         2  04/15/2017 11:32:20 PM  04/15/2017 11:49:03 PM   \n",
              "\n",
              "   passenger_count  trip_distance  RatecodeID store_and_fwd_flag  \\\n",
              "0                6           3.34           1                  N   \n",
              "1                1           1.80           1                  N   \n",
              "2                1           1.00           1                  N   \n",
              "3                1           3.70           1                  N   \n",
              "4                1           4.37           1                  N   \n",
              "\n",
              "   PULocationID  DOLocationID  payment_type  fare_amount  extra  mta_tax  \\\n",
              "0           100           231             1         13.0    0.0      0.5   \n",
              "1           186            43             1         16.0    0.0      0.5   \n",
              "2           262           236             1          6.5    0.0      0.5   \n",
              "3           188            97             1         20.5    0.0      0.5   \n",
              "4             4           112             2         16.5    0.5      0.5   \n",
              "\n",
              "   tip_amount  tolls_amount  improvement_surcharge  total_amount  \n",
              "0        2.76           0.0                    0.3         16.56  \n",
              "1        4.00           0.0                    0.3         20.80  \n",
              "2        1.45           0.0                    0.3          8.75  \n",
              "3        6.39           0.0                    0.3         27.69  \n",
              "4        0.00           0.0                    0.3         17.80  "
            ]
          },
          "execution_count": 8,
          "metadata": {},
          "output_type": "execute_result"
        }
      ],
      "source": [
        "# Inspect the first few rows of df0\n",
        "df0.head()"
      ]
    },
    {
      "cell_type": "markdown",
      "metadata": {
        "id": "1Z6gPOGUDOkK"
      },
      "source": [
        "Inspect the first few rows of `nyc_preds_means`."
      ]
    },
    {
      "cell_type": "code",
      "execution_count": null,
      "metadata": {
        "id": "a6wKImSnDOkK",
        "outputId": "708a80be-fe5c-4293-d73e-fcaed3d154d7"
      },
      "outputs": [
        {
          "data": {
            "text/html": [
              "<div>\n",
              "<style scoped>\n",
              "    .dataframe tbody tr th:only-of-type {\n",
              "        vertical-align: middle;\n",
              "    }\n",
              "\n",
              "    .dataframe tbody tr th {\n",
              "        vertical-align: top;\n",
              "    }\n",
              "\n",
              "    .dataframe thead th {\n",
              "        text-align: right;\n",
              "    }\n",
              "</style>\n",
              "<table border=\"1\" class=\"dataframe\">\n",
              "  <thead>\n",
              "    <tr style=\"text-align: right;\">\n",
              "      <th></th>\n",
              "      <th>mean_duration</th>\n",
              "      <th>mean_distance</th>\n",
              "      <th>predicted_fare</th>\n",
              "    </tr>\n",
              "  </thead>\n",
              "  <tbody>\n",
              "    <tr>\n",
              "      <th>0</th>\n",
              "      <td>22.847222</td>\n",
              "      <td>3.521667</td>\n",
              "      <td>16.434245</td>\n",
              "    </tr>\n",
              "    <tr>\n",
              "      <th>1</th>\n",
              "      <td>24.470370</td>\n",
              "      <td>3.108889</td>\n",
              "      <td>16.052218</td>\n",
              "    </tr>\n",
              "    <tr>\n",
              "      <th>2</th>\n",
              "      <td>7.250000</td>\n",
              "      <td>0.881429</td>\n",
              "      <td>7.053706</td>\n",
              "    </tr>\n",
              "    <tr>\n",
              "      <th>3</th>\n",
              "      <td>30.250000</td>\n",
              "      <td>3.700000</td>\n",
              "      <td>18.731650</td>\n",
              "    </tr>\n",
              "    <tr>\n",
              "      <th>4</th>\n",
              "      <td>14.616667</td>\n",
              "      <td>4.435000</td>\n",
              "      <td>15.845642</td>\n",
              "    </tr>\n",
              "  </tbody>\n",
              "</table>\n",
              "</div>"
            ],
            "text/plain": [
              "   mean_duration  mean_distance  predicted_fare\n",
              "0      22.847222       3.521667       16.434245\n",
              "1      24.470370       3.108889       16.052218\n",
              "2       7.250000       0.881429        7.053706\n",
              "3      30.250000       3.700000       18.731650\n",
              "4      14.616667       4.435000       15.845642"
            ]
          },
          "execution_count": 9,
          "metadata": {},
          "output_type": "execute_result"
        }
      ],
      "source": [
        "# Inspect the first few rows of `nyc_preds_means`\n",
        "nyc_preds_means.head()"
      ]
    },
    {
      "cell_type": "markdown",
      "metadata": {
        "id": "9zFmdXO7DOkL"
      },
      "source": [
        "#### Join the two dataframes\n",
        "\n",
        "we join the two dataframes using a method of your choice."
      ]
    },
    {
      "cell_type": "code",
      "execution_count": null,
      "metadata": {
        "id": "StZksV0iDOkL",
        "outputId": "2bdb0f5d-f478-42a9-e728-78e04ec70d94"
      },
      "outputs": [
        {
          "data": {
            "text/html": [
              "<div>\n",
              "<style scoped>\n",
              "    .dataframe tbody tr th:only-of-type {\n",
              "        vertical-align: middle;\n",
              "    }\n",
              "\n",
              "    .dataframe tbody tr th {\n",
              "        vertical-align: top;\n",
              "    }\n",
              "\n",
              "    .dataframe thead th {\n",
              "        text-align: right;\n",
              "    }\n",
              "</style>\n",
              "<table border=\"1\" class=\"dataframe\">\n",
              "  <thead>\n",
              "    <tr style=\"text-align: right;\">\n",
              "      <th></th>\n",
              "      <th>Unnamed: 0</th>\n",
              "      <th>VendorID</th>\n",
              "      <th>tpep_pickup_datetime</th>\n",
              "      <th>tpep_dropoff_datetime</th>\n",
              "      <th>passenger_count</th>\n",
              "      <th>trip_distance</th>\n",
              "      <th>RatecodeID</th>\n",
              "      <th>store_and_fwd_flag</th>\n",
              "      <th>PULocationID</th>\n",
              "      <th>DOLocationID</th>\n",
              "      <th>payment_type</th>\n",
              "      <th>fare_amount</th>\n",
              "      <th>extra</th>\n",
              "      <th>mta_tax</th>\n",
              "      <th>tip_amount</th>\n",
              "      <th>tolls_amount</th>\n",
              "      <th>improvement_surcharge</th>\n",
              "      <th>total_amount</th>\n",
              "      <th>mean_duration</th>\n",
              "      <th>mean_distance</th>\n",
              "      <th>predicted_fare</th>\n",
              "    </tr>\n",
              "  </thead>\n",
              "  <tbody>\n",
              "    <tr>\n",
              "      <th>0</th>\n",
              "      <td>24870114</td>\n",
              "      <td>2</td>\n",
              "      <td>03/25/2017 8:55:43 AM</td>\n",
              "      <td>03/25/2017 9:09:47 AM</td>\n",
              "      <td>6</td>\n",
              "      <td>3.34</td>\n",
              "      <td>1</td>\n",
              "      <td>N</td>\n",
              "      <td>100</td>\n",
              "      <td>231</td>\n",
              "      <td>1</td>\n",
              "      <td>13.0</td>\n",
              "      <td>0.0</td>\n",
              "      <td>0.5</td>\n",
              "      <td>2.76</td>\n",
              "      <td>0.0</td>\n",
              "      <td>0.3</td>\n",
              "      <td>16.56</td>\n",
              "      <td>22.847222</td>\n",
              "      <td>3.521667</td>\n",
              "      <td>16.434245</td>\n",
              "    </tr>\n",
              "    <tr>\n",
              "      <th>1</th>\n",
              "      <td>35634249</td>\n",
              "      <td>1</td>\n",
              "      <td>04/11/2017 2:53:28 PM</td>\n",
              "      <td>04/11/2017 3:19:58 PM</td>\n",
              "      <td>1</td>\n",
              "      <td>1.80</td>\n",
              "      <td>1</td>\n",
              "      <td>N</td>\n",
              "      <td>186</td>\n",
              "      <td>43</td>\n",
              "      <td>1</td>\n",
              "      <td>16.0</td>\n",
              "      <td>0.0</td>\n",
              "      <td>0.5</td>\n",
              "      <td>4.00</td>\n",
              "      <td>0.0</td>\n",
              "      <td>0.3</td>\n",
              "      <td>20.80</td>\n",
              "      <td>24.470370</td>\n",
              "      <td>3.108889</td>\n",
              "      <td>16.052218</td>\n",
              "    </tr>\n",
              "    <tr>\n",
              "      <th>2</th>\n",
              "      <td>106203690</td>\n",
              "      <td>1</td>\n",
              "      <td>12/15/2017 7:26:56 AM</td>\n",
              "      <td>12/15/2017 7:34:08 AM</td>\n",
              "      <td>1</td>\n",
              "      <td>1.00</td>\n",
              "      <td>1</td>\n",
              "      <td>N</td>\n",
              "      <td>262</td>\n",
              "      <td>236</td>\n",
              "      <td>1</td>\n",
              "      <td>6.5</td>\n",
              "      <td>0.0</td>\n",
              "      <td>0.5</td>\n",
              "      <td>1.45</td>\n",
              "      <td>0.0</td>\n",
              "      <td>0.3</td>\n",
              "      <td>8.75</td>\n",
              "      <td>7.250000</td>\n",
              "      <td>0.881429</td>\n",
              "      <td>7.053706</td>\n",
              "    </tr>\n",
              "    <tr>\n",
              "      <th>3</th>\n",
              "      <td>38942136</td>\n",
              "      <td>2</td>\n",
              "      <td>05/07/2017 1:17:59 PM</td>\n",
              "      <td>05/07/2017 1:48:14 PM</td>\n",
              "      <td>1</td>\n",
              "      <td>3.70</td>\n",
              "      <td>1</td>\n",
              "      <td>N</td>\n",
              "      <td>188</td>\n",
              "      <td>97</td>\n",
              "      <td>1</td>\n",
              "      <td>20.5</td>\n",
              "      <td>0.0</td>\n",
              "      <td>0.5</td>\n",
              "      <td>6.39</td>\n",
              "      <td>0.0</td>\n",
              "      <td>0.3</td>\n",
              "      <td>27.69</td>\n",
              "      <td>30.250000</td>\n",
              "      <td>3.700000</td>\n",
              "      <td>18.731650</td>\n",
              "    </tr>\n",
              "    <tr>\n",
              "      <th>4</th>\n",
              "      <td>30841670</td>\n",
              "      <td>2</td>\n",
              "      <td>04/15/2017 11:32:20 PM</td>\n",
              "      <td>04/15/2017 11:49:03 PM</td>\n",
              "      <td>1</td>\n",
              "      <td>4.37</td>\n",
              "      <td>1</td>\n",
              "      <td>N</td>\n",
              "      <td>4</td>\n",
              "      <td>112</td>\n",
              "      <td>2</td>\n",
              "      <td>16.5</td>\n",
              "      <td>0.5</td>\n",
              "      <td>0.5</td>\n",
              "      <td>0.00</td>\n",
              "      <td>0.0</td>\n",
              "      <td>0.3</td>\n",
              "      <td>17.80</td>\n",
              "      <td>14.616667</td>\n",
              "      <td>4.435000</td>\n",
              "      <td>15.845642</td>\n",
              "    </tr>\n",
              "  </tbody>\n",
              "</table>\n",
              "</div>"
            ],
            "text/plain": [
              "   Unnamed: 0  VendorID    tpep_pickup_datetime   tpep_dropoff_datetime  \\\n",
              "0    24870114         2   03/25/2017 8:55:43 AM   03/25/2017 9:09:47 AM   \n",
              "1    35634249         1   04/11/2017 2:53:28 PM   04/11/2017 3:19:58 PM   \n",
              "2   106203690         1   12/15/2017 7:26:56 AM   12/15/2017 7:34:08 AM   \n",
              "3    38942136         2   05/07/2017 1:17:59 PM   05/07/2017 1:48:14 PM   \n",
              "4    30841670         2  04/15/2017 11:32:20 PM  04/15/2017 11:49:03 PM   \n",
              "\n",
              "   passenger_count  trip_distance  RatecodeID store_and_fwd_flag  \\\n",
              "0                6           3.34           1                  N   \n",
              "1                1           1.80           1                  N   \n",
              "2                1           1.00           1                  N   \n",
              "3                1           3.70           1                  N   \n",
              "4                1           4.37           1                  N   \n",
              "\n",
              "   PULocationID  DOLocationID  payment_type  fare_amount  extra  mta_tax  \\\n",
              "0           100           231             1         13.0    0.0      0.5   \n",
              "1           186            43             1         16.0    0.0      0.5   \n",
              "2           262           236             1          6.5    0.0      0.5   \n",
              "3           188            97             1         20.5    0.0      0.5   \n",
              "4             4           112             2         16.5    0.5      0.5   \n",
              "\n",
              "   tip_amount  tolls_amount  improvement_surcharge  total_amount  \\\n",
              "0        2.76           0.0                    0.3         16.56   \n",
              "1        4.00           0.0                    0.3         20.80   \n",
              "2        1.45           0.0                    0.3          8.75   \n",
              "3        6.39           0.0                    0.3         27.69   \n",
              "4        0.00           0.0                    0.3         17.80   \n",
              "\n",
              "   mean_duration  mean_distance  predicted_fare  \n",
              "0      22.847222       3.521667       16.434245  \n",
              "1      24.470370       3.108889       16.052218  \n",
              "2       7.250000       0.881429        7.053706  \n",
              "3      30.250000       3.700000       18.731650  \n",
              "4      14.616667       4.435000       15.845642  "
            ]
          },
          "execution_count": 6,
          "metadata": {},
          "output_type": "execute_result"
        }
      ],
      "source": [
        "# Merge datasets\n",
        "df0 = df0.merge(nyc_preds_means,\n",
        "                left_index=True,\n",
        "                right_index=True)\n",
        "\n",
        "df0.head()"
      ]
    },
    {
      "cell_type": "markdown",
      "metadata": {
        "id": "EgPRBjizg1oo"
      },
      "source": [
        "<img src=\"images/Analyze.png\" width=\"100\" height=\"100\" align=left>\n",
        "\n",
        "## PACE: **Analyze**\n",
        "\n",
        "Consider the questions in your PACE Strategy Documentto reflect on the Analyze stage."
      ]
    },
    {
      "cell_type": "markdown",
      "metadata": {
        "id": "5VZowX9rhU1o"
      },
      "source": [
        "### **Task 2. Feature engineering**\n",
        "\n",
        "we have already prepared much of this data and performed exploratory data analysis (EDA) in previous courses.\n",
        "\n",
        "Call `info()` on the dataframe."
      ]
    },
    {
      "cell_type": "code",
      "execution_count": null,
      "metadata": {
        "id": "mBOSW8IDbO_d",
        "outputId": "9a94a763-06d3-4899-f291-ae41309a9906"
      },
      "outputs": [
        {
          "name": "stdout",
          "output_type": "stream",
          "text": [
            "<class 'pandas.core.frame.DataFrame'>\n",
            "RangeIndex: 22699 entries, 0 to 22698\n",
            "Data columns (total 21 columns):\n",
            " #   Column                 Non-Null Count  Dtype  \n",
            "---  ------                 --------------  -----  \n",
            " 0   Unnamed: 0             22699 non-null  int64  \n",
            " 1   VendorID               22699 non-null  int64  \n",
            " 2   tpep_pickup_datetime   22699 non-null  object \n",
            " 3   tpep_dropoff_datetime  22699 non-null  object \n",
            " 4   passenger_count        22699 non-null  int64  \n",
            " 5   trip_distance          22699 non-null  float64\n",
            " 6   RatecodeID             22699 non-null  int64  \n",
            " 7   store_and_fwd_flag     22699 non-null  object \n",
            " 8   PULocationID           22699 non-null  int64  \n",
            " 9   DOLocationID           22699 non-null  int64  \n",
            " 10  payment_type           22699 non-null  int64  \n",
            " 11  fare_amount            22699 non-null  float64\n",
            " 12  extra                  22699 non-null  float64\n",
            " 13  mta_tax                22699 non-null  float64\n",
            " 14  tip_amount             22699 non-null  float64\n",
            " 15  tolls_amount           22699 non-null  float64\n",
            " 16  improvement_surcharge  22699 non-null  float64\n",
            " 17  total_amount           22699 non-null  float64\n",
            " 18  mean_duration          22699 non-null  float64\n",
            " 19  mean_distance          22699 non-null  float64\n",
            " 20  predicted_fare         22699 non-null  float64\n",
            "dtypes: float64(11), int64(7), object(3)\n",
            "memory usage: 3.6+ MB\n"
          ]
        }
      ],
      "source": [
        "df0.info()"
      ]
    },
    {
      "cell_type": "markdown",
      "metadata": {
        "id": "0D2RvXk0kwsx"
      },
      "source": [
        "we  know from your EDA that customers who pay cash generally have a tip amount of $0. To meet the modeling objective, we'll need to sample the data to select only the customers who pay with credit card.\n",
        "\n",
        "Copy `df0` and assign the result to a variable called `df1`. Then, use a Boolean mask to filter `df1` so it contains only customers who paid with credit card."
      ]
    },
    {
      "cell_type": "code",
      "execution_count": null,
      "metadata": {
        "id": "_pmNd78plQYr"
      },
      "outputs": [],
      "source": [
        "# Subset the data to isolate only customers who paid by credit card\n",
        "df1 = df0[df0['payment_type']==1]"
      ]
    },
    {
      "cell_type": "markdown",
      "metadata": {
        "id": "EcYudtSYyMcZ"
      },
      "source": [
        "##### **Target**\n",
        "\n",
        "we notice that there isn't a column that indicates tip percent, which is what we need to create the target variable. we'll have to engineer it.\n",
        "\n",
        "Add a `tip_percent` column to the dataframe by performing the following calculation:  \n",
        "<br/>  \n",
        "\n",
        "\n",
        "$$tip\\ percent = \\frac{tip\\ amount}{total\\ amount - tip\\ amount}$$  \n",
        "\n",
        "we round the result to three places beyond the decimal. **This is an important step.** It affects how many customers are labeled as generous tippers. In fact, without performing this step, approximately 1,800 people who do tip ≥ 20% would be labeled as not generous.\n",
        "\n",
        "To understand why, we must consider how floats work. Computers make their calculations using floating-point arithmetic (hence the word \"float\"). Floating-point arithmetic is a system that allows computers to express both very large numbers and very small numbers with a high degree of precision, encoded in binary. However, precision is limited by the number of bits used to represent a number, which is generally 32 or 64, depending on the capabilities of our operating system.\n",
        "\n",
        "This comes with limitations in that sometimes calculations that should result in clean, precise values end up being encoded as very long decimals. Take, for example, the following calculation:\n"
      ]
    },
    {
      "cell_type": "code",
      "execution_count": null,
      "metadata": {
        "id": "rASvA0xFDOkM",
        "outputId": "840dab5e-45b5-4210-e773-dc1ace65dd40"
      },
      "outputs": [
        {
          "data": {
            "text/plain": [
              "3.3000000000000003"
            ]
          },
          "execution_count": 11,
          "metadata": {},
          "output_type": "execute_result"
        }
      ],
      "source": [
        "# Run this cell\n",
        "1.1 + 2.2"
      ]
    },
    {
      "cell_type": "markdown",
      "metadata": {
        "id": "IQ0cj4UwDOkM"
      },
      "source": [
        "Notice the three that is 16 places to the right of the decimal. As a consequence, if you were to then have a step in your code that identifies values ≤ 3.3, this would not be included in the result. Therefore, whenever we perform a calculation to compute a number that is then used to make an important decision or filtration, round the number. How many degrees of precision we round to is our decision, which should be based on your use case.\n",
        "\n",
        "Refer to this [guide for more information related to floating-point arithmetic](https://floating-point-gui.de/formats/fp/).  \n",
        "Refer to this [guide for more information related to fixed-point arithmetic](https://inst.eecs.berkeley.edu/~cs61c/sp06/handout/fixedpt.html), which is an alternative to floating-point arithmetic used in certain cases."
      ]
    },
    {
      "cell_type": "code",
      "execution_count": null,
      "metadata": {
        "id": "guanzJd8zBla",
        "outputId": "a59e4319-4bb7-4704-82f3-019895b8e36e"
      },
      "outputs": [
        {
          "name": "stderr",
          "output_type": "stream",
          "text": [
            "C:\\Users\\49178\\AppData\\Local\\Temp\\ipykernel_21108\\1025802444.py:2: SettingWithCopyWarning: \n",
            "A value is trying to be set on a copy of a slice from a DataFrame.\n",
            "Try using .loc[row_indexer,col_indexer] = value instead\n",
            "\n",
            "See the caveats in the documentation: https://pandas.pydata.org/pandas-docs/stable/user_guide/indexing.html#returning-a-view-versus-a-copy\n",
            "  df1['tip_percent'] = round(df1['tip_amount'] / (df1['total_amount'] - df1['tip_amount']), 3)\n"
          ]
        }
      ],
      "source": [
        "# Create tip % col\n",
        "df1['tip_percent'] = round(df1['tip_amount'] / (df1['total_amount'] - df1['tip_amount']), 3)"
      ]
    },
    {
      "cell_type": "markdown",
      "metadata": {
        "id": "Bqb-SWfs-8Xn"
      },
      "source": [
        "Now create another column called `generous`. This will be the target variable. The column should be a binary indicator of whether or not a customer tipped ≥ 20% (0=no, 1=yes).\n",
        "\n",
        "1. Begin by making the `generous` column a copy of the `tip_percent` column.\n",
        "2. Reassign the column by converting it to Boolean (True/False).\n",
        "3. Reassign the column by converting Boolean to binary (1/0)."
      ]
    },
    {
      "cell_type": "code",
      "execution_count": null,
      "metadata": {
        "id": "nqDSe0DSGwhB",
        "outputId": "8b5b51d2-08ca-4cae-ad52-8ee08956655a"
      },
      "outputs": [
        {
          "name": "stderr",
          "output_type": "stream",
          "text": [
            "C:\\Users\\49178\\AppData\\Local\\Temp\\ipykernel_21108\\53023181.py:2: SettingWithCopyWarning: \n",
            "A value is trying to be set on a copy of a slice from a DataFrame.\n",
            "Try using .loc[row_indexer,col_indexer] = value instead\n",
            "\n",
            "See the caveats in the documentation: https://pandas.pydata.org/pandas-docs/stable/user_guide/indexing.html#returning-a-view-versus-a-copy\n",
            "  df1['generous'] = df1['tip_percent']\n",
            "C:\\Users\\49178\\AppData\\Local\\Temp\\ipykernel_21108\\53023181.py:3: SettingWithCopyWarning: \n",
            "A value is trying to be set on a copy of a slice from a DataFrame.\n",
            "Try using .loc[row_indexer,col_indexer] = value instead\n",
            "\n",
            "See the caveats in the documentation: https://pandas.pydata.org/pandas-docs/stable/user_guide/indexing.html#returning-a-view-versus-a-copy\n",
            "  df1['generous'] = (df1['generous'] >= 0.2)\n",
            "C:\\Users\\49178\\AppData\\Local\\Temp\\ipykernel_21108\\53023181.py:4: SettingWithCopyWarning: \n",
            "A value is trying to be set on a copy of a slice from a DataFrame.\n",
            "Try using .loc[row_indexer,col_indexer] = value instead\n",
            "\n",
            "See the caveats in the documentation: https://pandas.pydata.org/pandas-docs/stable/user_guide/indexing.html#returning-a-view-versus-a-copy\n",
            "  df1['generous'] = df1['generous'].astype(int)\n"
          ]
        }
      ],
      "source": [
        "# Create 'generous' col (target)\n",
        "df1['generous'] = df1['tip_percent']\n",
        "df1['generous'] = (df1['generous'] >= 0.2)\n",
        "df1['generous'] = df1['generous'].astype(int)"
      ]
    },
    {
      "cell_type": "markdown",
      "metadata": {
        "id": "ddLE6KE1KeF7"
      },
      "source": [
        "\n",
        "\n",
        "To convert from Boolean to binary, use `.astype(int)` on the column.\n"
      ]
    },
    {
      "cell_type": "markdown",
      "metadata": {
        "id": "EkubbZRRKrjO"
      },
      "source": [
        "##### Create day column"
      ]
    },
    {
      "cell_type": "markdown",
      "metadata": {
        "id": "H27zUVIlkaxA"
      },
      "source": [
        "Next, we're going to be working with the pickup and dropoff columns.\n",
        "\n",
        "we should convert the `tpep_pickup_datetime` and `tpep_dropoff_datetime` columns to datetime."
      ]
    },
    {
      "cell_type": "code",
      "execution_count": null,
      "metadata": {
        "id": "OIycxWBMkafJ",
        "outputId": "b0dca3dd-4f24-4289-8191-46468e117eda"
      },
      "outputs": [
        {
          "name": "stderr",
          "output_type": "stream",
          "text": [
            "C:\\Users\\49178\\AppData\\Local\\Temp\\ipykernel_21108\\3830057672.py:2: SettingWithCopyWarning: \n",
            "A value is trying to be set on a copy of a slice from a DataFrame.\n",
            "Try using .loc[row_indexer,col_indexer] = value instead\n",
            "\n",
            "See the caveats in the documentation: https://pandas.pydata.org/pandas-docs/stable/user_guide/indexing.html#returning-a-view-versus-a-copy\n",
            "  df1['tpep_pickup_datetime'] = pd.to_datetime(df1['tpep_pickup_datetime'], format='%m/%d/%Y %I:%M:%S %p')\n",
            "C:\\Users\\49178\\AppData\\Local\\Temp\\ipykernel_21108\\3830057672.py:3: SettingWithCopyWarning: \n",
            "A value is trying to be set on a copy of a slice from a DataFrame.\n",
            "Try using .loc[row_indexer,col_indexer] = value instead\n",
            "\n",
            "See the caveats in the documentation: https://pandas.pydata.org/pandas-docs/stable/user_guide/indexing.html#returning-a-view-versus-a-copy\n",
            "  df1['tpep_dropoff_datetime'] = pd.to_datetime(df1['tpep_dropoff_datetime'], format='%m/%d/%Y %I:%M:%S %p')\n"
          ]
        }
      ],
      "source": [
        "# Convert pickup and dropoff cols to datetime\n",
        "df1['tpep_pickup_datetime'] = pd.to_datetime(df1['tpep_pickup_datetime'], format='%m/%d/%Y %I:%M:%S %p')\n",
        "df1['tpep_dropoff_datetime'] = pd.to_datetime(df1['tpep_dropoff_datetime'], format='%m/%d/%Y %I:%M:%S %p')"
      ]
    },
    {
      "cell_type": "markdown",
      "metadata": {
        "id": "zpcM4FvNyPFY"
      },
      "source": [
        "Create a `day` column that contains only the day of the week when each passenger was picked up. Then, convert the values to lowercase."
      ]
    },
    {
      "cell_type": "code",
      "execution_count": null,
      "metadata": {
        "id": "abUvtMaYyWpD",
        "outputId": "c1ca89bd-b10c-4759-d278-4da50dd50fdd"
      },
      "outputs": [
        {
          "name": "stderr",
          "output_type": "stream",
          "text": [
            "C:\\Users\\49178\\AppData\\Local\\Temp\\ipykernel_21108\\918047604.py:2: SettingWithCopyWarning: \n",
            "A value is trying to be set on a copy of a slice from a DataFrame.\n",
            "Try using .loc[row_indexer,col_indexer] = value instead\n",
            "\n",
            "See the caveats in the documentation: https://pandas.pydata.org/pandas-docs/stable/user_guide/indexing.html#returning-a-view-versus-a-copy\n",
            "  df1['day'] = df1['tpep_pickup_datetime'].dt.day_name().str.lower()\n"
          ]
        }
      ],
      "source": [
        "# Create a 'day' col\n",
        "df1['day'] = df1['tpep_pickup_datetime'].dt.day_name().str.lower()"
      ]
    },
    {
      "cell_type": "markdown",
      "metadata": {
        "id": "RZZhKnQrQgNM"
      },
      "source": [
        "\n",
        "\n",
        "To convert to day name, use `dt.day_name()` on the column.\n"
      ]
    },
    {
      "cell_type": "markdown",
      "metadata": {
        "id": "LuOjcZ53DOkU"
      },
      "source": [
        "#### Create time of day columns"
      ]
    },
    {
      "cell_type": "markdown",
      "metadata": {
        "id": "HwslVt8Hpu7x"
      },
      "source": [
        "Next, engineer four new columns that represent time of day bins. Each column should contain binary values (0=no, 1=yes) that indicate whether a trip began (picked up) during the following times:\n",
        "\n",
        "`am_rush` = [06:00&ndash;10:00)  \n",
        "`daytime` = [10:00&ndash;16:00)  \n",
        "`pm_rush` = [16:00&ndash;20:00)  \n",
        "`nighttime` = [20:00&ndash;06:00)  \n",
        "\n",
        "To do this, first create the four columns. For now, each new column should be identical and contain the same information: the hour (only) from the `tpep_pickup_datetime` column."
      ]
    },
    {
      "cell_type": "code",
      "execution_count": null,
      "metadata": {
        "id": "x8LFySUyprau",
        "outputId": "c61931e5-4ba4-43b4-a3cb-e7ffd20086c5"
      },
      "outputs": [
        {
          "name": "stderr",
          "output_type": "stream",
          "text": [
            "C:\\Users\\49178\\AppData\\Local\\Temp\\ipykernel_21108\\986325379.py:2: SettingWithCopyWarning: \n",
            "A value is trying to be set on a copy of a slice from a DataFrame.\n",
            "Try using .loc[row_indexer,col_indexer] = value instead\n",
            "\n",
            "See the caveats in the documentation: https://pandas.pydata.org/pandas-docs/stable/user_guide/indexing.html#returning-a-view-versus-a-copy\n",
            "  df1['am_rush'] = df1['tpep_pickup_datetime'].dt.hour\n",
            "C:\\Users\\49178\\AppData\\Local\\Temp\\ipykernel_21108\\986325379.py:5: SettingWithCopyWarning: \n",
            "A value is trying to be set on a copy of a slice from a DataFrame.\n",
            "Try using .loc[row_indexer,col_indexer] = value instead\n",
            "\n",
            "See the caveats in the documentation: https://pandas.pydata.org/pandas-docs/stable/user_guide/indexing.html#returning-a-view-versus-a-copy\n",
            "  df1['daytime'] = df1['tpep_pickup_datetime'].dt.hour\n",
            "C:\\Users\\49178\\AppData\\Local\\Temp\\ipykernel_21108\\986325379.py:8: SettingWithCopyWarning: \n",
            "A value is trying to be set on a copy of a slice from a DataFrame.\n",
            "Try using .loc[row_indexer,col_indexer] = value instead\n",
            "\n",
            "See the caveats in the documentation: https://pandas.pydata.org/pandas-docs/stable/user_guide/indexing.html#returning-a-view-versus-a-copy\n",
            "  df1['pm_rush'] = df1['tpep_pickup_datetime'].dt.hour\n",
            "C:\\Users\\49178\\AppData\\Local\\Temp\\ipykernel_21108\\986325379.py:11: SettingWithCopyWarning: \n",
            "A value is trying to be set on a copy of a slice from a DataFrame.\n",
            "Try using .loc[row_indexer,col_indexer] = value instead\n",
            "\n",
            "See the caveats in the documentation: https://pandas.pydata.org/pandas-docs/stable/user_guide/indexing.html#returning-a-view-versus-a-copy\n",
            "  df1['nighttime'] = df1['tpep_pickup_datetime'].dt.hour\n"
          ]
        }
      ],
      "source": [
        "# Create 'am_rush' col\n",
        "df1['am_rush'] = df1['tpep_pickup_datetime'].dt.hour\n",
        "\n",
        "# Create 'daytime' col\n",
        "df1['daytime'] = df1['tpep_pickup_datetime'].dt.hour\n",
        "\n",
        "# Create 'pm_rush' col\n",
        "df1['pm_rush'] = df1['tpep_pickup_datetime'].dt.hour\n",
        "\n",
        "# Create 'nighttime' col\n",
        "df1['nighttime'] = df1['tpep_pickup_datetime'].dt.hour"
      ]
    },
    {
      "cell_type": "markdown",
      "metadata": {
        "id": "HDyfsTDvwORL"
      },
      "source": [
        "we'll need to write four functions to convert each new column to binary (0/1). Begin with `am_rush`. Complete the function so if the hour is between [06:00–10:00), it returns 1, otherwise, it returns 0."
      ]
    },
    {
      "cell_type": "code",
      "execution_count": null,
      "metadata": {
        "id": "oAE4vRz0wGtN"
      },
      "outputs": [],
      "source": [
        "# Define 'am_rush()' conversion function [06:00–10:00)\n",
        "def am_rush(hour):\n",
        "    if 6 <= hour['am_rush'] < 10:\n",
        "        val = 1\n",
        "    else:\n",
        "        val = 0\n",
        "    return val"
      ]
    },
    {
      "cell_type": "markdown",
      "metadata": {
        "id": "hHY1-6cIxfA6"
      },
      "source": [
        "Now, we apply the `am_rush()` function to the `am_rush` series to perform the conversion. we Print the first five values of the column to make sure it did what you expected it to do.\n",
        "\n",
        "**Note:** Be careful! If we run this cell twice, the function will be reapplied and the values will all be changed to 0."
      ]
    },
    {
      "cell_type": "code",
      "execution_count": null,
      "metadata": {
        "id": "sWFojyk9xdDY",
        "outputId": "654bcece-e78f-4dce-eafd-b6421f4f4fa8"
      },
      "outputs": [
        {
          "name": "stderr",
          "output_type": "stream",
          "text": [
            "C:\\Users\\49178\\AppData\\Local\\Temp\\ipykernel_21108\\227023620.py:2: SettingWithCopyWarning: \n",
            "A value is trying to be set on a copy of a slice from a DataFrame.\n",
            "Try using .loc[row_indexer,col_indexer] = value instead\n",
            "\n",
            "See the caveats in the documentation: https://pandas.pydata.org/pandas-docs/stable/user_guide/indexing.html#returning-a-view-versus-a-copy\n",
            "  df1['am_rush'] = df1.apply(am_rush, axis=1)\n"
          ]
        },
        {
          "data": {
            "text/plain": [
              "0    1\n",
              "1    0\n",
              "2    1\n",
              "3    0\n",
              "5    0\n",
              "Name: am_rush, dtype: int64"
            ]
          },
          "execution_count": 18,
          "metadata": {},
          "output_type": "execute_result"
        }
      ],
      "source": [
        "# Apply 'am_rush' function to the 'am_rush' series\n",
        "df1['am_rush'] = df1.apply(am_rush, axis=1)\n",
        "df1['am_rush'].head()"
      ]
    },
    {
      "cell_type": "markdown",
      "metadata": {
        "id": "mSY6SsdK0lpn"
      },
      "source": [
        "Write functions to convert the three remaining columns and apply them to their respective series."
      ]
    },
    {
      "cell_type": "code",
      "execution_count": null,
      "metadata": {
        "id": "UADnzaIjzwLG"
      },
      "outputs": [],
      "source": [
        "# Define 'daytime()' conversion function [10:00–16:00)\n",
        "def daytime(hour):\n",
        "    if 10 <= hour['daytime'] < 16:\n",
        "        val = 1\n",
        "    else:\n",
        "        val = 0\n",
        "    return val"
      ]
    },
    {
      "cell_type": "code",
      "execution_count": null,
      "metadata": {
        "id": "ReHpKxoC1Qsx",
        "outputId": "84d0a5bc-bc1f-41b2-b327-5778a879321e"
      },
      "outputs": [
        {
          "name": "stderr",
          "output_type": "stream",
          "text": [
            "C:\\Users\\49178\\AppData\\Local\\Temp\\ipykernel_21108\\1985778239.py:2: SettingWithCopyWarning: \n",
            "A value is trying to be set on a copy of a slice from a DataFrame.\n",
            "Try using .loc[row_indexer,col_indexer] = value instead\n",
            "\n",
            "See the caveats in the documentation: https://pandas.pydata.org/pandas-docs/stable/user_guide/indexing.html#returning-a-view-versus-a-copy\n",
            "  df1['daytime'] = df1.apply(daytime, axis=1)\n"
          ]
        }
      ],
      "source": [
        "# Apply 'daytime' function to the 'daytime' series\n",
        "df1['daytime'] = df1.apply(daytime, axis=1)"
      ]
    },
    {
      "cell_type": "code",
      "execution_count": null,
      "metadata": {
        "id": "rP-ZBOHT1WQY"
      },
      "outputs": [],
      "source": [
        "# Define 'pm_rush()' conversion function [16:00–20:00)\n",
        "def pm_rush(hour):\n",
        "    if 16 <= hour['pm_rush'] < 20:\n",
        "        val = 1\n",
        "    else:\n",
        "        val = 0\n",
        "    return val"
      ]
    },
    {
      "cell_type": "code",
      "execution_count": null,
      "metadata": {
        "id": "h0zWPBqr1mX4",
        "outputId": "8ed001e5-cd81-4a08-d67a-fb858cf9dccc"
      },
      "outputs": [
        {
          "name": "stderr",
          "output_type": "stream",
          "text": [
            "C:\\Users\\49178\\AppData\\Local\\Temp\\ipykernel_21108\\3651034778.py:2: SettingWithCopyWarning: \n",
            "A value is trying to be set on a copy of a slice from a DataFrame.\n",
            "Try using .loc[row_indexer,col_indexer] = value instead\n",
            "\n",
            "See the caveats in the documentation: https://pandas.pydata.org/pandas-docs/stable/user_guide/indexing.html#returning-a-view-versus-a-copy\n",
            "  df1['pm_rush'] = df1.apply(pm_rush, axis=1)\n"
          ]
        }
      ],
      "source": [
        "# Apply 'pm_rush' function to the 'pm_rush' series\n",
        "df1['pm_rush'] = df1.apply(pm_rush, axis=1)"
      ]
    },
    {
      "cell_type": "code",
      "execution_count": null,
      "metadata": {
        "id": "u5O0LPLz2CSa"
      },
      "outputs": [],
      "source": [
        "# Define 'nighttime()' conversion function [20:00–06:00)\n",
        "def nighttime(hour):\n",
        "    if 20 <= hour['nighttime'] < 24:\n",
        "        val = 1\n",
        "    elif 0 <= hour['nighttime'] < 6:\n",
        "        val = 1\n",
        "    else:\n",
        "        val = 0\n",
        "    return val"
      ]
    },
    {
      "cell_type": "code",
      "execution_count": null,
      "metadata": {
        "id": "kLGmBXkT2RTi",
        "outputId": "b6fc57a6-a1ae-42a6-aed5-9f23c3d7a517"
      },
      "outputs": [
        {
          "name": "stderr",
          "output_type": "stream",
          "text": [
            "C:\\Users\\49178\\AppData\\Local\\Temp\\ipykernel_21108\\230608774.py:2: SettingWithCopyWarning: \n",
            "A value is trying to be set on a copy of a slice from a DataFrame.\n",
            "Try using .loc[row_indexer,col_indexer] = value instead\n",
            "\n",
            "See the caveats in the documentation: https://pandas.pydata.org/pandas-docs/stable/user_guide/indexing.html#returning-a-view-versus-a-copy\n",
            "  df1['nighttime'] = df1.apply(nighttime, axis=1)\n"
          ]
        }
      ],
      "source": [
        "# Apply 'nighttime' function to the 'nighttime' series\n",
        "df1['nighttime'] = df1.apply(nighttime, axis=1)"
      ]
    },
    {
      "cell_type": "markdown",
      "metadata": {
        "id": "OVFqmn2sDOkW"
      },
      "source": [
        "#### Create month column"
      ]
    },
    {
      "cell_type": "markdown",
      "metadata": {
        "id": "VrUmDy8U28bs"
      },
      "source": [
        "Now, we create a `month` column that contains only the abbreviated name of the month when each passenger was picked up, then convert the result to lowercase."
      ]
    },
    {
      "cell_type": "markdown",
      "metadata": {
        "id": "bU5Zchdxgk3w"
      },
      "source": [
        "\n",
        "\n",
        "Refer to the [strftime cheatsheet](https://strftime.org/) for help.\n"
      ]
    },
    {
      "cell_type": "code",
      "execution_count": null,
      "metadata": {
        "id": "rv5ZKK6-2YAh",
        "outputId": "4591c8e2-8eed-4ef4-b4a4-33f5c49752d2"
      },
      "outputs": [
        {
          "name": "stderr",
          "output_type": "stream",
          "text": [
            "C:\\Users\\49178\\AppData\\Local\\Temp\\ipykernel_21108\\2202272965.py:2: SettingWithCopyWarning: \n",
            "A value is trying to be set on a copy of a slice from a DataFrame.\n",
            "Try using .loc[row_indexer,col_indexer] = value instead\n",
            "\n",
            "See the caveats in the documentation: https://pandas.pydata.org/pandas-docs/stable/user_guide/indexing.html#returning-a-view-versus-a-copy\n",
            "  df1['month'] = df1['tpep_pickup_datetime'].dt.strftime('%b').str.lower()\n"
          ]
        }
      ],
      "source": [
        "# Create 'month' col\n",
        "df1['month'] = df1['tpep_pickup_datetime'].dt.strftime('%b').str.lower()"
      ]
    },
    {
      "cell_type": "markdown",
      "metadata": {
        "id": "qWbNVbngihE6"
      },
      "source": [
        "Examine the first five rows of your dataframe."
      ]
    },
    {
      "cell_type": "code",
      "execution_count": null,
      "metadata": {
        "id": "jWxemeyl4vwQ",
        "outputId": "4086399d-237e-422e-cdb9-550bb656301e"
      },
      "outputs": [
        {
          "data": {
            "text/html": [
              "<div>\n",
              "<style scoped>\n",
              "    .dataframe tbody tr th:only-of-type {\n",
              "        vertical-align: middle;\n",
              "    }\n",
              "\n",
              "    .dataframe tbody tr th {\n",
              "        vertical-align: top;\n",
              "    }\n",
              "\n",
              "    .dataframe thead th {\n",
              "        text-align: right;\n",
              "    }\n",
              "</style>\n",
              "<table border=\"1\" class=\"dataframe\">\n",
              "  <thead>\n",
              "    <tr style=\"text-align: right;\">\n",
              "      <th></th>\n",
              "      <th>Unnamed: 0</th>\n",
              "      <th>VendorID</th>\n",
              "      <th>tpep_pickup_datetime</th>\n",
              "      <th>tpep_dropoff_datetime</th>\n",
              "      <th>passenger_count</th>\n",
              "      <th>trip_distance</th>\n",
              "      <th>RatecodeID</th>\n",
              "      <th>store_and_fwd_flag</th>\n",
              "      <th>PULocationID</th>\n",
              "      <th>DOLocationID</th>\n",
              "      <th>payment_type</th>\n",
              "      <th>fare_amount</th>\n",
              "      <th>extra</th>\n",
              "      <th>mta_tax</th>\n",
              "      <th>tip_amount</th>\n",
              "      <th>tolls_amount</th>\n",
              "      <th>improvement_surcharge</th>\n",
              "      <th>total_amount</th>\n",
              "      <th>tip_percent</th>\n",
              "      <th>generous</th>\n",
              "      <th>day</th>\n",
              "      <th>am_rush</th>\n",
              "      <th>daytime</th>\n",
              "      <th>pm_rush</th>\n",
              "      <th>nighttime</th>\n",
              "      <th>month</th>\n",
              "    </tr>\n",
              "  </thead>\n",
              "  <tbody>\n",
              "    <tr>\n",
              "      <th>0</th>\n",
              "      <td>24870114</td>\n",
              "      <td>2</td>\n",
              "      <td>2017-03-25 08:55:43</td>\n",
              "      <td>2017-03-25 09:09:47</td>\n",
              "      <td>6</td>\n",
              "      <td>3.34</td>\n",
              "      <td>1</td>\n",
              "      <td>N</td>\n",
              "      <td>100</td>\n",
              "      <td>231</td>\n",
              "      <td>1</td>\n",
              "      <td>13.0</td>\n",
              "      <td>0.0</td>\n",
              "      <td>0.5</td>\n",
              "      <td>2.76</td>\n",
              "      <td>0.0</td>\n",
              "      <td>0.3</td>\n",
              "      <td>16.56</td>\n",
              "      <td>0.200</td>\n",
              "      <td>1</td>\n",
              "      <td>saturday</td>\n",
              "      <td>1</td>\n",
              "      <td>0</td>\n",
              "      <td>0</td>\n",
              "      <td>0</td>\n",
              "      <td>mar</td>\n",
              "    </tr>\n",
              "    <tr>\n",
              "      <th>1</th>\n",
              "      <td>35634249</td>\n",
              "      <td>1</td>\n",
              "      <td>2017-04-11 14:53:28</td>\n",
              "      <td>2017-04-11 15:19:58</td>\n",
              "      <td>1</td>\n",
              "      <td>1.80</td>\n",
              "      <td>1</td>\n",
              "      <td>N</td>\n",
              "      <td>186</td>\n",
              "      <td>43</td>\n",
              "      <td>1</td>\n",
              "      <td>16.0</td>\n",
              "      <td>0.0</td>\n",
              "      <td>0.5</td>\n",
              "      <td>4.00</td>\n",
              "      <td>0.0</td>\n",
              "      <td>0.3</td>\n",
              "      <td>20.80</td>\n",
              "      <td>0.238</td>\n",
              "      <td>1</td>\n",
              "      <td>tuesday</td>\n",
              "      <td>0</td>\n",
              "      <td>1</td>\n",
              "      <td>0</td>\n",
              "      <td>0</td>\n",
              "      <td>apr</td>\n",
              "    </tr>\n",
              "    <tr>\n",
              "      <th>2</th>\n",
              "      <td>106203690</td>\n",
              "      <td>1</td>\n",
              "      <td>2017-12-15 07:26:56</td>\n",
              "      <td>2017-12-15 07:34:08</td>\n",
              "      <td>1</td>\n",
              "      <td>1.00</td>\n",
              "      <td>1</td>\n",
              "      <td>N</td>\n",
              "      <td>262</td>\n",
              "      <td>236</td>\n",
              "      <td>1</td>\n",
              "      <td>6.5</td>\n",
              "      <td>0.0</td>\n",
              "      <td>0.5</td>\n",
              "      <td>1.45</td>\n",
              "      <td>0.0</td>\n",
              "      <td>0.3</td>\n",
              "      <td>8.75</td>\n",
              "      <td>0.199</td>\n",
              "      <td>0</td>\n",
              "      <td>friday</td>\n",
              "      <td>1</td>\n",
              "      <td>0</td>\n",
              "      <td>0</td>\n",
              "      <td>0</td>\n",
              "      <td>dec</td>\n",
              "    </tr>\n",
              "    <tr>\n",
              "      <th>3</th>\n",
              "      <td>38942136</td>\n",
              "      <td>2</td>\n",
              "      <td>2017-05-07 13:17:59</td>\n",
              "      <td>2017-05-07 13:48:14</td>\n",
              "      <td>1</td>\n",
              "      <td>3.70</td>\n",
              "      <td>1</td>\n",
              "      <td>N</td>\n",
              "      <td>188</td>\n",
              "      <td>97</td>\n",
              "      <td>1</td>\n",
              "      <td>20.5</td>\n",
              "      <td>0.0</td>\n",
              "      <td>0.5</td>\n",
              "      <td>6.39</td>\n",
              "      <td>0.0</td>\n",
              "      <td>0.3</td>\n",
              "      <td>27.69</td>\n",
              "      <td>0.300</td>\n",
              "      <td>1</td>\n",
              "      <td>sunday</td>\n",
              "      <td>0</td>\n",
              "      <td>1</td>\n",
              "      <td>0</td>\n",
              "      <td>0</td>\n",
              "      <td>may</td>\n",
              "    </tr>\n",
              "    <tr>\n",
              "      <th>5</th>\n",
              "      <td>23345809</td>\n",
              "      <td>2</td>\n",
              "      <td>2017-03-25 20:34:11</td>\n",
              "      <td>2017-03-25 20:42:11</td>\n",
              "      <td>6</td>\n",
              "      <td>2.30</td>\n",
              "      <td>1</td>\n",
              "      <td>N</td>\n",
              "      <td>161</td>\n",
              "      <td>236</td>\n",
              "      <td>1</td>\n",
              "      <td>9.0</td>\n",
              "      <td>0.5</td>\n",
              "      <td>0.5</td>\n",
              "      <td>2.06</td>\n",
              "      <td>0.0</td>\n",
              "      <td>0.3</td>\n",
              "      <td>12.36</td>\n",
              "      <td>0.200</td>\n",
              "      <td>1</td>\n",
              "      <td>saturday</td>\n",
              "      <td>0</td>\n",
              "      <td>0</td>\n",
              "      <td>0</td>\n",
              "      <td>1</td>\n",
              "      <td>mar</td>\n",
              "    </tr>\n",
              "  </tbody>\n",
              "</table>\n",
              "</div>"
            ],
            "text/plain": [
              "   Unnamed: 0  VendorID tpep_pickup_datetime tpep_dropoff_datetime  \\\n",
              "0    24870114         2  2017-03-25 08:55:43   2017-03-25 09:09:47   \n",
              "1    35634249         1  2017-04-11 14:53:28   2017-04-11 15:19:58   \n",
              "2   106203690         1  2017-12-15 07:26:56   2017-12-15 07:34:08   \n",
              "3    38942136         2  2017-05-07 13:17:59   2017-05-07 13:48:14   \n",
              "5    23345809         2  2017-03-25 20:34:11   2017-03-25 20:42:11   \n",
              "\n",
              "   passenger_count  trip_distance  RatecodeID store_and_fwd_flag  \\\n",
              "0                6           3.34           1                  N   \n",
              "1                1           1.80           1                  N   \n",
              "2                1           1.00           1                  N   \n",
              "3                1           3.70           1                  N   \n",
              "5                6           2.30           1                  N   \n",
              "\n",
              "   PULocationID  DOLocationID  payment_type  fare_amount  extra  mta_tax  \\\n",
              "0           100           231             1         13.0    0.0      0.5   \n",
              "1           186            43             1         16.0    0.0      0.5   \n",
              "2           262           236             1          6.5    0.0      0.5   \n",
              "3           188            97             1         20.5    0.0      0.5   \n",
              "5           161           236             1          9.0    0.5      0.5   \n",
              "\n",
              "   tip_amount  tolls_amount  improvement_surcharge  total_amount  tip_percent  \\\n",
              "0        2.76           0.0                    0.3         16.56        0.200   \n",
              "1        4.00           0.0                    0.3         20.80        0.238   \n",
              "2        1.45           0.0                    0.3          8.75        0.199   \n",
              "3        6.39           0.0                    0.3         27.69        0.300   \n",
              "5        2.06           0.0                    0.3         12.36        0.200   \n",
              "\n",
              "   generous       day  am_rush  daytime  pm_rush  nighttime month  \n",
              "0         1  saturday        1        0        0          0   mar  \n",
              "1         1   tuesday        0        1        0          0   apr  \n",
              "2         0    friday        1        0        0          0   dec  \n",
              "3         1    sunday        0        1        0          0   may  \n",
              "5         1  saturday        0        0        0          1   mar  "
            ]
          },
          "execution_count": 26,
          "metadata": {},
          "output_type": "execute_result"
        }
      ],
      "source": [
        "df1.head()"
      ]
    },
    {
      "cell_type": "markdown",
      "metadata": {
        "id": "jhrO4ng5DOkX"
      },
      "source": [
        "#### Drop columns\n",
        "\n",
        "we drop redundant and irrelevant columns as well as those that would not be available when the model is deployed. This includes information like payment type, trip distance, tip amount, tip percentage, total amount, toll amount, etc. The target variable (`generous`) must remain in the data because it will get isolated as the `y` data for modeling."
      ]
    },
    {
      "cell_type": "code",
      "execution_count": null,
      "metadata": {
        "id": "vnIclDW4DOkX",
        "outputId": "e85f1c9a-9cb5-40c7-ffdf-e58d5001f5d6"
      },
      "outputs": [
        {
          "name": "stdout",
          "output_type": "stream",
          "text": [
            "<class 'pandas.core.frame.DataFrame'>\n",
            "Int64Index: 15265 entries, 0 to 22698\n",
            "Data columns (total 26 columns):\n",
            " #   Column                 Non-Null Count  Dtype         \n",
            "---  ------                 --------------  -----         \n",
            " 0   Unnamed: 0             15265 non-null  int64         \n",
            " 1   VendorID               15265 non-null  int64         \n",
            " 2   tpep_pickup_datetime   15265 non-null  datetime64[ns]\n",
            " 3   tpep_dropoff_datetime  15265 non-null  datetime64[ns]\n",
            " 4   passenger_count        15265 non-null  int64         \n",
            " 5   trip_distance          15265 non-null  float64       \n",
            " 6   RatecodeID             15265 non-null  int64         \n",
            " 7   store_and_fwd_flag     15265 non-null  object        \n",
            " 8   PULocationID           15265 non-null  int64         \n",
            " 9   DOLocationID           15265 non-null  int64         \n",
            " 10  payment_type           15265 non-null  int64         \n",
            " 11  fare_amount            15265 non-null  float64       \n",
            " 12  extra                  15265 non-null  float64       \n",
            " 13  mta_tax                15265 non-null  float64       \n",
            " 14  tip_amount             15265 non-null  float64       \n",
            " 15  tolls_amount           15265 non-null  float64       \n",
            " 16  improvement_surcharge  15265 non-null  float64       \n",
            " 17  total_amount           15265 non-null  float64       \n",
            " 18  tip_percent            15262 non-null  float64       \n",
            " 19  generous               15265 non-null  int32         \n",
            " 20  day                    15265 non-null  object        \n",
            " 21  am_rush                15265 non-null  int64         \n",
            " 22  daytime                15265 non-null  int64         \n",
            " 23  pm_rush                15265 non-null  int64         \n",
            " 24  nighttime              15265 non-null  int64         \n",
            " 25  month                  15265 non-null  object        \n",
            "dtypes: datetime64[ns](2), float64(9), int32(1), int64(11), object(3)\n",
            "memory usage: 3.1+ MB\n"
          ]
        }
      ],
      "source": [
        "df1.info()"
      ]
    },
    {
      "cell_type": "code",
      "execution_count": null,
      "metadata": {
        "id": "wbvEW9epDOkX",
        "outputId": "35e3d511-fe9b-404f-c9ad-a1638550fd3a"
      },
      "outputs": [
        {
          "name": "stdout",
          "output_type": "stream",
          "text": [
            "<class 'pandas.core.frame.DataFrame'>\n",
            "Int64Index: 15265 entries, 0 to 22698\n",
            "Data columns (total 12 columns):\n",
            " #   Column           Non-Null Count  Dtype \n",
            "---  ------           --------------  ----- \n",
            " 0   VendorID         15265 non-null  int64 \n",
            " 1   passenger_count  15265 non-null  int64 \n",
            " 2   RatecodeID       15265 non-null  int64 \n",
            " 3   PULocationID     15265 non-null  int64 \n",
            " 4   DOLocationID     15265 non-null  int64 \n",
            " 5   generous         15265 non-null  int32 \n",
            " 6   day              15265 non-null  object\n",
            " 7   am_rush          15265 non-null  int64 \n",
            " 8   daytime          15265 non-null  int64 \n",
            " 9   pm_rush          15265 non-null  int64 \n",
            " 10  nighttime        15265 non-null  int64 \n",
            " 11  month            15265 non-null  object\n",
            "dtypes: int32(1), int64(9), object(2)\n",
            "memory usage: 1.5+ MB\n"
          ]
        }
      ],
      "source": [
        "# Drop columns\n",
        "drop_cols = ['Unnamed: 0', 'tpep_pickup_datetime', 'tpep_dropoff_datetime',\n",
        "             'payment_type', 'trip_distance', 'store_and_fwd_flag', 'payment_type',\n",
        "             'fare_amount', 'extra', 'mta_tax', 'tip_amount', 'tolls_amount',\n",
        "             'improvement_surcharge', 'total_amount', 'tip_percent']\n",
        "\n",
        "df1 = df1.drop(drop_cols, axis=1)\n",
        "df1.info()"
      ]
    },
    {
      "cell_type": "markdown",
      "metadata": {
        "id": "gZCM0B5iDOkX"
      },
      "source": [
        "#### Variable encoding"
      ]
    },
    {
      "cell_type": "markdown",
      "metadata": {
        "id": "BVs01W-Iitu7"
      },
      "source": [
        "Many of the columns are categorical and will need to be dummied (converted to binary). Some of these columns are numeric, but they actually encode categorical information, such as `RatecodeID` and the pickup and dropoff locations. To make these columns recognizable to the `get_dummies()` function as categorical variables, we'll first need to convert them to `type(str)`.\n",
        "\n",
        "1. we define a variable called `cols_to_str`, which is a list of the numeric columns that contain categorical information and must be converted to string: `RatecodeID`, `PULocationID`, `DOLocationID`.\n",
        "2. Write a for loop that converts each column in `cols_to_str` to string.\n"
      ]
    },
    {
      "cell_type": "code",
      "execution_count": null,
      "metadata": {
        "id": "FbB4AfATHqjC"
      },
      "outputs": [],
      "source": [
        "# 1. Define list of cols to convert to string\n",
        "cols_to_str = ['RatecodeID', 'PULocationID', 'DOLocationID', 'VendorID']\n",
        "\n",
        "# 2. Convert each column to string\n",
        "for col in cols_to_str:\n",
        "    df1[col] = df1[col].astype('str')"
      ]
    },
    {
      "cell_type": "markdown",
      "metadata": {
        "id": "6j6Nyb5RnsvC"
      },
      "source": [
        "\n",
        "\n",
        "\n",
        "To convert to string, use `astype(str)` on the column.\n"
      ]
    },
    {
      "cell_type": "markdown",
      "metadata": {
        "id": "_5Ubw8O1pKRO"
      },
      "source": [
        "Now convert all the categorical columns to binary.\n",
        "\n",
        "1. Call `get_dummies()` on the dataframe and assign the results back to a new dataframe called `df2`.\n"
      ]
    },
    {
      "cell_type": "code",
      "execution_count": null,
      "metadata": {
        "id": "H94yLzUMHqgB",
        "outputId": "ea78b9f5-9257-4dd1-c213-40fd38660b73"
      },
      "outputs": [
        {
          "name": "stdout",
          "output_type": "stream",
          "text": [
            "<class 'pandas.core.frame.DataFrame'>\n",
            "Int64Index: 15265 entries, 0 to 22698\n",
            "Columns: 344 entries, passenger_count to month_sep\n",
            "dtypes: int32(1), int64(5), uint8(338)\n",
            "memory usage: 5.7 MB\n"
          ]
        }
      ],
      "source": [
        "# Convert categoricals to binary\n",
        "df2 = pd.get_dummies(df1, drop_first=True)\n",
        "df2.info()"
      ]
    },
    {
      "cell_type": "markdown",
      "metadata": {
        "id": "nZfNE37b-LlJ"
      },
      "source": [
        "##### Evaluation metric\n",
        "\n",
        "Before modeling, we must decide on an evaluation metric.\n",
        "\n",
        "1. Examine the class balance of your target variable."
      ]
    },
    {
      "cell_type": "code",
      "execution_count": null,
      "metadata": {
        "id": "4mRefXCF-K_c",
        "outputId": "321cf9a5-0df8-4a3b-db1c-387b74a0dea7"
      },
      "outputs": [
        {
          "data": {
            "text/plain": [
              "1    0.526368\n",
              "0    0.473632\n",
              "Name: generous, dtype: float64"
            ]
          },
          "execution_count": 31,
          "metadata": {},
          "output_type": "execute_result"
        }
      ],
      "source": [
        "# Get class balance of 'generous' col\n",
        "df2['generous'].value_counts(normalize=True)"
      ]
    },
    {
      "cell_type": "markdown",
      "metadata": {
        "id": "TjgkLrOf_OrE"
      },
      "source": [
        "A little over half of the customers in this dataset were \"generous\" (tipped ≥ 20%). The dataset is very nearly balanced.\n",
        "\n",
        "To determine a metric, consider the cost of both kinds of model error:\n",
        "* False positives (the model predicts a tip ≥ 20%, but the customer does not give one)\n",
        "* False negatives (the model predicts a tip < 20%, but the customer gives more)\n",
        "\n",
        "False positives are worse for cab drivers, because they would pick up a customer expecting a good tip and then not receive one, frustrating the driver.\n",
        "\n",
        "False negatives are worse for customers, because a cab driver would likely pick up a different customer who was predicted to tip more&mdash;even when the original customer would have tipped generously.\n",
        "\n",
        "**The stakes are relatively even. we want to help taxi drivers make more money, but we don't want this to anger customers. our metric should weigh both precision and recall equally. Which metric is this?**\n",
        "\n",
        "**Exemplar response:**  F<sub>1</sub> score is the metric that places equal weight on true postives and false positives, and so therefore on precision and recall."
      ]
    },
    {
      "cell_type": "markdown",
      "metadata": {
        "id": "3n1eikFh8akS"
      },
      "source": [
        "<img src=\"images/Construct.png\" width=\"100\" height=\"100\" align=left>\n",
        "\n",
        "## PACE: **Construct**\n",
        "\n",
        "Consider the questions in your PACE Strategy Document to reflect on the Construct stage."
      ]
    },
    {
      "cell_type": "markdown",
      "metadata": {
        "id": "G5jzGjOS8iiv"
      },
      "source": [
        "### **Task 3. Modeling**"
      ]
    },
    {
      "cell_type": "markdown",
      "metadata": {
        "id": "Nx41bVxX89Fe"
      },
      "source": [
        "##### **Split the data**\n",
        "\n",
        "Now we're ready to model. The only remaining step is to split the data into features/target variable and training/testing data.\n",
        "\n",
        "1. Define a variable `y` that isolates the target variable (`generous`).\n",
        "2. Define a variable `X` that isolates the features.\n",
        "3. Split the data into training and testing sets. Put 20% of the samples into the test set, stratify the data, and set the random state."
      ]
    },
    {
      "cell_type": "code",
      "execution_count": null,
      "metadata": {
        "id": "qLbapbSWDUL-"
      },
      "outputs": [],
      "source": [
        "# Isolate target variable (y)\n",
        "y = df2['generous']\n",
        "\n",
        "# Isolate the features (X)\n",
        "X = df2.drop('generous', axis=1)\n",
        "\n",
        "# Split into train and test sets\n",
        "X_train, X_test, y_train, y_test = train_test_split(X, y, stratify=y, test_size=0.2, random_state=42)"
      ]
    },
    {
      "cell_type": "markdown",
      "metadata": {
        "id": "vynZs5het1b_"
      },
      "source": [
        "##### **Random forest**\n",
        "\n",
        "we begin with using `GridSearchCV` to tune a random forest model.\n",
        "\n",
        "1. Instantiate the random forest classifier `rf` and set the random state.\n",
        "\n",
        "2. Create a dictionary `cv_params` of any of the following hyperparameters and their corresponding values to tune. The more we tune, the better our model will fit the data, but the longer it will take.\n",
        " - `max_depth`  \n",
        " - `max_features`  \n",
        " - `max_samples`\n",
        " - `min_samples_leaf`  \n",
        " - `min_samples_split`\n",
        " - `n_estimators`  \n",
        "\n",
        "3. Define a set `scoring` of scoring metrics for GridSearch to capture (precision, recall, F1 score, and accuracy).\n",
        "\n",
        "4. Instantiate the `GridSearchCV` object `rf1`. Pass to it as arguments:\n",
        " - estimator=`rf`\n",
        " - param_grid=`cv_params`\n",
        " - scoring=`scoring`\n",
        " - cv: define the number of you cross-validation folds you want (`cv=_`)\n",
        " - refit: indicate which evaluation metric you want to use to select the model (`refit=_`)\n",
        "\n",
        " **Note:** `refit` should be set to `'f1'`.<font/>\n",
        "</details>\n"
      ]
    },
    {
      "cell_type": "code",
      "execution_count": null,
      "metadata": {
        "id": "Vj5rJWOv5O3d"
      },
      "outputs": [],
      "source": [
        "# 1. Instantiate the random forest classifier\n",
        "rf = RandomForestClassifier(random_state=42)\n",
        "\n",
        "# 2. Create a dictionary of hyperparameters to tune\n",
        "# Note that this example only contains 1 value for each parameter for simplicity,\n",
        "# but you should assign a dictionary with ranges of values\n",
        "cv_params = {'max_depth': [None],\n",
        "             'max_features': [1.0],\n",
        "             'max_samples': [0.7],\n",
        "             'min_samples_leaf': [1],\n",
        "             'min_samples_split': [2],\n",
        "             'n_estimators': [300]\n",
        "             }\n",
        "\n",
        "# 3. Define a set of scoring metrics to capture\n",
        "scoring = {'accuracy', 'precision', 'recall', 'f1'}\n",
        "\n",
        "# 4. Instantiate the GridSearchCV object\n",
        "rf1 = GridSearchCV(rf, cv_params, scoring=scoring, cv=4, refit='f1')"
      ]
    },
    {
      "cell_type": "markdown",
      "metadata": {
        "id": "Wv_WvRA1RqTl"
      },
      "source": [
        "Now fit the model to the training data.<br>  \n",
        "\n",
        "**_Note_**: _Depending on how many options you include in your search grid and the number of cross-validation folds we select, this could take a very long time&mdash;even hours. If we use 4-fold validation and include only one possible value for each hyperparameter and grow 300 trees to full depth, it should take about 5 minutes. If we add another value for GridSearch to check for, say, `min_samples_split` (so all hyperparameters now have 1 value except for `min_samples_split`, which has 2 possibilities), it would double the time to ~10 minutes. Each additional parameter would approximately double the time._"
      ]
    },
    {
      "cell_type": "code",
      "execution_count": null,
      "metadata": {
        "id": "OXuBiTGi5ZHn",
        "outputId": "e0bd81c2-d3a7-422c-cecf-344e9230f074"
      },
      "outputs": [
        {
          "name": "stdout",
          "output_type": "stream",
          "text": [
            "Wall time: 5min 3s\n"
          ]
        },
        {
          "data": {
            "text/plain": [
              "GridSearchCV(cv=4, estimator=RandomForestClassifier(random_state=42),\n",
              "             param_grid={'max_depth': [None], 'max_features': [1.0],\n",
              "                         'max_samples': [0.7], 'min_samples_leaf': [1],\n",
              "                         'min_samples_split': [2], 'n_estimators': [300]},\n",
              "             refit='f1', scoring={'precision', 'recall', 'accuracy', 'f1'})"
            ]
          },
          "execution_count": 34,
          "metadata": {},
          "output_type": "execute_result"
        }
      ],
      "source": [
        "%%time\n",
        "rf1.fit(X_train, y_train)"
      ]
    },
    {
      "cell_type": "markdown",
      "metadata": {
        "id": "5wHi_YJduQOH"
      },
      "source": [
        "\n",
        "\n",
        "If we get a warning that a metric is 0 due to no predicted samples, think about how many features we're sampling with `max_features`. How many features are in the dataset? How many are likely predictive enough to give good predictions within the number of splits we've allowed (determined by the `max_depth` hyperparameter)? Consider increasing `max_features`.\n"
      ]
    },
    {
      "cell_type": "markdown",
      "metadata": {
        "id": "ChZsXw2sksDF"
      },
      "source": [
        "we would use `pickle` to save our models and read them back in. This can be particularly helpful when performing a search over many possible hyperparameter values."
      ]
    },
    {
      "cell_type": "code",
      "execution_count": null,
      "metadata": {
        "id": "YtAgrH0zy4CE"
      },
      "outputs": [],
      "source": [
        "import pickle\n",
        "\n",
        "# Define a path to the folder where you want to save the model\n",
        "path = '/home/jovyan/work/'"
      ]
    },
    {
      "cell_type": "code",
      "execution_count": null,
      "metadata": {
        "id": "6JsLR2-uy9p1"
      },
      "outputs": [],
      "source": [
        "def write_pickle(path, model_object, save_name:str):\n",
        "    '''\n",
        "    save_name is a string.\n",
        "    '''\n",
        "    with open(path + save_name + '.pickle', 'wb') as to_write:\n",
        "        pickle.dump(model_object, to_write)"
      ]
    },
    {
      "cell_type": "code",
      "execution_count": null,
      "metadata": {
        "id": "eE7GMb82zRsT"
      },
      "outputs": [],
      "source": [
        "def read_pickle(path, saved_model_name:str):\n",
        "    '''\n",
        "    saved_model_name is a string.\n",
        "    '''\n",
        "    with open(path + saved_model_name + '.pickle', 'rb') as to_read:\n",
        "        model = pickle.load(to_read)\n",
        "\n",
        "        return model"
      ]
    },
    {
      "cell_type": "markdown",
      "metadata": {
        "id": "QIaRiZW4hf-6"
      },
      "source": [
        "Examine the best average score across all the validation folds."
      ]
    },
    {
      "cell_type": "code",
      "execution_count": null,
      "metadata": {
        "id": "29kGUegqhviL",
        "outputId": "920845e9-e236-4dc0-aa95-0a5deee106d2"
      },
      "outputs": [
        {
          "data": {
            "text/plain": [
              "0.7138244032987017"
            ]
          },
          "execution_count": 38,
          "metadata": {},
          "output_type": "execute_result"
        }
      ],
      "source": [
        "# Examine best score\n",
        "rf1.best_score_"
      ]
    },
    {
      "cell_type": "markdown",
      "metadata": {
        "id": "heGb51fHh3E5"
      },
      "source": [
        "Examine the best combination of hyperparameters."
      ]
    },
    {
      "cell_type": "code",
      "execution_count": null,
      "metadata": {
        "id": "FjgXbO7Kh8is",
        "outputId": "c499621a-f48f-4b1b-c2a2-c47edc49f89b"
      },
      "outputs": [
        {
          "data": {
            "text/plain": [
              "{'max_depth': None,\n",
              " 'max_features': 1.0,\n",
              " 'max_samples': 0.7,\n",
              " 'min_samples_leaf': 1,\n",
              " 'min_samples_split': 2,\n",
              " 'n_estimators': 300}"
            ]
          },
          "execution_count": 39,
          "metadata": {},
          "output_type": "execute_result"
        }
      ],
      "source": [
        "rf1.best_params_"
      ]
    },
    {
      "cell_type": "markdown",
      "metadata": {
        "id": "qZZnem5yiAau"
      },
      "source": [
        "we Use the `make_results()` function to output all of the scores of your model. Note that it accepts three arguments."
      ]
    },
    {
      "cell_type": "markdown",
      "metadata": {
        "id": "GeW48TS742jN"
      },
      "source": [
        "\n",
        "\n",
        "To learn more about how this function accesses the cross-validation results, refer to the [`GridSearchCV` scikit-learn documentation](https://scikit-learn.org/stable/modules/generated/sklearn.model_selection.GridSearchCV.html?highlight=gridsearchcv#sklearn.model_selection.GridSearchCV) for the `cv_results_` attribute.\n"
      ]
    },
    {
      "cell_type": "code",
      "execution_count": null,
      "metadata": {
        "id": "u-UodWEOedxz"
      },
      "outputs": [],
      "source": [
        "def make_results(model_name:str, model_object, metric:str):\n",
        "    '''\n",
        "    Arguments:\n",
        "    model_name (string): what we want the model to be called in the output table\n",
        "    model_object: a fit GridSearchCV object\n",
        "    metric (string): precision, recall, f1, or accuracy\n",
        "\n",
        "    Returns a pandas df with the F1, recall, precision, and accuracy scores\n",
        "    for the model with the best mean 'metric' score across all validation folds.\n",
        "    '''\n",
        "\n",
        "    # Create dictionary that maps input metric to actual metric name in GridSearchCV\n",
        "    metric_dict = {'precision': 'mean_test_precision',\n",
        "                 'recall': 'mean_test_recall',\n",
        "                 'f1': 'mean_test_f1',\n",
        "                 'accuracy': 'mean_test_accuracy',\n",
        "                 }\n",
        "\n",
        "    # Get all the results from the CV and put them in a df\n",
        "    cv_results = pd.DataFrame(model_object.cv_results_)\n",
        "\n",
        "    # Isolate the row of the df with the max(metric) score\n",
        "    best_estimator_results = cv_results.iloc[cv_results[metric_dict[metric]].idxmax(), :]\n",
        "\n",
        "    # Extract Accuracy, precision, recall, and f1 score from that row\n",
        "    f1 = best_estimator_results.mean_test_f1\n",
        "    recall = best_estimator_results.mean_test_recall\n",
        "    precision = best_estimator_results.mean_test_precision\n",
        "    accuracy = best_estimator_results.mean_test_accuracy\n",
        "\n",
        "    # Create table of results\n",
        "    table = pd.DataFrame({'model': [model_name],\n",
        "                        'precision': [precision],\n",
        "                        'recall': [recall],\n",
        "                        'F1': [f1],\n",
        "                        'accuracy': [accuracy],\n",
        "                        },\n",
        "                       )\n",
        "\n",
        "    return table"
      ]
    },
    {
      "cell_type": "code",
      "execution_count": null,
      "metadata": {
        "id": "qAYb2QigiT_h",
        "outputId": "9a5abefb-d4f1-4423-8eae-2372ab11628c"
      },
      "outputs": [
        {
          "data": {
            "text/html": [
              "<div>\n",
              "<style scoped>\n",
              "    .dataframe tbody tr th:only-of-type {\n",
              "        vertical-align: middle;\n",
              "    }\n",
              "\n",
              "    .dataframe tbody tr th {\n",
              "        vertical-align: top;\n",
              "    }\n",
              "\n",
              "    .dataframe thead th {\n",
              "        text-align: right;\n",
              "    }\n",
              "</style>\n",
              "<table border=\"1\" class=\"dataframe\">\n",
              "  <thead>\n",
              "    <tr style=\"text-align: right;\">\n",
              "      <th></th>\n",
              "      <th>model</th>\n",
              "      <th>precision</th>\n",
              "      <th>recall</th>\n",
              "      <th>F1</th>\n",
              "      <th>accuracy</th>\n",
              "    </tr>\n",
              "  </thead>\n",
              "  <tbody>\n",
              "    <tr>\n",
              "      <th>0</th>\n",
              "      <td>RF CV</td>\n",
              "      <td>0.683952</td>\n",
              "      <td>0.746733</td>\n",
              "      <td>0.713824</td>\n",
              "      <td>0.685064</td>\n",
              "    </tr>\n",
              "  </tbody>\n",
              "</table>\n",
              "</div>"
            ],
            "text/plain": [
              "   model  precision    recall        F1  accuracy\n",
              "0  RF CV   0.683952  0.746733  0.713824  0.685064"
            ]
          },
          "execution_count": 41,
          "metadata": {},
          "output_type": "execute_result"
        }
      ],
      "source": [
        "# Call 'make_results()' on the GridSearch object\n",
        "results = make_results('RF CV', rf1, 'f1')\n",
        "results"
      ]
    },
    {
      "cell_type": "markdown",
      "metadata": {
        "id": "SB-yhW9uu7dO"
      },
      "source": [
        "This is an acceptable model across the board. Typically scores of 0.65 or better are considered acceptable, but this is always dependent on our use case. Optional: we try to improve the scores. It's worth trying, especially to practice searching over different hyperparameters.\n",
        "\n",
        "<details>\n",
        "  <summary><h5>HINT</h5></summary>\n",
        "\n",
        "For example, if the available values for `min_samples_split` were [2, 3, 4] and GridSearch identified the best value as 4, consider trying [4, 5, 6] this time.\n",
        "</details>"
      ]
    },
    {
      "cell_type": "markdown",
      "metadata": {
        "id": "psMS4fHCDOkb"
      },
      "source": [
        "we use our model to predict on the test data. Assign the results to a variable called `rf_preds`.\n",
        "\n",
        "<details>\n",
        "  <summary><h5>HINT</h5></summary>\n",
        "we cannot call `predict()` on the GridSearchCV object directly. we must call it on the `best_estimator_`.\n",
        "</details>\n",
        "\n",
        "NOTE: For this project, we will use several models to predict on the test data. Remember that this decision comes with a trade-off. What is the benefit of this? What is the drawback?\n",
        "\n",
        "**Exemplar response:**\n",
        "\n",
        "The benefit of using multiple models to predict on the test data is that we can compare models using data that was not used to train/tune hyperparameters. This reduces the risk of selecting a model based on how well it fit the training data.\n",
        "\n",
        "The drawback of using the final test data to select a model is that, by using the unseen data to make a decision about which model to use, we no longer have a truly unbiased idea of how our model would be expected to perform on new data. In this case, think of final model selection as another way of \"tuning\" your model."
      ]
    },
    {
      "cell_type": "code",
      "execution_count": null,
      "metadata": {
        "id": "MeuQVIuxDOkb"
      },
      "outputs": [],
      "source": [
        "# Get scores on test data\n",
        "rf_preds = rf1.best_estimator_.predict(X_test)"
      ]
    },
    {
      "cell_type": "markdown",
      "metadata": {
        "id": "T3RZcAHnDOkb"
      },
      "source": [
        "we use the below `get_test_scores()` function you will use to output the scores of the model on the test data."
      ]
    },
    {
      "cell_type": "code",
      "execution_count": null,
      "metadata": {
        "id": "ycwjBHJjiT9J"
      },
      "outputs": [],
      "source": [
        "def get_test_scores(model_name:str, preds, y_test_data):\n",
        "    '''\n",
        "    Generate a table of test scores.\n",
        "\n",
        "    In:\n",
        "    model_name (string): Your choice: how the model will be named in the output table\n",
        "    preds: numpy array of test predictions\n",
        "    y_test_data: numpy array of y_test data\n",
        "\n",
        "    Out:\n",
        "    table: a pandas df of precision, recall, f1, and accuracy scores for your model\n",
        "    '''\n",
        "    accuracy = accuracy_score(y_test_data, preds)\n",
        "    precision = precision_score(y_test_data, preds)\n",
        "    recall = recall_score(y_test_data, preds)\n",
        "    f1 = f1_score(y_test_data, preds)\n",
        "\n",
        "    table = pd.DataFrame({'model': [model_name],\n",
        "                        'precision': [precision],\n",
        "                        'recall': [recall],\n",
        "                        'F1': [f1],\n",
        "                        'accuracy': [accuracy]\n",
        "                        })\n",
        "\n",
        "    return table"
      ]
    },
    {
      "cell_type": "markdown",
      "metadata": {
        "id": "FDRAL7zQx21J"
      },
      "source": [
        "1. we use the `get_test_scores()` function to generate the scores on the test data. Assign the results to `rf_test_scores`.\n",
        "2. Call `rf_test_scores` to output the results."
      ]
    },
    {
      "cell_type": "markdown",
      "metadata": {
        "id": "5F_qOpmZDOkc"
      },
      "source": [
        "###### RF test results"
      ]
    },
    {
      "cell_type": "code",
      "execution_count": null,
      "metadata": {
        "id": "Iil1LjabiT5x",
        "outputId": "395be945-1383-417f-fe0a-92ee1929df95"
      },
      "outputs": [
        {
          "data": {
            "text/html": [
              "<div>\n",
              "<style scoped>\n",
              "    .dataframe tbody tr th:only-of-type {\n",
              "        vertical-align: middle;\n",
              "    }\n",
              "\n",
              "    .dataframe tbody tr th {\n",
              "        vertical-align: top;\n",
              "    }\n",
              "\n",
              "    .dataframe thead th {\n",
              "        text-align: right;\n",
              "    }\n",
              "</style>\n",
              "<table border=\"1\" class=\"dataframe\">\n",
              "  <thead>\n",
              "    <tr style=\"text-align: right;\">\n",
              "      <th></th>\n",
              "      <th>model</th>\n",
              "      <th>precision</th>\n",
              "      <th>recall</th>\n",
              "      <th>F1</th>\n",
              "      <th>accuracy</th>\n",
              "    </tr>\n",
              "  </thead>\n",
              "  <tbody>\n",
              "    <tr>\n",
              "      <th>0</th>\n",
              "      <td>RF CV</td>\n",
              "      <td>0.683952</td>\n",
              "      <td>0.746733</td>\n",
              "      <td>0.713824</td>\n",
              "      <td>0.685064</td>\n",
              "    </tr>\n",
              "    <tr>\n",
              "      <th>0</th>\n",
              "      <td>RF test</td>\n",
              "      <td>0.677704</td>\n",
              "      <td>0.764157</td>\n",
              "      <td>0.718339</td>\n",
              "      <td>0.684573</td>\n",
              "    </tr>\n",
              "  </tbody>\n",
              "</table>\n",
              "</div>"
            ],
            "text/plain": [
              "     model  precision    recall        F1  accuracy\n",
              "0    RF CV   0.683952  0.746733  0.713824  0.685064\n",
              "0  RF test   0.677704  0.764157  0.718339  0.684573"
            ]
          },
          "execution_count": 44,
          "metadata": {},
          "output_type": "execute_result"
        }
      ],
      "source": [
        "# Get scores on test data\n",
        "rf_test_scores = get_test_scores('RF test', rf_preds, y_test)\n",
        "results = pd.concat([results, rf_test_scores], axis=0)\n",
        "results"
      ]
    },
    {
      "cell_type": "markdown",
      "metadata": {
        "id": "bLQ4t7n7DOkc"
      },
      "source": [
        "**Question:** How do our test results compare to our validation results?"
      ]
    },
    {
      "cell_type": "markdown",
      "metadata": {
        "id": "E4JiP5VRz2un"
      },
      "source": [
        "**Exemplar response:** All scores increased by at most ~0.02."
      ]
    },
    {
      "cell_type": "markdown",
      "metadata": {
        "id": "ca9rA-31DOkc"
      },
      "source": [
        "##### **XGBoost**\n",
        "\n",
        " Try to improve our scores using an XGBoost model.\n",
        "\n",
        "1. we will instantiate the XGBoost classifier `xgb` and set `objective='binary:logistic'`. Also set the random state.\n",
        "\n",
        "2. we create a dictionary `cv_params` of the following hyperparameters and their corresponding values to tune:\n",
        " - `max_depth`\n",
        " - `min_child_weight`\n",
        " - `learning_rate`\n",
        " - `n_estimators`\n",
        "\n",
        "3. we define a set `scoring` of scoring metrics for grid search to capture (precision, recall, F1 score, and accuracy).\n",
        "\n",
        "4. Instantiate the `GridSearchCV` object `xgb1`. Pass to it as arguments:\n",
        " - estimator=`xgb`\n",
        " - param_grid=`cv_params`\n",
        " - scoring=`scoring`\n",
        " - cv: define the number of cross-validation folds you want (`cv=_`)\n",
        " - refit: indicate which evaluation metric you want to use to select the model (`refit='f1'`)"
      ]
    },
    {
      "cell_type": "code",
      "execution_count": null,
      "metadata": {
        "id": "dE6oXEJJiT2R"
      },
      "outputs": [],
      "source": [
        "# 1. Instantiate the XGBoost classifier\n",
        "xgb = XGBClassifier(objective='binary:logistic', random_state=0)\n",
        "\n",
        "# 2. we create a dictionary of hyperparameters to tune\n",
        "# Note that this example only contains 1 value for each parameter for simplicity,\n",
        "# but we should assign a dictionary with ranges of values\n",
        "cv_params = {'learning_rate': [0.1],\n",
        "             'max_depth': [8],\n",
        "             'min_child_weight': [2],\n",
        "             'n_estimators': [500]\n",
        "             }\n",
        "\n",
        "# 3. Define a set of scoring metrics to capture\n",
        "scoring = {'accuracy', 'precision', 'recall', 'f1'}\n",
        "\n",
        "# 4. Instantiate the GridSearchCV object\n",
        "xgb1 = GridSearchCV(xgb, cv_params, scoring=scoring, cv=4, refit='f1')"
      ]
    },
    {
      "cell_type": "markdown",
      "metadata": {
        "id": "-WU1_dEuDOkc"
      },
      "source": [
        "Now fit the model to the `X_train` and `y_train` data."
      ]
    },
    {
      "cell_type": "code",
      "execution_count": null,
      "metadata": {
        "scrolled": false,
        "id": "ltK5RbywDOkc",
        "outputId": "64d68b0e-623c-4ccb-e199-b02d23d391fe"
      },
      "outputs": [
        {
          "name": "stdout",
          "output_type": "stream",
          "text": [
            "Wall time: 8.79 s\n"
          ]
        },
        {
          "data": {
            "text/plain": [
              "GridSearchCV(cv=4,\n",
              "             estimator=XGBClassifier(base_score=None, booster=None,\n",
              "                                     callbacks=None, colsample_bylevel=None,\n",
              "                                     colsample_bynode=None,\n",
              "                                     colsample_bytree=None, device=None,\n",
              "                                     early_stopping_rounds=None,\n",
              "                                     enable_categorical=False, eval_metric=None,\n",
              "                                     feature_types=None, gamma=None,\n",
              "                                     grow_policy=None, importance_type=None,\n",
              "                                     interaction_constraints=None,\n",
              "                                     learning_rate=None,...\n",
              "                                     max_delta_step=None, max_depth=None,\n",
              "                                     max_leaves=None, min_child_weight=None,\n",
              "                                     missing=nan, monotone_constraints=None,\n",
              "                                     multi_strategy=None, n_estimators=None,\n",
              "                                     n_jobs=None, num_parallel_tree=None,\n",
              "                                     random_state=0, ...),\n",
              "             param_grid={'learning_rate': [0.1], 'max_depth': [8],\n",
              "                         'min_child_weight': [2], 'n_estimators': [500]},\n",
              "             refit='f1', scoring={'precision', 'recall', 'accuracy', 'f1'})"
            ]
          },
          "execution_count": 46,
          "metadata": {},
          "output_type": "execute_result"
        }
      ],
      "source": [
        "%%time\n",
        "xgb1.fit(X_train, y_train)"
      ]
    },
    {
      "cell_type": "markdown",
      "metadata": {
        "id": "yPSFvkrxDOkd"
      },
      "source": [
        "we get the best score from this model."
      ]
    },
    {
      "cell_type": "code",
      "execution_count": null,
      "metadata": {
        "id": "gOBlkVp-DOkd",
        "outputId": "4de7b4e4-4073-4356-afb0-446de200fdf3"
      },
      "outputs": [
        {
          "data": {
            "text/plain": [
              "0.7028133505902661"
            ]
          },
          "execution_count": 47,
          "metadata": {},
          "output_type": "execute_result"
        }
      ],
      "source": [
        "# Examine best score\n",
        "xgb1.best_score_"
      ]
    },
    {
      "cell_type": "markdown",
      "metadata": {
        "id": "2bB-QyGz0RcU"
      },
      "source": [
        "And the best parameters."
      ]
    },
    {
      "cell_type": "code",
      "execution_count": null,
      "metadata": {
        "id": "JiLja3YViTzj",
        "outputId": "5cf505fc-1d66-40b0-94e8-6a6d8515fda8"
      },
      "outputs": [
        {
          "data": {
            "text/plain": [
              "{'learning_rate': 0.1,\n",
              " 'max_depth': 8,\n",
              " 'min_child_weight': 2,\n",
              " 'n_estimators': 500}"
            ]
          },
          "execution_count": 48,
          "metadata": {},
          "output_type": "execute_result"
        }
      ],
      "source": [
        "# Examine best parameters\n",
        "xgb1.best_params_"
      ]
    },
    {
      "cell_type": "markdown",
      "metadata": {
        "id": "59JTmLZ-DOkd"
      },
      "source": [
        "###### XGB CV results"
      ]
    },
    {
      "cell_type": "markdown",
      "metadata": {
        "id": "eTE2QdNP0eEP"
      },
      "source": [
        "we use the `make_results()` function to output all of the scores of our model. Note that it accepts three arguments."
      ]
    },
    {
      "cell_type": "code",
      "execution_count": null,
      "metadata": {
        "id": "L4TSYXJWiTxs",
        "outputId": "2ec4c11d-7e68-4760-85af-807636559886"
      },
      "outputs": [
        {
          "data": {
            "text/html": [
              "<div>\n",
              "<style scoped>\n",
              "    .dataframe tbody tr th:only-of-type {\n",
              "        vertical-align: middle;\n",
              "    }\n",
              "\n",
              "    .dataframe tbody tr th {\n",
              "        vertical-align: top;\n",
              "    }\n",
              "\n",
              "    .dataframe thead th {\n",
              "        text-align: right;\n",
              "    }\n",
              "</style>\n",
              "<table border=\"1\" class=\"dataframe\">\n",
              "  <thead>\n",
              "    <tr style=\"text-align: right;\">\n",
              "      <th></th>\n",
              "      <th>model</th>\n",
              "      <th>precision</th>\n",
              "      <th>recall</th>\n",
              "      <th>F1</th>\n",
              "      <th>accuracy</th>\n",
              "    </tr>\n",
              "  </thead>\n",
              "  <tbody>\n",
              "    <tr>\n",
              "      <th>0</th>\n",
              "      <td>RF CV</td>\n",
              "      <td>0.683952</td>\n",
              "      <td>0.746733</td>\n",
              "      <td>0.713824</td>\n",
              "      <td>0.685064</td>\n",
              "    </tr>\n",
              "    <tr>\n",
              "      <th>0</th>\n",
              "      <td>RF test</td>\n",
              "      <td>0.677704</td>\n",
              "      <td>0.764157</td>\n",
              "      <td>0.718339</td>\n",
              "      <td>0.684573</td>\n",
              "    </tr>\n",
              "    <tr>\n",
              "      <th>0</th>\n",
              "      <td>XGB CV</td>\n",
              "      <td>0.680895</td>\n",
              "      <td>0.726353</td>\n",
              "      <td>0.702813</td>\n",
              "      <td>0.676711</td>\n",
              "    </tr>\n",
              "  </tbody>\n",
              "</table>\n",
              "</div>"
            ],
            "text/plain": [
              "     model  precision    recall        F1  accuracy\n",
              "0    RF CV   0.683952  0.746733  0.713824  0.685064\n",
              "0  RF test   0.677704  0.764157  0.718339  0.684573\n",
              "0   XGB CV   0.680895  0.726353  0.702813  0.676711"
            ]
          },
          "execution_count": 49,
          "metadata": {},
          "output_type": "execute_result"
        }
      ],
      "source": [
        "# Call 'make_results()' on the GridSearch object\n",
        "xgb1_cv_results = make_results('XGB CV', xgb1, 'f1')\n",
        "results = pd.concat([results, xgb1_cv_results], axis=0)\n",
        "results"
      ]
    },
    {
      "cell_type": "markdown",
      "metadata": {
        "id": "wR1QdIAX1dKX"
      },
      "source": [
        "we use our model to predict on the test data. Assign the results to a variable called `xgb_preds`.\n",
        "\n",
        "<details>\n",
        "  <summary><h5>HINT</h5></summary>\n",
        "we cannot call `predict()` on the GridSearchCV object directly. we must call it on the `best_estimator_`.\n",
        "</details>"
      ]
    },
    {
      "cell_type": "code",
      "execution_count": null,
      "metadata": {
        "id": "5Y2giCN32Dwc"
      },
      "outputs": [],
      "source": [
        "# Get scores on test data\n",
        "xgb_preds = xgb1.best_estimator_.predict(X_test)"
      ]
    },
    {
      "cell_type": "markdown",
      "metadata": {
        "id": "0EnxPK7R1C5Q"
      },
      "source": [
        "###### XGB test results\n",
        "\n",
        "1. Use the `get_test_scores()` function to generate the scores on the test data. Assign the results to `xgb_test_scores`.\n",
        "2. Call `xgb_test_scores` to output the results."
      ]
    },
    {
      "cell_type": "code",
      "execution_count": null,
      "metadata": {
        "id": "g7jShC2TiTvx",
        "outputId": "e40f303c-83ec-44f5-b732-8ee37c65e8a7"
      },
      "outputs": [
        {
          "data": {
            "text/html": [
              "<div>\n",
              "<style scoped>\n",
              "    .dataframe tbody tr th:only-of-type {\n",
              "        vertical-align: middle;\n",
              "    }\n",
              "\n",
              "    .dataframe tbody tr th {\n",
              "        vertical-align: top;\n",
              "    }\n",
              "\n",
              "    .dataframe thead th {\n",
              "        text-align: right;\n",
              "    }\n",
              "</style>\n",
              "<table border=\"1\" class=\"dataframe\">\n",
              "  <thead>\n",
              "    <tr style=\"text-align: right;\">\n",
              "      <th></th>\n",
              "      <th>model</th>\n",
              "      <th>precision</th>\n",
              "      <th>recall</th>\n",
              "      <th>F1</th>\n",
              "      <th>accuracy</th>\n",
              "    </tr>\n",
              "  </thead>\n",
              "  <tbody>\n",
              "    <tr>\n",
              "      <th>0</th>\n",
              "      <td>RF CV</td>\n",
              "      <td>0.683952</td>\n",
              "      <td>0.746733</td>\n",
              "      <td>0.713824</td>\n",
              "      <td>0.685064</td>\n",
              "    </tr>\n",
              "    <tr>\n",
              "      <th>0</th>\n",
              "      <td>RF test</td>\n",
              "      <td>0.677704</td>\n",
              "      <td>0.764157</td>\n",
              "      <td>0.718339</td>\n",
              "      <td>0.684573</td>\n",
              "    </tr>\n",
              "    <tr>\n",
              "      <th>0</th>\n",
              "      <td>XGB CV</td>\n",
              "      <td>0.680895</td>\n",
              "      <td>0.726353</td>\n",
              "      <td>0.702813</td>\n",
              "      <td>0.676711</td>\n",
              "    </tr>\n",
              "    <tr>\n",
              "      <th>0</th>\n",
              "      <td>XGB test</td>\n",
              "      <td>0.684628</td>\n",
              "      <td>0.751089</td>\n",
              "      <td>0.716320</td>\n",
              "      <td>0.686865</td>\n",
              "    </tr>\n",
              "  </tbody>\n",
              "</table>\n",
              "</div>"
            ],
            "text/plain": [
              "      model  precision    recall        F1  accuracy\n",
              "0     RF CV   0.683952  0.746733  0.713824  0.685064\n",
              "0   RF test   0.677704  0.764157  0.718339  0.684573\n",
              "0    XGB CV   0.680895  0.726353  0.702813  0.676711\n",
              "0  XGB test   0.684628  0.751089  0.716320  0.686865"
            ]
          },
          "execution_count": 51,
          "metadata": {},
          "output_type": "execute_result"
        }
      ],
      "source": [
        "# Get scores on test data\n",
        "xgb_test_scores = get_test_scores('XGB test', xgb_preds, y_test)\n",
        "results = pd.concat([results, xgb_test_scores], axis=0)\n",
        "results"
      ]
    },
    {
      "cell_type": "markdown",
      "metadata": {
        "id": "xZjClJnncJ-j"
      },
      "source": [
        "**Exemplar response:** The F<sub>1</sub> score is ~0.01 lower than the random forest model. Both models are acceptable, but the random forest model is the champion."
      ]
    },
    {
      "cell_type": "markdown",
      "metadata": {
        "id": "-ft6FylfDOkg"
      },
      "source": [
        "we plot a confusion matrix of the champion model's predictions on the test data."
      ]
    },
    {
      "cell_type": "code",
      "execution_count": null,
      "metadata": {
        "id": "D84haedODOkg",
        "outputId": "773e86a9-8bdb-4e66-ccc0-8942f94185cf"
      },
      "outputs": [
        {
          "data": {
            "image/png": "[encoded data removed]",
            "text/plain": [
              "<Figure size 640x480 with 2 Axes>"
            ]
          },
          "metadata": {},
          "output_type": "display_data"
        }
      ],
      "source": [
        "# Generate array of values for confusion matrix\n",
        "cm = confusion_matrix(y_test, rf_preds, labels=rf1.classes_)\n",
        "\n",
        "# Plot confusion matrix\n",
        "disp = ConfusionMatrixDisplay(confusion_matrix=cm,\n",
        "                             display_labels=rf1.classes_,\n",
        "                             )\n",
        "disp.plot(values_format='');"
      ]
    },
    {
      "cell_type": "markdown",
      "metadata": {
        "id": "TuiaXj_dDOkg"
      },
      "source": [
        "**Exemplar response:** The model is almost twice as likely to predict a false positive than it is to predict a false negative. Therefore, type I errors are more common. This is less desirable, because it's better for a driver to be pleasantly surprised by a generous tip when they weren't expecting one than to be disappointed by a low tip when they were expecting a generous one. However, the overall performance of this model is satisfactory."
      ]
    },
    {
      "cell_type": "markdown",
      "metadata": {
        "id": "Zvi0oBKuDOkg"
      },
      "source": [
        "##### Feature importance\n",
        "\n",
        "we use the `feature_importances_` attribute of the best estimator object to inspect the features of our final model. we can then sort them and plot the most important ones."
      ]
    },
    {
      "cell_type": "code",
      "execution_count": null,
      "metadata": {
        "id": "B4CqrpAMDOkg",
        "outputId": "ee25f212-a693-4b57-8bfd-146db8e6ea8b"
      },
      "outputs": [
        {
          "data": {
            "image/png": "[encoded data removed]",
            "text/plain": [
              "<Figure size 800x500 with 1 Axes>"
            ]
          },
          "metadata": {},
          "output_type": "display_data"
        }
      ],
      "source": [
        "importances = rf1.best_estimator_.feature_importances_\n",
        "rf_importances = pd.Series(importances, index=X_test.columns)\n",
        "rf_importances = rf_importances.sort_values(ascending=False)[:15]\n",
        "\n",
        "fig, ax = plt.subplots(figsize=(8,5))\n",
        "rf_importances.plot.bar(ax=ax)\n",
        "ax.set_title('Feature importances')\n",
        "ax.set_ylabel('Mean decrease in impurity')\n",
        "fig.tight_layout();"
      ]
    },
    {
      "cell_type": "markdown",
      "metadata": {
        "id": "_HGsWfEOeWPm"
      },
      "source": [
        "<img src=\"images/Execute.png\" width=\"100\" height=\"100\" align=left>\n",
        "\n",
        "## PACE: **Execute**\n",
        "\n",
        "Consider the questions in your PACE Strategy Document to reflect on the Execute stage."
      ]
    },
    {
      "cell_type": "markdown",
      "metadata": {
        "id": "ill21hQ4ej9-"
      },
      "source": [
        "### **Task 4. Conclusion**\n",
        "\n",
        "In this step, we use the results of the models above to formulate a conclusion. Consider the following questions:\n",
        "\n",
        "**Exemplar responses:**\n",
        "1. **Would you recommend using this model? Why or why not?**  \n",
        "Yes, this is model performs acceptably. Its F<sub>1</sub> score was 0.7235 and it had an overall accuracy of 0.6865. It correctly identified ~78% of the actual responders in the test set, which is 48% better than a random guess. It may be worthwhile to test the model with a select group of taxi drivers to get feedback.  \n",
        "\n",
        "\n",
        "2. **What was your highest scoring model doing? Can you explain how it was making predictions?**   \n",
        "Unfortunately, random forest is not the most transparent machine learning algorithm. We know that `VendorID`, `predicted_fare`, `mean_duration`, and `mean_distance` are the most important features, but we don't know how they influence tipping. This would require further exploration. It is interesting that `VendorID` is the most predictive feature. This seems to indicate that one of the two vendors tends to attract more generous customers. It may be worth performing statistical tests on the different vendors to examine this further.  \n",
        "\n",
        "\n",
        "3. **Are there new features that you can engineer that might improve model performance?**  \n",
        "There are almost always additional features that can be engineered, but hopefully the most obvious ones were generated during the first round of modeling. In our case, we could try creating three new columns that indicate if the trip distance is short, medium, or far. We could also engineer a column that gives a ratio that represents (the amount of money from the fare amount to the nearest higher multiple of \\\\$5) / fare amount. For example, if the fare were \\\\$12, the value in this column would be 0.25, because \\\\$12 to the nearest higher multiple of \\\\$5 (\\\\$15) is \\\\$3, and \\\\$3 divided by \\\\$12 is 0.25. The intuition for this feature is that people might be likely to simply round up their tip, so journeys with fares with values just under a multiple of \\\\$5 may have lower tip percentages than those with fare values just over a multiple of \\\\$5. We could also do the same thing for fares to the nearest \\\\$10.\n",
        "\n",
        "$$\n",
        "round5\\_ratio = \\frac{amount\\ of\\ money\\ from\\ the\\ fare\\ amount\\ to\\ the\\ nearest\\ higher\\ multiple\\ of\\ \\$5}{fare\\ amount}\n",
        "$$\n",
        "\n",
        "<br>\n",
        "\n",
        "<details>\n",
        "    <summary><h5>HINT</h5></summary>\n",
        "    $$ = \\frac{5 - (fare\\ mod\\ 5)}{fare\\ amount}$$\n",
        "</details>\n",
        "\n",
        "<br>\n",
        "\n",
        "4. **What features would you want to have that would likely improve the performance of your model?**   \n",
        "It would probably be very helpful to have past tipping behavior for each customer. It would also be valuable to have accurate tip values for customers who pay with cash.\n",
        "It would be helpful to have a lot more data. With enough data, we could create a unique feature for each pickup/dropoff combination.\n",
        "\n",
        "\n",
        "Remember, sometimes our data simply will not be predictive of our chosen target. This is common. Machine learning is a powerful tool, but it is not magic. If our data does not contain predictive signal, even the most complex algorithm will not be able to deliver consistent and accurate predictions. Do not be afraid to draw this conclusion. Even if we cannot use the model to make strong predictions, was the work done in vain? What insights can you report back to stakeholders?"
      ]
    }
  ],
  "metadata": {
    "colab": {
      "provenance": [],
      "include_colab_link": true
    },
    "kernelspec": {
      "display_name": "Python 3 (ipykernel)",
      "language": "python",
      "name": "python3"
    },
    "language_info": {
      "codemirror_mode": {
        "name": "ipython",
        "version": 3
      },
      "file_extension": ".py",
      "mimetype": "text/x-python",
      "name": "python",
      "nbconvert_exporter": "python",
      "pygments_lexer": "ipython3",
      "version": "3.9.13"
    }
  },
  "nbformat": 4,
  "nbformat_minor": 0
}