{
  "cells": [
    {
      "cell_type": "markdown",
      "metadata": {
        "id": "view-in-github",
        "colab_type": "text"
      },
      "source": [
        "<a href=\"https://colab.research.google.com/github/Moimschoh/data-analyst/blob/main/Structure_your_data__EDA_process__Unicorn_Companies.ipynb\" target=\"_parent\"><img src=\"https://colab.research.google.com/assets/colab-badge.svg\" alt=\"Open In Colab\"/></a>"
      ]
    },
    {
      "cell_type": "markdown",
      "id": "fdeb733e",
      "metadata": {
        "id": "fdeb733e"
      },
      "source": [
        "# Exemplar: Structure your data"
      ]
    },
    {
      "cell_type": "markdown",
      "id": "4b8ee7dd",
      "metadata": {
        "id": "4b8ee7dd"
      },
      "source": [
        "## Introduction\n",
        "\n",
        "In this activity, we will learn how to structure, an **exploratory data analysis (EDA)** step that helps data science projects move forward. During EDA, when working with data that contains aspects of date and time, \"datetime\" transformations are integral to better understanding the data. As a data professional, we  will encounter datetime transformations quite often as you determine how to format your data to suit the problems we want to solve or the questions we want to answer. This activity gives us an opportunity to apply these skills and prepare us for future EDA, where you will need to determine how best to structure our data.\n",
        "\n",
        "In this activity, as a member of an analytics team that provides insights to an imaginary investing firm. To help them decide which companies to invest in next, the firm wants insights into **unicorn companies**–companies that are valued at over one billion dollars.  \n",
        "\n",
        "We will work with a dataset about unicorn companies, discovering characteristics of the data, structuring the data in ways that will help us draw meaningful insights, and using visualizations to analyze the data. Ultimately, we will draw conclusions about what significant trends or patterns you find in the dataset. This will develop our skills in EDA and our knowledge of functions that allow us to structure data.\n",
        "\n",
        "\n"
      ]
    },
    {
      "cell_type": "markdown",
      "id": "ec035cf7",
      "metadata": {
        "id": "ec035cf7"
      },
      "source": [
        "## Step 1: Imports"
      ]
    },
    {
      "cell_type": "markdown",
      "id": "fe73314f",
      "metadata": {
        "id": "fe73314f"
      },
      "source": [
        "### Import relevant libraries and modules\n",
        "\n",
        "Import the relevant Python libraries and modules that we will need to use. In this activity, we will use `pandas`, `numpy`, `seaborn`, and `matplotlib.pyplot`."
      ]
    },
    {
      "cell_type": "code",
      "execution_count": null,
      "id": "1cd66f37",
      "metadata": {
        "id": "1cd66f37"
      },
      "outputs": [],
      "source": [
        "# Import the relevant Python libraries and modules needed in this lab.\n",
        "\n",
        "### YOUR CODE HERE ###\n",
        "\n",
        "import pandas as pd\n",
        "import numpy as np\n",
        "import seaborn as sns\n",
        "import matplotlib.pyplot as plt"
      ]
    },
    {
      "cell_type": "markdown",
      "id": "ea5f6739",
      "metadata": {
        "id": "ea5f6739"
      },
      "source": [
        "### Load the dataset into a DataFrame\n",
        "\n",
        "The dataset provided is in the form of a csv file named `Unicorn_Companies.csv` and contains a subset of data on unicorn companies. Loading the dataset into a DataFrame."
      ]
    },
    {
      "cell_type": "code",
      "execution_count": null,
      "id": "c6ef702f",
      "metadata": {
        "id": "c6ef702f"
      },
      "outputs": [],
      "source": [
        "# Load the dataset provided into a DataFrame.\n",
        "\n",
        "\n",
        "companies = pd.read_csv(\"Unicorn_Companies.csv\")"
      ]
    },
    {
      "cell_type": "markdown",
      "id": "e0362f8a",
      "metadata": {
        "id": "e0362f8a"
      },
      "source": [
        "## Step 2: Data exploration\n"
      ]
    },
    {
      "cell_type": "markdown",
      "id": "d4186916",
      "metadata": {
        "id": "d4186916"
      },
      "source": [
        "### Display the first 10 rows of the data\n",
        "\n",
        "In this section, we will discover what the dataset entails and answer questions to guide your exploration and analysis of the data. This is an important step in EDA.\n",
        "\n",
        "To begin, we will display the first 10 rows of the data to get an understanding of how the dataset is structured."
      ]
    },
    {
      "cell_type": "code",
      "execution_count": null,
      "id": "57381807",
      "metadata": {
        "colab": {
          "base_uri": "https://localhost:8080/",
          "height": 598
        },
        "id": "57381807",
        "outputId": "a115f303-b7c1-44cc-e376-b870c68079b9"
      },
      "outputs": [
        {
          "data": {
            "text/html": [
              "<div>\n",
              "<style scoped>\n",
              "    .dataframe tbody tr th:only-of-type {\n",
              "        vertical-align: middle;\n",
              "    }\n",
              "\n",
              "    .dataframe tbody tr th {\n",
              "        vertical-align: top;\n",
              "    }\n",
              "\n",
              "    .dataframe thead th {\n",
              "        text-align: right;\n",
              "    }\n",
              "</style>\n",
              "<table border=\"1\" class=\"dataframe\">\n",
              "  <thead>\n",
              "    <tr style=\"text-align: right;\">\n",
              "      <th></th>\n",
              "      <th>Company</th>\n",
              "      <th>Valuation</th>\n",
              "      <th>Date Joined</th>\n",
              "      <th>Industry</th>\n",
              "      <th>City</th>\n",
              "      <th>Country/Region</th>\n",
              "      <th>Continent</th>\n",
              "      <th>Year Founded</th>\n",
              "      <th>Funding</th>\n",
              "      <th>Select Investors</th>\n",
              "    </tr>\n",
              "  </thead>\n",
              "  <tbody>\n",
              "    <tr>\n",
              "      <th>0</th>\n",
              "      <td>Bytedance</td>\n",
              "      <td>$180B</td>\n",
              "      <td>4/7/17</td>\n",
              "      <td>Artificial intelligence</td>\n",
              "      <td>Beijing</td>\n",
              "      <td>China</td>\n",
              "      <td>Asia</td>\n",
              "      <td>2012</td>\n",
              "      <td>$8B</td>\n",
              "      <td>Sequoia Capital China, SIG Asia Investments, S...</td>\n",
              "    </tr>\n",
              "    <tr>\n",
              "      <th>1</th>\n",
              "      <td>SpaceX</td>\n",
              "      <td>$100B</td>\n",
              "      <td>12/1/12</td>\n",
              "      <td>Other</td>\n",
              "      <td>Hawthorne</td>\n",
              "      <td>United States</td>\n",
              "      <td>North America</td>\n",
              "      <td>2002</td>\n",
              "      <td>$7B</td>\n",
              "      <td>Founders Fund, Draper Fisher Jurvetson, Rothen...</td>\n",
              "    </tr>\n",
              "    <tr>\n",
              "      <th>2</th>\n",
              "      <td>SHEIN</td>\n",
              "      <td>$100B</td>\n",
              "      <td>7/3/18</td>\n",
              "      <td>E-commerce &amp; direct-to-consumer</td>\n",
              "      <td>Shenzhen</td>\n",
              "      <td>China</td>\n",
              "      <td>Asia</td>\n",
              "      <td>2008</td>\n",
              "      <td>$2B</td>\n",
              "      <td>Tiger Global Management, Sequoia Capital China...</td>\n",
              "    </tr>\n",
              "    <tr>\n",
              "      <th>3</th>\n",
              "      <td>Stripe</td>\n",
              "      <td>$95B</td>\n",
              "      <td>1/23/14</td>\n",
              "      <td>Fintech</td>\n",
              "      <td>San Francisco</td>\n",
              "      <td>United States</td>\n",
              "      <td>North America</td>\n",
              "      <td>2010</td>\n",
              "      <td>$2B</td>\n",
              "      <td>Khosla Ventures, LowercaseCapital, capitalG</td>\n",
              "    </tr>\n",
              "    <tr>\n",
              "      <th>4</th>\n",
              "      <td>Klarna</td>\n",
              "      <td>$46B</td>\n",
              "      <td>12/12/11</td>\n",
              "      <td>Fintech</td>\n",
              "      <td>Stockholm</td>\n",
              "      <td>Sweden</td>\n",
              "      <td>Europe</td>\n",
              "      <td>2005</td>\n",
              "      <td>$4B</td>\n",
              "      <td>Institutional Venture Partners, Sequoia Capita...</td>\n",
              "    </tr>\n",
              "    <tr>\n",
              "      <th>5</th>\n",
              "      <td>Canva</td>\n",
              "      <td>$40B</td>\n",
              "      <td>1/8/18</td>\n",
              "      <td>Internet software &amp; services</td>\n",
              "      <td>Surry Hills</td>\n",
              "      <td>Australia</td>\n",
              "      <td>Oceania</td>\n",
              "      <td>2012</td>\n",
              "      <td>$572M</td>\n",
              "      <td>Sequoia Capital China, Blackbird Ventures, Mat...</td>\n",
              "    </tr>\n",
              "    <tr>\n",
              "      <th>6</th>\n",
              "      <td>Checkout.com</td>\n",
              "      <td>$40B</td>\n",
              "      <td>5/2/19</td>\n",
              "      <td>Fintech</td>\n",
              "      <td>London</td>\n",
              "      <td>United Kingdom</td>\n",
              "      <td>Europe</td>\n",
              "      <td>2012</td>\n",
              "      <td>$2B</td>\n",
              "      <td>Tiger Global Management, Insight Partners, DST...</td>\n",
              "    </tr>\n",
              "    <tr>\n",
              "      <th>7</th>\n",
              "      <td>Instacart</td>\n",
              "      <td>$39B</td>\n",
              "      <td>12/30/14</td>\n",
              "      <td>Supply chain, logistics, &amp; delivery</td>\n",
              "      <td>San Francisco</td>\n",
              "      <td>United States</td>\n",
              "      <td>North America</td>\n",
              "      <td>2012</td>\n",
              "      <td>$3B</td>\n",
              "      <td>Khosla Ventures, Kleiner Perkins Caufield &amp; By...</td>\n",
              "    </tr>\n",
              "    <tr>\n",
              "      <th>8</th>\n",
              "      <td>JUUL Labs</td>\n",
              "      <td>$38B</td>\n",
              "      <td>12/20/17</td>\n",
              "      <td>Consumer &amp; retail</td>\n",
              "      <td>San Francisco</td>\n",
              "      <td>United States</td>\n",
              "      <td>North America</td>\n",
              "      <td>2015</td>\n",
              "      <td>$14B</td>\n",
              "      <td>Tiger Global Management</td>\n",
              "    </tr>\n",
              "    <tr>\n",
              "      <th>9</th>\n",
              "      <td>Databricks</td>\n",
              "      <td>$38B</td>\n",
              "      <td>2/5/19</td>\n",
              "      <td>Data management &amp; analytics</td>\n",
              "      <td>San Francisco</td>\n",
              "      <td>United States</td>\n",
              "      <td>North America</td>\n",
              "      <td>2013</td>\n",
              "      <td>$3B</td>\n",
              "      <td>Andreessen Horowitz, New Enterprise Associates...</td>\n",
              "    </tr>\n",
              "  </tbody>\n",
              "</table>\n",
              "</div>"
            ],
            "text/plain": [
              "        Company Valuation Date Joined                             Industry  \\\n",
              "0     Bytedance     $180B      4/7/17              Artificial intelligence   \n",
              "1        SpaceX     $100B     12/1/12                                Other   \n",
              "2         SHEIN     $100B      7/3/18      E-commerce & direct-to-consumer   \n",
              "3        Stripe      $95B     1/23/14                              Fintech   \n",
              "4        Klarna      $46B    12/12/11                              Fintech   \n",
              "5         Canva      $40B      1/8/18         Internet software & services   \n",
              "6  Checkout.com      $40B      5/2/19                              Fintech   \n",
              "7     Instacart      $39B    12/30/14  Supply chain, logistics, & delivery   \n",
              "8     JUUL Labs      $38B    12/20/17                    Consumer & retail   \n",
              "9    Databricks      $38B      2/5/19          Data management & analytics   \n",
              "\n",
              "            City  Country/Region      Continent  Year Founded Funding  \\\n",
              "0        Beijing           China           Asia          2012     $8B   \n",
              "1      Hawthorne   United States  North America          2002     $7B   \n",
              "2       Shenzhen           China           Asia          2008     $2B   \n",
              "3  San Francisco   United States  North America          2010     $2B   \n",
              "4      Stockholm          Sweden         Europe          2005     $4B   \n",
              "5    Surry Hills       Australia        Oceania          2012   $572M   \n",
              "6         London  United Kingdom         Europe          2012     $2B   \n",
              "7  San Francisco   United States  North America          2012     $3B   \n",
              "8  San Francisco   United States  North America          2015    $14B   \n",
              "9  San Francisco   United States  North America          2013     $3B   \n",
              "\n",
              "                                    Select Investors  \n",
              "0  Sequoia Capital China, SIG Asia Investments, S...  \n",
              "1  Founders Fund, Draper Fisher Jurvetson, Rothen...  \n",
              "2  Tiger Global Management, Sequoia Capital China...  \n",
              "3        Khosla Ventures, LowercaseCapital, capitalG  \n",
              "4  Institutional Venture Partners, Sequoia Capita...  \n",
              "5  Sequoia Capital China, Blackbird Ventures, Mat...  \n",
              "6  Tiger Global Management, Insight Partners, DST...  \n",
              "7  Khosla Ventures, Kleiner Perkins Caufield & By...  \n",
              "8                            Tiger Global Management  \n",
              "9  Andreessen Horowitz, New Enterprise Associates...  "
            ]
          },
          "execution_count": 3,
          "metadata": {},
          "output_type": "execute_result"
        }
      ],
      "source": [
        "# Display the first 10 rows of the data.\n",
        "\n",
        "\n",
        "companies.head(10)"
      ]
    },
    {
      "cell_type": "markdown",
      "id": "2641b286",
      "metadata": {
        "id": "2641b286",
        "jp-MarkdownHeadingCollapsed": true,
        "tags": []
      },
      "source": [
        "<details>\n",
        "  <summary><h4><strong>Hint</strong></h4></summary>\n",
        "\n",
        "Call the `head()` function from the `pandas` library and pass in the number of rows you want from the top of the DataFrame.\n",
        "\n",
        "</details>"
      ]
    },
    {
      "cell_type": "markdown",
      "id": "17e06762",
      "metadata": {
        "id": "17e06762"
      },
      "source": [
        "### Identify the number of rows and columns\n",
        "\n",
        "Identify the number of rows and columns in the dataset. This will help us get a sense of how much data we are working with."
      ]
    },
    {
      "cell_type": "code",
      "execution_count": null,
      "id": "4a114883",
      "metadata": {
        "colab": {
          "base_uri": "https://localhost:8080/"
        },
        "id": "4a114883",
        "outputId": "7e485910-2784-450f-d6e9-813a46f89f12"
      },
      "outputs": [
        {
          "data": {
            "text/plain": [
              "(1074, 10)"
            ]
          },
          "execution_count": 4,
          "metadata": {},
          "output_type": "execute_result"
        }
      ],
      "source": [
        "# Identify the number of rows and columns in the dataset.\n",
        "\n",
        "\n",
        "companies.shape"
      ]
    },
    {
      "cell_type": "markdown",
      "id": "c1a89ee5",
      "metadata": {
        "id": "c1a89ee5"
      },
      "source": [
        "**Question:** How many rows and columns are in the dataset? How many unicorn companies are there? How many aspects are shown for each company?\n",
        "\n",
        "- There are 1074 rows and 10 columns in the dataset.\n",
        "- According to this dataset, there are 1074 unicorn companies, as of March 2022.\n",
        "- This dataset shows 10 aspects of each company."
      ]
    },
    {
      "cell_type": "markdown",
      "id": "66a306bf",
      "metadata": {
        "id": "66a306bf"
      },
      "source": [
        "### Check for duplicates in the data"
      ]
    },
    {
      "cell_type": "code",
      "execution_count": null,
      "id": "a5bb489a",
      "metadata": {
        "colab": {
          "base_uri": "https://localhost:8080/"
        },
        "id": "a5bb489a",
        "outputId": "eb0f515e-6739-42b1-ea99-41e26fe0b948"
      },
      "outputs": [
        {
          "data": {
            "text/plain": [
              "(1074, 10)"
            ]
          },
          "execution_count": 5,
          "metadata": {},
          "output_type": "execute_result"
        }
      ],
      "source": [
        "# Check for duplicates.\n",
        "\n",
        "\n",
        "companies.drop_duplicates().shape"
      ]
    },
    {
      "cell_type": "markdown",
      "id": "0e212cbf",
      "metadata": {
        "id": "0e212cbf"
      },
      "source": [
        "**Question:** Based on the preceding output, are there any duplicates in the dataset?\n",
        "\n",
        "- Since the shape that is returned after dropping duplicates is the same as the shape of the original DataFrame, we can infer that there are no duplicate values in the dataset."
      ]
    },
    {
      "cell_type": "markdown",
      "id": "dd4d0cea",
      "metadata": {
        "id": "dd4d0cea"
      },
      "source": [
        "### Display the data types of the columns\n",
        "\n",
        "Knowing the data types of the columns is helpful because it indicates what types of analysis and aggregation can be done, how a column can be transformed to suit specific tasks, and so on. Display the data types of the columns."
      ]
    },
    {
      "cell_type": "code",
      "execution_count": null,
      "id": "17f9891d",
      "metadata": {
        "colab": {
          "base_uri": "https://localhost:8080/"
        },
        "id": "17f9891d",
        "outputId": "87a33a83-0563-45a0-b1a1-08502a1c2e63"
      },
      "outputs": [
        {
          "data": {
            "text/plain": [
              "Company             object\n",
              "Valuation           object\n",
              "Date Joined         object\n",
              "Industry            object\n",
              "City                object\n",
              "Country/Region      object\n",
              "Continent           object\n",
              "Year Founded         int64\n",
              "Funding             object\n",
              "Select Investors    object\n",
              "dtype: object"
            ]
          },
          "execution_count": 6,
          "metadata": {},
          "output_type": "execute_result"
        }
      ],
      "source": [
        "# Display the data types of the columns.\n",
        "\n",
        "companies.dtypes"
      ]
    },
    {
      "cell_type": "markdown",
      "id": "c37626a3",
      "metadata": {
        "id": "c37626a3"
      },
      "source": [
        "**Question:** What do you notice about the data types of the columns in the dataset?\n",
        "\n",
        "- The data type of the `Year Founded` column is `int64`.\n",
        "- The rest of the columns have the data type `object`."
      ]
    },
    {
      "cell_type": "markdown",
      "id": "3f7e8ea8",
      "metadata": {
        "id": "3f7e8ea8"
      },
      "source": [
        "**Question:** How would you sort this dataset in order to get insights about when the companies were founded? Then, how would you arrange the data from companies that were founded the earliest to companies that were founded the latest?\n",
        "\n",
        "- Sort by `Year Founded`.\n",
        "  - Sort by `Year Founded` in ascending order to arrange the data from companies that were founded the earliest to companies that were founded the latest."
      ]
    },
    {
      "cell_type": "markdown",
      "id": "edd04714",
      "metadata": {
        "id": "edd04714"
      },
      "source": [
        "### Sort the data\n",
        "\n",
        "In this section, we will continue your exploratory data analysis by structuring the data. This is an important step in EDA, as it allows us to glean valuable and interesting insights about the data afterwards.\n",
        "\n",
        "To begin, sort the data so that we can get insights about when the companies were founded. Consider whether it would make sense to sort in ascending or descending order based on what we would like to find."
      ]
    },
    {
      "cell_type": "code",
      "execution_count": null,
      "id": "662d31cb",
      "metadata": {
        "colab": {
          "base_uri": "https://localhost:8080/",
          "height": 598
        },
        "id": "662d31cb",
        "outputId": "0ee403cf-4488-4abb-ff5c-15e8aa56b92f"
      },
      "outputs": [
        {
          "data": {
            "text/html": [
              "<div>\n",
              "<style scoped>\n",
              "    .dataframe tbody tr th:only-of-type {\n",
              "        vertical-align: middle;\n",
              "    }\n",
              "\n",
              "    .dataframe tbody tr th {\n",
              "        vertical-align: top;\n",
              "    }\n",
              "\n",
              "    .dataframe thead th {\n",
              "        text-align: right;\n",
              "    }\n",
              "</style>\n",
              "<table border=\"1\" class=\"dataframe\">\n",
              "  <thead>\n",
              "    <tr style=\"text-align: right;\">\n",
              "      <th></th>\n",
              "      <th>Company</th>\n",
              "      <th>Valuation</th>\n",
              "      <th>Date Joined</th>\n",
              "      <th>Industry</th>\n",
              "      <th>City</th>\n",
              "      <th>Country/Region</th>\n",
              "      <th>Continent</th>\n",
              "      <th>Year Founded</th>\n",
              "      <th>Funding</th>\n",
              "      <th>Select Investors</th>\n",
              "    </tr>\n",
              "  </thead>\n",
              "  <tbody>\n",
              "    <tr>\n",
              "      <th>782</th>\n",
              "      <td>Phantom</td>\n",
              "      <td>$1B</td>\n",
              "      <td>1/31/22</td>\n",
              "      <td>Fintech</td>\n",
              "      <td>San Francisco</td>\n",
              "      <td>United States</td>\n",
              "      <td>North America</td>\n",
              "      <td>2021</td>\n",
              "      <td>$118M</td>\n",
              "      <td>Paradigm, Andreessen Horowitz, Jump Capital</td>\n",
              "    </tr>\n",
              "    <tr>\n",
              "      <th>714</th>\n",
              "      <td>Yidian Zixun</td>\n",
              "      <td>$1B</td>\n",
              "      <td>10/17/17</td>\n",
              "      <td>Mobile &amp; telecommunications</td>\n",
              "      <td>Beijing</td>\n",
              "      <td>China</td>\n",
              "      <td>Asia</td>\n",
              "      <td>2021</td>\n",
              "      <td>$151M</td>\n",
              "      <td>Phoenix New Media, Tianjin Haihe Industry Fund</td>\n",
              "    </tr>\n",
              "    <tr>\n",
              "      <th>822</th>\n",
              "      <td>GlobalBees</td>\n",
              "      <td>$1B</td>\n",
              "      <td>12/28/21</td>\n",
              "      <td>E-commerce &amp; direct-to-consumer</td>\n",
              "      <td>New Delhi</td>\n",
              "      <td>India</td>\n",
              "      <td>Asia</td>\n",
              "      <td>2021</td>\n",
              "      <td>$185M</td>\n",
              "      <td>Chiratae Ventures, SoftBank Group, Trifecta Ca...</td>\n",
              "    </tr>\n",
              "    <tr>\n",
              "      <th>554</th>\n",
              "      <td>ClickHouse</td>\n",
              "      <td>$2B</td>\n",
              "      <td>10/28/21</td>\n",
              "      <td>Data management &amp; analytics</td>\n",
              "      <td>Portola Valley</td>\n",
              "      <td>United States</td>\n",
              "      <td>North America</td>\n",
              "      <td>2021</td>\n",
              "      <td>$300M</td>\n",
              "      <td>Lightspeed Venture Partners, Almaz Capital Par...</td>\n",
              "    </tr>\n",
              "    <tr>\n",
              "      <th>952</th>\n",
              "      <td>LayerZero Labs</td>\n",
              "      <td>$1B</td>\n",
              "      <td>3/30/22</td>\n",
              "      <td>Internet software &amp; services</td>\n",
              "      <td>New York</td>\n",
              "      <td>United States</td>\n",
              "      <td>North America</td>\n",
              "      <td>2021</td>\n",
              "      <td>$143M</td>\n",
              "      <td>Andreessen Horowitz, FTX Ventures, Tiger Globa...</td>\n",
              "    </tr>\n",
              "    <tr>\n",
              "      <th>314</th>\n",
              "      <td>Flink Food</td>\n",
              "      <td>$3B</td>\n",
              "      <td>12/1/21</td>\n",
              "      <td>E-commerce &amp; direct-to-consumer</td>\n",
              "      <td>Berlin</td>\n",
              "      <td>Germany</td>\n",
              "      <td>Europe</td>\n",
              "      <td>2021</td>\n",
              "      <td>$1B</td>\n",
              "      <td>Mubadala Capital, Bond, Prosus Ventures</td>\n",
              "    </tr>\n",
              "    <tr>\n",
              "      <th>864</th>\n",
              "      <td>Aptos</td>\n",
              "      <td>$1B</td>\n",
              "      <td>3/15/22</td>\n",
              "      <td>Internet software &amp; services</td>\n",
              "      <td>Palo Alto</td>\n",
              "      <td>United States</td>\n",
              "      <td>North America</td>\n",
              "      <td>2021</td>\n",
              "      <td>$200M</td>\n",
              "      <td>Andreessen Horowitz, Coinbase Ventures, Tiger ...</td>\n",
              "    </tr>\n",
              "    <tr>\n",
              "      <th>238</th>\n",
              "      <td>Yuga Labs</td>\n",
              "      <td>$4B</td>\n",
              "      <td>3/22/22</td>\n",
              "      <td>Fintech</td>\n",
              "      <td>Miami</td>\n",
              "      <td>United States</td>\n",
              "      <td>North America</td>\n",
              "      <td>2021</td>\n",
              "      <td>$450M</td>\n",
              "      <td>Andreessen Horowitz, Thrive Capital, Sound Ven...</td>\n",
              "    </tr>\n",
              "    <tr>\n",
              "      <th>775</th>\n",
              "      <td>Jokr</td>\n",
              "      <td>$1B</td>\n",
              "      <td>12/2/21</td>\n",
              "      <td>E-commerce &amp; direct-to-consumer</td>\n",
              "      <td>New York</td>\n",
              "      <td>United States</td>\n",
              "      <td>North America</td>\n",
              "      <td>2021</td>\n",
              "      <td>$430M</td>\n",
              "      <td>GGV Capital, Tiger Global Management, Greycroft</td>\n",
              "    </tr>\n",
              "    <tr>\n",
              "      <th>967</th>\n",
              "      <td>Mensa Brands</td>\n",
              "      <td>$1B</td>\n",
              "      <td>11/16/21</td>\n",
              "      <td>Other</td>\n",
              "      <td>Bengaluru</td>\n",
              "      <td>India</td>\n",
              "      <td>Asia</td>\n",
              "      <td>2021</td>\n",
              "      <td>$218M</td>\n",
              "      <td>Accel, Falcon Edge Capital, Norwest Venture Pa...</td>\n",
              "    </tr>\n",
              "  </tbody>\n",
              "</table>\n",
              "</div>"
            ],
            "text/plain": [
              "            Company Valuation Date Joined                         Industry  \\\n",
              "782         Phantom       $1B     1/31/22                          Fintech   \n",
              "714    Yidian Zixun       $1B    10/17/17      Mobile & telecommunications   \n",
              "822      GlobalBees       $1B    12/28/21  E-commerce & direct-to-consumer   \n",
              "554      ClickHouse       $2B    10/28/21      Data management & analytics   \n",
              "952  LayerZero Labs       $1B     3/30/22     Internet software & services   \n",
              "314      Flink Food       $3B     12/1/21  E-commerce & direct-to-consumer   \n",
              "864           Aptos       $1B     3/15/22     Internet software & services   \n",
              "238       Yuga Labs       $4B     3/22/22                          Fintech   \n",
              "775            Jokr       $1B     12/2/21  E-commerce & direct-to-consumer   \n",
              "967    Mensa Brands       $1B    11/16/21                            Other   \n",
              "\n",
              "               City Country/Region      Continent  Year Founded Funding  \\\n",
              "782   San Francisco  United States  North America          2021   $118M   \n",
              "714         Beijing          China           Asia          2021   $151M   \n",
              "822       New Delhi          India           Asia          2021   $185M   \n",
              "554  Portola Valley  United States  North America          2021   $300M   \n",
              "952        New York  United States  North America          2021   $143M   \n",
              "314          Berlin        Germany         Europe          2021     $1B   \n",
              "864       Palo Alto  United States  North America          2021   $200M   \n",
              "238           Miami  United States  North America          2021   $450M   \n",
              "775        New York  United States  North America          2021   $430M   \n",
              "967       Bengaluru          India           Asia          2021   $218M   \n",
              "\n",
              "                                      Select Investors  \n",
              "782        Paradigm, Andreessen Horowitz, Jump Capital  \n",
              "714     Phoenix New Media, Tianjin Haihe Industry Fund  \n",
              "822  Chiratae Ventures, SoftBank Group, Trifecta Ca...  \n",
              "554  Lightspeed Venture Partners, Almaz Capital Par...  \n",
              "952  Andreessen Horowitz, FTX Ventures, Tiger Globa...  \n",
              "314            Mubadala Capital, Bond, Prosus Ventures  \n",
              "864  Andreessen Horowitz, Coinbase Ventures, Tiger ...  \n",
              "238  Andreessen Horowitz, Thrive Capital, Sound Ven...  \n",
              "775    GGV Capital, Tiger Global Management, Greycroft  \n",
              "967  Accel, Falcon Edge Capital, Norwest Venture Pa...  "
            ]
          },
          "execution_count": 7,
          "metadata": {},
          "output_type": "execute_result"
        }
      ],
      "source": [
        "# Sort `companies` and display the first 10 rows of the resulting DataFrame.\n",
        "\n",
        "\n",
        "# To arrange the data from latest to earliest `Year Founded`\n",
        "companies.sort_values(by=\"Year Founded\", ascending=False).head(10)\n"
      ]
    },
    {
      "cell_type": "markdown",
      "id": "5c20c826",
      "metadata": {
        "id": "5c20c826"
      },
      "source": [
        "**Question:** What do you observe from the sorting that you performed?\n",
        "\n",
        "- after sorting by `Year Founded` in descending order and display the first 10 rows of the resulting DataFrame, we will observe the following:\n",
        "  - These 10 rows correspond to unicorn companies that were founded in 2021.\n",
        "  - These 10 companies were founded in different parts of the world and belong to different industries.\n",
        "  - Many of these 10 companies were founded in the United States and belong to \"Fintech,\" \"E-commerce & direct-to-consumer,\" and \"Internet software & services\" industries."
      ]
    },
    {
      "cell_type": "markdown",
      "id": "f835db32",
      "metadata": {
        "id": "f835db32"
      },
      "source": [
        "**Question:** Which library shall we use to get the count of each distinct value in the `Year Founded` column?\n",
        "\n",
        "- Use a function from the `pandas` library to get the count of each distinct value in the `Year Founded` column. Each count would indicate how many companies in the dataset were founded in the corresponding year."
      ]
    },
    {
      "cell_type": "markdown",
      "id": "47462e85",
      "metadata": {
        "id": "47462e85"
      },
      "source": [
        "### Determine the number of companies founded each year\n",
        "\n",
        "We will Find out how many companies in this dataset were founded each year. we should make sure to display each unique `Year Founded` that occurs in the dataset, and for each year, a number that represents how many companies were founded then."
      ]
    },
    {
      "cell_type": "code",
      "execution_count": null,
      "id": "5eb824b1",
      "metadata": {
        "colab": {
          "base_uri": "https://localhost:8080/"
        },
        "id": "5eb824b1",
        "outputId": "50304491-2be8-4a85-f32e-1fc05773d995"
      },
      "outputs": [
        {
          "data": {
            "text/plain": [
              "2015    155\n",
              "2016    110\n",
              "2014    109\n",
              "2012     95\n",
              "2013     87\n",
              "2011     82\n",
              "2017     74\n",
              "2018     61\n",
              "2019     45\n",
              "2010     40\n",
              "2009     34\n",
              "2008     27\n",
              "2020     25\n",
              "2007     24\n",
              "2006     15\n",
              "2005     14\n",
              "2000     11\n",
              "2021     11\n",
              "2001      9\n",
              "1999      8\n",
              "2004      8\n",
              "2003      8\n",
              "1998      5\n",
              "2002      4\n",
              "1994      2\n",
              "1995      2\n",
              "1992      1\n",
              "1993      1\n",
              "1990      1\n",
              "1984      1\n",
              "1996      1\n",
              "1979      1\n",
              "1991      1\n",
              "1919      1\n",
              "1997      1\n",
              "Name: Year Founded, dtype: int64"
            ]
          },
          "execution_count": 8,
          "metadata": {},
          "output_type": "execute_result"
        }
      ],
      "source": [
        "# Display each unique year that occurs in the dataset\n",
        "# along with the number of companies that were founded in each unique year.\n",
        "\n",
        "\n",
        "companies[\"Year Founded\"].value_counts().sort_values(ascending=False)\n"
      ]
    },
    {
      "cell_type": "markdown",
      "id": "84aa748f",
      "metadata": {
        "id": "84aa748f"
      },
      "source": [
        "**Question:** What does observing tells us from the counts of the unique `Year Founded` values in the dataset?\n",
        "\n",
        "- `2015` has the highest count. This indicates that `2015` is the year when the largest number of companies in this dataset were founded."
      ]
    },
    {
      "cell_type": "markdown",
      "id": "9f9de873",
      "metadata": {
        "id": "9f9de873"
      },
      "source": [
        "**Question:** What kind of graph represents the counts of samples based on a particular feature?\n",
        "\n",
        "- A histogram is a graphical representation of a frequency distribution, which shows how frequently each value in a dataset or variable occurs."
      ]
    },
    {
      "cell_type": "markdown",
      "id": "8ad69175",
      "metadata": {
        "id": "8ad69175"
      },
      "source": [
        "Plot a histogram of the `Year Founded` feature."
      ]
    },
    {
      "cell_type": "code",
      "execution_count": null,
      "id": "04976450",
      "metadata": {
        "id": "04976450",
        "outputId": "adae06c0-17cb-4634-9c20-49cc16946d56"
      },
      "outputs": [
        {
          "data": {
            "image/png": "[encoded data removed]",
            "text/plain": [
              "<Figure size 640x480 with 1 Axes>"
            ]
          },
          "metadata": {},
          "output_type": "display_data"
        }
      ],
      "source": [
        "sns.histplot(data=companies, x='Year Founded')\n",
        "plt.title('Year Founded histogram');"
      ]
    },
    {
      "cell_type": "markdown",
      "id": "41bc160a",
      "metadata": {
        "id": "41bc160a"
      },
      "source": [
        "**Question:** If we want to compare when one company joined unicorn status to when another company joined, how should we transform the `Date Joined` column to gain that insight? To answer this question, we should notice the data types.\n",
        "\n",
        "- Given that the `Date Joined` columns currently has the data type `object`, if we want to compare when one company joined unicorn status to when another company joined, it would not be possible to achieve this meaningfully, as is. If this column were transformed so that it had a `datetime` data type instead, then it could be used to meaningfully compare `Date Joined` of one company to another."
      ]
    },
    {
      "cell_type": "markdown",
      "id": "92cbc75c",
      "metadata": {
        "id": "92cbc75c",
        "tags": []
      },
      "source": [
        "### Convert the `Date Joined` column to datetime\n",
        "\n",
        "We will convert the `Date Joined` column to datetime. This will split each value into year, month, and date components, allowing us to later gain insights about when a company gained unicorn status with respect to each component."
      ]
    },
    {
      "cell_type": "code",
      "execution_count": null,
      "id": "8e2a21f5",
      "metadata": {
        "colab": {
          "base_uri": "https://localhost:8080/"
        },
        "id": "8e2a21f5",
        "outputId": "041f6664-b5b5-4e5d-fe1e-de6fb35ba23f"
      },
      "outputs": [
        {
          "data": {
            "text/plain": [
              "Company                     object\n",
              "Valuation                   object\n",
              "Date Joined         datetime64[ns]\n",
              "Industry                    object\n",
              "City                        object\n",
              "Country/Region              object\n",
              "Continent                   object\n",
              "Year Founded                 int64\n",
              "Funding                     object\n",
              "Select Investors            object\n",
              "dtype: object"
            ]
          },
          "execution_count": 10,
          "metadata": {},
          "output_type": "execute_result"
        }
      ],
      "source": [
        "# Convert `Date Joined` column to datetime.\n",
        "# Update the column with the converted values.\n",
        "\n",
        "\n",
        "companies[\"Date Joined\"] = pd.to_datetime(companies[\"Date Joined\"])\n",
        "\n",
        "\n",
        "# Display the data types of the columns in `companies`\n",
        "# to confirm that the update actually took place\n",
        "\n",
        "\n",
        "companies.dtypes"
      ]
    },
    {
      "cell_type": "markdown",
      "id": "5d31077d",
      "metadata": {
        "id": "5d31077d"
      },
      "source": [
        "**Question:** How should we obtain the names of the months when companies gained unicorn status?\n",
        "\n",
        "- Now that the `Date Joined` column is in datetime format, extract the month name from each each value in `Date Joined`. This helps obtain the names of the months when companies attained unicorn status."
      ]
    },
    {
      "cell_type": "markdown",
      "id": "7ce062b6",
      "metadata": {
        "id": "7ce062b6",
        "tags": []
      },
      "source": [
        "### Create a `Month Joined` column\n",
        "\n",
        "Obtain the names of the months when companies gained unicorn status, and use the result to create a `Month Joined` column."
      ]
    },
    {
      "cell_type": "code",
      "execution_count": null,
      "id": "d0eb7d00",
      "metadata": {
        "colab": {
          "base_uri": "https://localhost:8080/",
          "height": 354
        },
        "id": "d0eb7d00",
        "outputId": "0f16a675-fee7-45c0-a976-254860f3461a"
      },
      "outputs": [
        {
          "data": {
            "text/html": [
              "<div>\n",
              "<style scoped>\n",
              "    .dataframe tbody tr th:only-of-type {\n",
              "        vertical-align: middle;\n",
              "    }\n",
              "\n",
              "    .dataframe tbody tr th {\n",
              "        vertical-align: top;\n",
              "    }\n",
              "\n",
              "    .dataframe thead th {\n",
              "        text-align: right;\n",
              "    }\n",
              "</style>\n",
              "<table border=\"1\" class=\"dataframe\">\n",
              "  <thead>\n",
              "    <tr style=\"text-align: right;\">\n",
              "      <th></th>\n",
              "      <th>Company</th>\n",
              "      <th>Valuation</th>\n",
              "      <th>Date Joined</th>\n",
              "      <th>Industry</th>\n",
              "      <th>City</th>\n",
              "      <th>Country/Region</th>\n",
              "      <th>Continent</th>\n",
              "      <th>Year Founded</th>\n",
              "      <th>Funding</th>\n",
              "      <th>Select Investors</th>\n",
              "      <th>Month Joined</th>\n",
              "    </tr>\n",
              "  </thead>\n",
              "  <tbody>\n",
              "    <tr>\n",
              "      <th>0</th>\n",
              "      <td>Bytedance</td>\n",
              "      <td>$180B</td>\n",
              "      <td>2017-04-07</td>\n",
              "      <td>Artificial intelligence</td>\n",
              "      <td>Beijing</td>\n",
              "      <td>China</td>\n",
              "      <td>Asia</td>\n",
              "      <td>2012</td>\n",
              "      <td>$8B</td>\n",
              "      <td>Sequoia Capital China, SIG Asia Investments, S...</td>\n",
              "      <td>April</td>\n",
              "    </tr>\n",
              "    <tr>\n",
              "      <th>1</th>\n",
              "      <td>SpaceX</td>\n",
              "      <td>$100B</td>\n",
              "      <td>2012-12-01</td>\n",
              "      <td>Other</td>\n",
              "      <td>Hawthorne</td>\n",
              "      <td>United States</td>\n",
              "      <td>North America</td>\n",
              "      <td>2002</td>\n",
              "      <td>$7B</td>\n",
              "      <td>Founders Fund, Draper Fisher Jurvetson, Rothen...</td>\n",
              "      <td>December</td>\n",
              "    </tr>\n",
              "    <tr>\n",
              "      <th>2</th>\n",
              "      <td>SHEIN</td>\n",
              "      <td>$100B</td>\n",
              "      <td>2018-07-03</td>\n",
              "      <td>E-commerce &amp; direct-to-consumer</td>\n",
              "      <td>Shenzhen</td>\n",
              "      <td>China</td>\n",
              "      <td>Asia</td>\n",
              "      <td>2008</td>\n",
              "      <td>$2B</td>\n",
              "      <td>Tiger Global Management, Sequoia Capital China...</td>\n",
              "      <td>July</td>\n",
              "    </tr>\n",
              "    <tr>\n",
              "      <th>3</th>\n",
              "      <td>Stripe</td>\n",
              "      <td>$95B</td>\n",
              "      <td>2014-01-23</td>\n",
              "      <td>Fintech</td>\n",
              "      <td>San Francisco</td>\n",
              "      <td>United States</td>\n",
              "      <td>North America</td>\n",
              "      <td>2010</td>\n",
              "      <td>$2B</td>\n",
              "      <td>Khosla Ventures, LowercaseCapital, capitalG</td>\n",
              "      <td>January</td>\n",
              "    </tr>\n",
              "    <tr>\n",
              "      <th>4</th>\n",
              "      <td>Klarna</td>\n",
              "      <td>$46B</td>\n",
              "      <td>2011-12-12</td>\n",
              "      <td>Fintech</td>\n",
              "      <td>Stockholm</td>\n",
              "      <td>Sweden</td>\n",
              "      <td>Europe</td>\n",
              "      <td>2005</td>\n",
              "      <td>$4B</td>\n",
              "      <td>Institutional Venture Partners, Sequoia Capita...</td>\n",
              "      <td>December</td>\n",
              "    </tr>\n",
              "  </tbody>\n",
              "</table>\n",
              "</div>"
            ],
            "text/plain": [
              "     Company Valuation Date Joined                         Industry  \\\n",
              "0  Bytedance     $180B  2017-04-07          Artificial intelligence   \n",
              "1     SpaceX     $100B  2012-12-01                            Other   \n",
              "2      SHEIN     $100B  2018-07-03  E-commerce & direct-to-consumer   \n",
              "3     Stripe      $95B  2014-01-23                          Fintech   \n",
              "4     Klarna      $46B  2011-12-12                          Fintech   \n",
              "\n",
              "            City Country/Region      Continent  Year Founded Funding  \\\n",
              "0        Beijing          China           Asia          2012     $8B   \n",
              "1      Hawthorne  United States  North America          2002     $7B   \n",
              "2       Shenzhen          China           Asia          2008     $2B   \n",
              "3  San Francisco  United States  North America          2010     $2B   \n",
              "4      Stockholm         Sweden         Europe          2005     $4B   \n",
              "\n",
              "                                    Select Investors Month Joined  \n",
              "0  Sequoia Capital China, SIG Asia Investments, S...        April  \n",
              "1  Founders Fund, Draper Fisher Jurvetson, Rothen...     December  \n",
              "2  Tiger Global Management, Sequoia Capital China...         July  \n",
              "3        Khosla Ventures, LowercaseCapital, capitalG      January  \n",
              "4  Institutional Venture Partners, Sequoia Capita...     December  "
            ]
          },
          "execution_count": 11,
          "metadata": {},
          "output_type": "execute_result"
        }
      ],
      "source": [
        "# Obtain the names of the months when companies gained unicorn status.\n",
        "# Use the result to create a `Month Joined` column.\n",
        "\n",
        "\n",
        "\n",
        "companies[\"Month Joined\"] = companies[\"Date Joined\"].dt.month_name()\n",
        "\n",
        "\n",
        "# Display the first few rows of `companies`\n",
        "# to confirm that the new column did get added.\n",
        "\n",
        "\n",
        "\n",
        "companies.head()"
      ]
    },
    {
      "cell_type": "markdown",
      "id": "f5277494",
      "metadata": {
        "id": "f5277494"
      },
      "source": [
        "**Question:** Using the `Date Joined` column, how should we  determine how many years it took for companies to reach unicorn status?\n",
        "\n",
        "- Given that the `Date Joined` column is in datetime format, extract the year component from `Date Joined` and subtract the `Year Founded` column from it. This difference in years represents how many it years it took for companies to reach unicorn status."
      ]
    },
    {
      "cell_type": "markdown",
      "id": "85f259f0",
      "metadata": {
        "id": "85f259f0",
        "tags": []
      },
      "source": [
        "### Create a `Years To Join` column\n",
        "\n",
        "Determine how many years it took for companies to reach unicorn status, and use the result to create a `Years To Join` column. Adding this to the dataset can help us answer questions you may have about this aspect of the companies."
      ]
    },
    {
      "cell_type": "code",
      "execution_count": null,
      "id": "69228fda",
      "metadata": {
        "colab": {
          "base_uri": "https://localhost:8080/",
          "height": 354
        },
        "id": "69228fda",
        "outputId": "6349018d-f30d-4a51-f465-7a504b599918"
      },
      "outputs": [
        {
          "data": {
            "text/html": [
              "<div>\n",
              "<style scoped>\n",
              "    .dataframe tbody tr th:only-of-type {\n",
              "        vertical-align: middle;\n",
              "    }\n",
              "\n",
              "    .dataframe tbody tr th {\n",
              "        vertical-align: top;\n",
              "    }\n",
              "\n",
              "    .dataframe thead th {\n",
              "        text-align: right;\n",
              "    }\n",
              "</style>\n",
              "<table border=\"1\" class=\"dataframe\">\n",
              "  <thead>\n",
              "    <tr style=\"text-align: right;\">\n",
              "      <th></th>\n",
              "      <th>Company</th>\n",
              "      <th>Valuation</th>\n",
              "      <th>Date Joined</th>\n",
              "      <th>Industry</th>\n",
              "      <th>City</th>\n",
              "      <th>Country/Region</th>\n",
              "      <th>Continent</th>\n",
              "      <th>Year Founded</th>\n",
              "      <th>Funding</th>\n",
              "      <th>Select Investors</th>\n",
              "      <th>Month Joined</th>\n",
              "      <th>Years To Join</th>\n",
              "    </tr>\n",
              "  </thead>\n",
              "  <tbody>\n",
              "    <tr>\n",
              "      <th>0</th>\n",
              "      <td>Bytedance</td>\n",
              "      <td>$180B</td>\n",
              "      <td>2017-04-07</td>\n",
              "      <td>Artificial intelligence</td>\n",
              "      <td>Beijing</td>\n",
              "      <td>China</td>\n",
              "      <td>Asia</td>\n",
              "      <td>2012</td>\n",
              "      <td>$8B</td>\n",
              "      <td>Sequoia Capital China, SIG Asia Investments, S...</td>\n",
              "      <td>April</td>\n",
              "      <td>5</td>\n",
              "    </tr>\n",
              "    <tr>\n",
              "      <th>1</th>\n",
              "      <td>SpaceX</td>\n",
              "      <td>$100B</td>\n",
              "      <td>2012-12-01</td>\n",
              "      <td>Other</td>\n",
              "      <td>Hawthorne</td>\n",
              "      <td>United States</td>\n",
              "      <td>North America</td>\n",
              "      <td>2002</td>\n",
              "      <td>$7B</td>\n",
              "      <td>Founders Fund, Draper Fisher Jurvetson, Rothen...</td>\n",
              "      <td>December</td>\n",
              "      <td>10</td>\n",
              "    </tr>\n",
              "    <tr>\n",
              "      <th>2</th>\n",
              "      <td>SHEIN</td>\n",
              "      <td>$100B</td>\n",
              "      <td>2018-07-03</td>\n",
              "      <td>E-commerce &amp; direct-to-consumer</td>\n",
              "      <td>Shenzhen</td>\n",
              "      <td>China</td>\n",
              "      <td>Asia</td>\n",
              "      <td>2008</td>\n",
              "      <td>$2B</td>\n",
              "      <td>Tiger Global Management, Sequoia Capital China...</td>\n",
              "      <td>July</td>\n",
              "      <td>10</td>\n",
              "    </tr>\n",
              "    <tr>\n",
              "      <th>3</th>\n",
              "      <td>Stripe</td>\n",
              "      <td>$95B</td>\n",
              "      <td>2014-01-23</td>\n",
              "      <td>Fintech</td>\n",
              "      <td>San Francisco</td>\n",
              "      <td>United States</td>\n",
              "      <td>North America</td>\n",
              "      <td>2010</td>\n",
              "      <td>$2B</td>\n",
              "      <td>Khosla Ventures, LowercaseCapital, capitalG</td>\n",
              "      <td>January</td>\n",
              "      <td>4</td>\n",
              "    </tr>\n",
              "    <tr>\n",
              "      <th>4</th>\n",
              "      <td>Klarna</td>\n",
              "      <td>$46B</td>\n",
              "      <td>2011-12-12</td>\n",
              "      <td>Fintech</td>\n",
              "      <td>Stockholm</td>\n",
              "      <td>Sweden</td>\n",
              "      <td>Europe</td>\n",
              "      <td>2005</td>\n",
              "      <td>$4B</td>\n",
              "      <td>Institutional Venture Partners, Sequoia Capita...</td>\n",
              "      <td>December</td>\n",
              "      <td>6</td>\n",
              "    </tr>\n",
              "  </tbody>\n",
              "</table>\n",
              "</div>"
            ],
            "text/plain": [
              "     Company Valuation Date Joined                         Industry  \\\n",
              "0  Bytedance     $180B  2017-04-07          Artificial intelligence   \n",
              "1     SpaceX     $100B  2012-12-01                            Other   \n",
              "2      SHEIN     $100B  2018-07-03  E-commerce & direct-to-consumer   \n",
              "3     Stripe      $95B  2014-01-23                          Fintech   \n",
              "4     Klarna      $46B  2011-12-12                          Fintech   \n",
              "\n",
              "            City Country/Region      Continent  Year Founded Funding  \\\n",
              "0        Beijing          China           Asia          2012     $8B   \n",
              "1      Hawthorne  United States  North America          2002     $7B   \n",
              "2       Shenzhen          China           Asia          2008     $2B   \n",
              "3  San Francisco  United States  North America          2010     $2B   \n",
              "4      Stockholm         Sweden         Europe          2005     $4B   \n",
              "\n",
              "                                    Select Investors Month Joined  \\\n",
              "0  Sequoia Capital China, SIG Asia Investments, S...        April   \n",
              "1  Founders Fund, Draper Fisher Jurvetson, Rothen...     December   \n",
              "2  Tiger Global Management, Sequoia Capital China...         July   \n",
              "3        Khosla Ventures, LowercaseCapital, capitalG      January   \n",
              "4  Institutional Venture Partners, Sequoia Capita...     December   \n",
              "\n",
              "   Years To Join  \n",
              "0              5  \n",
              "1             10  \n",
              "2             10  \n",
              "3              4  \n",
              "4              6  "
            ]
          },
          "execution_count": 12,
          "metadata": {},
          "output_type": "execute_result"
        }
      ],
      "source": [
        "# Determine how many years it took for companies to reach unicorn status.\n",
        "# Use the result to create a `Years To Join` column.\n",
        "\n",
        "\n",
        "\n",
        "companies[\"Years To Join\"] = companies[\"Date Joined\"].dt.year - companies[\"Year Founded\"]\n",
        "\n",
        "\n",
        "# Display the first few rows of `companies`\n",
        "# to confirm that the new column did get added.\n",
        "\n",
        "\n",
        "companies.head()"
      ]
    },
    {
      "cell_type": "markdown",
      "id": "9b7eda98",
      "metadata": {
        "id": "9b7eda98"
      },
      "source": [
        "**Question:** Which year should we like to gain more insight on with respect when companies attained unicorn status, and why?\n",
        "\n",
        "- Get more insight on the year 2021, as that is the most recent year for which there is data available. Trends that took place in 2021 might be similar to trends that will take place in 2022."
      ]
    },
    {
      "cell_type": "code",
      "execution_count": null,
      "id": "91225d03",
      "metadata": {
        "id": "91225d03",
        "outputId": "fc69a5c4-dbf7-407e-f9a4-5b98793e4f5a"
      },
      "outputs": [
        {
          "data": {
            "text/html": [
              "<div>\n",
              "<style scoped>\n",
              "    .dataframe tbody tr th:only-of-type {\n",
              "        vertical-align: middle;\n",
              "    }\n",
              "\n",
              "    .dataframe tbody tr th {\n",
              "        vertical-align: top;\n",
              "    }\n",
              "\n",
              "    .dataframe thead th {\n",
              "        text-align: right;\n",
              "    }\n",
              "</style>\n",
              "<table border=\"1\" class=\"dataframe\">\n",
              "  <thead>\n",
              "    <tr style=\"text-align: right;\">\n",
              "      <th></th>\n",
              "      <th>Company</th>\n",
              "      <th>Valuation</th>\n",
              "      <th>Date Joined</th>\n",
              "      <th>Industry</th>\n",
              "      <th>City</th>\n",
              "      <th>Country/Region</th>\n",
              "      <th>Continent</th>\n",
              "      <th>Year Founded</th>\n",
              "      <th>Funding</th>\n",
              "      <th>Select Investors</th>\n",
              "      <th>Month Joined</th>\n",
              "      <th>Years To Join</th>\n",
              "      <th>Quarter Joined</th>\n",
              "    </tr>\n",
              "  </thead>\n",
              "  <tbody>\n",
              "    <tr>\n",
              "      <th>0</th>\n",
              "      <td>Bytedance</td>\n",
              "      <td>$180B</td>\n",
              "      <td>2017-04-07</td>\n",
              "      <td>Artificial intelligence</td>\n",
              "      <td>Beijing</td>\n",
              "      <td>China</td>\n",
              "      <td>Asia</td>\n",
              "      <td>2012</td>\n",
              "      <td>$8B</td>\n",
              "      <td>Sequoia Capital China, SIG Asia Investments, S...</td>\n",
              "      <td>April</td>\n",
              "      <td>5</td>\n",
              "      <td>2017-Q2</td>\n",
              "    </tr>\n",
              "    <tr>\n",
              "      <th>1</th>\n",
              "      <td>SpaceX</td>\n",
              "      <td>$100B</td>\n",
              "      <td>2012-12-01</td>\n",
              "      <td>Other</td>\n",
              "      <td>Hawthorne</td>\n",
              "      <td>United States</td>\n",
              "      <td>North America</td>\n",
              "      <td>2002</td>\n",
              "      <td>$7B</td>\n",
              "      <td>Founders Fund, Draper Fisher Jurvetson, Rothen...</td>\n",
              "      <td>December</td>\n",
              "      <td>10</td>\n",
              "      <td>2012-Q4</td>\n",
              "    </tr>\n",
              "    <tr>\n",
              "      <th>2</th>\n",
              "      <td>SHEIN</td>\n",
              "      <td>$100B</td>\n",
              "      <td>2018-07-03</td>\n",
              "      <td>E-commerce &amp; direct-to-consumer</td>\n",
              "      <td>Shenzhen</td>\n",
              "      <td>China</td>\n",
              "      <td>Asia</td>\n",
              "      <td>2008</td>\n",
              "      <td>$2B</td>\n",
              "      <td>Tiger Global Management, Sequoia Capital China...</td>\n",
              "      <td>July</td>\n",
              "      <td>10</td>\n",
              "      <td>2018-Q3</td>\n",
              "    </tr>\n",
              "    <tr>\n",
              "      <th>3</th>\n",
              "      <td>Stripe</td>\n",
              "      <td>$95B</td>\n",
              "      <td>2014-01-23</td>\n",
              "      <td>Fintech</td>\n",
              "      <td>San Francisco</td>\n",
              "      <td>United States</td>\n",
              "      <td>North America</td>\n",
              "      <td>2010</td>\n",
              "      <td>$2B</td>\n",
              "      <td>Khosla Ventures, LowercaseCapital, capitalG</td>\n",
              "      <td>January</td>\n",
              "      <td>4</td>\n",
              "      <td>2014-Q1</td>\n",
              "    </tr>\n",
              "    <tr>\n",
              "      <th>4</th>\n",
              "      <td>Klarna</td>\n",
              "      <td>$46B</td>\n",
              "      <td>2011-12-12</td>\n",
              "      <td>Fintech</td>\n",
              "      <td>Stockholm</td>\n",
              "      <td>Sweden</td>\n",
              "      <td>Europe</td>\n",
              "      <td>2005</td>\n",
              "      <td>$4B</td>\n",
              "      <td>Institutional Venture Partners, Sequoia Capita...</td>\n",
              "      <td>December</td>\n",
              "      <td>6</td>\n",
              "      <td>2011-Q4</td>\n",
              "    </tr>\n",
              "    <tr>\n",
              "      <th>...</th>\n",
              "      <td>...</td>\n",
              "      <td>...</td>\n",
              "      <td>...</td>\n",
              "      <td>...</td>\n",
              "      <td>...</td>\n",
              "      <td>...</td>\n",
              "      <td>...</td>\n",
              "      <td>...</td>\n",
              "      <td>...</td>\n",
              "      <td>...</td>\n",
              "      <td>...</td>\n",
              "      <td>...</td>\n",
              "      <td>...</td>\n",
              "    </tr>\n",
              "    <tr>\n",
              "      <th>1069</th>\n",
              "      <td>Zhaogang</td>\n",
              "      <td>$1B</td>\n",
              "      <td>2017-06-29</td>\n",
              "      <td>E-commerce &amp; direct-to-consumer</td>\n",
              "      <td>Shanghai</td>\n",
              "      <td>China</td>\n",
              "      <td>Asia</td>\n",
              "      <td>2012</td>\n",
              "      <td>$379M</td>\n",
              "      <td>K2 Ventures, Matrix Partners China, IDG Capital</td>\n",
              "      <td>June</td>\n",
              "      <td>5</td>\n",
              "      <td>2017-Q2</td>\n",
              "    </tr>\n",
              "    <tr>\n",
              "      <th>1070</th>\n",
              "      <td>Zhuan Zhuan</td>\n",
              "      <td>$1B</td>\n",
              "      <td>2017-04-18</td>\n",
              "      <td>E-commerce &amp; direct-to-consumer</td>\n",
              "      <td>Beijing</td>\n",
              "      <td>China</td>\n",
              "      <td>Asia</td>\n",
              "      <td>2015</td>\n",
              "      <td>$990M</td>\n",
              "      <td>58.com, Tencent Holdings</td>\n",
              "      <td>April</td>\n",
              "      <td>2</td>\n",
              "      <td>2017-Q2</td>\n",
              "    </tr>\n",
              "    <tr>\n",
              "      <th>1071</th>\n",
              "      <td>Zihaiguo</td>\n",
              "      <td>$1B</td>\n",
              "      <td>2021-05-06</td>\n",
              "      <td>Consumer &amp; retail</td>\n",
              "      <td>Chongqing</td>\n",
              "      <td>China</td>\n",
              "      <td>Asia</td>\n",
              "      <td>2018</td>\n",
              "      <td>$80M</td>\n",
              "      <td>Xingwang Investment Management, China Capital ...</td>\n",
              "      <td>May</td>\n",
              "      <td>3</td>\n",
              "      <td>2021-Q2</td>\n",
              "    </tr>\n",
              "    <tr>\n",
              "      <th>1072</th>\n",
              "      <td>Zopa</td>\n",
              "      <td>$1B</td>\n",
              "      <td>2021-10-19</td>\n",
              "      <td>Fintech</td>\n",
              "      <td>London</td>\n",
              "      <td>United Kingdom</td>\n",
              "      <td>Europe</td>\n",
              "      <td>2005</td>\n",
              "      <td>$792M</td>\n",
              "      <td>IAG Capital Partners, Augmentum Fintech, North...</td>\n",
              "      <td>October</td>\n",
              "      <td>16</td>\n",
              "      <td>2021-Q4</td>\n",
              "    </tr>\n",
              "    <tr>\n",
              "      <th>1073</th>\n",
              "      <td>Zwift</td>\n",
              "      <td>$1B</td>\n",
              "      <td>2020-09-16</td>\n",
              "      <td>E-commerce &amp; direct-to-consumer</td>\n",
              "      <td>Long Beach</td>\n",
              "      <td>United States</td>\n",
              "      <td>North America</td>\n",
              "      <td>2014</td>\n",
              "      <td>$620M</td>\n",
              "      <td>Novator Partners, True, Causeway Media Partners</td>\n",
              "      <td>September</td>\n",
              "      <td>6</td>\n",
              "      <td>2020-Q3</td>\n",
              "    </tr>\n",
              "  </tbody>\n",
              "</table>\n",
              "<p>1074 rows × 13 columns</p>\n",
              "</div>"
            ],
            "text/plain": [
              "          Company Valuation Date Joined                         Industry  \\\n",
              "0       Bytedance     $180B  2017-04-07          Artificial intelligence   \n",
              "1          SpaceX     $100B  2012-12-01                            Other   \n",
              "2           SHEIN     $100B  2018-07-03  E-commerce & direct-to-consumer   \n",
              "3          Stripe      $95B  2014-01-23                          Fintech   \n",
              "4          Klarna      $46B  2011-12-12                          Fintech   \n",
              "...           ...       ...         ...                              ...   \n",
              "1069     Zhaogang       $1B  2017-06-29  E-commerce & direct-to-consumer   \n",
              "1070  Zhuan Zhuan       $1B  2017-04-18  E-commerce & direct-to-consumer   \n",
              "1071     Zihaiguo       $1B  2021-05-06                Consumer & retail   \n",
              "1072         Zopa       $1B  2021-10-19                          Fintech   \n",
              "1073        Zwift       $1B  2020-09-16  E-commerce & direct-to-consumer   \n",
              "\n",
              "               City  Country/Region      Continent  Year Founded Funding  \\\n",
              "0           Beijing           China           Asia          2012     $8B   \n",
              "1         Hawthorne   United States  North America          2002     $7B   \n",
              "2          Shenzhen           China           Asia          2008     $2B   \n",
              "3     San Francisco   United States  North America          2010     $2B   \n",
              "4         Stockholm          Sweden         Europe          2005     $4B   \n",
              "...             ...             ...            ...           ...     ...   \n",
              "1069       Shanghai           China           Asia          2012   $379M   \n",
              "1070        Beijing           China           Asia          2015   $990M   \n",
              "1071      Chongqing           China           Asia          2018    $80M   \n",
              "1072         London  United Kingdom         Europe          2005   $792M   \n",
              "1073     Long Beach   United States  North America          2014   $620M   \n",
              "\n",
              "                                       Select Investors Month Joined  \\\n",
              "0     Sequoia Capital China, SIG Asia Investments, S...        April   \n",
              "1     Founders Fund, Draper Fisher Jurvetson, Rothen...     December   \n",
              "2     Tiger Global Management, Sequoia Capital China...         July   \n",
              "3           Khosla Ventures, LowercaseCapital, capitalG      January   \n",
              "4     Institutional Venture Partners, Sequoia Capita...     December   \n",
              "...                                                 ...          ...   \n",
              "1069    K2 Ventures, Matrix Partners China, IDG Capital         June   \n",
              "1070                           58.com, Tencent Holdings        April   \n",
              "1071  Xingwang Investment Management, China Capital ...          May   \n",
              "1072  IAG Capital Partners, Augmentum Fintech, North...      October   \n",
              "1073    Novator Partners, True, Causeway Media Partners    September   \n",
              "\n",
              "      Years To Join Quarter Joined  \n",
              "0                 5        2017-Q2  \n",
              "1                10        2012-Q4  \n",
              "2                10        2018-Q3  \n",
              "3                 4        2014-Q1  \n",
              "4                 6        2011-Q4  \n",
              "...             ...            ...  \n",
              "1069              5        2017-Q2  \n",
              "1070              2        2017-Q2  \n",
              "1071              3        2021-Q2  \n",
              "1072             16        2021-Q4  \n",
              "1073              6        2020-Q3  \n",
              "\n",
              "[1074 rows x 13 columns]"
            ]
          },
          "execution_count": 25,
          "metadata": {},
          "output_type": "execute_result"
        }
      ],
      "source": [
        "# Add `Quarter Joined` column to `companies_2020_2021`.\n",
        "companies[\"Quarter Joined\"] = companies[\"Date Joined\"].dt.to_period('Q').dt.strftime('%Y-Q%q')\n",
        "# disply a few rows of companies data frame\n",
        "companies"
      ]
    },
    {
      "cell_type": "markdown",
      "id": "7b17bd08",
      "metadata": {
        "id": "7b17bd08"
      },
      "source": [
        "### Gain more insight on a specific year\n",
        "\n",
        "To get more insight on the year of that interests you, filter the dataset by that year and save the resulting subset into a new variable."
      ]
    },
    {
      "cell_type": "code",
      "execution_count": null,
      "id": "825ef0d4",
      "metadata": {
        "colab": {
          "base_uri": "https://localhost:8080/",
          "height": 372
        },
        "id": "825ef0d4",
        "outputId": "ad939722-720c-4e35-8690-cdff7e0128be"
      },
      "outputs": [
        {
          "data": {
            "text/html": [
              "<div>\n",
              "<style scoped>\n",
              "    .dataframe tbody tr th:only-of-type {\n",
              "        vertical-align: middle;\n",
              "    }\n",
              "\n",
              "    .dataframe tbody tr th {\n",
              "        vertical-align: top;\n",
              "    }\n",
              "\n",
              "    .dataframe thead th {\n",
              "        text-align: right;\n",
              "    }\n",
              "</style>\n",
              "<table border=\"1\" class=\"dataframe\">\n",
              "  <thead>\n",
              "    <tr style=\"text-align: right;\">\n",
              "      <th></th>\n",
              "      <th>Company</th>\n",
              "      <th>Valuation</th>\n",
              "      <th>Date Joined</th>\n",
              "      <th>Industry</th>\n",
              "      <th>City</th>\n",
              "      <th>Country/Region</th>\n",
              "      <th>Continent</th>\n",
              "      <th>Year Founded</th>\n",
              "      <th>Funding</th>\n",
              "      <th>Select Investors</th>\n",
              "      <th>Month Joined</th>\n",
              "      <th>Years To Join</th>\n",
              "    </tr>\n",
              "  </thead>\n",
              "  <tbody>\n",
              "    <tr>\n",
              "      <th>12</th>\n",
              "      <td>FTX</td>\n",
              "      <td>$32B</td>\n",
              "      <td>2021-07-20</td>\n",
              "      <td>Fintech</td>\n",
              "      <td>NaN</td>\n",
              "      <td>Bahamas</td>\n",
              "      <td>North America</td>\n",
              "      <td>2018</td>\n",
              "      <td>$2B</td>\n",
              "      <td>Sequoia Capital, Thoma Bravo, Softbank</td>\n",
              "      <td>July</td>\n",
              "      <td>3</td>\n",
              "    </tr>\n",
              "    <tr>\n",
              "      <th>16</th>\n",
              "      <td>J&amp;T Express</td>\n",
              "      <td>$20B</td>\n",
              "      <td>2021-04-07</td>\n",
              "      <td>Supply chain, logistics, &amp; delivery</td>\n",
              "      <td>Jakarta</td>\n",
              "      <td>Indonesia</td>\n",
              "      <td>Asia</td>\n",
              "      <td>2015</td>\n",
              "      <td>$5B</td>\n",
              "      <td>Hillhouse Capital Management, Boyu Capital, Se...</td>\n",
              "      <td>April</td>\n",
              "      <td>6</td>\n",
              "    </tr>\n",
              "    <tr>\n",
              "      <th>24</th>\n",
              "      <td>Blockchain.com</td>\n",
              "      <td>$14B</td>\n",
              "      <td>2021-02-17</td>\n",
              "      <td>Fintech</td>\n",
              "      <td>London</td>\n",
              "      <td>United Kingdom</td>\n",
              "      <td>Europe</td>\n",
              "      <td>2011</td>\n",
              "      <td>$490M</td>\n",
              "      <td>Lightspeed Venture Partners, Google Ventures, ...</td>\n",
              "      <td>February</td>\n",
              "      <td>10</td>\n",
              "    </tr>\n",
              "    <tr>\n",
              "      <th>27</th>\n",
              "      <td>OpenSea</td>\n",
              "      <td>$13B</td>\n",
              "      <td>2021-07-20</td>\n",
              "      <td>E-commerce &amp; direct-to-consumer</td>\n",
              "      <td>New York</td>\n",
              "      <td>United States</td>\n",
              "      <td>North America</td>\n",
              "      <td>2017</td>\n",
              "      <td>$427M</td>\n",
              "      <td>Andreessen Horowitz, Thirty Five Ventures, Sou...</td>\n",
              "      <td>July</td>\n",
              "      <td>4</td>\n",
              "    </tr>\n",
              "    <tr>\n",
              "      <th>34</th>\n",
              "      <td>Getir</td>\n",
              "      <td>$12B</td>\n",
              "      <td>2021-03-26</td>\n",
              "      <td>E-commerce &amp; direct-to-consumer</td>\n",
              "      <td>Istanbul</td>\n",
              "      <td>Turkey</td>\n",
              "      <td>Europe</td>\n",
              "      <td>2015</td>\n",
              "      <td>$2B</td>\n",
              "      <td>Tiger Global Management, Sequoia Capital, Revo...</td>\n",
              "      <td>March</td>\n",
              "      <td>6</td>\n",
              "    </tr>\n",
              "  </tbody>\n",
              "</table>\n",
              "</div>"
            ],
            "text/plain": [
              "           Company Valuation Date Joined                             Industry  \\\n",
              "12             FTX      $32B  2021-07-20                              Fintech   \n",
              "16     J&T Express      $20B  2021-04-07  Supply chain, logistics, & delivery   \n",
              "24  Blockchain.com      $14B  2021-02-17                              Fintech   \n",
              "27         OpenSea      $13B  2021-07-20      E-commerce & direct-to-consumer   \n",
              "34           Getir      $12B  2021-03-26      E-commerce & direct-to-consumer   \n",
              "\n",
              "        City  Country/Region      Continent  Year Founded Funding  \\\n",
              "12       NaN         Bahamas  North America          2018     $2B   \n",
              "16   Jakarta       Indonesia           Asia          2015     $5B   \n",
              "24    London  United Kingdom         Europe          2011   $490M   \n",
              "27  New York   United States  North America          2017   $427M   \n",
              "34  Istanbul          Turkey         Europe          2015     $2B   \n",
              "\n",
              "                                     Select Investors Month Joined  \\\n",
              "12             Sequoia Capital, Thoma Bravo, Softbank         July   \n",
              "16  Hillhouse Capital Management, Boyu Capital, Se...        April   \n",
              "24  Lightspeed Venture Partners, Google Ventures, ...     February   \n",
              "27  Andreessen Horowitz, Thirty Five Ventures, Sou...         July   \n",
              "34  Tiger Global Management, Sequoia Capital, Revo...        March   \n",
              "\n",
              "    Years To Join  \n",
              "12              3  \n",
              "16              6  \n",
              "24             10  \n",
              "27              4  \n",
              "34              6  "
            ]
          },
          "execution_count": 13,
          "metadata": {},
          "output_type": "execute_result"
        }
      ],
      "source": [
        "# Filter dataset by a year of your interest (in terms of when companies reached unicorn status).\n",
        "# Save the resulting subset in a new variable .\n",
        "\n",
        "companies_2021 = companies[companies[\"Date Joined\"].dt.year == 2021]\n",
        "\n",
        "\n",
        "# Display the first few rows of the subset to confirm that it was created\n",
        "\n",
        "\n",
        "companies_2021.head()"
      ]
    },
    {
      "cell_type": "markdown",
      "id": "19cb81a8",
      "metadata": {
        "id": "19cb81a8"
      },
      "source": [
        "**Question:** Using a time interval, how should we  observe trends in the companies that became unicorns in one year?\n",
        "\n",
        "- First, identify a time interval of choice. Then, take the subset that consists of the data for the year of interest, create a column that contains the time interval that each data point belongs to (as needed), group by that column, and count the number of companies that joined per interval.\n",
        "  - For example, if a subset consisted of companies that joined in 2021, create a column that corresponds to week joined, group by week, and count the number of companies that joined per week. This allows the observation of trends over the weeks of 2021."
      ]
    },
    {
      "cell_type": "markdown",
      "id": "e5352fcd",
      "metadata": {
        "id": "e5352fcd"
      },
      "source": [
        "### Observe trends over time\n",
        "\n",
        "Implement the structuring approach that we have identified to observe trends over time in the companies that became unicorns for the year that interests you."
      ]
    },
    {
      "cell_type": "code",
      "execution_count": null,
      "id": "7eb2869d",
      "metadata": {
        "colab": {
          "base_uri": "https://localhost:8080/",
          "height": 206
        },
        "id": "7eb2869d",
        "outputId": "8f1c7b20-c3d0-4539-f257-8183cc9245cc"
      },
      "outputs": [
        {
          "data": {
            "text/html": [
              "<div>\n",
              "<style scoped>\n",
              "    .dataframe tbody tr th:only-of-type {\n",
              "        vertical-align: middle;\n",
              "    }\n",
              "\n",
              "    .dataframe tbody tr th {\n",
              "        vertical-align: top;\n",
              "    }\n",
              "\n",
              "    .dataframe thead th {\n",
              "        text-align: right;\n",
              "    }\n",
              "</style>\n",
              "<table border=\"1\" class=\"dataframe\">\n",
              "  <thead>\n",
              "    <tr style=\"text-align: right;\">\n",
              "      <th></th>\n",
              "      <th>Week Joined</th>\n",
              "      <th>Company Count</th>\n",
              "    </tr>\n",
              "  </thead>\n",
              "  <tbody>\n",
              "    <tr>\n",
              "      <th>0</th>\n",
              "      <td>2021-W01</td>\n",
              "      <td>12</td>\n",
              "    </tr>\n",
              "    <tr>\n",
              "      <th>1</th>\n",
              "      <td>2021-W02</td>\n",
              "      <td>9</td>\n",
              "    </tr>\n",
              "    <tr>\n",
              "      <th>2</th>\n",
              "      <td>2021-W03</td>\n",
              "      <td>5</td>\n",
              "    </tr>\n",
              "    <tr>\n",
              "      <th>3</th>\n",
              "      <td>2021-W04</td>\n",
              "      <td>8</td>\n",
              "    </tr>\n",
              "    <tr>\n",
              "      <th>4</th>\n",
              "      <td>2021-W05</td>\n",
              "      <td>4</td>\n",
              "    </tr>\n",
              "  </tbody>\n",
              "</table>\n",
              "</div>"
            ],
            "text/plain": [
              "  Week Joined  Company Count\n",
              "0    2021-W01             12\n",
              "1    2021-W02              9\n",
              "2    2021-W03              5\n",
              "3    2021-W04              8\n",
              "4    2021-W05              4"
            ]
          },
          "execution_count": 14,
          "metadata": {},
          "output_type": "execute_result"
        }
      ],
      "source": [
        "# After identifying the time interval that interests us, proceed with the following:\n",
        "# Step 1. Take the subset that we defined for the year of interest.\n",
        "#         Insert a column that contains the time interval that each data point belongs to, as needed.\n",
        "# Step 2. Group by the time interval.\n",
        "#         Aggregate by counting companies that joined per interval of that year.\n",
        "#         Save the resulting DataFrame in a new variable.\n",
        "\n",
        "#companies_in_2021[\"Week Joined\"] = companies[\"Date Joined\"].dt.week\n",
        "\n",
        "#week_company_2021= companies_in_2021.groupby(\"Week Joined\").count()\n",
        "\n",
        "#week_company_2021 = companies_in_2021.groupby('Week Joined').size().reset_index(name='Company Count')\n",
        "# Insert a `Week Joined` column into `companies_2021.`\n",
        "companies_2021.insert(1, \"Week Joined\", companies_2021[\"Date Joined\"].dt.strftime('%Y-W%V'), True)\n",
        "\n",
        "# Group `companies_2021` by `Week Joined`.\n",
        "# Aggregate by counting companies that joined per week of 2021.\n",
        "# Save the resulting DataFrame in a new variable.\n",
        "companies_by_week_2021 = companies_2021.groupby(by=\"Week Joined\")[\"Company\"].count().reset_index().rename(columns={\"Company\":\"Company Count\"})\n",
        "\n",
        "# Display the first few rows of the new DataFrame to confirm that it was created.\n",
        "\n",
        "\n",
        "\n",
        "companies_by_week_2021.head()\n",
        "\n"
      ]
    },
    {
      "cell_type": "code",
      "execution_count": null,
      "id": "f161cebc",
      "metadata": {
        "id": "f161cebc",
        "outputId": "04cc2855-92d1-4cbc-b0b3-c51547aa9d69"
      },
      "outputs": [
        {
          "data": {
            "text/html": [
              "<div>\n",
              "<style scoped>\n",
              "    .dataframe tbody tr th:only-of-type {\n",
              "        vertical-align: middle;\n",
              "    }\n",
              "\n",
              "    .dataframe tbody tr th {\n",
              "        vertical-align: top;\n",
              "    }\n",
              "\n",
              "    .dataframe thead th {\n",
              "        text-align: right;\n",
              "    }\n",
              "</style>\n",
              "<table border=\"1\" class=\"dataframe\">\n",
              "  <thead>\n",
              "    <tr style=\"text-align: right;\">\n",
              "      <th></th>\n",
              "      <th>Company</th>\n",
              "      <th>Week Joined</th>\n",
              "      <th>Valuation</th>\n",
              "      <th>Date Joined</th>\n",
              "      <th>Industry</th>\n",
              "      <th>City</th>\n",
              "      <th>Country/Region</th>\n",
              "      <th>Continent</th>\n",
              "      <th>Year Founded</th>\n",
              "      <th>Funding</th>\n",
              "      <th>Select Investors</th>\n",
              "      <th>Month Joined</th>\n",
              "      <th>Years To Join</th>\n",
              "    </tr>\n",
              "  </thead>\n",
              "  <tbody>\n",
              "    <tr>\n",
              "      <th>12</th>\n",
              "      <td>FTX</td>\n",
              "      <td>29</td>\n",
              "      <td>$32B</td>\n",
              "      <td>2021-07-20</td>\n",
              "      <td>Fintech</td>\n",
              "      <td>NaN</td>\n",
              "      <td>Bahamas</td>\n",
              "      <td>North America</td>\n",
              "      <td>2018</td>\n",
              "      <td>$2B</td>\n",
              "      <td>Sequoia Capital, Thoma Bravo, Softbank</td>\n",
              "      <td>July</td>\n",
              "      <td>3</td>\n",
              "    </tr>\n",
              "    <tr>\n",
              "      <th>16</th>\n",
              "      <td>J&amp;T Express</td>\n",
              "      <td>14</td>\n",
              "      <td>$20B</td>\n",
              "      <td>2021-04-07</td>\n",
              "      <td>Supply chain, logistics, &amp; delivery</td>\n",
              "      <td>Jakarta</td>\n",
              "      <td>Indonesia</td>\n",
              "      <td>Asia</td>\n",
              "      <td>2015</td>\n",
              "      <td>$5B</td>\n",
              "      <td>Hillhouse Capital Management, Boyu Capital, Se...</td>\n",
              "      <td>April</td>\n",
              "      <td>6</td>\n",
              "    </tr>\n",
              "    <tr>\n",
              "      <th>24</th>\n",
              "      <td>Blockchain.com</td>\n",
              "      <td>7</td>\n",
              "      <td>$14B</td>\n",
              "      <td>2021-02-17</td>\n",
              "      <td>Fintech</td>\n",
              "      <td>London</td>\n",
              "      <td>United Kingdom</td>\n",
              "      <td>Europe</td>\n",
              "      <td>2011</td>\n",
              "      <td>$490M</td>\n",
              "      <td>Lightspeed Venture Partners, Google Ventures, ...</td>\n",
              "      <td>February</td>\n",
              "      <td>10</td>\n",
              "    </tr>\n",
              "  </tbody>\n",
              "</table>\n",
              "</div>"
            ],
            "text/plain": [
              "           Company  Week Joined Valuation Date Joined  \\\n",
              "12             FTX           29      $32B  2021-07-20   \n",
              "16     J&T Express           14      $20B  2021-04-07   \n",
              "24  Blockchain.com            7      $14B  2021-02-17   \n",
              "\n",
              "                               Industry     City  Country/Region  \\\n",
              "12                              Fintech      NaN         Bahamas   \n",
              "16  Supply chain, logistics, & delivery  Jakarta       Indonesia   \n",
              "24                              Fintech   London  United Kingdom   \n",
              "\n",
              "        Continent  Year Founded Funding  \\\n",
              "12  North America          2018     $2B   \n",
              "16           Asia          2015     $5B   \n",
              "24         Europe          2011   $490M   \n",
              "\n",
              "                                     Select Investors Month Joined  \\\n",
              "12             Sequoia Capital, Thoma Bravo, Softbank         July   \n",
              "16  Hillhouse Capital Management, Boyu Capital, Se...        April   \n",
              "24  Lightspeed Venture Partners, Google Ventures, ...     February   \n",
              "\n",
              "    Years To Join  \n",
              "12              3  \n",
              "16              6  \n",
              "24             10  "
            ]
          },
          "execution_count": 17,
          "metadata": {},
          "output_type": "execute_result"
        }
      ],
      "source": [
        "companies_2021.head(3)"
      ]
    },
    {
      "cell_type": "markdown",
      "id": "95054553",
      "metadata": {
        "id": "95054553"
      },
      "source": [
        "**Question:** How should we  structure the data to observe trends in the average valuation of companies from 2020 to 2021?  \n",
        "\n",
        "- One approach consists of the following:\n",
        "  - Choose a time interval over which we want to observe average valuation.\n",
        "  - Create a subset of data that corresponds to the additional year. Concatenate that subset with the previous subset you created, in order to get the data for both years in one DataFrame.\n",
        "  - Create a column that contains the time interval that each data point belongs to (as needed), group by that column, and compute the average funding of companies that joined per interval.\n",
        "- To compare trends in average valuation of companies quarterly between 2021 and 2020, if we already had a subset for 2021, we could do the following:\n",
        "- Create a subset for 2020.\n",
        "- Concatenate that with the subset for 2020.\n",
        "- Create a column that corresponds to quarter joined.\n",
        "- Group by quarter.\n",
        "- Compute the average valuation of companies that joined per quarter.\n",
        "\n",
        "This allows the observation of trends over the quarters of 2020 compared to 2021."
      ]
    },
    {
      "cell_type": "markdown",
      "id": "80ce18b8",
      "metadata": {
        "id": "80ce18b8"
      },
      "source": [
        "### Compare trends over time\n",
        "\n",
        "Implement the structuring approach that we have identified in order to compare trends over time in the average valuation of companies that became unicorns between your years of interest. Keep in mind the data type of the `Valuation` column and what the values in that column contain currently."
      ]
    },
    {
      "cell_type": "code",
      "execution_count": null,
      "id": "63e5709d",
      "metadata": {
        "colab": {
          "base_uri": "https://localhost:8080/",
          "height": 206
        },
        "id": "63e5709d",
        "outputId": "cd7dd2bc-3268-4e15-a9dd-b376670f2196"
      },
      "outputs": [
        {
          "data": {
            "text/html": [
              "<div>\n",
              "<style scoped>\n",
              "    .dataframe tbody tr th:only-of-type {\n",
              "        vertical-align: middle;\n",
              "    }\n",
              "\n",
              "    .dataframe tbody tr th {\n",
              "        vertical-align: top;\n",
              "    }\n",
              "\n",
              "    .dataframe thead th {\n",
              "        text-align: right;\n",
              "    }\n",
              "</style>\n",
              "<table border=\"1\" class=\"dataframe\">\n",
              "  <thead>\n",
              "    <tr style=\"text-align: right;\">\n",
              "      <th></th>\n",
              "      <th>Quarter Joined</th>\n",
              "      <th>Average Valuation</th>\n",
              "    </tr>\n",
              "  </thead>\n",
              "  <tbody>\n",
              "    <tr>\n",
              "      <th>0</th>\n",
              "      <td>2020-Q1</td>\n",
              "      <td>3.444444</td>\n",
              "    </tr>\n",
              "    <tr>\n",
              "      <th>1</th>\n",
              "      <td>2020-Q2</td>\n",
              "      <td>3.777778</td>\n",
              "    </tr>\n",
              "    <tr>\n",
              "      <th>2</th>\n",
              "      <td>2020-Q3</td>\n",
              "      <td>3.896552</td>\n",
              "    </tr>\n",
              "    <tr>\n",
              "      <th>3</th>\n",
              "      <td>2020-Q4</td>\n",
              "      <td>3.697674</td>\n",
              "    </tr>\n",
              "    <tr>\n",
              "      <th>4</th>\n",
              "      <td>2021-Q1</td>\n",
              "      <td>2.750000</td>\n",
              "    </tr>\n",
              "    <tr>\n",
              "      <th>5</th>\n",
              "      <td>2021-Q2</td>\n",
              "      <td>2.340278</td>\n",
              "    </tr>\n",
              "    <tr>\n",
              "      <th>6</th>\n",
              "      <td>2021-Q3</td>\n",
              "      <td>2.291045</td>\n",
              "    </tr>\n",
              "    <tr>\n",
              "      <th>7</th>\n",
              "      <td>2021-Q4</td>\n",
              "      <td>1.850746</td>\n",
              "    </tr>\n",
              "  </tbody>\n",
              "</table>\n",
              "</div>"
            ],
            "text/plain": [
              "  Quarter Joined  Average Valuation\n",
              "0        2020-Q1           3.444444\n",
              "1        2020-Q2           3.777778\n",
              "2        2020-Q3           3.896552\n",
              "3        2020-Q4           3.697674\n",
              "4        2021-Q1           2.750000\n",
              "5        2021-Q2           2.340278\n",
              "6        2021-Q3           2.291045\n",
              "7        2021-Q4           1.850746"
            ]
          },
          "execution_count": 24,
          "metadata": {},
          "output_type": "execute_result"
        }
      ],
      "source": [
        "# After identifying the additional year and time interval of interest, proceed with the following:\n",
        "# Step 1. Filter by the additional year to create a subset that consists of companies that joined in that year.\n",
        "# Step 2. Concatenate that new subset with the subset that you defined previously.\n",
        "# Step 3. As needed, add a column that contains the time interval that each data point belongs to,\n",
        "#         in the concatenated DataFrame.\n",
        "# Step 4. Transform the `Valuation` column as needed.\n",
        "# Step 5. Group by the time interval.\n",
        "#         Aggregate by computing average valuation of companies that joined per interval of the corresponding year.\n",
        "#         Save the resulting DataFrame in a new variable.\n",
        "\n",
        "\n",
        "# Filter by the additional year to create a subset that consists of companies that joined in that year.\n",
        "companies_2020 = companies[companies[\"Date Joined\"].dt.year == 2020]\n",
        "\n",
        "# Concatenate the new subset with the subset that you defined previously.\n",
        "companies_2020_2021 = pd.concat([companies_2020, companies_2021.drop(columns=\"Week Joined\")])\n",
        "\n",
        "# Add `Quarter Joined` column to `companies_2020_2021`.\n",
        "companies_2020_2021[\"Quarter Joined\"] = companies_2020_2021[\"Date Joined\"].dt.to_period('Q').dt.strftime('%Y-Q%q')\n",
        "\n",
        "# Convert the `Valuation` column to numeric by removing `$` and `B` and casting each value to data type `float`.\n",
        "companies_2020_2021[\"Valuation\"] =  companies_2020_2021[\"Valuation\"].str.strip(\"$B\").astype(float)\n",
        "\n",
        "# Group `companies_2020_2021` by `Quarter Joined`,\n",
        "# Aggregate by computing average `Funding` of companies that joined per quarter of each year.\n",
        "# Save the resulting DataFrame in a new variable.\n",
        "companies_by_quarter_2020_2021 = companies_2020_2021.groupby(by=\"Quarter Joined\")[\"Valuation\"].mean().reset_index().rename(columns={\"Valuation\":\"Average Valuation\"})\n",
        "\n",
        "# Display the first few rows of the new DataFrame to confirm that it was created.\n",
        "\n",
        "\n",
        "\n",
        "companies_by_quarter_2020_2021.head(12)\n"
      ]
    },
    {
      "cell_type": "markdown",
      "id": "430430e0",
      "metadata": {
        "id": "430430e0"
      },
      "source": [
        "## Step 3: Time-to-unicorn visualization\n",
        "\n",
        "### Visualize the time it took companies to become unicorns\n",
        "\n",
        "As a next step, we will visualize our data. Using the `companies` dataset, create a box plot to visualize the distribution of how long it took companies to become unicorns, with respect to the month they joined."
      ]
    },
    {
      "cell_type": "code",
      "execution_count": null,
      "id": "3ee24534",
      "metadata": {
        "colab": {
          "base_uri": "https://localhost:8080/"
        },
        "id": "3ee24534",
        "outputId": "e3434164-6e22-4b2c-d4a4-0a7628a58214"
      },
      "outputs": [
        {
          "name": "stdout",
          "output_type": "stream",
          "text": [
            "['January', 'February', 'March', 'April', 'May', 'June', 'July', 'August', 'September', 'October', 'November', 'December']\n"
          ]
        }
      ],
      "source": [
        "# Define a list that contains months in chronological order.\n",
        "\n",
        "\n",
        "month_order = [\"January\", \"February\", \"March\", \"April\", \"May\", \"June\",\n",
        "               \"July\", \"August\", \"September\", \"October\", \"November\",\n",
        "               \"December\"]\n",
        "\n",
        "# Print out the list to confirm it is correct.\n",
        "\n",
        "\n",
        "print(month_order)\n",
        ""
      ]
    },
    {
      "cell_type": "code",
      "execution_count": null,
      "id": "4b1e5e94",
      "metadata": {
        "colab": {
          "base_uri": "https://localhost:8080/",
          "height": 331
        },
        "id": "4b1e5e94",
        "outputId": "38b48c42-a567-4ea7-92de-634c2dc5bf34",
        "scrolled": true
      },
      "outputs": [
        {
          "data": {
            "image/png": "[encoded data removed]",
            "text/plain": [
              "<Figure size 640x480 with 1 Axes>"
            ]
          },
          "metadata": {},
          "output_type": "display_data"
        }
      ],
      "source": [
        "# Create the box plot to visualize the distribution of how long it took companies to become unicorns, with respect to the month they joined.\n",
        "# Make sure the x-axis goes in chronological order by month, using the list you defined previously.\n",
        "# Plot the data from the `companies` DataFrame.\n",
        "\n",
        "\n",
        "sns.boxplot(x=companies['Month Joined'],\n",
        "            y=companies['Years To Join'],\n",
        "            order=month_order,\n",
        "            showfliers=False)\n",
        "\n",
        "# Set the title of the plot.\n",
        "\n",
        "\n",
        "plt.title('Distribution of years to become unicorn with respect to month joined')\n",
        "\n",
        "# Rotate labels on the x-axis as a way to avoid overlap in the positions of the text.\n",
        "\n",
        "\n",
        "plt.xticks(rotation=45, horizontalalignment='right')\n",
        "\n",
        "# Display the plot.\n",
        "\n",
        "\n",
        "plt.show()\n"
      ]
    },
    {
      "cell_type": "markdown",
      "id": "f913e468",
      "metadata": {
        "id": "f913e468"
      },
      "source": [
        " **Question:** In the preceding box plot, what do we observe about the median value for `Years To Join` for each month?\n",
        "\n",
        "- In the preceding box plot, the median value for `Years To Join` is different for each month. Also, the median `Years To Join` is lower for the months of September and October. This could indicate that companies that reached unicorn status in early fall took less time to reach $1 billion valuation. This is because the number of companies is relatively close/consistent for each month. If that were not the case, it would be misleading to compare the median values from the box plots between months."
      ]
    },
    {
      "cell_type": "markdown",
      "id": "d3cccd62",
      "metadata": {
        "id": "d3cccd62"
      },
      "source": [
        "## Step 4: Results and evaluation\n"
      ]
    },
    {
      "cell_type": "markdown",
      "id": "b54f9a6f",
      "metadata": {
        "id": "b54f9a6f",
        "tags": []
      },
      "source": [
        "### Visualize the time it took companies to reach unicorn status\n",
        "\n",
        "In this section, we will evaluate the result of structuring the data, making observations, and gaining further insights about the data.\n",
        "\n",
        "Using the `companies` dataset, create a bar plot to visualize the average number of years it took companies to reach unicorn status with respect to when they were founded."
      ]
    },
    {
      "cell_type": "code",
      "execution_count": null,
      "id": "80d11c48",
      "metadata": {
        "colab": {
          "base_uri": "https://localhost:8080/",
          "height": 419
        },
        "id": "80d11c48",
        "outputId": "ed8bf63f-22bb-4d1a-ce58-883de82c65d7"
      },
      "outputs": [
        {
          "data": {
            "image/png": "[encoded data removed]",
            "text/plain": [
              "<Figure size 1500x600 with 1 Axes>"
            ]
          },
          "metadata": {},
          "output_type": "display_data"
        }
      ],
      "source": [
        "# Set the size of the plot.\n",
        "\n",
        "\n",
        "plt.figure(figsize=(15,6))\n",
        "\n",
        "\n",
        "# Create bar plot to visualize the average number of years it took companies to reach unicorn status\n",
        "# with respect to when they were founded.\n",
        "# Plot data from the `companies` DataFrame.\n",
        "\n",
        "\n",
        "sns.barplot(x=companies[\"Year Founded\"], y=companies[\"Years To Join\"], ci=False)\n",
        "\n",
        "\n",
        "# Set title\n",
        "\n",
        "\n",
        "plt.title(\"Bar plot of years to join with respect to year founded\")\n",
        "\n",
        "\n",
        "# Set x-axis label\n",
        "\n",
        "\n",
        "plt.xlabel(\"Year founded\")\n",
        "\n",
        "\n",
        "# Set y-axis label\n",
        "\n",
        "\n",
        "plt.ylabel(\"Years to join unicorn status\")\n",
        "\n",
        "\n",
        "# Rotate the labels on the x-axis as a way to avoid overlap in the positions of the text.\n",
        "\n",
        "\n",
        "plt.xticks(rotation=45, horizontalalignment='right')\n",
        "\n",
        "# Display the plot.\n",
        "\n",
        "\n",
        "plt.show()"
      ]
    },
    {
      "cell_type": "markdown",
      "id": "94267e0d",
      "metadata": {
        "id": "94267e0d",
        "jp-MarkdownHeadingCollapsed": true,
        "tags": []
      },
      "source": [
        "### Hint 1\n",
        "\n",
        "we use the function in the `seaborn` library that allows us to create a bar plot where the height of each bar is the average value for the corresponding category, by default.\n",
        "\n",
        "we use the functions in the `matplotlib.pyplot` module that allow us to set the size, title, x-axis label, and y-axis label of plots. In that module, there are also functions for rotating the labels on the x-axis and displaying the plot.\n",
        "\n",
        "\n",
        "\n",
        "\n"
      ]
    },
    {
      "cell_type": "markdown",
      "id": "6e07c007",
      "metadata": {
        "id": "6e07c007",
        "jp-MarkdownHeadingCollapsed": true,
        "tags": []
      },
      "source": [
        "### Hint 2\n",
        "\n",
        "Use the `barplot()` function from `seaborn`, passing in the parameters `x`, `y`, and `ci`. To keep confidence interval lines from appearing on the bar plot,  set `ci` to `False`.\n",
        "\n",
        "Use `plt.figure()`, passing in the `figsize` parameter to set the size of a plot.\n",
        "\n",
        "Use `plt.title()`, `plt.xlabel()`, `plt.ylabel()` to set the title, x-axis label, and y-axis label, respectively.\n",
        "\n",
        "Use `plt.xticks()` to rotate labels on the x-axis of a plot. Paass in the parameters `rotation=45, horizontalalignment='right'` to rotate the labels by 45 degrees and align the labels to the right.\n",
        "\n",
        "Use `plt.show()` to display a plot.\n",
        "\n"
      ]
    },
    {
      "cell_type": "markdown",
      "id": "77b24387",
      "metadata": {
        "id": "77b24387"
      },
      "source": [
        "**Question:** What trends do we notice in the data? Specifically, consider companies that were founded later on. How long did it take those companies to reach unicorn status?\n",
        "\n",
        "- There appears to be a trend wherein companies that were founded later took less time to reach unicorn status, on average.\n",
        "\n",
        "**Note:** This is a bias that is common in time data—because companies founded in later years have been around for less time. Therefore, there is less time to collect data on such companies compared to companies founded in earlier years).\n"
      ]
    },
    {
      "cell_type": "markdown",
      "id": "7a35e0d7",
      "metadata": {
        "id": "7a35e0d7"
      },
      "source": [
        "### Visualize the number of companies that joined per interval\n",
        "\n",
        "Using the subset of companies joined in the year of interest, grouped by the time interval of your choice, create a bar plot to visualize the number of companies that joined per interval for that year."
      ]
    },
    {
      "cell_type": "code",
      "execution_count": null,
      "id": "9a72df28",
      "metadata": {
        "colab": {
          "base_uri": "https://localhost:8080/",
          "height": 375
        },
        "id": "9a72df28",
        "outputId": "9039d714-1179-40d9-f462-fd0300986ff0"
      },
      "outputs": [
        {
          "data": {
            "image/png": "[encoded data removed]",
            "text/plain": [
              "<Figure size 2500x1000 with 1 Axes>"
            ]
          },
          "metadata": {},
          "output_type": "display_data"
        }
      ],
      "source": [
        "# Set the size of the plot.\n",
        "\n",
        "\n",
        "plt.figure(figsize = (25, 10))\n",
        "\n",
        "# Create bar plot to visualize number of companies that joined per interval for the year of interest.\n",
        "\n",
        "\n",
        "plt.bar(x=companies_by_week_2021['Week Joined'],height=companies_by_week_2021['Company Count'])\n",
        "plt.plot()\n",
        "\n",
        "# Set the x-axis label.\n",
        "\n",
        "\n",
        "plt.xlabel(\"Week number\")\n",
        "\n",
        "# Set the y-axis label.\n",
        "\n",
        "\n",
        "plt.ylabel(\"Number of companies\")\n",
        "\n",
        "# Set the title.\n",
        "\n",
        "\n",
        "plt.title(\"Number of companies that became unicorns per week in 2021\")\n",
        "\n",
        "# Rotate the labels on the x-axis as a way to avoid overlap in the positions of the text.\n",
        "\n",
        "\n",
        "plt.xticks(rotation = 45, horizontalalignment='right', fontsize=8)\n",
        "\n",
        "# Display the plot.\n",
        "\n",
        "\n",
        "plt.show()"
      ]
    },
    {
      "cell_type": "markdown",
      "id": "59723cce",
      "metadata": {
        "id": "59723cce",
        "jp-MarkdownHeadingCollapsed": true,
        "tags": []
      },
      "source": [
        "### Hint 1\n",
        "Use the function in the `seaborn` library that allows you to create a bar plot where the height of each bar is the average value for the corresponding category, by default.\n",
        "\n",
        "Use the functions in the `matplotlib.pyplot` module that allow you to set the size, title, x-axis label, and y-axis label of plots. In that module, there are also functions for rotating the labels on the x-axis and displaying the plot.\n",
        "\n"
      ]
    },
    {
      "cell_type": "markdown",
      "id": "8d17e9e4",
      "metadata": {
        "id": "8d17e9e4",
        "jp-MarkdownHeadingCollapsed": true,
        "tags": []
      },
      "source": [
        "### Hint 2\n",
        "\n",
        "Use the `barplot()` function from `seaborn`, passing in the parameters `x`, `y`, and `ci`. To keep confidence interval lines from appearing on the bar plot,  set `ci` to `False`.\n",
        "\n",
        "Use `plt.figure()`, passing in the `figsize` parameter to set the size of a plot.\n",
        "\n",
        "Use `plt.title()`, `plt.xlabel()`, `plt.ylabel()` to set the title, x-axis label, and y-axis label, respectively.\n",
        "\n",
        "Use `plt.xticks()` to rotate labels on the x-axis of a plot. Paass in the parameters `rotation=45, horizontalalignment='right'` to rotate the labels by 45 degrees and align the labels to the right.\n",
        "\n",
        "Use `plt.show()` to display a plot.\n",
        "\n"
      ]
    },
    {
      "cell_type": "markdown",
      "id": "c5ab09d9",
      "metadata": {
        "id": "c5ab09d9"
      },
      "source": [
        "**Question:** What do we observe from the bar plot of the number of companies that joined per interval for the year of 2021? When did the highest number of companies reach $1 billion valuation?\n",
        "\n",
        "- Observations from a bar plot of the number of companies that became unicorns per week in 2021:\n",
        "\n",
        "  - The number of companies that joined unicorn status fluctuated over the weeks of 2021, with a trend of decline followed by increase occurring periodically.\n",
        "  - The highest number of companies reached $1 billion valuation in Week 37 of 2021, which corresponds to the third week of September 2021.\n",
        "  - The weeks in 2021 with the next highest number of companies becoming unicorns are Week 12 (which corresponds to the fourth week of March) and Week 28 (which corresponds to the third week of July).\n",
        "  "
      ]
    },
    {
      "cell_type": "markdown",
      "id": "09a10a26",
      "metadata": {
        "id": "09a10a26"
      },
      "source": [
        "### Visualize the average valuation over the quarters\n",
        "\n",
        "Using the subset of companies that joined in the years of interest, create a grouped bar plot to visualize the average valuation over the quarters, with two bars for each time interval. There will be two bars for each time interval. This allows you to compare quarterly values between the two years."
      ]
    },
    {
      "cell_type": "code",
      "execution_count": null,
      "id": "9a5b000d",
      "metadata": {
        "colab": {
          "base_uri": "https://localhost:8080/",
          "height": 350
        },
        "id": "9a5b000d",
        "outputId": "dc717d8b-5d85-4748-cd38-66b0918c1827"
      },
      "outputs": [
        {
          "data": {
            "image/png": "[encoded data removed]",
            "text/plain": [
              "<Figure size 1000x500 with 1 Axes>"
            ]
          },
          "metadata": {},
          "output_type": "display_data"
        }
      ],
      "source": [
        "# Using slicing, extract the year component and the time interval that you specified,\n",
        "# and save them by adding two new columns into the subset.\n",
        "\n",
        "\n",
        "companies_by_quarter_2020_2021['Quarter Number'] = companies_by_quarter_2020_2021['Quarter Joined'].str[-2:]\n",
        "companies_by_quarter_2020_2021['Year Joined'] = companies_by_quarter_2020_2021['Quarter Joined'].str[:4]\n",
        "\n",
        "# Set the size of the plot.\n",
        "\n",
        "\n",
        "plt.figure(figsize = (10, 5))\n",
        "\n",
        "# Create a grouped bar plot.\n",
        "\n",
        "\n",
        "sns.barplot(x=companies_by_quarter_2020_2021['Quarter Number'],\n",
        "            y=companies_by_quarter_2020_2021['Average Valuation'],\n",
        "            hue=companies_by_quarter_2020_2021['Year Joined'])\n",
        "plt.plot()\n",
        "\n",
        "# Set the x-axis label.\n",
        "\n",
        "\n",
        "plt.xlabel(\"Quarter number\")\n",
        "\n",
        "# Set the y-axis label.\n",
        "\n",
        "\n",
        "plt.ylabel(\"Average valuation (billions of dollars)\")\n",
        "\n",
        "# Set the title.\n",
        "\n",
        "\n",
        "plt.title(\"Average valuation of companies that became unicorns per quarter in 2020 vs. 2021\")\n",
        "\n",
        "# Display the plot.\n",
        "\n",
        "\n",
        "plt.show()"
      ]
    },
    {
      "cell_type": "markdown",
      "id": "d0f325df",
      "metadata": {
        "id": "d0f325df",
        "jp-MarkdownHeadingCollapsed": true,
        "tags": []
      },
      "source": [
        "### Hint 1\n",
        "\n",
        "Use the function in the `seaborn` library that allows you to create a grouped bar plot, specifying the category and height for each bar, as well as the hue.\n",
        "\n",
        "Use the functions in the `matplotlib.pyplot` module that allow you to set the size, title, x-axis label, and y-axis label of plots. In that module, there is also a function for displaying the plot.\n",
        "\n"
      ]
    },
    {
      "cell_type": "markdown",
      "id": "5cb9f919",
      "metadata": {
        "id": "5cb9f919",
        "jp-MarkdownHeadingCollapsed": true,
        "tags": []
      },
      "source": [
        "### Hint 2\n",
        "\n",
        "Use the `plt.bar()` to create the bar plot, passing in the parameters `x`, `y`, and `hue`. For the task at hand, set `hue` to the column that contains year joined.\n",
        "\n",
        "Use `plt.figure()`, passing in the `figsize` parameter to set the size of a plot.\n",
        "\n",
        "Use `plt.title()`, `plt.xlabel()`, `plt.ylabel()` to set the title, x-axis label, and y-axis label, respectively.\n",
        "\n",
        "Use `plt.show()` to display a plot.\n",
        "\n"
      ]
    },
    {
      "cell_type": "markdown",
      "id": "9f74812e",
      "metadata": {
        "id": "9f74812e"
      },
      "source": [
        "**Question:** What do we observe from the preceding grouped bar plot?\n",
        "\n",
        "- Observations from a grouped bar plot of average valuation of companies that became unicorns per quarter in 2020 vs. 2021:\n",
        "\n",
        "  - In each quarter, the average valuation of companies that joined unicorn status was higher in 2020 than in 2021.\n",
        "  - In 2020, Q3 was the quarter with the highest average valuation of companies that reached unicorn status, and there was a trend of increase from Q1 to Q2 and from Q2 to Q3.\n",
        "  - In 2021, Q1 was the quarter with the highest average valuation of companies that reached unicorn status, and there was a trend of decrease across the quarters.\n",
        "  "
      ]
    },
    {
      "cell_type": "markdown",
      "id": "48458844",
      "metadata": {
        "id": "48458844"
      },
      "source": [
        "**Question:** Is there any bias in the data that could potentially inform your analysis?\n",
        "\n",
        "- Potential bias:\n",
        "\n",
        "  - If there were bias in terms of which cities and countries were taken into account when collecting the data, then the analysis would be more representative of the cities and countries that are in the dataset than those that are not.\n",
        "  - If the dataset did not include certain industries, then the analysis would be more representative of the industries that are included and may not reflect trends in those that are excluded from the data.\n",
        "  - If the dataset had time gaps, (e.g., if companies that joined in certain windows of time were not included in the data), then that may have affected the patterns observed, depending on how salient the gaps were.\n",
        "  - Another point of bias pertains to the nature of time data; there have been fewer years to collect data on companies that were founded more recently than for companies that were founded longer ago."
      ]
    },
    {
      "cell_type": "markdown",
      "id": "ec94c1fb",
      "metadata": {
        "id": "ec94c1fb"
      },
      "source": [
        "**Question:** What potential next steps could you take with your EDA?\n",
        "\n",
        "- Potential next steps with EDA:\n",
        "\n",
        "  - Analyze the data with respect to industries of unicorn companies at different datetime intervals.\n",
        "  - Analyze the data with respect to cities or countries where unicorn companies were founded at different datetime intervals.\n",
        "  - Clean the data as needed."
      ]
    },
    {
      "cell_type": "markdown",
      "id": "b9fb5687",
      "metadata": {
        "id": "b9fb5687"
      },
      "source": [
        "**Question:** Are there any unanswered questions we have about the data? If yes, what are they?\n",
        "\n",
        "- Possible questions:\n",
        "\n",
        "  - How many rounds of funding did each company require and when did this funding take place?\n",
        "  - Have any of these unicorn companies acquired other companies along the way? If so, which companies acquired other companies, which companies did they acquire, and when did the acquisitions take place?"
      ]
    },
    {
      "cell_type": "markdown",
      "id": "a2ec8b1f",
      "metadata": {
        "id": "a2ec8b1f"
      },
      "source": [
        "## Considerations\n",
        "\n",
        "**What are some key takeaways that we learned from this lab?**\n",
        "\n",
        "- Functions in the `pandas` library can be used for data manipulation in order to reorganize and structure the data.\n",
        "- Converting strings that contain dates to datetime format allow us to extract individual components from the data, such as month and year.\n",
        "- Structuring the data in specific ways allows us to observe more trends and zoom in on parts of the data that are interesting to us.\n",
        "- Functions in the `matplotlib.pyplot` module and the `seaborn` library can be used to create visualizations to gain further insight after structuring the data.\n",
        "\n",
        "**What findings should we share with others?**\n",
        "\n",
        "- There are 1074 unicorn companies represented in this dataset.\n",
        "- 2015 is the year when the most number of unicorn companies were founded.\n",
        "- Many of the unicorn companies that were founded in 2021 were founded in the United States and belong to \"Fintech\", \"E-commerce & direct-to-consumer\", and \"Internet software & services\" industries.\n",
        "- The box plot created shows that companies that become unicorns in the months of September and October have a smaller median value for how long it took to become unicorns.\n",
        "- One of the bar plots created shows that the average valuation of companies that joined in 2020 is highest in the third quarter of the year, whereas the average valuation of companies that joined in 2021 is highest in the first quarter of the year.\n",
        "\n",
        "**What recommendations should we share with stakeholders based on these findings?**\n",
        "\n",
        "- According to data analysis that was conducted on a dataset of 1074 unicorn companies, companies that joined in the months of September and October tended to take less time to become unicorns.\n",
        "- Another finding was that many of the unicorn companies that were founded in 2021 were founded in the United States and belong to \"Fintech\", \"E-commerce & direct-to-consumer\", and \"Internet software & services\" industries. So if the stakeholders want to invest in companies founded in 2021, it would be a good idea to consider companies that belong to these industries, as they may be strong candidates for becoming unicorns.\n",
        "- It was also discovered that the average valuation of companies that joined in 2021 is highest in the first quarter of the year, and the average valuation of companies that joined in 2020 is the third quarter of the year. When considering companies that newly join in the future, it would be worth closely looking at companies that join in the first and third quarters of the year.\n",
        "- The data can be analyzed further to gather more insights that are specific to the interests of the investing firm and the stakeholders."
      ]
    },
    {
      "cell_type": "markdown",
      "id": "959e31db",
      "metadata": {
        "id": "959e31db"
      },
      "source": [
        "**References**\n",
        "\n",
        "Bhat, M.A. (2022, March).[*Unicorn Companies*](https://www.kaggle.com/datasets/mysarahmadbhat/unicorn-companies).\n"
      ]
    }
  ],
  "metadata": {
    "colab": {
      "provenance": [],
      "include_colab_link": true
    },
    "kernelspec": {
      "display_name": "Python 3 (ipykernel)",
      "language": "python",
      "name": "python3"
    },
    "language_info": {
      "codemirror_mode": {
        "name": "ipython",
        "version": 3
      },
      "file_extension": ".py",
      "mimetype": "text/x-python",
      "name": "python",
      "nbconvert_exporter": "python",
      "pygments_lexer": "ipython3",
      "version": "3.9.13"
    },
    "toc-autonumbering": false,
    "toc-showtags": false
  },
  "nbformat": 4,
  "nbformat_minor": 5
}