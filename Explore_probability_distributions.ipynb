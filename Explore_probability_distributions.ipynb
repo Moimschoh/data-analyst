{
  "cells": [
    {
      "cell_type": "markdown",
      "metadata": {
        "id": "view-in-github",
        "colab_type": "text"
      },
      "source": [
        "<a href=\"https://colab.research.google.com/github/Moimschoh/data-analyst/blob/main/Explore_probability_distributions.ipynb\" target=\"_parent\"><img src=\"https://colab.research.google.com/assets/colab-badge.svg\" alt=\"Open In Colab\"/></a>"
      ]
    },
    {
      "cell_type": "markdown",
      "metadata": {
        "id": "ePeImos0HYMu"
      },
      "source": [
        "# Explore probability distributions"
      ]
    },
    {
      "cell_type": "markdown",
      "metadata": {
        "id": "IpCK6RfdHfW8"
      },
      "source": [
        "## **Introduction**\n",
        "\n",
        "The ability to determine which type of probability distribution best fits data, calculate z-score, and detect outliers are essential skills in data work. These capabilities enable data professionals to understand how their data is distributed and identify data points that need further examination.\n",
        "\n",
        "In this activity, we are a member of an analytics team for the United States Environmental Protection Agency (EPA). The data includes information about more than 200 sites, identified by state, county, city, and local site names. One of our main goals is to determine which regions need support to make air quality improvements. Given that carbon monoxide is a major air pollutant, we will investigate data from the Air Quality Index (AQI) with respect to carbon monoxide."
      ]
    },
    {
      "cell_type": "markdown",
      "metadata": {
        "id": "0HjDwXh3HkpB"
      },
      "source": [
        "## **Step 1: Imports**"
      ]
    },
    {
      "cell_type": "markdown",
      "metadata": {
        "id": "2bqq2KoNMb8q"
      },
      "source": [
        "Import relevant libraries, packages, and modules. For this lab, you will need `numpy`, `pandas`, `matplotlib.pyplot`, `statsmodels.api`, and `scipy`."
      ]
    },
    {
      "cell_type": "code",
      "execution_count": null,
      "metadata": {
        "id": "GsZlNee8MXP8"
      },
      "outputs": [],
      "source": [
        "# Import relevant libraries, packages, and modules.\n",
        "\n",
        "\n",
        "import numpy as np\n",
        "import pandas as pd\n",
        "import matplotlib.pyplot as plt\n",
        "import statsmodels.api as sm\n",
        "from scipy import stats"
      ]
    },
    {
      "cell_type": "markdown",
      "metadata": {
        "id": "jr7pHKQRMjoq"
      },
      "source": [
        "A subset of data was taken from the air quality data collected by the EPA, then transformed to suit the purposes of this lab. This subset is a .csv file named `modified_c4_epa_air_quality.csv`. Load into a DataFrame."
      ]
    },
    {
      "cell_type": "code",
      "execution_count": null,
      "metadata": {
        "id": "H5ugMTQzNs3K"
      },
      "outputs": [],
      "source": [
        "# Load data into a DataFrame and save in a variable.\n",
        "\n",
        "\n",
        "data = pd.read_csv(\"modified_c4_epa_air_quality.csv\")"
      ]
    },
    {
      "cell_type": "markdown",
      "metadata": {
        "id": "4QfLAVCkHmeQ"
      },
      "source": [
        "## **Step 2: Data exploration**"
      ]
    },
    {
      "cell_type": "markdown",
      "metadata": {
        "id": "fuauZV55QESy"
      },
      "source": [
        "Display the first 10 rows of the data to get a sense of how the data is structured."
      ]
    },
    {
      "cell_type": "code",
      "execution_count": null,
      "metadata": {
        "colab": {
          "base_uri": "https://localhost:8080/",
          "height": 497
        },
        "id": "ngwYbaEwPjTb",
        "outputId": "f757475e-9c85-425a-8ecc-27787f72f261"
      },
      "outputs": [
        {
          "data": {
            "text/html": [
              "<div>\n",
              "<style scoped>\n",
              "    .dataframe tbody tr th:only-of-type {\n",
              "        vertical-align: middle;\n",
              "    }\n",
              "\n",
              "    .dataframe tbody tr th {\n",
              "        vertical-align: top;\n",
              "    }\n",
              "\n",
              "    .dataframe thead th {\n",
              "        text-align: right;\n",
              "    }\n",
              "</style>\n",
              "<table border=\"1\" class=\"dataframe\">\n",
              "  <thead>\n",
              "    <tr style=\"text-align: right;\">\n",
              "      <th></th>\n",
              "      <th>date_local</th>\n",
              "      <th>state_name</th>\n",
              "      <th>county_name</th>\n",
              "      <th>city_name</th>\n",
              "      <th>local_site_name</th>\n",
              "      <th>parameter_name</th>\n",
              "      <th>units_of_measure</th>\n",
              "      <th>aqi_log</th>\n",
              "    </tr>\n",
              "  </thead>\n",
              "  <tbody>\n",
              "    <tr>\n",
              "      <th>0</th>\n",
              "      <td>2018-01-01</td>\n",
              "      <td>Arizona</td>\n",
              "      <td>Maricopa</td>\n",
              "      <td>Buckeye</td>\n",
              "      <td>BUCKEYE</td>\n",
              "      <td>Carbon monoxide</td>\n",
              "      <td>Parts per million</td>\n",
              "      <td>2.079442</td>\n",
              "    </tr>\n",
              "    <tr>\n",
              "      <th>1</th>\n",
              "      <td>2018-01-01</td>\n",
              "      <td>Ohio</td>\n",
              "      <td>Belmont</td>\n",
              "      <td>Shadyside</td>\n",
              "      <td>Shadyside</td>\n",
              "      <td>Carbon monoxide</td>\n",
              "      <td>Parts per million</td>\n",
              "      <td>1.791759</td>\n",
              "    </tr>\n",
              "    <tr>\n",
              "      <th>2</th>\n",
              "      <td>2018-01-01</td>\n",
              "      <td>Wyoming</td>\n",
              "      <td>Teton</td>\n",
              "      <td>Not in a city</td>\n",
              "      <td>Yellowstone National Park - Old Faithful Snow ...</td>\n",
              "      <td>Carbon monoxide</td>\n",
              "      <td>Parts per million</td>\n",
              "      <td>1.098612</td>\n",
              "    </tr>\n",
              "    <tr>\n",
              "      <th>3</th>\n",
              "      <td>2018-01-01</td>\n",
              "      <td>Pennsylvania</td>\n",
              "      <td>Philadelphia</td>\n",
              "      <td>Philadelphia</td>\n",
              "      <td>North East Waste (NEW)</td>\n",
              "      <td>Carbon monoxide</td>\n",
              "      <td>Parts per million</td>\n",
              "      <td>1.386294</td>\n",
              "    </tr>\n",
              "    <tr>\n",
              "      <th>4</th>\n",
              "      <td>2018-01-01</td>\n",
              "      <td>Iowa</td>\n",
              "      <td>Polk</td>\n",
              "      <td>Des Moines</td>\n",
              "      <td>CARPENTER</td>\n",
              "      <td>Carbon monoxide</td>\n",
              "      <td>Parts per million</td>\n",
              "      <td>1.386294</td>\n",
              "    </tr>\n",
              "    <tr>\n",
              "      <th>5</th>\n",
              "      <td>2018-01-01</td>\n",
              "      <td>Hawaii</td>\n",
              "      <td>Honolulu</td>\n",
              "      <td>Not in a city</td>\n",
              "      <td>Kapolei</td>\n",
              "      <td>Carbon monoxide</td>\n",
              "      <td>Parts per million</td>\n",
              "      <td>2.708050</td>\n",
              "    </tr>\n",
              "    <tr>\n",
              "      <th>6</th>\n",
              "      <td>2018-01-01</td>\n",
              "      <td>Hawaii</td>\n",
              "      <td>Honolulu</td>\n",
              "      <td>Not in a city</td>\n",
              "      <td>Kapolei</td>\n",
              "      <td>Carbon monoxide</td>\n",
              "      <td>Parts per million</td>\n",
              "      <td>1.098612</td>\n",
              "    </tr>\n",
              "    <tr>\n",
              "      <th>7</th>\n",
              "      <td>2018-01-01</td>\n",
              "      <td>Pennsylvania</td>\n",
              "      <td>Erie</td>\n",
              "      <td>Erie</td>\n",
              "      <td>NaN</td>\n",
              "      <td>Carbon monoxide</td>\n",
              "      <td>Parts per million</td>\n",
              "      <td>1.098612</td>\n",
              "    </tr>\n",
              "    <tr>\n",
              "      <th>8</th>\n",
              "      <td>2018-01-01</td>\n",
              "      <td>Hawaii</td>\n",
              "      <td>Honolulu</td>\n",
              "      <td>Honolulu</td>\n",
              "      <td>Honolulu</td>\n",
              "      <td>Carbon monoxide</td>\n",
              "      <td>Parts per million</td>\n",
              "      <td>1.791759</td>\n",
              "    </tr>\n",
              "    <tr>\n",
              "      <th>9</th>\n",
              "      <td>2018-01-01</td>\n",
              "      <td>Colorado</td>\n",
              "      <td>Larimer</td>\n",
              "      <td>Fort Collins</td>\n",
              "      <td>Fort Collins - CSU - S. Mason</td>\n",
              "      <td>Carbon monoxide</td>\n",
              "      <td>Parts per million</td>\n",
              "      <td>1.945910</td>\n",
              "    </tr>\n",
              "  </tbody>\n",
              "</table>\n",
              "</div>"
            ],
            "text/plain": [
              "   date_local    state_name   county_name      city_name  \\\n",
              "0  2018-01-01       Arizona      Maricopa        Buckeye   \n",
              "1  2018-01-01          Ohio       Belmont      Shadyside   \n",
              "2  2018-01-01       Wyoming         Teton  Not in a city   \n",
              "3  2018-01-01  Pennsylvania  Philadelphia   Philadelphia   \n",
              "4  2018-01-01          Iowa          Polk     Des Moines   \n",
              "5  2018-01-01        Hawaii      Honolulu  Not in a city   \n",
              "6  2018-01-01        Hawaii      Honolulu  Not in a city   \n",
              "7  2018-01-01  Pennsylvania          Erie           Erie   \n",
              "8  2018-01-01        Hawaii      Honolulu       Honolulu   \n",
              "9  2018-01-01      Colorado       Larimer   Fort Collins   \n",
              "\n",
              "                                     local_site_name   parameter_name  \\\n",
              "0                                            BUCKEYE  Carbon monoxide   \n",
              "1                                          Shadyside  Carbon monoxide   \n",
              "2  Yellowstone National Park - Old Faithful Snow ...  Carbon monoxide   \n",
              "3                             North East Waste (NEW)  Carbon monoxide   \n",
              "4                                          CARPENTER  Carbon monoxide   \n",
              "5                                            Kapolei  Carbon monoxide   \n",
              "6                                            Kapolei  Carbon monoxide   \n",
              "7                                                NaN  Carbon monoxide   \n",
              "8                                           Honolulu  Carbon monoxide   \n",
              "9                      Fort Collins - CSU - S. Mason  Carbon monoxide   \n",
              "\n",
              "    units_of_measure   aqi_log  \n",
              "0  Parts per million  2.079442  \n",
              "1  Parts per million  1.791759  \n",
              "2  Parts per million  1.098612  \n",
              "3  Parts per million  1.386294  \n",
              "4  Parts per million  1.386294  \n",
              "5  Parts per million  2.708050  \n",
              "6  Parts per million  1.098612  \n",
              "7  Parts per million  1.098612  \n",
              "8  Parts per million  1.791759  \n",
              "9  Parts per million  1.945910  "
            ]
          },
          "execution_count": 3,
          "metadata": {},
          "output_type": "execute_result"
        }
      ],
      "source": [
        "# Display first 10 rows of the data.\n",
        "\n",
        "\n",
        "\n",
        "data.head(10)"
      ]
    },
    {
      "cell_type": "markdown",
      "metadata": {
        "id": "nV2QIMFBqtOP"
      },
      "source": [
        "The `aqi_log` column represents AQI readings that were transformed logarithmically to suit the objectives of this lab."
      ]
    },
    {
      "cell_type": "markdown",
      "metadata": {
        "id": "tBGSJbISFrS-"
      },
      "source": [
        "To better understand the quantity of data we are working with, display the number of rows and the number of columns."
      ]
    },
    {
      "cell_type": "code",
      "execution_count": null,
      "metadata": {
        "colab": {
          "base_uri": "https://localhost:8080/"
        },
        "id": "GuODVFHZF1mu",
        "outputId": "0e40c5d9-9d82-4b6f-9346-8fc31e424488"
      },
      "outputs": [
        {
          "data": {
            "text/plain": [
              "(260, 8)"
            ]
          },
          "execution_count": 4,
          "metadata": {},
          "output_type": "execute_result"
        }
      ],
      "source": [
        "# Display number of rows, number of columns.\n",
        "\n",
        "\n",
        "data.shape"
      ]
    },
    {
      "cell_type": "markdown",
      "metadata": {
        "id": "1GOeL7M5_551"
      },
      "source": [
        "Now, we want to find out whether `aqi_log` fits a specific type of probability distribution. Create a histogram to visualize the distribution of `aqi_log`. Then, based on its shape, visually determine if it resembles a particular distribution."
      ]
    },
    {
      "cell_type": "code",
      "execution_count": null,
      "metadata": {
        "colab": {
          "base_uri": "https://localhost:8080/",
          "height": 266
        },
        "id": "c_5_FpSOC4A9",
        "outputId": "68f553d1-daa5-48e5-d9ab-95d9c2ab9033"
      },
      "outputs": [
        {
          "data": {
            "image/png": "[encoded data removed]",
            "text/plain": [
              "<Figure size 640x480 with 1 Axes>"
            ]
          },
          "metadata": {},
          "output_type": "display_data"
        }
      ],
      "source": [
        "# Create a histogram to visualize distribution of aqi_log.\n",
        "\n",
        "\n",
        "data[\"aqi_log\"].hist();"
      ]
    },
    {
      "cell_type": "markdown",
      "metadata": {
        "id": "sGlw_4gfuSbS"
      },
      "source": [
        "**Question:** What do we observe about the shape of the distribution from the histogram?\n",
        "\n",
        "There is a slight right skew, but it still appears to be a bell shape. This shape suggests that the distribution of this data should be approximately normal."
      ]
    },
    {
      "cell_type": "markdown",
      "metadata": {
        "id": "79fCHMhDHqf5"
      },
      "source": [
        "## **Step 3: Statistical tests**\n",
        "\n",
        "Use the empirical rule to observe the data, then test and verify that it is normally distributed."
      ]
    },
    {
      "cell_type": "markdown",
      "metadata": {
        "id": "Yn0a1mcrld2y"
      },
      "source": [
        " As we have learned, the empirical rule states that, for every normal distribution:\n",
        "- 68% of the data fall within 1 standard deviation of the mean\n",
        "- 95% of the data fall within 2 standard deviations of the mean\n",
        "- 99.7% of the data fall within 3 standard deviations of the mean\n"
      ]
    },
    {
      "cell_type": "markdown",
      "metadata": {
        "id": "Q6rEDaEJnFgU"
      },
      "source": [
        "First, define two variables to store the mean and standard deviation, respectively, for `aqi_log`. Creating these variables will help you easily access these measures as you continue with the calculations involved in applying the empirical rule."
      ]
    },
    {
      "cell_type": "code",
      "execution_count": null,
      "metadata": {
        "colab": {
          "base_uri": "https://localhost:8080/"
        },
        "id": "Bl8hZPnrmevm",
        "outputId": "b5b4dc0d-e023-4259-e1a6-f9ed8a1b1e1d"
      },
      "outputs": [
        {
          "name": "stdout",
          "output_type": "stream",
          "text": [
            "1.7669210929985577\n"
          ]
        }
      ],
      "source": [
        "# Define variable for aqi_log mean.\n",
        "\n",
        "\n",
        "mean_aqi_log = data[\"aqi_log\"].mean()\n",
        "\n",
        "\n",
        "# Print out the mean.\n",
        "\n",
        "\n",
        "print(mean_aqi_log)"
      ]
    },
    {
      "cell_type": "code",
      "execution_count": null,
      "metadata": {
        "colab": {
          "base_uri": "https://localhost:8080/"
        },
        "id": "tIzj5aGAoU_L",
        "outputId": "3a4a27b3-7397-4d80-a6ef-ff9a086cdb98"
      },
      "outputs": [
        {
          "name": "stdout",
          "output_type": "stream",
          "text": [
            "0.7147155520223721\n"
          ]
        }
      ],
      "source": [
        "# Define variable for aqi_log standard deviation.\n",
        "\n",
        "\n",
        "std_aqi_log = data[\"aqi_log\"].std()\n",
        "\n",
        "\n",
        "# Print out the standard deviation.\n",
        "\n",
        "\n",
        "print(std_aqi_log)"
      ]
    },
    {
      "cell_type": "markdown",
      "metadata": {
        "id": "Bajx-iIspBLq"
      },
      "source": [
        "Now, check the first part of the empirical rule: whether 68% of the `aqi_log` data falls within 1 standard deviation of the mean.\n",
        "\n",
        "To compute the actual percentage of the data that satisfies this criteria, define the lower limit (for example, 1 standard deviation below the mean) and the upper limit (for example, 1 standard deviation above the mean). This will enable us to create a range and confirm whether each value falls within it."
      ]
    },
    {
      "cell_type": "code",
      "execution_count": null,
      "metadata": {
        "colab": {
          "base_uri": "https://localhost:8080/"
        },
        "id": "cyHe7ElJpwk7",
        "outputId": "b22b4c95-20ab-471f-949a-9bccf020041f"
      },
      "outputs": [
        {
          "name": "stdout",
          "output_type": "stream",
          "text": [
            "1.0522055409761855 2.48163664502093\n"
          ]
        }
      ],
      "source": [
        "# Define variable for lower limit, 1 standard deviation below the mean.\n",
        "\n",
        "\n",
        "lower_limit = mean_aqi_log - 1 * std_aqi_log\n",
        "\n",
        "\n",
        "# Define variable for upper limit, 1 standard deviation above the mean.\n",
        "\n",
        "\n",
        "upper_limit = mean_aqi_log + 1 * std_aqi_log\n",
        "\n",
        "\n",
        "# Display lower_limit, upper_limit.\n",
        "\n",
        "\n",
        "print(lower_limit, upper_limit)"
      ]
    },
    {
      "cell_type": "code",
      "execution_count": null,
      "metadata": {
        "colab": {
          "base_uri": "https://localhost:8080/"
        },
        "id": "3nsfy9M2uYmJ",
        "outputId": "cb1fc053-5379-4416-a42f-bc65de9361c4"
      },
      "outputs": [
        {
          "data": {
            "text/plain": [
              "76.15384615384615"
            ]
          },
          "execution_count": 10,
          "metadata": {},
          "output_type": "execute_result"
        }
      ],
      "source": [
        "# Display the actual percentage of data that falls within 1 standard deviation of the mean.\n",
        "\n",
        "\n",
        "((data[\"aqi_log\"] >= lower_limit) & (data[\"aqi_log\"] <= upper_limit)).mean() * 100"
      ]
    },
    {
      "cell_type": "markdown",
      "metadata": {
        "id": "ifuD1yuRx399"
      },
      "source": [
        "Now, consider the second part of the empirical rule: whether 95% of the `aqi_log` data falls within 2 standard deviations of the mean.\n",
        "\n",
        "To compute the actual percentage of the data that satisfies this criteria, define the lower limit (for example, 2 standard deviations below the mean) and the upper limit (for example, 2 standard deviations above the mean). This will enable you to create a range and confirm whether each value falls within it."
      ]
    },
    {
      "cell_type": "code",
      "execution_count": null,
      "metadata": {
        "colab": {
          "base_uri": "https://localhost:8080/"
        },
        "id": "whe6r6J8x39_",
        "outputId": "72ab1d47-071d-491e-dbfc-ab3bcd255bbf"
      },
      "outputs": [
        {
          "name": "stdout",
          "output_type": "stream",
          "text": [
            "0.33748998895381344 3.1963521970433018\n"
          ]
        }
      ],
      "source": [
        "# Define variable for lower limit, 2 standard deviations below the mean.\n",
        "\n",
        "\n",
        "\n",
        "lower_limit = mean_aqi_log - 2 * std_aqi_log\n",
        "\n",
        "\n",
        "# Define variable for upper limit, 2 standard deviations below the mean.\n",
        "\n",
        "\n",
        "upper_limit = mean_aqi_log + 2 * std_aqi_log\n",
        "\n",
        "\n",
        "# Display lower_limit, upper_limit.\n",
        "\n",
        "\n",
        "print(lower_limit, upper_limit)"
      ]
    },
    {
      "cell_type": "code",
      "execution_count": null,
      "metadata": {
        "colab": {
          "base_uri": "https://localhost:8080/"
        },
        "id": "7CbBgCm3x3-D",
        "outputId": "8cc0330e-70d7-4914-fb81-4c268c395f79"
      },
      "outputs": [
        {
          "data": {
            "text/plain": [
              "95.76923076923077"
            ]
          },
          "execution_count": 12,
          "metadata": {},
          "output_type": "execute_result"
        }
      ],
      "source": [
        "# Display the actual percentage of data that falls within 2 standard deviations of the mean.\n",
        "\n",
        "\n",
        "((data[\"aqi_log\"] >= lower_limit) & (data[\"aqi_log\"] <= upper_limit)).mean() * 100"
      ]
    },
    {
      "cell_type": "markdown",
      "metadata": {
        "id": "iDwqzZv7yRU2"
      },
      "source": [
        "Now, consider the third part of the empirical rule:whether 99.7% of the `aqi_log` data falls within 3 standard deviations of the mean.\n",
        "\n",
        "To compute the actual percentage of the data that satisfies this criteria, define the lower limit (for example, 3 standard deviations below the mean) and the upper limit (for example, 3 standard deviations above the mean). This will enable you to create a range and confirm whether each value falls within it."
      ]
    },
    {
      "cell_type": "code",
      "execution_count": null,
      "metadata": {
        "colab": {
          "base_uri": "https://localhost:8080/"
        },
        "id": "LIgS7jmXyRU4",
        "outputId": "dc709974-852a-499b-d396-cc651b1838ae"
      },
      "outputs": [
        {
          "name": "stdout",
          "output_type": "stream",
          "text": [
            "-0.3772255630685586 3.911067749065674\n"
          ]
        }
      ],
      "source": [
        "# Define variable for lower limit, 3 standard deviations below the mean.\n",
        "\n",
        "\n",
        "lower_limit = mean_aqi_log - 3 * std_aqi_log\n",
        "\n",
        "\n",
        "# Define variable for upper limit, 3 standard deviations above the mean.\n",
        "\n",
        "\n",
        "upper_limit = mean_aqi_log + 3 * std_aqi_log\n",
        "\n",
        "\n",
        "# Display lower_limit, upper_limit.\n",
        "\n",
        "\n",
        "print(lower_limit, upper_limit)"
      ]
    },
    {
      "cell_type": "code",
      "execution_count": null,
      "metadata": {
        "colab": {
          "base_uri": "https://localhost:8080/"
        },
        "id": "2YNWONRKyRU9",
        "outputId": "9b6de2be-fafb-44ce-f797-9cb0570bcaea"
      },
      "outputs": [
        {
          "data": {
            "text/plain": [
              "99.61538461538461"
            ]
          },
          "execution_count": 14,
          "metadata": {},
          "output_type": "execute_result"
        }
      ],
      "source": [
        "# Display the actual percentage of data that falls within 3 standard deviations of the mean.\n",
        "\n",
        "\n",
        "((data[\"aqi_log\"] >= lower_limit) & (data[\"aqi_log\"] <= upper_limit)).mean() * 100"
      ]
    },
    {
      "cell_type": "markdown",
      "metadata": {
        "id": "WMs52bG7Htuc"
      },
      "source": [
        "## **Step 4: Results and evaluation**"
      ]
    },
    {
      "cell_type": "markdown",
      "metadata": {
        "id": "33nFzX120u2z"
      },
      "source": [
        "**Question:** What results did we attain by applying the empirical rule?\n",
        "- About 76.15% of the data falls within 1 standard deviation of the mean.\n",
        "- About 95.77% of the data falls within 2 standard deviation of the mean.\n",
        "- About 99.62% of the data falls within 3 standard deviations of the mean.\n",
        "\n",
        "The 95.77% is very close to 95%, and the 99.62% is very close to 99.7%. The 76.15% is not as close to 68%, but relatively close. Overall, from applying the empirical rule, the data appears to be not exactly normal, but could be considered approximately normal."
      ]
    },
    {
      "cell_type": "markdown",
      "metadata": {
        "id": "yGVspw1N6Zom"
      },
      "source": [
        "**Question:** How would we use z-score to find outliers?\n",
        "\n",
        "Since z-score indicates the relative position of values (for instance, z-score measures how many standard deviations below or above the mean a data point is), it can be used to detect outliers.\n",
        "\n",
        "Z-score could be used to identify values that lie more than 3 standard deviations below or above the mean. These values may be considered outliers."
      ]
    },
    {
      "cell_type": "markdown",
      "metadata": {
        "id": "OiBYE9FW8bSf"
      },
      "source": [
        "Compute the z-score for every `aqi_log` value. Then, add a column named `z_score` in the data to store those results."
      ]
    },
    {
      "cell_type": "code",
      "execution_count": null,
      "metadata": {
        "colab": {
          "base_uri": "https://localhost:8080/",
          "height": 322
        },
        "id": "EGh6jJ-a9bph",
        "outputId": "69b42538-1cf1-4f06-a5dc-379de624dd55"
      },
      "outputs": [
        {
          "data": {
            "text/html": [
              "<div>\n",
              "<style scoped>\n",
              "    .dataframe tbody tr th:only-of-type {\n",
              "        vertical-align: middle;\n",
              "    }\n",
              "\n",
              "    .dataframe tbody tr th {\n",
              "        vertical-align: top;\n",
              "    }\n",
              "\n",
              "    .dataframe thead th {\n",
              "        text-align: right;\n",
              "    }\n",
              "</style>\n",
              "<table border=\"1\" class=\"dataframe\">\n",
              "  <thead>\n",
              "    <tr style=\"text-align: right;\">\n",
              "      <th></th>\n",
              "      <th>date_local</th>\n",
              "      <th>state_name</th>\n",
              "      <th>county_name</th>\n",
              "      <th>city_name</th>\n",
              "      <th>local_site_name</th>\n",
              "      <th>parameter_name</th>\n",
              "      <th>units_of_measure</th>\n",
              "      <th>aqi_log</th>\n",
              "      <th>z_score</th>\n",
              "    </tr>\n",
              "  </thead>\n",
              "  <tbody>\n",
              "    <tr>\n",
              "      <th>0</th>\n",
              "      <td>2018-01-01</td>\n",
              "      <td>Arizona</td>\n",
              "      <td>Maricopa</td>\n",
              "      <td>Buckeye</td>\n",
              "      <td>BUCKEYE</td>\n",
              "      <td>Carbon monoxide</td>\n",
              "      <td>Parts per million</td>\n",
              "      <td>2.079442</td>\n",
              "      <td>0.437265</td>\n",
              "    </tr>\n",
              "    <tr>\n",
              "      <th>1</th>\n",
              "      <td>2018-01-01</td>\n",
              "      <td>Ohio</td>\n",
              "      <td>Belmont</td>\n",
              "      <td>Shadyside</td>\n",
              "      <td>Shadyside</td>\n",
              "      <td>Carbon monoxide</td>\n",
              "      <td>Parts per million</td>\n",
              "      <td>1.791759</td>\n",
              "      <td>0.034753</td>\n",
              "    </tr>\n",
              "    <tr>\n",
              "      <th>2</th>\n",
              "      <td>2018-01-01</td>\n",
              "      <td>Wyoming</td>\n",
              "      <td>Teton</td>\n",
              "      <td>Not in a city</td>\n",
              "      <td>Yellowstone National Park - Old Faithful Snow ...</td>\n",
              "      <td>Carbon monoxide</td>\n",
              "      <td>Parts per million</td>\n",
              "      <td>1.098612</td>\n",
              "      <td>-0.935070</td>\n",
              "    </tr>\n",
              "    <tr>\n",
              "      <th>3</th>\n",
              "      <td>2018-01-01</td>\n",
              "      <td>Pennsylvania</td>\n",
              "      <td>Philadelphia</td>\n",
              "      <td>Philadelphia</td>\n",
              "      <td>North East Waste (NEW)</td>\n",
              "      <td>Carbon monoxide</td>\n",
              "      <td>Parts per million</td>\n",
              "      <td>1.386294</td>\n",
              "      <td>-0.532557</td>\n",
              "    </tr>\n",
              "    <tr>\n",
              "      <th>4</th>\n",
              "      <td>2018-01-01</td>\n",
              "      <td>Iowa</td>\n",
              "      <td>Polk</td>\n",
              "      <td>Des Moines</td>\n",
              "      <td>CARPENTER</td>\n",
              "      <td>Carbon monoxide</td>\n",
              "      <td>Parts per million</td>\n",
              "      <td>1.386294</td>\n",
              "      <td>-0.532557</td>\n",
              "    </tr>\n",
              "  </tbody>\n",
              "</table>\n",
              "</div>"
            ],
            "text/plain": [
              "   date_local    state_name   county_name      city_name  \\\n",
              "0  2018-01-01       Arizona      Maricopa        Buckeye   \n",
              "1  2018-01-01          Ohio       Belmont      Shadyside   \n",
              "2  2018-01-01       Wyoming         Teton  Not in a city   \n",
              "3  2018-01-01  Pennsylvania  Philadelphia   Philadelphia   \n",
              "4  2018-01-01          Iowa          Polk     Des Moines   \n",
              "\n",
              "                                     local_site_name   parameter_name  \\\n",
              "0                                            BUCKEYE  Carbon monoxide   \n",
              "1                                          Shadyside  Carbon monoxide   \n",
              "2  Yellowstone National Park - Old Faithful Snow ...  Carbon monoxide   \n",
              "3                             North East Waste (NEW)  Carbon monoxide   \n",
              "4                                          CARPENTER  Carbon monoxide   \n",
              "\n",
              "    units_of_measure   aqi_log   z_score  \n",
              "0  Parts per million  2.079442  0.437265  \n",
              "1  Parts per million  1.791759  0.034753  \n",
              "2  Parts per million  1.098612 -0.935070  \n",
              "3  Parts per million  1.386294 -0.532557  \n",
              "4  Parts per million  1.386294 -0.532557  "
            ]
          },
          "execution_count": 15,
          "metadata": {},
          "output_type": "execute_result"
        }
      ],
      "source": [
        "# Compute the z-score for every aqi_log value, and add a column named z_score in the data to store those results.\n",
        "\n",
        "\n",
        "data[\"z_score\"] = stats.zscore(data[\"aqi_log\"], ddof=1) # ddof=degrees of freedom correction (sample vs. population)\n",
        "\n",
        "\n",
        "# Display the first 5 rows to ensure that the new column was added.\n",
        "\n",
        "\n",
        "data.head()"
      ]
    },
    {
      "cell_type": "markdown",
      "metadata": {
        "id": "0A4dXHJz-r4q"
      },
      "source": [
        "Identify the parts of the data where `aqi_log` is above or below 3 standard deviations of the mean."
      ]
    },
    {
      "cell_type": "code",
      "execution_count": null,
      "metadata": {
        "colab": {
          "base_uri": "https://localhost:8080/",
          "height": 145
        },
        "id": "uZKI5h2q-5TI",
        "outputId": "63412b4f-714b-44de-8cc9-267fd2b0d16d"
      },
      "outputs": [
        {
          "data": {
            "text/html": [
              "<div>\n",
              "<style scoped>\n",
              "    .dataframe tbody tr th:only-of-type {\n",
              "        vertical-align: middle;\n",
              "    }\n",
              "\n",
              "    .dataframe tbody tr th {\n",
              "        vertical-align: top;\n",
              "    }\n",
              "\n",
              "    .dataframe thead th {\n",
              "        text-align: right;\n",
              "    }\n",
              "</style>\n",
              "<table border=\"1\" class=\"dataframe\">\n",
              "  <thead>\n",
              "    <tr style=\"text-align: right;\">\n",
              "      <th></th>\n",
              "      <th>date_local</th>\n",
              "      <th>state_name</th>\n",
              "      <th>county_name</th>\n",
              "      <th>city_name</th>\n",
              "      <th>local_site_name</th>\n",
              "      <th>parameter_name</th>\n",
              "      <th>units_of_measure</th>\n",
              "      <th>aqi_log</th>\n",
              "      <th>z_score</th>\n",
              "    </tr>\n",
              "  </thead>\n",
              "  <tbody>\n",
              "    <tr>\n",
              "      <th>244</th>\n",
              "      <td>2018-01-01</td>\n",
              "      <td>Arizona</td>\n",
              "      <td>Maricopa</td>\n",
              "      <td>Phoenix</td>\n",
              "      <td>WEST PHOENIX</td>\n",
              "      <td>Carbon monoxide</td>\n",
              "      <td>Parts per million</td>\n",
              "      <td>3.931826</td>\n",
              "      <td>3.029044</td>\n",
              "    </tr>\n",
              "  </tbody>\n",
              "</table>\n",
              "</div>"
            ],
            "text/plain": [
              "     date_local state_name county_name city_name local_site_name  \\\n",
              "244  2018-01-01    Arizona    Maricopa   Phoenix    WEST PHOENIX   \n",
              "\n",
              "      parameter_name   units_of_measure   aqi_log   z_score  \n",
              "244  Carbon monoxide  Parts per million  3.931826  3.029044  "
            ]
          },
          "execution_count": 16,
          "metadata": {},
          "output_type": "execute_result"
        }
      ],
      "source": [
        "# Display data where `aqi_log` is above or below 3 standard deviations of the mean\n",
        "\n",
        "\n",
        "data[(data[\"z_score\"] > 3) | (data[\"z_score\"] < -3)]"
      ]
    },
    {
      "cell_type": "markdown",
      "metadata": {
        "id": "KKE1k3i4_gHK"
      },
      "source": [
        "**Question:** What do we observe about potential outliers based on the calculations?\n",
        "\n",
        "The `aqi_log` for West Phoenix is slightly above 3 standard deviations of the mean. This means that the air quality at that site is worse than the rest of the sites represented in the data."
      ]
    },
    {
      "cell_type": "markdown",
      "metadata": {
        "id": "WkzrnFdy7nQL"
      },
      "source": [
        "**Question:** Why is outlier detection an important part of this project?\n",
        "\n",
        "Detecting outliers is important because they can reveal two important things, depending on the context: First, they can identify measurements that were taken incorrectly. Second, they can highlight parts of the data that can be focused on to make improvements.\n",
        "\n",
        "For example, if the `aqi_log` for West Phoenix is considered an outlier, then that site can be studied further to determine what practices or changes might improve the air quality."
      ]
    },
    {
      "cell_type": "markdown",
      "metadata": {
        "id": "W1bNKZYNHjDr"
      },
      "source": [
        "## **Considerations**\n",
        "\n",
        "**What are some key takeaways that you learned during this lab?**\n",
        "\n",
        "- Plotting the data using a histogram, then observing the shape, enables you to visually determine whether the data is normally distributed.\n",
        "- The empirical rule can be used to verify whether a distribution is normal.\n",
        "- The mean and standard deviation are important measures when applying the empirical rule to a distribution.\n",
        "- Z-score allows you to identify potenial outliers in the data.\n",
        "\n",
        "**What summary would you provide to stakeholders? Consider the distribution of the data and which sites would benefit from additional research.**\n",
        "- The distribution of the `aqi_log` data is approximately normal.\n",
        "- Using statistical methods, it was determined that the site at West Phoenix has worse air quality than the other sites.\n",
        "- Consider allocating more resources toward further examining this site in order to improve its air quality."
      ]
    },
    {
      "cell_type": "markdown",
      "metadata": {
        "id": "K2AW3yb9QtIF"
      },
      "source": [
        "**Reference**\n",
        "\n",
        "US EPA, OAR. 2014, July 8. [Air Data: Air Quality Data Collected at Outdoor Monitors Across the US](https://www.epa.gov/outdoor-air-quality-data)."
      ]
    }
  ],
  "metadata": {
    "colab": {
      "provenance": [],
      "include_colab_link": true
    },
    "kernelspec": {
      "display_name": "Python 3 (ipykernel)",
      "language": "python",
      "name": "python3"
    },
    "language_info": {
      "codemirror_mode": {
        "name": "ipython",
        "version": 3
      },
      "file_extension": ".py",
      "mimetype": "text/x-python",
      "name": "python",
      "nbconvert_exporter": "python",
      "pygments_lexer": "ipython3",
      "version": "3.9.13"
    }
  },
  "nbformat": 4,
  "nbformat_minor": 0
}