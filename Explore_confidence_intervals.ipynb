{
  "cells": [
    {
      "cell_type": "markdown",
      "metadata": {
        "id": "view-in-github",
        "colab_type": "text"
      },
      "source": [
        "<a href=\"https://colab.research.google.com/github/Moimschoh/data-analyst/blob/main/Explore_confidence_intervals.ipynb\" target=\"_parent\"><img src=\"https://colab.research.google.com/assets/colab-badge.svg\" alt=\"Open In Colab\"/></a>"
      ]
    },
    {
      "cell_type": "markdown",
      "id": "5170df48",
      "metadata": {
        "id": "5170df48"
      },
      "source": [
        "#  Explore confidence intervals"
      ]
    },
    {
      "cell_type": "markdown",
      "id": "2c3c2bb4",
      "metadata": {
        "id": "2c3c2bb4"
      },
      "source": [
        "## Introduction"
      ]
    },
    {
      "cell_type": "markdown",
      "id": "ec0cdd98",
      "metadata": {
        "id": "ec0cdd98"
      },
      "source": [
        "The Air Quality Index (AQI) is the Environmental Protection Agency's index for reporting air quality. A value close to 0 signals little to no public health concern, while higher values are associated with increased risk to public health. The United States is considering a new federal policy that would create a subsidy for renewable energy in states observing an average AQI of 10 or above.<br>\n",
        "\n",
        "we've just started our new role as a data analyst in the Strategy division of Ripple Renewable Energy (RRE). **RRE operates in the following U.S. states: `California`, `Florida`, `Michigan`, `Ohio`, `Pennsylvania`, `Texas`.** we've been tasked with constructing an analysis which identifies which of these states are most likely to be affected, should the new federal policy be enacted."
      ]
    },
    {
      "cell_type": "markdown",
      "id": "3ac8a969",
      "metadata": {
        "id": "3ac8a969"
      },
      "source": [
        "Our manager has requested that you do the following for your analysis:\n",
        "\n",
        "1. Provide a summary of the mean AQI for the states in which RRE operates.\n",
        "2. Construct a boxplot visualization for AQI of these states using `seaborn`.\n",
        "3. Evaluate which state(s) may be most affected by this policy, based on the data and your boxplot visualization.\n",
        "4. Construct a confidence interval for the RRE state with the highest mean AQI."
      ]
    },
    {
      "cell_type": "markdown",
      "id": "a95c5e85",
      "metadata": {
        "id": "a95c5e85"
      },
      "source": [
        "## Step 1: Imports\n",
        "\n",
        "### Import packages\n",
        "\n",
        "Import `pandas` and `numpy`."
      ]
    },
    {
      "cell_type": "code",
      "execution_count": null,
      "id": "6c4d6c40",
      "metadata": {
        "id": "6c4d6c40"
      },
      "outputs": [],
      "source": [
        "# Import relevant packages.\n",
        "\n",
        "\n",
        "import pandas as pd\n",
        "import numpy as np"
      ]
    },
    {
      "cell_type": "markdown",
      "id": "67f39863",
      "metadata": {
        "id": "67f39863"
      },
      "source": [
        "### Load the dataset\n",
        "\n",
        "The dataset provided gives national Air Quality Index (AQI) measurements by state over time. Use `pandas` to import the file `c4_epa_air_quality.csv` as a DataFrame named `aqi`.\n",
        "\n",
        "*Note: For the purposes of your analysis, we can assume this data is randomly sampled from a larger population.*"
      ]
    },
    {
      "cell_type": "code",
      "execution_count": null,
      "id": "4891e520",
      "metadata": {
        "id": "4891e520",
        "tags": []
      },
      "outputs": [],
      "source": [
        "# Use read_csv() to import the data.\n",
        "\n",
        "\n",
        "aqi = pd.read_csv('c4_epa_air_quality.csv')"
      ]
    },
    {
      "cell_type": "markdown",
      "id": "0ad7426d",
      "metadata": {
        "id": "0ad7426d"
      },
      "source": [
        "## Step 2: Data exploration"
      ]
    },
    {
      "cell_type": "markdown",
      "id": "c7ab4513",
      "metadata": {
        "id": "c7ab4513"
      },
      "source": [
        "### Explore your dataset\n",
        "\n",
        "Before proceeding to our deliverables, spend some time exploring the `aqi` DataFrame."
      ]
    },
    {
      "cell_type": "code",
      "execution_count": null,
      "id": "bfea2c22",
      "metadata": {
        "id": "bfea2c22",
        "outputId": "4bd3c6be-247c-4337-ce50-f1b05221f2d1"
      },
      "outputs": [
        {
          "name": "stdout",
          "output_type": "stream",
          "text": [
            "Use describe() to summarize AQI\n",
            "        Unnamed: 0  date_local  state_name  county_name      city_name  \\\n",
            "count   260.000000         260         260          260            260   \n",
            "unique         NaN           1          52          149            190   \n",
            "top            NaN  2018-01-01  California  Los Angeles  Not in a city   \n",
            "freq           NaN         260          66           14             21   \n",
            "mean    129.500000         NaN         NaN          NaN            NaN   \n",
            "std      75.199734         NaN         NaN          NaN            NaN   \n",
            "min       0.000000         NaN         NaN          NaN            NaN   \n",
            "25%      64.750000         NaN         NaN          NaN            NaN   \n",
            "50%     129.500000         NaN         NaN          NaN            NaN   \n",
            "75%     194.250000         NaN         NaN          NaN            NaN   \n",
            "max     259.000000         NaN         NaN          NaN            NaN   \n",
            "\n",
            "       local_site_name   parameter_name   units_of_measure  arithmetic_mean  \\\n",
            "count              257              260                260       260.000000   \n",
            "unique             253                1                  1              NaN   \n",
            "top            Kapolei  Carbon monoxide  Parts per million              NaN   \n",
            "freq                 2              260                260              NaN   \n",
            "mean               NaN              NaN                NaN         0.403169   \n",
            "std                NaN              NaN                NaN         0.317902   \n",
            "min                NaN              NaN                NaN         0.000000   \n",
            "25%                NaN              NaN                NaN         0.200000   \n",
            "50%                NaN              NaN                NaN         0.276315   \n",
            "75%                NaN              NaN                NaN         0.516009   \n",
            "max                NaN              NaN                NaN         1.921053   \n",
            "\n",
            "               aqi  \n",
            "count   260.000000  \n",
            "unique         NaN  \n",
            "top            NaN  \n",
            "freq           NaN  \n",
            "mean      6.757692  \n",
            "std       7.061707  \n",
            "min       0.000000  \n",
            "25%       2.000000  \n",
            "50%       5.000000  \n",
            "75%       9.000000  \n",
            "max      50.000000  \n",
            "For a more thorough examination of observations by state use values_counts()\n",
            "California              66\n",
            "Arizona                 14\n",
            "Ohio                    12\n",
            "Florida                 12\n",
            "Texas                   10\n",
            "New York                10\n",
            "Pennsylvania            10\n",
            "Michigan                 9\n",
            "Colorado                 9\n",
            "Minnesota                7\n",
            "New Jersey               6\n",
            "Indiana                  5\n",
            "North Carolina           4\n",
            "Massachusetts            4\n",
            "Maryland                 4\n",
            "Oklahoma                 4\n",
            "Virginia                 4\n",
            "Nevada                   4\n",
            "Connecticut              4\n",
            "Kentucky                 3\n",
            "Missouri                 3\n",
            "Wyoming                  3\n",
            "Iowa                     3\n",
            "Hawaii                   3\n",
            "Utah                     3\n",
            "Vermont                  3\n",
            "Illinois                 3\n",
            "New Hampshire            2\n",
            "District Of Columbia     2\n",
            "New Mexico               2\n",
            "Montana                  2\n",
            "Oregon                   2\n",
            "Alaska                   2\n",
            "Georgia                  2\n",
            "Washington               2\n",
            "Idaho                    2\n",
            "Nebraska                 2\n",
            "Rhode Island             2\n",
            "Tennessee                2\n",
            "Maine                    2\n",
            "South Carolina           1\n",
            "Puerto Rico              1\n",
            "Arkansas                 1\n",
            "Kansas                   1\n",
            "Mississippi              1\n",
            "Alabama                  1\n",
            "Louisiana                1\n",
            "Delaware                 1\n",
            "South Dakota             1\n",
            "West Virginia            1\n",
            "North Dakota             1\n",
            "Wisconsin                1\n",
            "Name: state_name, dtype: int64\n"
          ]
        }
      ],
      "source": [
        "# Explore the `aqi` DataFrame.\n",
        "\n",
        "\n",
        "print(\"Use describe() to summarize AQI\")\n",
        "print(aqi.describe(include='all'))\n",
        "\n",
        "print(\"For a more thorough examination of observations by state use values_counts()\")\n",
        "print(aqi['state_name'].value_counts())"
      ]
    },
    {
      "cell_type": "markdown",
      "id": "5d91ad3c",
      "metadata": {
        "id": "5d91ad3c"
      },
      "source": [
        "**Question:** What time range does this data cover?\n",
        "\n",
        "All of the sites collected data on January 1st, 2018."
      ]
    },
    {
      "cell_type": "markdown",
      "id": "ff2c4c74",
      "metadata": {
        "id": "ff2c4c74"
      },
      "source": [
        "**Question:** What are the minimum and maximum AQI values observed in the dataset?\n",
        "\n",
        "The minimum AQI value is 0 and the maximum AQI value is 50."
      ]
    },
    {
      "cell_type": "markdown",
      "id": "605aeaff",
      "metadata": {
        "id": "605aeaff"
      },
      "source": [
        "**Question:** Are all states equally represented in the dataset?\n",
        "\n",
        "No, all states are not equally represented. California has 66 sites that reported AQI for this dataset, while states such as Delaware and Alabama have only one site that reported AQI."
      ]
    },
    {
      "cell_type": "markdown",
      "id": "f5044d5d",
      "metadata": {
        "id": "f5044d5d"
      },
      "source": [
        "## Step 3: Statistical tests\n",
        "\n",
        "### Summarize the mean AQI for RRE states\n",
        "\n",
        "Start with our first deliverable. Summarize the mean AQI for the states in which RRE operates."
      ]
    },
    {
      "cell_type": "code",
      "execution_count": null,
      "id": "101337b3",
      "metadata": {
        "id": "101337b3",
        "tags": [],
        "outputId": "d6fc68d8-e3d6-419e-f70c-5bb54d39eb02"
      },
      "outputs": [
        {
          "data": {
            "text/html": [
              "<div>\n",
              "<style scoped>\n",
              "    .dataframe tbody tr th:only-of-type {\n",
              "        vertical-align: middle;\n",
              "    }\n",
              "\n",
              "    .dataframe tbody tr th {\n",
              "        vertical-align: top;\n",
              "    }\n",
              "\n",
              "    .dataframe thead th {\n",
              "        text-align: right;\n",
              "    }\n",
              "</style>\n",
              "<table border=\"1\" class=\"dataframe\">\n",
              "  <thead>\n",
              "    <tr style=\"text-align: right;\">\n",
              "      <th></th>\n",
              "      <th>aqi</th>\n",
              "      <th>state_name</th>\n",
              "    </tr>\n",
              "    <tr>\n",
              "      <th>state_name</th>\n",
              "      <th></th>\n",
              "      <th></th>\n",
              "    </tr>\n",
              "  </thead>\n",
              "  <tbody>\n",
              "    <tr>\n",
              "      <th>California</th>\n",
              "      <td>12.121212</td>\n",
              "      <td>66</td>\n",
              "    </tr>\n",
              "    <tr>\n",
              "      <th>Florida</th>\n",
              "      <td>5.500000</td>\n",
              "      <td>12</td>\n",
              "    </tr>\n",
              "    <tr>\n",
              "      <th>Michigan</th>\n",
              "      <td>8.111111</td>\n",
              "      <td>9</td>\n",
              "    </tr>\n",
              "    <tr>\n",
              "      <th>Ohio</th>\n",
              "      <td>3.333333</td>\n",
              "      <td>12</td>\n",
              "    </tr>\n",
              "    <tr>\n",
              "      <th>Pennsylvania</th>\n",
              "      <td>2.900000</td>\n",
              "      <td>10</td>\n",
              "    </tr>\n",
              "    <tr>\n",
              "      <th>Texas</th>\n",
              "      <td>2.700000</td>\n",
              "      <td>10</td>\n",
              "    </tr>\n",
              "  </tbody>\n",
              "</table>\n",
              "</div>"
            ],
            "text/plain": [
              "                    aqi  state_name\n",
              "state_name                         \n",
              "California    12.121212          66\n",
              "Florida        5.500000          12\n",
              "Michigan       8.111111           9\n",
              "Ohio           3.333333          12\n",
              "Pennsylvania   2.900000          10\n",
              "Texas          2.700000          10"
            ]
          },
          "execution_count": 4,
          "metadata": {},
          "output_type": "execute_result"
        }
      ],
      "source": [
        "# Summarize the mean AQI for RRE states.\n",
        "\n",
        "\n",
        "# Create a list of RRE states.\n",
        "\n",
        "rre_states = ['California','Florida','Michigan','Ohio','Pennsylvania','Texas']\n",
        "\n",
        "# Subset `aqi` to only consider these states.\n",
        "\n",
        "aqi_rre = aqi[aqi['state_name'].isin(rre_states)]\n",
        "\n",
        "# Find the mean aqi for each of the RRE states.\n",
        "\n",
        "aqi_rre.groupby(['state_name']).agg({\"aqi\":\"mean\",\"state_name\":\"count\"}) #alias as aqi_rre"
      ]
    },
    {
      "cell_type": "markdown",
      "id": "3b835c3a",
      "metadata": {
        "id": "3b835c3a"
      },
      "source": [
        "### Construct a boxplot visualization for the AQI of these states\n",
        "\n",
        "Seaborn is a simple visualization library, commonly imported as `sns`. Import `seaborn`. Then utilize a boxplot visualization from this library to compare the distributions of AQI scores by state."
      ]
    },
    {
      "cell_type": "code",
      "execution_count": null,
      "id": "6e1b409f",
      "metadata": {
        "id": "6e1b409f"
      },
      "outputs": [],
      "source": [
        "# Import seaborn as sns.\n",
        "\n",
        "\n",
        "import seaborn as sns"
      ]
    },
    {
      "cell_type": "markdown",
      "id": "f4695d9c",
      "metadata": {
        "id": "f4695d9c"
      },
      "source": [
        "### Create an in-line visualization showing the distribution of `aqi` by `state_name`\n",
        "\n",
        "Now, we will create an in-line visualization showing the distribution of `aqi` by `state_name`."
      ]
    },
    {
      "cell_type": "code",
      "execution_count": null,
      "id": "846bbc1c",
      "metadata": {
        "id": "846bbc1c",
        "outputId": "a52ed7df-8e55-4b26-91a7-5ee98df1fd8f"
      },
      "outputs": [
        {
          "data": {
            "text/plain": [
              "<AxesSubplot:xlabel='state_name', ylabel='aqi'>"
            ]
          },
          "execution_count": 6,
          "metadata": {},
          "output_type": "execute_result"
        },
        {
          "data": {
            "image/png": "[encoded data removed]",
            "text/plain": [
              "<Figure size 640x480 with 1 Axes>"
            ]
          },
          "metadata": {},
          "output_type": "display_data"
        }
      ],
      "source": [
        "\n",
        "sns.boxplot(x=aqi_rre[\"state_name\"],y=aqi_rre[\"aqi\"])"
      ]
    },
    {
      "cell_type": "markdown",
      "id": "f7e789e7",
      "metadata": {
        "id": "f7e789e7"
      },
      "source": [
        "**Question:** Based on the data and our visualizations, which state(s) what will be most affected by this policy?\n",
        "\n",
        "- California: The mean and a signficant portion of the boxplot range over 10.\n",
        "- Michigan: While the mean is below 10, the boxplot ranges above 10."
      ]
    },
    {
      "cell_type": "markdown",
      "id": "30b88bf4",
      "metadata": {
        "id": "30b88bf4"
      },
      "source": [
        "### Construct a confidence interval for the RRE state with the highest mean AQI\n",
        "\n",
        "Recall the four-step process for constructing a confidence interval:\n",
        "\n",
        "1.   Identify a sample statistic.\n",
        "2.   Choose a confidence level.\n",
        "3.   Find the margin of error.\n",
        "4.   Calculate the interval."
      ]
    },
    {
      "cell_type": "markdown",
      "id": "a84ec9a1",
      "metadata": {
        "id": "a84ec9a1"
      },
      "source": [
        "### Construct your sample statistic\n",
        "\n",
        "To contruct your sample statistic, find the mean AQI for your state."
      ]
    },
    {
      "cell_type": "code",
      "execution_count": null,
      "id": "b0b3392d",
      "metadata": {
        "id": "b0b3392d",
        "outputId": "4c713d9a-8056-48f1-cccd-86a0c9aee2be"
      },
      "outputs": [
        {
          "data": {
            "text/plain": [
              "12.121212121212121"
            ]
          },
          "execution_count": 7,
          "metadata": {},
          "output_type": "execute_result"
        }
      ],
      "source": [
        "# Find the mean aqi for your state.\n",
        "\n",
        "\n",
        "aqi_ca = aqi[aqi['state_name']=='California']\n",
        "\n",
        "sample_mean = aqi_ca['aqi'].mean()\n",
        "sample_mean"
      ]
    },
    {
      "cell_type": "markdown",
      "id": "516128bd",
      "metadata": {
        "id": "516128bd"
      },
      "source": [
        "### Choose your confidence level\n",
        "\n",
        "we Choose our confidence level for your analysis. The most typical confidence level chosen is 95%; however, we can choose 90% or 99% if we want decrease or increase (respectively) our level of confidence about our result."
      ]
    },
    {
      "cell_type": "code",
      "execution_count": null,
      "id": "594f080b",
      "metadata": {
        "id": "594f080b",
        "outputId": "c035e170-c781-46b7-d1ec-5af2c66a7b1f"
      },
      "outputs": [
        {
          "data": {
            "text/plain": [
              "0.95"
            ]
          },
          "execution_count": 8,
          "metadata": {},
          "output_type": "execute_result"
        }
      ],
      "source": [
        "# Input your confidence level.\n",
        "\n",
        "\n",
        "confidence_level = 0.95\n",
        "confidence_level"
      ]
    },
    {
      "cell_type": "markdown",
      "id": "7a3c8aff",
      "metadata": {
        "id": "7a3c8aff"
      },
      "source": [
        "### Find your margin of error (ME)\n",
        "\n",
        "Recall **margin of error = z * standard error**, where z is the appropriate z-value for the given confidence level. To calculate your margin of error:\n",
        "\n",
        "- Find your z-value.\n",
        "- Find the approximate z for common confidence levels.\n",
        "- Calculate your **standard error** estimate.\n",
        "\n",
        "| Confidence Level | Z Score |\n",
        "| --- | --- |\n",
        "| 90% | 1.65 |\n",
        "| 95% | 1.96 |\n",
        "| 99% | 2.58 |\n"
      ]
    },
    {
      "cell_type": "code",
      "execution_count": null,
      "id": "491d0388",
      "metadata": {
        "id": "491d0388",
        "outputId": "5cbc6246-252f-44ba-99ca-76b699f26db0"
      },
      "outputs": [
        {
          "name": "stdout",
          "output_type": "stream",
          "text": [
            "standard error:\n",
            "0.8987209641127412\n",
            "margin of error:\n",
            "1.7614930896609726\n"
          ]
        }
      ],
      "source": [
        "# Calculate your margin of error.\n",
        "\n",
        "\n",
        "# Begin by identifying the z associated with your chosen confidence level.\n",
        "\n",
        "z_value = 1.96\n",
        "\n",
        "# Next, calculate your standard error.\n",
        "\n",
        "standard_error = aqi_ca['aqi'].std() / np.sqrt(aqi_ca.shape[0])\n",
        "print(\"standard error:\")\n",
        "print(standard_error)\n",
        "\n",
        "# Lastly, use the preceding result to calculate your margin of error.\n",
        "\n",
        "margin_of_error = standard_error * z_value\n",
        "print(\"margin of error:\")\n",
        "print(margin_of_error)"
      ]
    },
    {
      "cell_type": "markdown",
      "id": "1c7b52c8",
      "metadata": {
        "id": "1c7b52c8"
      },
      "source": [
        "### Calculate your interval\n",
        "\n",
        "Calculate both a lower and upper limit surrounding your sample mean to create your interval."
      ]
    },
    {
      "cell_type": "code",
      "execution_count": null,
      "id": "b0e72274",
      "metadata": {
        "id": "b0e72274",
        "outputId": "6b54ea1a-7114-4225-ba8c-7e8b1107320b"
      },
      "outputs": [
        {
          "data": {
            "text/plain": [
              "(10.359719031551148, 13.882705210873095)"
            ]
          },
          "execution_count": 10,
          "metadata": {},
          "output_type": "execute_result"
        }
      ],
      "source": [
        "# Calculate your confidence interval (upper and lower limits).\n",
        "\n",
        "\n",
        "upper_ci_limit = sample_mean + margin_of_error\n",
        "lower_ci_limit = sample_mean - margin_of_error\n",
        "(lower_ci_limit, upper_ci_limit)"
      ]
    },
    {
      "cell_type": "markdown",
      "id": "db540b5f",
      "metadata": {
        "id": "db540b5f"
      },
      "source": [
        "### Alternative: Construct the interval using `scipy.stats.norm.interval()`\n",
        "\n",
        "`scipy` presents a simpler solution to developing a confidence interval. To use this, first import the `stats` module from `scipy`."
      ]
    },
    {
      "cell_type": "code",
      "execution_count": null,
      "id": "b77ca7a3",
      "metadata": {
        "id": "b77ca7a3"
      },
      "outputs": [],
      "source": [
        "# Import stats from scipy.\n",
        "\n",
        "\n",
        "from scipy import stats"
      ]
    },
    {
      "cell_type": "markdown",
      "id": "0345e23d",
      "metadata": {
        "id": "0345e23d"
      },
      "source": [
        "## Step 4: Results and evaluation\n",
        "\n",
        "### Recalculate your confidence interval\n",
        "\n",
        "Provide our chosen `confidence_level`, `sample_mean`, and `standard_error` to `stats.norm.interval()` and recalculate our confidence interval."
      ]
    },
    {
      "cell_type": "code",
      "execution_count": null,
      "id": "710520eb",
      "metadata": {
        "id": "710520eb",
        "outputId": "2867b038-5db0-4308-e3e0-f350285391b8"
      },
      "outputs": [
        {
          "name": "stderr",
          "output_type": "stream",
          "text": [
            "C:\\Users\\49178\\AppData\\Local\\Temp\\ipykernel_40276\\1904043992.py:1: DeprecationWarning: Use of keyword argument 'alpha' for method 'interval' is deprecated and wil be removed in SciPy 1.11.0. Use first positional argument or keyword argument 'confidence' instead.\n",
            "  stats.norm.interval(alpha=confidence_level, loc=sample_mean, scale=standard_error)\n"
          ]
        },
        {
          "data": {
            "text/plain": [
              "(10.359751399400034, 13.882672843024208)"
            ]
          },
          "execution_count": 12,
          "metadata": {},
          "output_type": "execute_result"
        }
      ],
      "source": [
        "\n",
        "stats.norm.interval(alpha=confidence_level, loc=sample_mean, scale=standard_error)"
      ]
    },
    {
      "cell_type": "markdown",
      "id": "60e33870",
      "metadata": {
        "id": "60e33870"
      },
      "source": [
        "# Considerations\n",
        "\n",
        "**What are key takeaways from this lab?**\n",
        "\n",
        "* Based on the mean AQI for RRE states, California and Michigan were most likely to have experienced a mean AQI above 10.\n",
        "* With California experiencing the highest sample mean AQI in the data, it appears to be the state most likely to be affected by the policy change.\n",
        "* Constructing a confidence interval allowed you to estimate the sample mean AQI with a certain degree of confidence.\n",
        "\n",
        "**What findings would you share with others?**\n",
        "\n",
        "* Present this notebook to convey the analytical process and describe the methodology behind constructing the confidence interval.\n",
        "* Convey that a confidence interval at the 95% level of confidence from this sample data yielded `[10.36 , 13.88]`, which provides the interpretation \"given the observed sample AQI measurements, there is a 95% confidence that the population mean AQI for California was between 10.36 and 13.88. This range is notably greater than 10.\"\n",
        "* Share how varying the confidence level changes the interval. For example, if you varied the confidence level to 99%, the confidence interval would become `[9.80 , 14.43]`.\n",
        "\n",
        "\n",
        "**What would you convey to external stakeholders?**\n",
        "\n",
        "* Explain statistical significance at a high level.\n",
        "* Describe California's observed mean AQI and suggest focusing on that state.\n",
        "* Share the result of the 95% confidence interval, describing what this means relative to the threshold of 10.\n",
        "* Convey any potential shortcomings of this analysis, such as the short time period being referenced."
      ]
    },
    {
      "cell_type": "markdown",
      "id": "d766b50c",
      "metadata": {
        "id": "d766b50c"
      },
      "source": [
        "**References**\n",
        "\n",
        "[seaborn.boxplot — seaborn 0.12.1 documentation](https://seaborn.pydata.org/generated/seaborn.boxplot.html). (n.d.)."
      ]
    }
  ],
  "metadata": {
    "colab": {
      "provenance": [],
      "include_colab_link": true
    },
    "kernelspec": {
      "display_name": "Python 3 (ipykernel)",
      "language": "python",
      "name": "python3"
    },
    "language_info": {
      "codemirror_mode": {
        "name": "ipython",
        "version": 3
      },
      "file_extension": ".py",
      "mimetype": "text/x-python",
      "name": "python",
      "nbconvert_exporter": "python",
      "pygments_lexer": "ipython3",
      "version": "3.9.13"
    }
  },
  "nbformat": 4,
  "nbformat_minor": 5
}