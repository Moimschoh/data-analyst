{
  "cells": [
    {
      "cell_type": "markdown",
      "metadata": {
        "id": "view-in-github",
        "colab_type": "text"
      },
      "source": [
        "<a href=\"https://colab.research.google.com/github/Moimschoh/data-analyst/blob/main/Course_6_Waze_project_lab_maschine_learning.ipynb\" target=\"_parent\"><img src=\"https://colab.research.google.com/assets/colab-badge.svg\" alt=\"Open In Colab\"/></a>"
      ]
    },
    {
      "cell_type": "markdown",
      "metadata": {
        "id": "DtNBZFHO3M7n"
      },
      "source": [
        "# **Waze Project**\n",
        "**The nuts and bolts of machine learning**"
      ]
    },
    {
      "cell_type": "markdown",
      "metadata": {
        "id": "XfCZ5KuI_2lT"
      },
      "source": [
        "Previously, we completed a project proposal, and used Python to explore and analyze Waze’s user data, create data visualizations, and conduct a hypothesis test. Most recently, we built a binomial logistic regression model based on multiple variables.\n",
        "\n",
        "Leadership appreciates all our hard work. Now, they want our team to build a machine learning model to predict user churn. To get the best results, our team decides to build and test two tree-based models: random forest and XGBoost.\n",
        "\n",
        "our work will help leadership make informed business decisions to prevent user churn, improve user retention, and grow Waze’s business.\n",
        "\n",
        "\n"
      ]
    },
    {
      "cell_type": "markdown",
      "metadata": {
        "id": "rgSbVJvomcVa"
      },
      "source": [
        "# **Build a machine learning model**\n",
        "\n",
        "In this activity, we will practice using tree-based modeling techniques to predict on a binary target class.\n",
        "<br/>\n",
        "\n",
        "**The purpose** of this model is to find factors that drive user churn.\n",
        "\n",
        "**The goal** of this model is to predict whether or not a Waze user is retained or churned.\n",
        "<br/>\n",
        "\n",
        "*This activity has three parts:*\n",
        "\n",
        "**Part 1:** Ethical considerations\n",
        "* Consider the ethical implications of the request\n",
        "\n",
        "* Should the objective of the model be adjusted?\n",
        "\n",
        "**Part 2:** Feature engineering\n",
        "\n",
        "* Perform feature selection, extraction, and transformation to prepare the data for modeling\n",
        "\n",
        "**Part 3:** Modeling\n",
        "\n",
        "* Build the models, evaluate them, and advise on next steps\n",
        "\n",
        "\n",
        "\n"
      ]
    },
    {
      "cell_type": "markdown",
      "metadata": {
        "id": "m60oea4_uTFN"
      },
      "source": [
        "# **Build a machine learning model**"
      ]
    },
    {
      "cell_type": "markdown",
      "metadata": {
        "id": "NzDjfCSLf6Jq"
      },
      "source": [
        "<img src=\"images/Pace.png\" width=\"100\" height=\"100\" align=left>\n",
        "\n",
        "# **PACE stages**\n",
        "\n",
        "\n",
        "\n"
      ]
    },
    {
      "cell_type": "markdown",
      "metadata": {
        "id": "dvpe5GUfdFdX"
      },
      "source": [
        "Throughout these project notebooks, you'll see references to the problem-solving framework PACE. The following notebook components are labeled with the respective PACE stage: Plan, Analyze, Construct, and Execute."
      ]
    },
    {
      "cell_type": "markdown",
      "metadata": {
        "id": "E5g1A74r0ow_"
      },
      "source": [
        "<img src=\"images/Plan.png\" width=\"100\" height=\"100\" align=left>\n",
        "\n",
        "\n",
        "## **PACE: Plan**\n",
        "\n",
        "we Consider the questions in your PACE Strategy Document to reflect on the Plan stage.\n",
        "\n",
        "In this stage, we consider the following questions:\n",
        "\n",
        "1.   What are you being asked to do?\n",
        "> _Predict if a customer will churn or be retained._\n",
        "\n",
        "2.   What are the ethical implications of the model? What are the consequences of your model making errors?\n",
        "  *   What is the likely effect of the model when it predicts a false negative (i.e., when the model says a Waze user won't churn, but they actually will)?\n",
        "  > _Waze will fail to take proactive measures to retain users who are likely to stop using the app. For example, Waze might proactively push an app notification to users, or send a survey to better understand user dissatisfaction._\n",
        "  *   What is the likely effect of the model when it predicts a false positive (i.e., when the model says a Waze user will churn, but they actually won't)?\n",
        "  > _Waze may take proactive measures to retain users who are NOT likely to churn. This may lead to an annoying or negative experience for loyal users of the app._\n",
        "3.   Do the benefits of such a model outweigh the potential problems?\n",
        "  > _The proactive measueres taken by Waze might have unintended effects on users, and these effects might encourage user churn. Follow-up analysis on the effectiveness of the measures is recommended. If the measures are reasonable and effective, then the benefits will most likely outweigh the problems._\n",
        "4.   Would you proceed with the request to build this model? Why or why not?\n",
        "\n",
        "  >_Yes. There aren't any significant risks for building such a model._\n"
      ]
    },
    {
      "cell_type": "markdown",
      "metadata": {
        "id": "e8Vm3QEfGELS"
      },
      "source": [
        "### **Task 1. Imports and data loading**\n",
        "\n",
        "Import packages and libraries needed to build and evaluate random forest and XGBoost classification models."
      ]
    },
    {
      "cell_type": "code",
      "execution_count": null,
      "metadata": {
        "id": "fKhnX2Puf4Bt"
      },
      "outputs": [],
      "source": [
        "# Import packages for data manipulation\n",
        "import numpy as np\n",
        "import pandas as pd\n",
        "\n",
        "# Import packages for data visualization\n",
        "import matplotlib.pyplot as plt\n",
        "\n",
        "# This lets us see all of the columns, preventing Juptyer from redacting them.\n",
        "pd.set_option('display.max_columns', None)\n",
        "\n",
        "# Import packages for data modeling\n",
        "from sklearn.model_selection import GridSearchCV, train_test_split\n",
        "from sklearn.metrics import roc_auc_score, roc_curve, auc\n",
        "from sklearn.metrics import accuracy_score, precision_score, recall_score,\\\n",
        "f1_score, confusion_matrix, ConfusionMatrixDisplay, RocCurveDisplay, PrecisionRecallDisplay\n",
        "\n",
        "from sklearn.ensemble import RandomForestClassifier\n",
        "from xgboost import XGBClassifier\n",
        "\n",
        "# This is the function that helps plot feature importance\n",
        "from xgboost import plot_importance\n",
        "\n",
        "# This module lets us save our models once we fit them.\n",
        "import pickle"
      ]
    },
    {
      "cell_type": "markdown",
      "metadata": {
        "id": "IeXTZ2tdbALL"
      },
      "source": [
        "Now read in the dataset as `df0` and inspect the first five rows."
      ]
    },
    {
      "cell_type": "code",
      "execution_count": null,
      "metadata": {
        "id": "5weTXGKqa_iG"
      },
      "outputs": [],
      "source": [
        "# Import dataset\n",
        "df0 = pd.read_csv('waze_dataset.csv')"
      ]
    },
    {
      "cell_type": "code",
      "execution_count": null,
      "metadata": {
        "colab": {
          "base_uri": "https://localhost:8080/",
          "height": 270
        },
        "id": "t9u3R4HuFQIZ",
        "outputId": "e31e9fe2-d641-41d6-ac62-350062762256"
      },
      "outputs": [
        {
          "data": {
            "text/html": [
              "<div>\n",
              "<style scoped>\n",
              "    .dataframe tbody tr th:only-of-type {\n",
              "        vertical-align: middle;\n",
              "    }\n",
              "\n",
              "    .dataframe tbody tr th {\n",
              "        vertical-align: top;\n",
              "    }\n",
              "\n",
              "    .dataframe thead th {\n",
              "        text-align: right;\n",
              "    }\n",
              "</style>\n",
              "<table border=\"1\" class=\"dataframe\">\n",
              "  <thead>\n",
              "    <tr style=\"text-align: right;\">\n",
              "      <th></th>\n",
              "      <th>ID</th>\n",
              "      <th>label</th>\n",
              "      <th>sessions</th>\n",
              "      <th>drives</th>\n",
              "      <th>total_sessions</th>\n",
              "      <th>n_days_after_onboarding</th>\n",
              "      <th>total_navigations_fav1</th>\n",
              "      <th>total_navigations_fav2</th>\n",
              "      <th>driven_km_drives</th>\n",
              "      <th>duration_minutes_drives</th>\n",
              "      <th>activity_days</th>\n",
              "      <th>driving_days</th>\n",
              "      <th>device</th>\n",
              "    </tr>\n",
              "  </thead>\n",
              "  <tbody>\n",
              "    <tr>\n",
              "      <th>0</th>\n",
              "      <td>0</td>\n",
              "      <td>retained</td>\n",
              "      <td>283</td>\n",
              "      <td>226</td>\n",
              "      <td>296.748273</td>\n",
              "      <td>2276</td>\n",
              "      <td>208</td>\n",
              "      <td>0</td>\n",
              "      <td>2628.845068</td>\n",
              "      <td>1985.775061</td>\n",
              "      <td>28</td>\n",
              "      <td>19</td>\n",
              "      <td>Android</td>\n",
              "    </tr>\n",
              "    <tr>\n",
              "      <th>1</th>\n",
              "      <td>1</td>\n",
              "      <td>retained</td>\n",
              "      <td>133</td>\n",
              "      <td>107</td>\n",
              "      <td>326.896596</td>\n",
              "      <td>1225</td>\n",
              "      <td>19</td>\n",
              "      <td>64</td>\n",
              "      <td>13715.920550</td>\n",
              "      <td>3160.472914</td>\n",
              "      <td>13</td>\n",
              "      <td>11</td>\n",
              "      <td>iPhone</td>\n",
              "    </tr>\n",
              "    <tr>\n",
              "      <th>2</th>\n",
              "      <td>2</td>\n",
              "      <td>retained</td>\n",
              "      <td>114</td>\n",
              "      <td>95</td>\n",
              "      <td>135.522926</td>\n",
              "      <td>2651</td>\n",
              "      <td>0</td>\n",
              "      <td>0</td>\n",
              "      <td>3059.148818</td>\n",
              "      <td>1610.735904</td>\n",
              "      <td>14</td>\n",
              "      <td>8</td>\n",
              "      <td>Android</td>\n",
              "    </tr>\n",
              "    <tr>\n",
              "      <th>3</th>\n",
              "      <td>3</td>\n",
              "      <td>retained</td>\n",
              "      <td>49</td>\n",
              "      <td>40</td>\n",
              "      <td>67.589221</td>\n",
              "      <td>15</td>\n",
              "      <td>322</td>\n",
              "      <td>7</td>\n",
              "      <td>913.591123</td>\n",
              "      <td>587.196542</td>\n",
              "      <td>7</td>\n",
              "      <td>3</td>\n",
              "      <td>iPhone</td>\n",
              "    </tr>\n",
              "    <tr>\n",
              "      <th>4</th>\n",
              "      <td>4</td>\n",
              "      <td>retained</td>\n",
              "      <td>84</td>\n",
              "      <td>68</td>\n",
              "      <td>168.247020</td>\n",
              "      <td>1562</td>\n",
              "      <td>166</td>\n",
              "      <td>5</td>\n",
              "      <td>3950.202008</td>\n",
              "      <td>1219.555924</td>\n",
              "      <td>27</td>\n",
              "      <td>18</td>\n",
              "      <td>Android</td>\n",
              "    </tr>\n",
              "  </tbody>\n",
              "</table>\n",
              "</div>"
            ],
            "text/plain": [
              "   ID     label  sessions  drives  total_sessions  n_days_after_onboarding  \\\n",
              "0   0  retained       283     226      296.748273                     2276   \n",
              "1   1  retained       133     107      326.896596                     1225   \n",
              "2   2  retained       114      95      135.522926                     2651   \n",
              "3   3  retained        49      40       67.589221                       15   \n",
              "4   4  retained        84      68      168.247020                     1562   \n",
              "\n",
              "   total_navigations_fav1  total_navigations_fav2  driven_km_drives  \\\n",
              "0                     208                       0       2628.845068   \n",
              "1                      19                      64      13715.920550   \n",
              "2                       0                       0       3059.148818   \n",
              "3                     322                       7        913.591123   \n",
              "4                     166                       5       3950.202008   \n",
              "\n",
              "   duration_minutes_drives  activity_days  driving_days   device  \n",
              "0              1985.775061             28            19  Android  \n",
              "1              3160.472914             13            11   iPhone  \n",
              "2              1610.735904             14             8  Android  \n",
              "3               587.196542              7             3   iPhone  \n",
              "4              1219.555924             27            18  Android  "
            ]
          },
          "execution_count": 3,
          "metadata": {},
          "output_type": "execute_result"
        }
      ],
      "source": [
        "# Inspect the first five rows\n",
        "df0.head()"
      ]
    },
    {
      "cell_type": "markdown",
      "metadata": {
        "id": "EgPRBjizg1oo"
      },
      "source": [
        "<img src=\"images/Analyze.png\" width=\"100\" height=\"100\" align=left>\n",
        "\n",
        "## **PACE: Analyze**\n",
        "Consider the questions in your PACE Strategy Document to reflect on the Analyze stage."
      ]
    },
    {
      "cell_type": "markdown",
      "metadata": {
        "id": "5VZowX9rhU1o"
      },
      "source": [
        "### **Task 2. Feature engineering**\n",
        "\n",
        "we have already prepared much of this data and performed exploratory data analysis (EDA) in previous courses. we know that some features had stronger correlations with churn than others, and we also created some features that may be useful.\n",
        "\n",
        "In this part of the project, we'll engineer these features and some new features to use for modeling.\n",
        "\n",
        "To begin, create a copy of `df0` to preserve the original dataframe. Call the copy `df`."
      ]
    },
    {
      "cell_type": "code",
      "execution_count": null,
      "metadata": {
        "id": "ZJsPbbPFMQe1"
      },
      "outputs": [],
      "source": [
        "# Copy the df0 dataframe\n",
        "df = df0.copy()"
      ]
    },
    {
      "cell_type": "markdown",
      "metadata": {
        "id": "oXJIPB9sMIpa"
      },
      "source": [
        "Call `info()` on the new dataframe so the existing columns can be easily referenced."
      ]
    },
    {
      "cell_type": "code",
      "execution_count": null,
      "metadata": {
        "colab": {
          "base_uri": "https://localhost:8080/"
        },
        "id": "mBOSW8IDbO_d",
        "outputId": "b543ff3a-9e18-474d-a0cb-8ff9c5306235"
      },
      "outputs": [
        {
          "name": "stdout",
          "output_type": "stream",
          "text": [
            "<class 'pandas.core.frame.DataFrame'>\n",
            "RangeIndex: 14999 entries, 0 to 14998\n",
            "Data columns (total 13 columns):\n",
            " #   Column                   Non-Null Count  Dtype  \n",
            "---  ------                   --------------  -----  \n",
            " 0   ID                       14999 non-null  int64  \n",
            " 1   label                    14299 non-null  object \n",
            " 2   sessions                 14999 non-null  int64  \n",
            " 3   drives                   14999 non-null  int64  \n",
            " 4   total_sessions           14999 non-null  float64\n",
            " 5   n_days_after_onboarding  14999 non-null  int64  \n",
            " 6   total_navigations_fav1   14999 non-null  int64  \n",
            " 7   total_navigations_fav2   14999 non-null  int64  \n",
            " 8   driven_km_drives         14999 non-null  float64\n",
            " 9   duration_minutes_drives  14999 non-null  float64\n",
            " 10  activity_days            14999 non-null  int64  \n",
            " 11  driving_days             14999 non-null  int64  \n",
            " 12  device                   14999 non-null  object \n",
            "dtypes: float64(3), int64(8), object(2)\n",
            "memory usage: 1.5+ MB\n"
          ]
        }
      ],
      "source": [
        "df.info()"
      ]
    },
    {
      "cell_type": "markdown",
      "metadata": {
        "id": "zA8NHyLDIpeT"
      },
      "source": [
        "#### **`km_per_driving_day`**\n",
        "\n",
        "1. we create a feature representing the mean number of kilometers driven on each driving day in the last month for each user. Add this feature as a column to `df`.\n",
        "\n",
        "2. Get descriptive statistics for this new feature"
      ]
    },
    {
      "cell_type": "code",
      "execution_count": null,
      "metadata": {
        "colab": {
          "base_uri": "https://localhost:8080/"
        },
        "id": "PzqACNPlIMFi",
        "outputId": "4502cb7b-c9fd-4407-c40f-e33f9556ceae"
      },
      "outputs": [
        {
          "data": {
            "text/plain": [
              "count    1.499900e+04\n",
              "mean              inf\n",
              "std               NaN\n",
              "min      3.022063e+00\n",
              "25%      1.672804e+02\n",
              "50%      3.231459e+02\n",
              "75%      7.579257e+02\n",
              "max               inf\n",
              "Name: km_per_driving_day, dtype: float64"
            ]
          },
          "execution_count": 6,
          "metadata": {},
          "output_type": "execute_result"
        }
      ],
      "source": [
        "# 1. Create `km_per_driving_day` feature\n",
        "df['km_per_driving_day'] = df['driven_km_drives'] / df['driving_days']\n",
        "\n",
        "# 2. Get descriptive stats\n",
        "df['km_per_driving_day'].describe()"
      ]
    },
    {
      "cell_type": "markdown",
      "metadata": {
        "id": "uhw6SnOHuEoz"
      },
      "source": [
        "Notice that some values are infinite. This is the result of there being values of zero in the `driving_days` column. Pandas imputes a value of infinity in the corresponding rows of the new column because division by zero is undefined.\n",
        "\n",
        "1. Convert these values from infinity to zero. You can use `np.inf` to refer to a value of infinity.\n",
        "\n",
        "2. Call `describe()` on the `km_per_driving_day` column to verify that it worked."
      ]
    },
    {
      "cell_type": "code",
      "execution_count": null,
      "metadata": {
        "colab": {
          "base_uri": "https://localhost:8080/"
        },
        "id": "pl_hHhfauh00",
        "outputId": "51f5522c-f95a-4df5-e781-133c1578893e"
      },
      "outputs": [
        {
          "data": {
            "text/plain": [
              "count    14999.000000\n",
              "mean       578.963113\n",
              "std       1030.094384\n",
              "min          0.000000\n",
              "25%        136.238895\n",
              "50%        272.889272\n",
              "75%        558.686918\n",
              "max      15420.234110\n",
              "Name: km_per_driving_day, dtype: float64"
            ]
          },
          "execution_count": 7,
          "metadata": {},
          "output_type": "execute_result"
        }
      ],
      "source": [
        "# 1. Convert infinite values to zero\n",
        "df.loc[df['km_per_driving_day']==np.inf, 'km_per_driving_day'] = 0\n",
        "\n",
        "# 2. Confirm that it worked\n",
        "df['km_per_driving_day'].describe()"
      ]
    },
    {
      "cell_type": "markdown",
      "metadata": {
        "id": "-vZMI319M5ER"
      },
      "source": [
        "#### **`percent_sessions_in_last_month`**\n",
        "\n",
        "1. we will create a new column `percent_sessions_in_last_month` that represents the percentage of each user's total sessions that were logged in their last month of use.\n",
        "\n",
        "2. Get descriptive statistics for this new feature"
      ]
    },
    {
      "cell_type": "code",
      "execution_count": null,
      "metadata": {
        "colab": {
          "base_uri": "https://localhost:8080/"
        },
        "id": "ZvT74d1EIMDo",
        "outputId": "e1d1fbdf-c542-44b5-9af5-2233e034d6af"
      },
      "outputs": [
        {
          "data": {
            "text/plain": [
              "count    14999.000000\n",
              "mean         0.449255\n",
              "std          0.286919\n",
              "min          0.000000\n",
              "25%          0.196221\n",
              "50%          0.423097\n",
              "75%          0.687216\n",
              "max          1.530637\n",
              "Name: percent_sessions_in_last_month, dtype: float64"
            ]
          },
          "execution_count": 8,
          "metadata": {},
          "output_type": "execute_result"
        }
      ],
      "source": [
        "# 1. Create `percent_sessions_in_last_month` feature\n",
        "df['percent_sessions_in_last_month'] = df['sessions'] / df['total_sessions']\n",
        "\n",
        "# 2. Get descriptive stats\n",
        "df['percent_sessions_in_last_month'].describe()"
      ]
    },
    {
      "cell_type": "markdown",
      "metadata": {
        "id": "XP5xpoWqNbUC"
      },
      "source": [
        "#### **`professional_driver`**\n",
        "\n",
        "we create a new, binary feature called `professional_driver` that is a 1 for users who had 60 or more drives <u>**and**</u> drove on 15+ days in the last month.\n",
        "\n",
        "**Note:** The objective is to create a new feature that separates professional drivers from other drivers. In this scenario, domain knowledge and intuition are used to determine these deciding thresholds, but ultimately they are arbitrary."
      ]
    },
    {
      "cell_type": "markdown",
      "metadata": {
        "id": "I77Q_UpJNrwr"
      },
      "source": [
        "To create this column, use the [`np.where()`](https://numpy.org/doc/stable/reference/generated/numpy.where.html) function. This function accepts as arguments:\n",
        "1. A condition\n",
        "2. What to return when the condition is true\n",
        "3. What to return when the condition is false\n",
        "\n",
        "```\n",
        "Example:\n",
        "x = [1, 2, 3]\n",
        "x = np.where(x > 2, 100, 0)\n",
        "x\n",
        "array([  0,   0, 100])\n",
        "```"
      ]
    },
    {
      "cell_type": "code",
      "execution_count": null,
      "metadata": {
        "id": "ZNmJdqJWIMBi"
      },
      "outputs": [],
      "source": [
        "# Create `professional_driver` feature\n",
        "df['professional_driver'] = np.where((df['drives'] >= 60) & (df['driving_days'] >= 15), 1, 0)"
      ]
    },
    {
      "cell_type": "markdown",
      "metadata": {
        "id": "D6Rz587QOCUN"
      },
      "source": [
        "#### **`total_sessions_per_day`**\n",
        "\n",
        "Now, create a new column that represents the mean number of sessions per day _since onboarding_."
      ]
    },
    {
      "cell_type": "code",
      "execution_count": null,
      "metadata": {
        "id": "NTlzoBQqNaaZ"
      },
      "outputs": [],
      "source": [
        "# Create `total_sessions_per_day` feature\n",
        "df['total_sessions_per_day'] = df['total_sessions'] / df['n_days_after_onboarding']"
      ]
    },
    {
      "cell_type": "markdown",
      "metadata": {
        "id": "8Ur8YjBUvC7I"
      },
      "source": [
        "As with other features, get descriptive statistics for this new feature."
      ]
    },
    {
      "cell_type": "code",
      "execution_count": null,
      "metadata": {
        "colab": {
          "base_uri": "https://localhost:8080/"
        },
        "id": "QZlkvYzJvUXu",
        "outputId": "8a8e5c3a-5c20-407e-8bf3-d03db79f8ead"
      },
      "outputs": [
        {
          "data": {
            "text/plain": [
              "count    14999.000000\n",
              "mean         0.338698\n",
              "std          1.314333\n",
              "min          0.000298\n",
              "25%          0.051037\n",
              "50%          0.100775\n",
              "75%          0.216269\n",
              "max         39.763874\n",
              "Name: total_sessions_per_day, dtype: float64"
            ]
          },
          "execution_count": 11,
          "metadata": {},
          "output_type": "execute_result"
        }
      ],
      "source": [
        "# Get descriptive stats\n",
        "df['total_sessions_per_day'].describe()"
      ]
    },
    {
      "cell_type": "markdown",
      "metadata": {
        "id": "wlIGrAfTPr1T"
      },
      "source": [
        "#### **`km_per_hour`**\n",
        "\n",
        "Create a column representing the mean kilometers per hour driven in the last month."
      ]
    },
    {
      "cell_type": "code",
      "execution_count": null,
      "metadata": {
        "colab": {
          "base_uri": "https://localhost:8080/"
        },
        "id": "BCo9ddW0P2rm",
        "outputId": "2d749be4-d14a-4720-932d-25e0daad9975"
      },
      "outputs": [
        {
          "data": {
            "text/plain": [
              "count    14999.000000\n",
              "mean       190.394608\n",
              "std        334.674026\n",
              "min         72.013095\n",
              "25%         90.706222\n",
              "50%        122.382022\n",
              "75%        193.130119\n",
              "max      23642.920871\n",
              "Name: km_per_hour, dtype: float64"
            ]
          },
          "execution_count": 12,
          "metadata": {},
          "output_type": "execute_result"
        }
      ],
      "source": [
        "# Create `km_per_hour` feature\n",
        "df['km_per_hour'] = df['driven_km_drives'] / (df['duration_minutes_drives'] / 60)\n",
        "df['km_per_hour'].describe()"
      ]
    },
    {
      "cell_type": "markdown",
      "metadata": {
        "id": "dIjH0YAldFdb"
      },
      "source": [
        "These numbers are obviously problematic, and it would be worthwhile to seek clarification from Waze regarding how these features are collected to better understand why such unrealistic speeds are observed."
      ]
    },
    {
      "cell_type": "markdown",
      "metadata": {
        "id": "VnFLfrleQat0"
      },
      "source": [
        "#### **`km_per_drive`**\n",
        "\n",
        "we create a column representing the mean number of kilometers per drive made in the last month for each user. Then, print descriptive statistics for the feature."
      ]
    },
    {
      "cell_type": "code",
      "execution_count": null,
      "metadata": {
        "colab": {
          "base_uri": "https://localhost:8080/"
        },
        "id": "qP-lBOZtQKH1",
        "outputId": "7f655917-91d9-4667-ebb9-871bdd04120b"
      },
      "outputs": [
        {
          "data": {
            "text/plain": [
              "count    1.499900e+04\n",
              "mean              inf\n",
              "std               NaN\n",
              "min      1.008775e+00\n",
              "25%      3.323065e+01\n",
              "50%      7.488006e+01\n",
              "75%      1.854667e+02\n",
              "max               inf\n",
              "Name: km_per_drive, dtype: float64"
            ]
          },
          "execution_count": 12,
          "metadata": {},
          "output_type": "execute_result"
        }
      ],
      "source": [
        "# Create `km_per_drive` feature\n",
        "df['km_per_drive'] = df['driven_km_drives'] / df['drives']\n",
        "df['km_per_drive'].describe()"
      ]
    },
    {
      "cell_type": "markdown",
      "metadata": {
        "id": "bCEOcKJd1NnI"
      },
      "source": [
        "This feature has infinite values too. Convert the infinite values to zero, then confirm that it worked.\n",
        "\n"
      ]
    },
    {
      "cell_type": "code",
      "execution_count": null,
      "metadata": {
        "colab": {
          "base_uri": "https://localhost:8080/"
        },
        "id": "HI0h4g2N1aE9",
        "outputId": "f4771080-1e29-4a96-97b2-750016ac3767"
      },
      "outputs": [
        {
          "data": {
            "text/plain": [
              "count    14999.000000\n",
              "mean       232.817946\n",
              "std        620.622351\n",
              "min          0.000000\n",
              "25%         32.424301\n",
              "50%         72.854343\n",
              "75%        179.347527\n",
              "max      15777.426560\n",
              "Name: km_per_drive, dtype: float64"
            ]
          },
          "execution_count": 13,
          "metadata": {},
          "output_type": "execute_result"
        }
      ],
      "source": [
        "# 1. Convert infinite values to zero\n",
        "df.loc[df['km_per_drive']==np.inf, 'km_per_drive'] = 0\n",
        "\n",
        "# 2. Confirm that it worked\n",
        "df['km_per_drive'].describe()"
      ]
    },
    {
      "cell_type": "markdown",
      "metadata": {
        "id": "QhvumW3dRLVw"
      },
      "source": [
        "#### **`percent_of_sessions_to_favorite`**\n",
        "\n",
        "Finally, we create a new column that represents the percentage of total sessions that were used to navigate to one of the users' favorite places. Then, print descriptive statistics for the new column.\n",
        "\n",
        "This is a proxy representation for the percent of overall drives that are to a favorite place. Since total drives since onboarding are not contained in this dataset, total sessions must serve as a reasonable approximation.\n",
        "\n",
        "People whose drives to non-favorite places make up a higher percentage of their total drives might be less likely to churn, since they're making more drives to less familiar places."
      ]
    },
    {
      "cell_type": "code",
      "execution_count": null,
      "metadata": {
        "colab": {
          "base_uri": "https://localhost:8080/"
        },
        "id": "3VQvevYeRK0u",
        "outputId": "63b0de1d-c30a-4485-acc2-de4797896dd7"
      },
      "outputs": [
        {
          "data": {
            "text/plain": [
              "count    14999.000000\n",
              "mean         1.665439\n",
              "std          8.865666\n",
              "min          0.000000\n",
              "25%          0.203471\n",
              "50%          0.649818\n",
              "75%          1.638526\n",
              "max        777.563629\n",
              "Name: percent_of_drives_to_favorite, dtype: float64"
            ]
          },
          "execution_count": 14,
          "metadata": {},
          "output_type": "execute_result"
        }
      ],
      "source": [
        "# Create `percent_of_sessions_to_favorite` feature\n",
        "df['percent_of_drives_to_favorite'] = (\n",
        "    df['total_navigations_fav1'] + df['total_navigations_fav2']) / df['total_sessions']\n",
        "\n",
        "# Get descriptive stats\n",
        "df['percent_of_drives_to_favorite'].describe()"
      ]
    },
    {
      "cell_type": "markdown",
      "metadata": {
        "id": "gZ0zDWmsTeOA"
      },
      "source": [
        "### **Task 3. Drop missing values**\n",
        "\n",
        "Because we know from previous EDA that there is no evidence of a non-random cause of the 700 missing values in the `label` column, and because these observations comprise less than 5% of the data, use the `dropna()` method to drop the rows that are missing this data."
      ]
    },
    {
      "cell_type": "code",
      "execution_count": null,
      "metadata": {
        "id": "teUeCF-yf_6o"
      },
      "outputs": [],
      "source": [
        "# Drop rows with missing values\n",
        "df = df.dropna(subset=['label'])"
      ]
    },
    {
      "cell_type": "markdown",
      "metadata": {
        "id": "Dj-wIAc9T5Zf"
      },
      "source": [
        "### **Task 4. Outliers**\n",
        "\n",
        "we know from previous EDA that many of these columns have outliers. However, tree-based models are resilient to outliers, so there is no need to make any imputations."
      ]
    },
    {
      "cell_type": "markdown",
      "metadata": {
        "id": "uFnVVQ_OTpqz"
      },
      "source": [
        "### **Task 5. Variable encoding**"
      ]
    },
    {
      "cell_type": "markdown",
      "metadata": {
        "id": "o3ArC_5xa7Oi"
      },
      "source": [
        "#### **Dummying features**\n",
        "\n",
        "In order to use `device` as an X variable, you will need to convert it to binary, since this variable is categorical.\n",
        "\n",
        "In cases where the data contains many categorical variables, you can use pandas built-in [`pd.get_dummies()`](https://pandas.pydata.org/docs/reference/api/pandas.get_dummies.html), or we can use scikit-learn's [`OneHotEncoder()`](https://scikit-learn.org/stable/modules/generated/sklearn.preprocessing.OneHotEncoder.html) function.\n",
        "\n",
        "**Note:** Each possible category of each feature will result in a feature for our model, which could lead to an inadequate ratio of features to observations and/or difficulty understanding your model's predictions.\n",
        "\n",
        "Because this dataset only has one remaining categorical feature (`device`), it's not necessary to use one of these special functions. You can just implement the transformation directly.\n",
        "\n",
        "we create a new, binary column called `device2` that encodes user devices as follows:\n",
        "\n",
        "* `Android` -> `0`\n",
        "* `iPhone` -> `1`"
      ]
    },
    {
      "cell_type": "code",
      "execution_count": null,
      "metadata": {
        "colab": {
          "base_uri": "https://localhost:8080/",
          "height": 206
        },
        "id": "QvDpwcQm0f35",
        "outputId": "f4f36452-731a-403d-e109-a02df1520db7"
      },
      "outputs": [
        {
          "data": {
            "text/html": [
              "<div>\n",
              "<style scoped>\n",
              "    .dataframe tbody tr th:only-of-type {\n",
              "        vertical-align: middle;\n",
              "    }\n",
              "\n",
              "    .dataframe tbody tr th {\n",
              "        vertical-align: top;\n",
              "    }\n",
              "\n",
              "    .dataframe thead th {\n",
              "        text-align: right;\n",
              "    }\n",
              "</style>\n",
              "<table border=\"1\" class=\"dataframe\">\n",
              "  <thead>\n",
              "    <tr style=\"text-align: right;\">\n",
              "      <th></th>\n",
              "      <th>device</th>\n",
              "      <th>device2</th>\n",
              "    </tr>\n",
              "  </thead>\n",
              "  <tbody>\n",
              "    <tr>\n",
              "      <th>14994</th>\n",
              "      <td>iPhone</td>\n",
              "      <td>1</td>\n",
              "    </tr>\n",
              "    <tr>\n",
              "      <th>14995</th>\n",
              "      <td>Android</td>\n",
              "      <td>0</td>\n",
              "    </tr>\n",
              "    <tr>\n",
              "      <th>14996</th>\n",
              "      <td>iPhone</td>\n",
              "      <td>1</td>\n",
              "    </tr>\n",
              "    <tr>\n",
              "      <th>14997</th>\n",
              "      <td>iPhone</td>\n",
              "      <td>1</td>\n",
              "    </tr>\n",
              "    <tr>\n",
              "      <th>14998</th>\n",
              "      <td>iPhone</td>\n",
              "      <td>1</td>\n",
              "    </tr>\n",
              "  </tbody>\n",
              "</table>\n",
              "</div>"
            ],
            "text/plain": [
              "        device  device2\n",
              "14994   iPhone        1\n",
              "14995  Android        0\n",
              "14996   iPhone        1\n",
              "14997   iPhone        1\n",
              "14998   iPhone        1"
            ]
          },
          "execution_count": 16,
          "metadata": {},
          "output_type": "execute_result"
        }
      ],
      "source": [
        "# Create new `device2` variable\n",
        "df['device2'] = np.where(df['device']=='Android', 0, 1)\n",
        "df[['device', 'device2']].tail()"
      ]
    },
    {
      "cell_type": "markdown",
      "metadata": {
        "id": "UV3KLq7LpcWB"
      },
      "source": [
        "#### **Target encoding**\n",
        "\n",
        "The target variable is also categorical, since a user is labeled as either \"churned\" or \"retained.\" Change the data type of the `label` column to be binary. This change is needed to train the models.\n",
        "\n",
        "Assign a `0` for all `retained` users.\n",
        "\n",
        "Assign a `1` for all `churned` users.\n",
        "\n",
        "Save this variable as `label2` so as not to overwrite the original `label` variable.\n",
        "\n",
        "**Note:** There are many ways to do this. Consider using `np.where()` as you did earlier in this notebook.\n"
      ]
    },
    {
      "cell_type": "code",
      "execution_count": null,
      "metadata": {
        "colab": {
          "base_uri": "https://localhost:8080/",
          "height": 206
        },
        "id": "7fRaU2JKpyXg",
        "outputId": "05eb3516-2c5f-44b3-b453-8a3fcdec8941"
      },
      "outputs": [
        {
          "data": {
            "text/html": [
              "<div>\n",
              "<style scoped>\n",
              "    .dataframe tbody tr th:only-of-type {\n",
              "        vertical-align: middle;\n",
              "    }\n",
              "\n",
              "    .dataframe tbody tr th {\n",
              "        vertical-align: top;\n",
              "    }\n",
              "\n",
              "    .dataframe thead th {\n",
              "        text-align: right;\n",
              "    }\n",
              "</style>\n",
              "<table border=\"1\" class=\"dataframe\">\n",
              "  <thead>\n",
              "    <tr style=\"text-align: right;\">\n",
              "      <th></th>\n",
              "      <th>label</th>\n",
              "      <th>label2</th>\n",
              "    </tr>\n",
              "  </thead>\n",
              "  <tbody>\n",
              "    <tr>\n",
              "      <th>14994</th>\n",
              "      <td>retained</td>\n",
              "      <td>0</td>\n",
              "    </tr>\n",
              "    <tr>\n",
              "      <th>14995</th>\n",
              "      <td>retained</td>\n",
              "      <td>0</td>\n",
              "    </tr>\n",
              "    <tr>\n",
              "      <th>14996</th>\n",
              "      <td>retained</td>\n",
              "      <td>0</td>\n",
              "    </tr>\n",
              "    <tr>\n",
              "      <th>14997</th>\n",
              "      <td>churned</td>\n",
              "      <td>1</td>\n",
              "    </tr>\n",
              "    <tr>\n",
              "      <th>14998</th>\n",
              "      <td>retained</td>\n",
              "      <td>0</td>\n",
              "    </tr>\n",
              "  </tbody>\n",
              "</table>\n",
              "</div>"
            ],
            "text/plain": [
              "          label  label2\n",
              "14994  retained       0\n",
              "14995  retained       0\n",
              "14996  retained       0\n",
              "14997   churned       1\n",
              "14998  retained       0"
            ]
          },
          "execution_count": 17,
          "metadata": {},
          "output_type": "execute_result"
        }
      ],
      "source": [
        "# Create binary `label2` column\n",
        "df['label2'] = np.where(df['label']=='churned', 1, 0)\n",
        "df[['label', 'label2']].tail()"
      ]
    },
    {
      "cell_type": "markdown",
      "metadata": {
        "id": "MSqM4oiyuuzw"
      },
      "source": [
        "### **Task 6. Feature selection**\n",
        "\n",
        "Tree-based models can handle multicollinearity, so the only feature that can be cut is `ID`, since it doesn't contain any information relevant to churn.\n",
        "\n",
        "Note, however, that `device` won't be used simply because it's a copy of `device2`.\n",
        "\n",
        "Drop `ID` from the `df` dataframe."
      ]
    },
    {
      "cell_type": "code",
      "execution_count": null,
      "metadata": {
        "id": "vv3owriWuuDQ"
      },
      "outputs": [],
      "source": [
        "# Drop `ID` column\n",
        "df = df.drop(['ID'], axis=1)"
      ]
    },
    {
      "cell_type": "markdown",
      "metadata": {
        "id": "nZfNE37b-LlJ"
      },
      "source": [
        "### **Task 7. Evaluation metric**\n",
        "\n",
        "Before modeling, we must decide on an evaluation metric. This will depend on the class balance of the target variable and the use case of the model.\n",
        "\n",
        "First, examine the class balance of your target variable."
      ]
    },
    {
      "cell_type": "code",
      "execution_count": null,
      "metadata": {
        "colab": {
          "base_uri": "https://localhost:8080/"
        },
        "id": "4mRefXCF-K_c",
        "outputId": "4a0f5d9c-cd7a-4548-d607-5388d68c906e"
      },
      "outputs": [
        {
          "data": {
            "text/plain": [
              "retained    0.822645\n",
              "churned     0.177355\n",
              "Name: label, dtype: float64"
            ]
          },
          "execution_count": 19,
          "metadata": {},
          "output_type": "execute_result"
        }
      ],
      "source": [
        "# Get class balance of 'label' col\n",
        "df['label'].value_counts(normalize=True)"
      ]
    },
    {
      "cell_type": "markdown",
      "metadata": {
        "id": "jRehfuoyi6I2"
      },
      "source": [
        "Approximately 18% of the users in this dataset churned. This is an unbalanced dataset, but not extremely so. It can be modeled without any class rebalancing.\n",
        "\n",
        "Now, we should consider which evaluation metric is best. Remember, accuracy might not be the best gauge of performance because a model can have high accuracy on an imbalanced dataset and still fail to predict the minority class.\n",
        "\n",
        "It was already determined that the risks involved in making a false positive prediction are minimal. No one stands to get hurt, lose money, or suffer any other significant consequence if they are predicted to churn. Therefore, select the model based on the recall score."
      ]
    },
    {
      "cell_type": "markdown",
      "metadata": {
        "id": "3n1eikFh8akS"
      },
      "source": [
        "<img src=\"images/Construct.png\" width=\"100\" height=\"100\" align=left>\n",
        "\n",
        "## **PACE: Construct**\n",
        "Consider the questions in your PACE Strategy Document to reflect on the Construct stage."
      ]
    },
    {
      "cell_type": "markdown",
      "metadata": {
        "id": "G5jzGjOS8iiv"
      },
      "source": [
        "### **Task 8. Modeling workflow and model selection process**\n",
        "\n",
        "The final modeling dataset contains 14,299 samples. This is towards the lower end of what might be considered sufficient to conduct a robust model selection process, but still doable.\n",
        "\n",
        "1. Split the data into train/validation/test sets (60/20/20)\n",
        "\n",
        "Note that, when deciding the split ratio and whether or not to use a validation set to select a champion model, consider both how many samples will be in each data partition, and how many examples of the minority class each would therefore contain. In this case, a 60/20/20 split would result in \\~2,860 samples in the validation set and the same number in the test set, of which \\~18%&mdash;or 515 samples&mdash;would represent users who churn.\n",
        "\n",
        "2. Fit models and tune hyperparameters on the training set\n",
        "3. Perform final model selection on the validation set\n",
        "4. Assess the champion model's performance on the test set\n",
        "\n",
        "![](https://raw.githubusercontent.com/adacert/tiktok/main/optimal_model_flow_numbered.svg)"
      ]
    },
    {
      "cell_type": "markdown",
      "metadata": {
        "id": "Nx41bVxX89Fe"
      },
      "source": [
        "### **Task 9. Split the data**\n",
        "\n",
        "Now we're ready to model. The only remaining step is to split the data into features/target variable and training/validation/test sets.\n",
        "\n",
        "1. Define a variable `X` that isolates the features. Remember not to use `device`.\n",
        "\n",
        "2. Define a variable `y` that isolates the target variable (`label2`).\n",
        "\n",
        "3. Split the data 80/20 into an interim training set and a test set. Don't forget to stratify the splits, and set the random state to 42.\n",
        "\n",
        "4. Split the interim training set 75/25 into a training set and a validation set, yielding a final ratio of 60/20/20 for training/validation/test sets. Again, don't forget to stratify the splits and set the random state."
      ]
    },
    {
      "cell_type": "code",
      "execution_count": null,
      "metadata": {
        "id": "qLbapbSWDUL-"
      },
      "outputs": [],
      "source": [
        "# 1. Isolate X variables\n",
        "X = df.drop(columns=['label', 'label2', 'device'])\n",
        "\n",
        "# 2. Isolate y variable\n",
        "y = df['label2']\n",
        "\n",
        "# 3. Split into train and test sets\n",
        "X_tr, X_test, y_tr, y_test = train_test_split(X, y, stratify=y,\n",
        "                                              test_size=0.2, random_state=42)\n",
        "\n",
        "# 4. Split into train and validate sets\n",
        "X_train, X_val, y_train, y_val = train_test_split(X_tr, y_tr, stratify=y_tr,\n",
        "                                                  test_size=0.25, random_state=42)"
      ]
    },
    {
      "cell_type": "markdown",
      "metadata": {
        "id": "ZNQ5UCwtqsEC"
      },
      "source": [
        "Verify the number of samples in the partitioned data."
      ]
    },
    {
      "cell_type": "code",
      "execution_count": null,
      "metadata": {
        "colab": {
          "base_uri": "https://localhost:8080/"
        },
        "id": "QmUF9qGdq3RO",
        "outputId": "f971e6b3-1b47-4f5a-8564-693091b5acbb"
      },
      "outputs": [
        {
          "name": "stdout",
          "output_type": "stream",
          "text": [
            "8579\n",
            "2860\n",
            "2860\n"
          ]
        }
      ],
      "source": [
        "for x in [X_train, X_val, X_test]:\n",
        "    print(len(x))"
      ]
    },
    {
      "cell_type": "markdown",
      "metadata": {
        "id": "e2oQFKBcsYIt"
      },
      "source": [
        "This aligns with expectations."
      ]
    },
    {
      "cell_type": "markdown",
      "metadata": {
        "id": "fCHCDdW3swPj"
      },
      "source": [
        "### **Task 10. Modeling**"
      ]
    },
    {
      "cell_type": "markdown",
      "metadata": {
        "id": "vynZs5het1b_"
      },
      "source": [
        "#### **Random forest**\n",
        "\n",
        "we begin with using `GridSearchCV` to tune a random forest model.\n",
        "\n",
        "1. we instantiate the random forest classifier `rf` and set the random state.\n",
        "\n",
        "2. we create a dictionary `cv_params` of any of the following hyperparameters and their corresponding values to tune. The more we tune, the better our model will fit the data, but the longer it will take.\n",
        " - `max_depth`\n",
        " - `max_features`\n",
        " - `max_samples`\n",
        " - `min_samples_leaf`\n",
        " - `min_samples_split`\n",
        " - `n_estimators`\n",
        "\n",
        "3. we define a set `scoring` of scoring metrics for GridSearch to capture (precision, recall, F1 score, and accuracy).\n",
        "\n",
        "4. we instantiate the `GridSearchCV` object `rf_cv`. Pass to it as arguments:\n",
        " - estimator=`rf`\n",
        " - param_grid=`cv_params`\n",
        " - scoring=`scoring`\n",
        " - cv: define the number of cross-validation folds we want (`cv=_`)\n",
        " - refit: indicate which evaluation metric you want to use to select the model (`refit=_`)\n",
        "\n",
        " `refit` should be set to `'recall'`.<font/>\n"
      ]
    },
    {
      "cell_type": "markdown",
      "metadata": {
        "id": "vKlGZ-JV7P8N"
      },
      "source": [
        "**Note:** To save time, this exemplar doesn't use multiple values for each parameter in the grid search, but you should include a range of values in your search to home in on the best set of parameters."
      ]
    },
    {
      "cell_type": "code",
      "execution_count": null,
      "metadata": {
        "id": "Vj5rJWOv5O3d"
      },
      "outputs": [],
      "source": [
        "# 1. Instantiate the random forest classifier\n",
        "rf = RandomForestClassifier(random_state=42)\n",
        "\n",
        "# 2. Create a dictionary of hyperparameters to tune\n",
        "cv_params = {'max_depth': [None],\n",
        "             'max_features': [1.0],\n",
        "             'max_samples': [1.0],\n",
        "             'min_samples_leaf': [2],\n",
        "             'min_samples_split': [2],\n",
        "             'n_estimators': [300],\n",
        "             }\n",
        "\n",
        "# 3. Define a dictionary of scoring metrics to capture\n",
        "scoring = {'accuracy', 'precision', 'recall', 'f1'}\n",
        "\n",
        "# 4. Instantiate the GridSearchCV object\n",
        "rf_cv = GridSearchCV(rf, cv_params, scoring=scoring, cv=4, refit='recall')"
      ]
    },
    {
      "cell_type": "markdown",
      "metadata": {
        "id": "Wv_WvRA1RqTl"
      },
      "source": [
        "Now fit the model to the training data."
      ]
    },
    {
      "cell_type": "code",
      "execution_count": null,
      "metadata": {
        "colab": {
          "base_uri": "https://localhost:8080/",
          "height": 152
        },
        "id": "OXuBiTGi5ZHn",
        "outputId": "d3cc06bc-a926-4154-fa37-38a8abc2cf78"
      },
      "outputs": [
        {
          "name": "stdout",
          "output_type": "stream",
          "text": [
            "Wall time: 1min 13s\n"
          ]
        },
        {
          "data": {
            "text/plain": [
              "GridSearchCV(cv=4, estimator=RandomForestClassifier(random_state=42),\n",
              "             param_grid={'max_depth': [None], 'max_features': [1.0],\n",
              "                         'max_samples': [1.0], 'min_samples_leaf': [2],\n",
              "                         'min_samples_split': [2], 'n_estimators': [300]},\n",
              "             refit='recall', scoring={'accuracy', 'recall', 'f1', 'precision'})"
            ]
          },
          "execution_count": 23,
          "metadata": {},
          "output_type": "execute_result"
        }
      ],
      "source": [
        "%%time\n",
        "rf_cv.fit(X_train, y_train)"
      ]
    },
    {
      "cell_type": "markdown",
      "metadata": {
        "id": "QIaRiZW4hf-6"
      },
      "source": [
        "we examine now the best average score across all the validation folds."
      ]
    },
    {
      "cell_type": "code",
      "execution_count": null,
      "metadata": {
        "colab": {
          "base_uri": "https://localhost:8080/"
        },
        "id": "29kGUegqhviL",
        "outputId": "4d8f983e-56c5-4972-e346-f4fc1d8abf7f"
      },
      "outputs": [
        {
          "data": {
            "text/plain": [
              "0.11824492333195194"
            ]
          },
          "execution_count": 24,
          "metadata": {},
          "output_type": "execute_result"
        }
      ],
      "source": [
        "# Examine best score\n",
        "rf_cv.best_score_"
      ]
    },
    {
      "cell_type": "markdown",
      "metadata": {
        "id": "heGb51fHh3E5"
      },
      "source": [
        "we examine the best combination of hyperparameters."
      ]
    },
    {
      "cell_type": "code",
      "execution_count": null,
      "metadata": {
        "colab": {
          "base_uri": "https://localhost:8080/"
        },
        "id": "FjgXbO7Kh8is",
        "outputId": "71f45fbc-3809-4c52-f381-1b7ff28485fb"
      },
      "outputs": [
        {
          "data": {
            "text/plain": [
              "{'max_depth': None,\n",
              " 'max_features': 1.0,\n",
              " 'max_samples': 1.0,\n",
              " 'min_samples_leaf': 2,\n",
              " 'min_samples_split': 2,\n",
              " 'n_estimators': 300}"
            ]
          },
          "execution_count": 25,
          "metadata": {},
          "output_type": "execute_result"
        }
      ],
      "source": [
        "# Examine best hyperparameter combo\n",
        "rf_cv.best_params_"
      ]
    },
    {
      "cell_type": "markdown",
      "metadata": {
        "id": "qZZnem5yiAau"
      },
      "source": [
        "Use the `make_results()` function to output all of the scores of your model. Note that the function accepts three arguments."
      ]
    },
    {
      "cell_type": "markdown",
      "metadata": {
        "id": "GeW48TS742jN"
      },
      "source": [
        "\n",
        "\n",
        "To learn more about how this function accesses the cross-validation results, refer to the [`GridSearchCV` scikit-learn documentation](https://scikit-learn.org/stable/modules/generated/sklearn.model_selection.GridSearchCV.html?highlight=gridsearchcv#sklearn.model_selection.GridSearchCV) for the `cv_results_` attribute.\n",
        "\n"
      ]
    },
    {
      "cell_type": "code",
      "execution_count": null,
      "metadata": {
        "id": "u-UodWEOedxz"
      },
      "outputs": [],
      "source": [
        "def make_results(model_name:str, model_object, metric:str):\n",
        "    '''\n",
        "    Arguments:\n",
        "        model_name (string): what you want the model to be called in the output table\n",
        "        model_object: a fit GridSearchCV object\n",
        "        metric (string): precision, recall, f1, or accuracy\n",
        "\n",
        "    Returns a pandas df with the F1, recall, precision, and accuracy scores\n",
        "    for the model with the best mean 'metric' score across all validation folds.\n",
        "    '''\n",
        "\n",
        "    # Create dictionary that maps input metric to actual metric name in GridSearchCV\n",
        "    metric_dict = {'precision': 'mean_test_precision',\n",
        "                   'recall': 'mean_test_recall',\n",
        "                   'f1': 'mean_test_f1',\n",
        "                   'accuracy': 'mean_test_accuracy',\n",
        "                   }\n",
        "\n",
        "    # Get all the results from the CV and put them in a df\n",
        "    cv_results = pd.DataFrame(model_object.cv_results_)\n",
        "\n",
        "    # Isolate the row of the df with the max(metric) score\n",
        "    best_estimator_results = cv_results.iloc[cv_results[metric_dict[metric]].idxmax(), :]\n",
        "\n",
        "    # Extract accuracy, precision, recall, and f1 score from that row\n",
        "    f1 = best_estimator_results.mean_test_f1\n",
        "    recall = best_estimator_results.mean_test_recall\n",
        "    precision = best_estimator_results.mean_test_precision\n",
        "    accuracy = best_estimator_results.mean_test_accuracy\n",
        "\n",
        "    # Create table of results\n",
        "    table = pd.DataFrame({'model': [model_name],\n",
        "                          'precision': [precision],\n",
        "                          'recall': [recall],\n",
        "                          'F1': [f1],\n",
        "                          'accuracy': [accuracy],\n",
        "                          },\n",
        "                         )\n",
        "\n",
        "    return table"
      ]
    },
    {
      "cell_type": "markdown",
      "metadata": {
        "id": "uXrGy4AfKlR3"
      },
      "source": [
        "we pass the `GridSearch` object to the `make_results()` function."
      ]
    },
    {
      "cell_type": "code",
      "execution_count": null,
      "metadata": {
        "colab": {
          "base_uri": "https://localhost:8080/",
          "height": 81
        },
        "id": "qAYb2QigiT_h",
        "outputId": "11251365-28e6-4ffc-dee6-8b43d586370f"
      },
      "outputs": [
        {
          "data": {
            "text/html": [
              "<div>\n",
              "<style scoped>\n",
              "    .dataframe tbody tr th:only-of-type {\n",
              "        vertical-align: middle;\n",
              "    }\n",
              "\n",
              "    .dataframe tbody tr th {\n",
              "        vertical-align: top;\n",
              "    }\n",
              "\n",
              "    .dataframe thead th {\n",
              "        text-align: right;\n",
              "    }\n",
              "</style>\n",
              "<table border=\"1\" class=\"dataframe\">\n",
              "  <thead>\n",
              "    <tr style=\"text-align: right;\">\n",
              "      <th></th>\n",
              "      <th>model</th>\n",
              "      <th>precision</th>\n",
              "      <th>recall</th>\n",
              "      <th>F1</th>\n",
              "      <th>accuracy</th>\n",
              "    </tr>\n",
              "  </thead>\n",
              "  <tbody>\n",
              "    <tr>\n",
              "      <th>0</th>\n",
              "      <td>RF cv</td>\n",
              "      <td>0.453276</td>\n",
              "      <td>0.118245</td>\n",
              "      <td>0.187457</td>\n",
              "      <td>0.818394</td>\n",
              "    </tr>\n",
              "  </tbody>\n",
              "</table>\n",
              "</div>"
            ],
            "text/plain": [
              "   model  precision    recall        F1  accuracy\n",
              "0  RF cv   0.453276  0.118245  0.187457  0.818394"
            ]
          },
          "execution_count": 27,
          "metadata": {},
          "output_type": "execute_result"
        }
      ],
      "source": [
        "results = make_results('RF cv', rf_cv, 'recall')\n",
        "results"
      ]
    },
    {
      "cell_type": "markdown",
      "metadata": {
        "id": "23gOcTCGp4ix"
      },
      "source": [
        "Asside from the accuracy, the scores aren't that good. However, recall that when we built the logistic regression model in the last course the recall was \\~0.09, which means that this model has 33% better recall and about the same accuracy, and it was trained on less data.\n",
        "\n"
      ]
    },
    {
      "cell_type": "markdown",
      "metadata": {
        "id": "DOlktJ6l4Tgt"
      },
      "source": [
        "#### **XGBoost**\n",
        "\n",
        " we try to improve our scores using an XGBoost model.\n",
        "\n",
        "1. Instantiate the XGBoost classifier `xgb` and set `objective='binary:logistic'`. Also set the random state.\n",
        "\n",
        "2. Create a dictionary `cv_params` of the following hyperparameters and their corresponding values to tune:\n",
        " - `max_depth`\n",
        " - `min_child_weight`\n",
        " - `learning_rate`\n",
        " - `n_estimators`\n",
        "\n",
        "3. Define a set `scoring` of scoring metrics for grid search to capture (precision, recall, F1 score, and accuracy).\n",
        "\n",
        "4. Instantiate the `GridSearchCV` object `xgb_cv`. Pass to it as arguments:\n",
        " - estimator=`xgb`\n",
        " - param_grid=`cv_params`\n",
        " - scoring=`scoring`\n",
        " - cv: define the number of cross-validation folds you want (`cv=_`)\n",
        " - refit: indicate which evaluation metric you want to use to select the model (`refit='recall'`)"
      ]
    },
    {
      "cell_type": "code",
      "execution_count": null,
      "metadata": {
        "id": "0ciO48nhiTqO"
      },
      "outputs": [],
      "source": [
        "# 1. Instantiate the XGBoost classifier\n",
        "xgb = XGBClassifier(objective='binary:logistic', random_state=42)\n",
        "\n",
        "# 2. Create a dictionary of hyperparameters to tune\n",
        "cv_params = {'max_depth': [6, 12],\n",
        "             'min_child_weight': [3, 5],\n",
        "             'learning_rate': [0.01, 0.1],\n",
        "             'n_estimators': [300]\n",
        "             }\n",
        "\n",
        "# 3. Define a dictionary of scoring metrics to capture\n",
        "scoring = {'accuracy', 'precision', 'recall', 'f1'}\n",
        "\n",
        "# 4. Instantiate the GridSearchCV object\n",
        "xgb_cv = GridSearchCV(xgb, cv_params, scoring=scoring, cv=4, refit='recall')"
      ]
    },
    {
      "cell_type": "markdown",
      "metadata": {
        "id": "Y78-hQF9680x"
      },
      "source": [
        "Now fit the model to the `X_train` and `y_train` data.\n",
        "\n",
        "Note this cell might take several minutes to run."
      ]
    },
    {
      "cell_type": "code",
      "execution_count": null,
      "metadata": {
        "colab": {
          "base_uri": "https://localhost:8080/",
          "height": 152
        },
        "id": "dYCWs_HX6804",
        "outputId": "1b2eee5e-5efe-4cc4-ce38-5ad525bd12f5"
      },
      "outputs": [
        {
          "name": "stdout",
          "output_type": "stream",
          "text": [
            "Wall time: 23.3 s\n"
          ]
        },
        {
          "data": {
            "text/plain": [
              "GridSearchCV(cv=4,\n",
              "             estimator=XGBClassifier(base_score=None, booster=None,\n",
              "                                     callbacks=None, colsample_bylevel=None,\n",
              "                                     colsample_bynode=None,\n",
              "                                     colsample_bytree=None, device=None,\n",
              "                                     early_stopping_rounds=None,\n",
              "                                     enable_categorical=False, eval_metric=None,\n",
              "                                     feature_types=None, gamma=None,\n",
              "                                     grow_policy=None, importance_type=None,\n",
              "                                     interaction_constraints=None,\n",
              "                                     learning_rate=None,...\n",
              "                                     max_delta_step=None, max_depth=None,\n",
              "                                     max_leaves=None, min_child_weight=None,\n",
              "                                     missing=nan, monotone_constraints=None,\n",
              "                                     multi_strategy=None, n_estimators=None,\n",
              "                                     n_jobs=None, num_parallel_tree=None,\n",
              "                                     random_state=42, ...),\n",
              "             param_grid={'learning_rate': [0.01, 0.1], 'max_depth': [6, 12],\n",
              "                         'min_child_weight': [3, 5], 'n_estimators': [300]},\n",
              "             refit='recall', scoring={'accuracy', 'recall', 'f1', 'precision'})"
            ]
          },
          "execution_count": 29,
          "metadata": {},
          "output_type": "execute_result"
        }
      ],
      "source": [
        "%%time\n",
        "xgb_cv.fit(X_train, y_train)"
      ]
    },
    {
      "cell_type": "markdown",
      "metadata": {
        "id": "ruQISDB76805"
      },
      "source": [
        "we get the best score from this model."
      ]
    },
    {
      "cell_type": "code",
      "execution_count": null,
      "metadata": {
        "colab": {
          "base_uri": "https://localhost:8080/"
        },
        "id": "UFLTmIDm6805",
        "outputId": "5ad34e0a-4d4f-4e19-ebbd-182e3841e5eb"
      },
      "outputs": [
        {
          "data": {
            "text/plain": [
              "0.16884928857577014"
            ]
          },
          "execution_count": 34,
          "metadata": {},
          "output_type": "execute_result"
        }
      ],
      "source": [
        "# Examine best score\n",
        "xgb_cv.best_score_"
      ]
    },
    {
      "cell_type": "markdown",
      "metadata": {
        "id": "fwmWDuXZ6805"
      },
      "source": [
        "And the best parameters."
      ]
    },
    {
      "cell_type": "code",
      "execution_count": null,
      "metadata": {
        "colab": {
          "base_uri": "https://localhost:8080/"
        },
        "id": "cdPUCuND6805",
        "outputId": "c3b6a46d-8b01-44d7-cf23-3a858af9a124"
      },
      "outputs": [
        {
          "data": {
            "text/plain": [
              "{'learning_rate': 0.1,\n",
              " 'max_depth': 6,\n",
              " 'min_child_weight': 5,\n",
              " 'n_estimators': 300}"
            ]
          },
          "execution_count": 35,
          "metadata": {},
          "output_type": "execute_result"
        }
      ],
      "source": [
        "# Examine best parameters\n",
        "xgb_cv.best_params_"
      ]
    },
    {
      "cell_type": "markdown",
      "metadata": {
        "id": "X8v8HTmQ7KdC"
      },
      "source": [
        "Use the `make_results()` function to output all of the scores of your model. Note that the function accepts three arguments."
      ]
    },
    {
      "cell_type": "code",
      "execution_count": null,
      "metadata": {
        "colab": {
          "base_uri": "https://localhost:8080/",
          "height": 112
        },
        "id": "QL19dH2h7KdD",
        "outputId": "8ce25a62-38aa-4f5a-adfe-b8ff1906b9ce"
      },
      "outputs": [
        {
          "data": {
            "text/html": [
              "<div>\n",
              "<style scoped>\n",
              "    .dataframe tbody tr th:only-of-type {\n",
              "        vertical-align: middle;\n",
              "    }\n",
              "\n",
              "    .dataframe tbody tr th {\n",
              "        vertical-align: top;\n",
              "    }\n",
              "\n",
              "    .dataframe thead th {\n",
              "        text-align: right;\n",
              "    }\n",
              "</style>\n",
              "<table border=\"1\" class=\"dataframe\">\n",
              "  <thead>\n",
              "    <tr style=\"text-align: right;\">\n",
              "      <th></th>\n",
              "      <th>model</th>\n",
              "      <th>precision</th>\n",
              "      <th>recall</th>\n",
              "      <th>F1</th>\n",
              "      <th>accuracy</th>\n",
              "    </tr>\n",
              "  </thead>\n",
              "  <tbody>\n",
              "    <tr>\n",
              "      <th>0</th>\n",
              "      <td>RF cv</td>\n",
              "      <td>0.453276</td>\n",
              "      <td>0.118245</td>\n",
              "      <td>0.187457</td>\n",
              "      <td>0.818394</td>\n",
              "    </tr>\n",
              "    <tr>\n",
              "      <th>0</th>\n",
              "      <td>XGB cv</td>\n",
              "      <td>0.424946</td>\n",
              "      <td>0.168849</td>\n",
              "      <td>0.241423</td>\n",
              "      <td>0.811750</td>\n",
              "    </tr>\n",
              "  </tbody>\n",
              "</table>\n",
              "</div>"
            ],
            "text/plain": [
              "    model  precision    recall        F1  accuracy\n",
              "0   RF cv   0.453276  0.118245  0.187457  0.818394\n",
              "0  XGB cv   0.424946  0.168849  0.241423  0.811750"
            ]
          },
          "execution_count": 36,
          "metadata": {},
          "output_type": "execute_result"
        }
      ],
      "source": [
        "# Call 'make_results()' on the GridSearch object\n",
        "xgb_cv_results = make_results('XGB cv', xgb_cv, 'recall')\n",
        "results = pd.concat([results, xgb_cv_results], axis=0)\n",
        "results"
      ]
    },
    {
      "cell_type": "markdown",
      "metadata": {
        "id": "E07PKuetIKXy"
      },
      "source": [
        "This model fit the data even better than the random forest model. The recall score is nearly double the recall score from the logistic regression model from the previous course, and it's almost 50% better than the random forest model's recall score, while maintaining a similar accuracy and precision score."
      ]
    },
    {
      "cell_type": "markdown",
      "metadata": {
        "id": "MzY889AGI6-i"
      },
      "source": [
        "### **Task 11. Model selection**\n",
        "\n",
        "Now, we use the best random forest model and the best XGBoost model to predict on the validation data. Whichever performs better will be selected as the champion model."
      ]
    },
    {
      "cell_type": "markdown",
      "metadata": {
        "id": "Alc_1tAiJLPC"
      },
      "source": [
        "#### **Random forest**"
      ]
    },
    {
      "cell_type": "code",
      "execution_count": null,
      "metadata": {
        "id": "azbWZb7uJJgq"
      },
      "outputs": [],
      "source": [
        "# Use random forest model to predict on validation data\n",
        "rf_val_preds = rf_cv.best_estimator_.predict(X_val)"
      ]
    },
    {
      "cell_type": "markdown",
      "metadata": {
        "id": "yEm49hewKJEd"
      },
      "source": [
        "Use the `get_test_scores()` function to generate a table of scores from the predictions on the validation data."
      ]
    },
    {
      "cell_type": "code",
      "execution_count": null,
      "metadata": {
        "id": "-fQZSR3oKHpt"
      },
      "outputs": [],
      "source": [
        "def get_test_scores(model_name:str, preds, y_test_data):\n",
        "    '''\n",
        "    Generate a table of test scores.\n",
        "\n",
        "    In:\n",
        "        model_name (string): Your choice: how the model will be named in the output table\n",
        "        preds: numpy array of test predictions\n",
        "        y_test_data: numpy array of y_test data\n",
        "\n",
        "    Out:\n",
        "        table: a pandas df of precision, recall, f1, and accuracy scores for your model\n",
        "    '''\n",
        "    accuracy = accuracy_score(y_test_data, preds)\n",
        "    precision = precision_score(y_test_data, preds)\n",
        "    recall = recall_score(y_test_data, preds)\n",
        "    f1 = f1_score(y_test_data, preds)\n",
        "\n",
        "    table = pd.DataFrame({'model': [model_name],\n",
        "                          'precision': [precision],\n",
        "                          'recall': [recall],\n",
        "                          'F1': [f1],\n",
        "                          'accuracy': [accuracy]\n",
        "                          })\n",
        "\n",
        "    return table"
      ]
    },
    {
      "cell_type": "code",
      "execution_count": null,
      "metadata": {
        "colab": {
          "base_uri": "https://localhost:8080/",
          "height": 143
        },
        "id": "DQqutB5oKTiR",
        "outputId": "b2610818-a5f4-4b70-d621-2929fec96247"
      },
      "outputs": [
        {
          "data": {
            "text/html": [
              "<div>\n",
              "<style scoped>\n",
              "    .dataframe tbody tr th:only-of-type {\n",
              "        vertical-align: middle;\n",
              "    }\n",
              "\n",
              "    .dataframe tbody tr th {\n",
              "        vertical-align: top;\n",
              "    }\n",
              "\n",
              "    .dataframe thead th {\n",
              "        text-align: right;\n",
              "    }\n",
              "</style>\n",
              "<table border=\"1\" class=\"dataframe\">\n",
              "  <thead>\n",
              "    <tr style=\"text-align: right;\">\n",
              "      <th></th>\n",
              "      <th>model</th>\n",
              "      <th>precision</th>\n",
              "      <th>recall</th>\n",
              "      <th>F1</th>\n",
              "      <th>accuracy</th>\n",
              "    </tr>\n",
              "  </thead>\n",
              "  <tbody>\n",
              "    <tr>\n",
              "      <th>0</th>\n",
              "      <td>RF cv</td>\n",
              "      <td>0.453276</td>\n",
              "      <td>0.118245</td>\n",
              "      <td>0.187457</td>\n",
              "      <td>0.818394</td>\n",
              "    </tr>\n",
              "    <tr>\n",
              "      <th>0</th>\n",
              "      <td>XGB cv</td>\n",
              "      <td>0.424946</td>\n",
              "      <td>0.168849</td>\n",
              "      <td>0.241423</td>\n",
              "      <td>0.811750</td>\n",
              "    </tr>\n",
              "    <tr>\n",
              "      <th>0</th>\n",
              "      <td>RF val</td>\n",
              "      <td>0.431655</td>\n",
              "      <td>0.118343</td>\n",
              "      <td>0.185759</td>\n",
              "      <td>0.816084</td>\n",
              "    </tr>\n",
              "  </tbody>\n",
              "</table>\n",
              "</div>"
            ],
            "text/plain": [
              "    model  precision    recall        F1  accuracy\n",
              "0   RF cv   0.453276  0.118245  0.187457  0.818394\n",
              "0  XGB cv   0.424946  0.168849  0.241423  0.811750\n",
              "0  RF val   0.431655  0.118343  0.185759  0.816084"
            ]
          },
          "execution_count": 39,
          "metadata": {},
          "output_type": "execute_result"
        }
      ],
      "source": [
        "# Get validation scores for RF model\n",
        "rf_val_scores = get_test_scores('RF val', rf_val_preds, y_val)\n",
        "\n",
        "# Append to the results table\n",
        "results = pd.concat([results, rf_val_scores], axis=0)\n",
        "results"
      ]
    },
    {
      "cell_type": "markdown",
      "metadata": {
        "id": "zc8yRnlOKtOw"
      },
      "source": [
        "Notice that the scores went down from the training scores across all metrics, but only by very little. This means that the model did not overfit the training data."
      ]
    },
    {
      "cell_type": "markdown",
      "metadata": {
        "id": "sfsvYD-WLERK"
      },
      "source": [
        "#### **XGBoost**\n",
        "\n",
        "Now, we do the same thing to get the performance scores of the XGBoost model on the validation data."
      ]
    },
    {
      "cell_type": "code",
      "execution_count": null,
      "metadata": {
        "colab": {
          "base_uri": "https://localhost:8080/",
          "height": 206
        },
        "id": "hYMLd0anLNW7",
        "outputId": "5c590859-a71e-443a-8c7e-e8e2cce8aded"
      },
      "outputs": [
        {
          "data": {
            "text/html": [
              "<div>\n",
              "<style scoped>\n",
              "    .dataframe tbody tr th:only-of-type {\n",
              "        vertical-align: middle;\n",
              "    }\n",
              "\n",
              "    .dataframe tbody tr th {\n",
              "        vertical-align: top;\n",
              "    }\n",
              "\n",
              "    .dataframe thead th {\n",
              "        text-align: right;\n",
              "    }\n",
              "</style>\n",
              "<table border=\"1\" class=\"dataframe\">\n",
              "  <thead>\n",
              "    <tr style=\"text-align: right;\">\n",
              "      <th></th>\n",
              "      <th>model</th>\n",
              "      <th>precision</th>\n",
              "      <th>recall</th>\n",
              "      <th>F1</th>\n",
              "      <th>accuracy</th>\n",
              "    </tr>\n",
              "  </thead>\n",
              "  <tbody>\n",
              "    <tr>\n",
              "      <th>0</th>\n",
              "      <td>RF cv</td>\n",
              "      <td>0.453276</td>\n",
              "      <td>0.118245</td>\n",
              "      <td>0.187457</td>\n",
              "      <td>0.818394</td>\n",
              "    </tr>\n",
              "    <tr>\n",
              "      <th>0</th>\n",
              "      <td>XGB cv</td>\n",
              "      <td>0.424946</td>\n",
              "      <td>0.168849</td>\n",
              "      <td>0.241423</td>\n",
              "      <td>0.811750</td>\n",
              "    </tr>\n",
              "    <tr>\n",
              "      <th>0</th>\n",
              "      <td>RF val</td>\n",
              "      <td>0.431655</td>\n",
              "      <td>0.118343</td>\n",
              "      <td>0.185759</td>\n",
              "      <td>0.816084</td>\n",
              "    </tr>\n",
              "    <tr>\n",
              "      <th>0</th>\n",
              "      <td>XGB val</td>\n",
              "      <td>0.407407</td>\n",
              "      <td>0.151874</td>\n",
              "      <td>0.221264</td>\n",
              "      <td>0.810490</td>\n",
              "    </tr>\n",
              "  </tbody>\n",
              "</table>\n",
              "</div>"
            ],
            "text/plain": [
              "     model  precision    recall        F1  accuracy\n",
              "0    RF cv   0.453276  0.118245  0.187457  0.818394\n",
              "0   XGB cv   0.424946  0.168849  0.241423  0.811750\n",
              "0   RF val   0.431655  0.118343  0.185759  0.816084\n",
              "0  XGB val   0.407407  0.151874  0.221264  0.810490"
            ]
          },
          "execution_count": 40,
          "metadata": {},
          "output_type": "execute_result"
        }
      ],
      "source": [
        "# Use XGBoost model to predict on validation data\n",
        "xgb_val_preds = xgb_cv.best_estimator_.predict(X_val)\n",
        "\n",
        "# Get validation scores for XGBoost model\n",
        "xgb_val_scores = get_test_scores('XGB val', xgb_val_preds, y_val)\n",
        "\n",
        "# Append to the results table\n",
        "results = pd.concat([results, xgb_val_scores], axis=0)\n",
        "results"
      ]
    },
    {
      "cell_type": "markdown",
      "metadata": {
        "id": "liy_kCVUL554"
      },
      "source": [
        "Just like with the random forest model, the XGBoost model's validation scores were lower, but only very slightly. It is still the clear champion."
      ]
    },
    {
      "cell_type": "markdown",
      "metadata": {
        "id": "_HGsWfEOeWPm"
      },
      "source": [
        "<img src=\"images/Execute.png\" width=\"100\" height=\"100\" align=left>\n",
        "\n",
        "## **PACE: Execute**\n",
        "Consider the questions in your PACE Strategy Document to reflect on the Execute stage."
      ]
    },
    {
      "cell_type": "markdown",
      "metadata": {
        "id": "pfwQZbiDMGep"
      },
      "source": [
        "### **Task 12. Use champion model to predict on test data**\n",
        "\n",
        "Now, we use the champion model to predict on the test dataset. This is to give a final indication of how we should expect the model to perform on new future data, should we  decide to use the model."
      ]
    },
    {
      "cell_type": "code",
      "execution_count": null,
      "metadata": {
        "colab": {
          "base_uri": "https://localhost:8080/",
          "height": 237
        },
        "id": "Xv_wq5MFNESP",
        "outputId": "eb51938a-460f-4708-ff80-f34deb6aa691"
      },
      "outputs": [
        {
          "data": {
            "text/html": [
              "<div>\n",
              "<style scoped>\n",
              "    .dataframe tbody tr th:only-of-type {\n",
              "        vertical-align: middle;\n",
              "    }\n",
              "\n",
              "    .dataframe tbody tr th {\n",
              "        vertical-align: top;\n",
              "    }\n",
              "\n",
              "    .dataframe thead th {\n",
              "        text-align: right;\n",
              "    }\n",
              "</style>\n",
              "<table border=\"1\" class=\"dataframe\">\n",
              "  <thead>\n",
              "    <tr style=\"text-align: right;\">\n",
              "      <th></th>\n",
              "      <th>model</th>\n",
              "      <th>precision</th>\n",
              "      <th>recall</th>\n",
              "      <th>F1</th>\n",
              "      <th>accuracy</th>\n",
              "    </tr>\n",
              "  </thead>\n",
              "  <tbody>\n",
              "    <tr>\n",
              "      <th>0</th>\n",
              "      <td>RF cv</td>\n",
              "      <td>0.453276</td>\n",
              "      <td>0.118245</td>\n",
              "      <td>0.187457</td>\n",
              "      <td>0.818394</td>\n",
              "    </tr>\n",
              "    <tr>\n",
              "      <th>0</th>\n",
              "      <td>XGB cv</td>\n",
              "      <td>0.424946</td>\n",
              "      <td>0.168849</td>\n",
              "      <td>0.241423</td>\n",
              "      <td>0.811750</td>\n",
              "    </tr>\n",
              "    <tr>\n",
              "      <th>0</th>\n",
              "      <td>RF val</td>\n",
              "      <td>0.431655</td>\n",
              "      <td>0.118343</td>\n",
              "      <td>0.185759</td>\n",
              "      <td>0.816084</td>\n",
              "    </tr>\n",
              "    <tr>\n",
              "      <th>0</th>\n",
              "      <td>XGB val</td>\n",
              "      <td>0.407407</td>\n",
              "      <td>0.151874</td>\n",
              "      <td>0.221264</td>\n",
              "      <td>0.810490</td>\n",
              "    </tr>\n",
              "    <tr>\n",
              "      <th>0</th>\n",
              "      <td>XGB test</td>\n",
              "      <td>0.414634</td>\n",
              "      <td>0.167653</td>\n",
              "      <td>0.238764</td>\n",
              "      <td>0.810490</td>\n",
              "    </tr>\n",
              "  </tbody>\n",
              "</table>\n",
              "</div>"
            ],
            "text/plain": [
              "      model  precision    recall        F1  accuracy\n",
              "0     RF cv   0.453276  0.118245  0.187457  0.818394\n",
              "0    XGB cv   0.424946  0.168849  0.241423  0.811750\n",
              "0    RF val   0.431655  0.118343  0.185759  0.816084\n",
              "0   XGB val   0.407407  0.151874  0.221264  0.810490\n",
              "0  XGB test   0.414634  0.167653  0.238764  0.810490"
            ]
          },
          "execution_count": 41,
          "metadata": {},
          "output_type": "execute_result"
        }
      ],
      "source": [
        "# Use XGBoost model to predict on test data\n",
        "xgb_test_preds = xgb_cv.best_estimator_.predict(X_test)\n",
        "\n",
        "# Get test scores for XGBoost model\n",
        "xgb_test_scores = get_test_scores('XGB test', xgb_test_preds, y_test)\n",
        "\n",
        "# Append to the results table\n",
        "results = pd.concat([results, xgb_test_scores], axis=0)\n",
        "results"
      ]
    },
    {
      "cell_type": "markdown",
      "metadata": {
        "id": "zx58S1lKNcFd"
      },
      "source": [
        "The recall was exactly the same as it was on the validation data, but the precision declined notably, which caused all of the other scores to drop slightly. Nonetheless, this is stil within the acceptable range for performance discrepancy between validation and test scores."
      ]
    },
    {
      "cell_type": "markdown",
      "metadata": {
        "id": "eCNH80Ku9TpO"
      },
      "source": [
        "### **Task 13. Confusion matrix**\n",
        "\n",
        "we Plot a confusion matrix of the champion model's predictions on the test data."
      ]
    },
    {
      "cell_type": "code",
      "execution_count": null,
      "metadata": {
        "colab": {
          "base_uri": "https://localhost:8080/",
          "height": 449
        },
        "id": "5iUyZWjWvqOd",
        "outputId": "f518c15d-80da-44e2-bf85-08df6e75c9a9"
      },
      "outputs": [
        {
          "data": {
            "image/png": "[encoded data removed]",
            "text/plain": [
              "<Figure size 640x480 with 2 Axes>"
            ]
          },
          "metadata": {},
          "output_type": "display_data"
        }
      ],
      "source": [
        "# Generate array of values for confusion matrix\n",
        "cm = confusion_matrix(y_test, xgb_test_preds, labels=xgb_cv.classes_)\n",
        "\n",
        "# Plot confusion matrix\n",
        "disp = ConfusionMatrixDisplay(confusion_matrix=cm,\n",
        "                             display_labels=['retained', 'churned'])\n",
        "disp.plot();"
      ]
    },
    {
      "cell_type": "markdown",
      "metadata": {
        "id": "pGM3eNUnO5wT"
      },
      "source": [
        "The model predicted three times as many false negatives than it did false positives, and it correctly identified only 16.6% of the users who actually churned."
      ]
    },
    {
      "cell_type": "markdown",
      "metadata": {
        "id": "XNexnwvy09PK"
      },
      "source": [
        "### **Task 14. Feature importance**\n",
        "\n",
        "now we use the `plot_importance` function to inspect the most important features of our final model."
      ]
    },
    {
      "cell_type": "code",
      "execution_count": null,
      "metadata": {
        "colab": {
          "base_uri": "https://localhost:8080/",
          "height": 472
        },
        "id": "kz5T1gHc1R2x",
        "outputId": "b23bc696-568e-4fa7-90e3-eb475dcd8e7c"
      },
      "outputs": [
        {
          "data": {
            "image/png": "[encoded data removed]",
            "text/plain": [
              "<Figure size 640x480 with 1 Axes>"
            ]
          },
          "metadata": {},
          "output_type": "display_data"
        }
      ],
      "source": [
        "plot_importance(xgb_cv.best_estimator_);"
      ]
    },
    {
      "cell_type": "markdown",
      "metadata": {
        "id": "YN6iHrIHQ9Ot"
      },
      "source": [
        "The XGBoost model made more use of many of the features than did the logistic regression model from the previous course, which weighted a single feature (`activity_days`) very heavily in its final prediction.\n",
        "\n",
        "If anything, this underscores the importance of feature engineering. Notice that engineered features accounted for six of the top 10 features (and three of the top five). Feature engineering is often one of the best and easiest ways to boost model performance.\n",
        "\n",
        "Also, note that the important features in one model might not be the same as the important features in another model. That's why we shouldn't discount features as unimportant without thoroughly examining them and understanding their relationship with the dependent variable, if possible. These discrepancies between features selected by models are typically caused by complex feature interactions.\n",
        "\n",
        "Remember, sometimes our data simply will not be predictive of our chosen target. This is common. Machine learning is a powerful tool, but it is not magic. If our data does not contain predictive signal, even the most complex algorithm will not be able to deliver consistent and accurate predictions. Do not be afraid to draw this conclusion.\n",
        "\n",
        "Even if we cannot use the model to make strong predictions, was the work done in vain? What insights can we report back to stakeholders?"
      ]
    },
    {
      "cell_type": "markdown",
      "metadata": {
        "id": "IG-TNPtJSggx"
      },
      "source": [
        "### **Task 15. Conclusion**\n",
        "\n",
        "Now that we've built and tested our machine learning models, the next step is to share our findings with the Waze leadership team. we should Consider the following questions as we prepare to write your executive summary. Think about key points we may want to share with the team, and what information is most relevant to the user churn project.\n",
        "\n",
        "**Questions:**\n",
        "\n",
        "1. Would you recommend using this model for churn prediction? Why or why not?\n",
        "\n",
        "> _It depends. What would the model be used for? If it's used to drive consequential business decisions, then no. The model is not a strong enough predictor, as made clear by its poor recall score. However, if the model is only being used to guide further exploratory efforts, then it can have value._\n",
        "\n",
        "2. What tradeoff was made by splitting the data into training, validation, and test sets as opposed to just training and test sets?\n",
        "\n",
        "> _Splitting the data three ways means that there is less data available to train the model than splitting just two ways. However, performing model selection on a separate validation set enables testing of the champion model by itself on the test set, which gives a better estimate of future performance than splitting the data two ways and selecting a champion model by performance on the test data._\n",
        "\n",
        "3. What is the benefit of using a logistic regression model over an ensemble of tree-based models (like random forest or XGBoost) for classification tasks?\n",
        "\n",
        "> _Logistic regression models are easier to interpret. Because they assign coefficients to predictor variables, they reveal not only which features factored most heavily into their final predictions, but also the directionality of the weight. In other words, they tell you if each feature is positively or negatively correlated with the target in the model's final prediction._\n",
        "\n",
        "4. What is the benefit of using an ensemble of tree-based models like random forest or XGBoost over a logistic regression model for classification tasks?\n",
        "\n",
        "> _Tree-based model ensembles are often better predictors. If the most important thing is the predictive power of the model, then tree-based modeling will usually win out against logistic regression (but not always!). They also require much less data cleaning and require fewer assumptions about the underlying distributions of their predictor variables, so they're easier to work with._\n",
        "\n",
        "5. What could you do to improve this model?\n",
        "\n",
        "> _New features could be engineered to try to generate better predictive signal, as they often do if you have domain knowledge. In the case of this model, the engineered features made up over half of the top 10 most-predictive features used by the model. It could also be helpful to reconstruct the model with different combinations of predictor variables to reduce noise from unpredictive features._\n",
        "\n",
        "6. What additional features would you like to have to help improve the model?\n",
        "\n",
        "> _It would be helpful to have drive-level information for each user (such as drive times, geographic locations, etc.). It would probably also be helpful to have more granular data to know how users interact with the app. For example, how often do they report or confirm road hazard alerts? Finally, it could be helpful to know the monthly count of unique starting and ending locations each driver inputs._\n"
      ]
    },
    {
      "cell_type": "markdown",
      "metadata": {
        "id": "-GbDEybFxqll"
      },
      "source": [
        "### **BONUS**\n",
        "\n"
      ]
    },
    {
      "cell_type": "markdown",
      "metadata": {
        "id": "oCTOT_jmx3zQ"
      },
      "source": [
        "#### **Identify an optimal decision threshold**\n",
        "\n",
        "The default decision threshold for most implementations of classification algorithms&mdash;including scikit-learn's&mdash;is 0.5. This means that, in the case of the Waze models, if they predicted that a given user had a 50% probability or greater of churning, then that user was assigned a predicted value of `1`&mdash;the user was predicted to churn.\n",
        "\n",
        "With imbalanced datasets where the response class is a minority, this threshold might not be ideal. You learned that a precision-recall curve can help to visualize the trade-off between our model's precision and recall.\n",
        "\n",
        "Here's the precision-recall curve for the XGBoost champion model on the test data."
      ]
    },
    {
      "cell_type": "code",
      "execution_count": null,
      "metadata": {
        "colab": {
          "base_uri": "https://localhost:8080/",
          "height": 472
        },
        "id": "1O-wtdO4aVjQ",
        "outputId": "b5cf5219-e732-403e-a870-bce67b466440"
      },
      "outputs": [
        {
          "data": {
            "image/png": "[encoded data removed]",
            "text/plain": [
              "<Figure size 640x480 with 1 Axes>"
            ]
          },
          "metadata": {},
          "output_type": "display_data"
        }
      ],
      "source": [
        "# Plot precision-recall curve\n",
        "display = PrecisionRecallDisplay.from_estimator(\n",
        "    xgb_cv.best_estimator_, X_test, y_test, name='XGBoost'\n",
        "    )\n",
        "plt.title('Precision-recall curve, XGBoost model');"
      ]
    },
    {
      "cell_type": "markdown",
      "metadata": {
        "id": "OKCJsLCZz-WK"
      },
      "source": [
        "As recall increases, precision decreases. But what if we determined that false positives aren't much of a problem? For example, in the case of this Waze project, a false positive could just mean that a user who will not actually churn gets an email and a banner notification on their phone. It's very low risk.\n",
        "\n",
        "So, what if instead of using the default 0.5 decision threshold of the model, we used a lower threshold?\n",
        "\n",
        "Here's an example where the threshold is set to 0.4:"
      ]
    },
    {
      "cell_type": "code",
      "execution_count": null,
      "metadata": {
        "colab": {
          "base_uri": "https://localhost:8080/"
        },
        "id": "ZDk0uQidXPCm",
        "outputId": "3d67df24-53ba-4dec-92c7-14fe148615b7"
      },
      "outputs": [
        {
          "data": {
            "text/plain": [
              "array([[0.92399234, 0.07600766],\n",
              "       [0.6166245 , 0.38337556],\n",
              "       [0.9713162 , 0.02868376],\n",
              "       ...,\n",
              "       [0.82623506, 0.17376493],\n",
              "       [0.9395529 , 0.06044707],\n",
              "       [0.7316962 , 0.2683038 ]], dtype=float32)"
            ]
          },
          "execution_count": 45,
          "metadata": {},
          "output_type": "execute_result"
        }
      ],
      "source": [
        "# Get predicted probabilities on the test data\n",
        "predicted_probabilities = xgb_cv.best_estimator_.predict_proba(X_test)\n",
        "predicted_probabilities"
      ]
    },
    {
      "cell_type": "markdown",
      "metadata": {
        "id": "r7fHWPFP1nuK"
      },
      "source": [
        "The `predict_proba()` method returns a 2-D array of probabilities where each row represents a user. The first number in the row is the probability of belonging to the negative class, the second number in the row is the probability of belonging to the positive class. (Notice that the two numbers in each row are complimentary to each other and sum to one.)\n",
        "\n",
        "we can generate new predictions based on this array of probabilities by changing the decision threshold for what is considered a positive response. For example, the following code converts the predicted probabilities to {0, 1} predictions with a threshold of 0.4. In other words, any users who have a value ≥ 0.4 in the second column will get assigned a prediction of `1`, indicating that they churned."
      ]
    },
    {
      "cell_type": "code",
      "execution_count": null,
      "metadata": {
        "colab": {
          "base_uri": "https://localhost:8080/"
        },
        "id": "L1oUKOk01jto",
        "outputId": "d1d26d76-c072-4c33-8d17-6e3fa3938612"
      },
      "outputs": [
        {
          "data": {
            "text/plain": [
              "array([0, 0, 0, ..., 0, 0, 0])"
            ]
          },
          "execution_count": 46,
          "metadata": {},
          "output_type": "execute_result"
        }
      ],
      "source": [
        "# Create a list of just the second column values (probability of target)\n",
        "probs = [x[1] for x in predicted_probabilities]\n",
        "\n",
        "# Create an array of new predictions that assigns a 1 to any value >= 0.4\n",
        "new_preds = np.array([1 if x >= 0.4 else 0 for x in probs])\n",
        "new_preds"
      ]
    },
    {
      "cell_type": "code",
      "execution_count": null,
      "metadata": {
        "colab": {
          "base_uri": "https://localhost:8080/",
          "height": 81
        },
        "id": "07hNA_vWX89R",
        "outputId": "3195c5d6-5525-4ca5-b3ed-c7d164456efd"
      },
      "outputs": [
        {
          "data": {
            "text/html": [
              "<div>\n",
              "<style scoped>\n",
              "    .dataframe tbody tr th:only-of-type {\n",
              "        vertical-align: middle;\n",
              "    }\n",
              "\n",
              "    .dataframe tbody tr th {\n",
              "        vertical-align: top;\n",
              "    }\n",
              "\n",
              "    .dataframe thead th {\n",
              "        text-align: right;\n",
              "    }\n",
              "</style>\n",
              "<table border=\"1\" class=\"dataframe\">\n",
              "  <thead>\n",
              "    <tr style=\"text-align: right;\">\n",
              "      <th></th>\n",
              "      <th>model</th>\n",
              "      <th>precision</th>\n",
              "      <th>recall</th>\n",
              "      <th>F1</th>\n",
              "      <th>accuracy</th>\n",
              "    </tr>\n",
              "  </thead>\n",
              "  <tbody>\n",
              "    <tr>\n",
              "      <th>0</th>\n",
              "      <td>XGB, threshold = 0.4</td>\n",
              "      <td>0.393064</td>\n",
              "      <td>0.268245</td>\n",
              "      <td>0.318875</td>\n",
              "      <td>0.796853</td>\n",
              "    </tr>\n",
              "  </tbody>\n",
              "</table>\n",
              "</div>"
            ],
            "text/plain": [
              "                  model  precision    recall        F1  accuracy\n",
              "0  XGB, threshold = 0.4   0.393064  0.268245  0.318875  0.796853"
            ]
          },
          "execution_count": 47,
          "metadata": {},
          "output_type": "execute_result"
        }
      ],
      "source": [
        "# Get evaluation metrics for when the threshold is 0.4\n",
        "get_test_scores('XGB, threshold = 0.4', new_preds, y_test)"
      ]
    },
    {
      "cell_type": "markdown",
      "metadata": {
        "id": "yrmt8F_u3oWo"
      },
      "source": [
        "Compare these numbers with the results from earlier."
      ]
    },
    {
      "cell_type": "code",
      "execution_count": null,
      "metadata": {
        "colab": {
          "base_uri": "https://localhost:8080/",
          "height": 237
        },
        "id": "1NEjKjHk3uyy",
        "outputId": "8838fa2a-2af7-41cb-cf7a-0d0c8e7d3ed6"
      },
      "outputs": [
        {
          "data": {
            "text/html": [
              "<div>\n",
              "<style scoped>\n",
              "    .dataframe tbody tr th:only-of-type {\n",
              "        vertical-align: middle;\n",
              "    }\n",
              "\n",
              "    .dataframe tbody tr th {\n",
              "        vertical-align: top;\n",
              "    }\n",
              "\n",
              "    .dataframe thead th {\n",
              "        text-align: right;\n",
              "    }\n",
              "</style>\n",
              "<table border=\"1\" class=\"dataframe\">\n",
              "  <thead>\n",
              "    <tr style=\"text-align: right;\">\n",
              "      <th></th>\n",
              "      <th>model</th>\n",
              "      <th>precision</th>\n",
              "      <th>recall</th>\n",
              "      <th>F1</th>\n",
              "      <th>accuracy</th>\n",
              "    </tr>\n",
              "  </thead>\n",
              "  <tbody>\n",
              "    <tr>\n",
              "      <th>0</th>\n",
              "      <td>RF cv</td>\n",
              "      <td>0.453276</td>\n",
              "      <td>0.118245</td>\n",
              "      <td>0.187457</td>\n",
              "      <td>0.818394</td>\n",
              "    </tr>\n",
              "    <tr>\n",
              "      <th>0</th>\n",
              "      <td>XGB cv</td>\n",
              "      <td>0.424946</td>\n",
              "      <td>0.168849</td>\n",
              "      <td>0.241423</td>\n",
              "      <td>0.811750</td>\n",
              "    </tr>\n",
              "    <tr>\n",
              "      <th>0</th>\n",
              "      <td>RF val</td>\n",
              "      <td>0.431655</td>\n",
              "      <td>0.118343</td>\n",
              "      <td>0.185759</td>\n",
              "      <td>0.816084</td>\n",
              "    </tr>\n",
              "    <tr>\n",
              "      <th>0</th>\n",
              "      <td>XGB val</td>\n",
              "      <td>0.407407</td>\n",
              "      <td>0.151874</td>\n",
              "      <td>0.221264</td>\n",
              "      <td>0.810490</td>\n",
              "    </tr>\n",
              "    <tr>\n",
              "      <th>0</th>\n",
              "      <td>XGB test</td>\n",
              "      <td>0.414634</td>\n",
              "      <td>0.167653</td>\n",
              "      <td>0.238764</td>\n",
              "      <td>0.810490</td>\n",
              "    </tr>\n",
              "  </tbody>\n",
              "</table>\n",
              "</div>"
            ],
            "text/plain": [
              "      model  precision    recall        F1  accuracy\n",
              "0     RF cv   0.453276  0.118245  0.187457  0.818394\n",
              "0    XGB cv   0.424946  0.168849  0.241423  0.811750\n",
              "0    RF val   0.431655  0.118343  0.185759  0.816084\n",
              "0   XGB val   0.407407  0.151874  0.221264  0.810490\n",
              "0  XGB test   0.414634  0.167653  0.238764  0.810490"
            ]
          },
          "execution_count": 48,
          "metadata": {},
          "output_type": "execute_result"
        }
      ],
      "source": [
        "results"
      ]
    },
    {
      "cell_type": "markdown",
      "metadata": {
        "id": "cvNso4XQ32vJ"
      },
      "source": [
        "Recall and F1 score increased significantly, while precision and accuracy decreased marginally.\n",
        "\n",
        "So, using the precision-recall curve as a guide, suppose we knew that we'd be satisfied if the model had a recall score of 0.5 and we were willing to accept the \\~30% precision score that comes with it. In other words, we'd be happy if the model successfully identified half of the people who will actually churn, even if it means that when the model says someone will churn, it's only correct about 30% of the time.\n",
        "\n",
        "What threshold will yield this result? There are a number of ways to determine this. Here's one way that uses a function to accomplish this."
      ]
    },
    {
      "cell_type": "code",
      "execution_count": null,
      "metadata": {
        "id": "T0hCeZUzgvzb"
      },
      "outputs": [],
      "source": [
        "def threshold_finder(y_test_data, probabilities, desired_recall):\n",
        "    '''\n",
        "    Find the decision threshold that most closely yields a desired recall score.\n",
        "\n",
        "    Inputs:\n",
        "        y_test_data: Array of true y values\n",
        "        probabilities: The results of the `predict_proba()` model method\n",
        "        desired_recall: The recall that you want the model to have\n",
        "\n",
        "    Outputs:\n",
        "        threshold: The decision threshold that most closely yields the desired recall\n",
        "        recall: The exact recall score associated with `threshold`\n",
        "    '''\n",
        "    probs = [x[1] for x in probabilities]  # Isolate second column of `probabilities`\n",
        "    thresholds = np.arange(0, 1, 0.001)    # Set a grid of 1,000 thresholds to test\n",
        "\n",
        "    scores = []\n",
        "    for threshold in thresholds:\n",
        "        # Create a new array of {0, 1} predictions based on new threshold\n",
        "        preds = np.array([1 if x >= threshold else 0 for x in probs])\n",
        "        # Calculate recall score for that threshold\n",
        "        recall = recall_score(y_test_data, preds)\n",
        "        # Append the threshold and its corresponding recall score as a tuple to `scores`\n",
        "        scores.append((threshold, recall))\n",
        "\n",
        "    distances = []\n",
        "    for idx, score in enumerate(scores):\n",
        "        # Calculate how close each actual score is to the desired score\n",
        "        distance = abs(score[1] - desired_recall)\n",
        "        # Append the (index#, distance) tuple to `distances`\n",
        "        distances.append((idx, distance))\n",
        "\n",
        "    # Sort `distances` by the second value in each of its tuples (least to greatest)\n",
        "    sorted_distances = sorted(distances, key=lambda x: x[1], reverse=False)\n",
        "    # Identify the tuple with the actual recall closest to desired recall\n",
        "    best = sorted_distances[0]\n",
        "    # Isolate the index of the threshold with the closest recall score\n",
        "    best_idx = best[0]\n",
        "    # Retrieve the threshold and actual recall score closest to desired recall\n",
        "    threshold, recall = scores[best_idx]\n",
        "\n",
        "    return threshold, recall\n"
      ]
    },
    {
      "cell_type": "markdown",
      "metadata": {
        "id": "Im8ghkColyQA"
      },
      "source": [
        "Now, test the function to find the threshold that results in a recall score closest to 0.5."
      ]
    },
    {
      "cell_type": "code",
      "execution_count": null,
      "metadata": {
        "colab": {
          "base_uri": "https://localhost:8080/"
        },
        "id": "VADl9VsHqv9S",
        "outputId": "1fc4ee50-092a-430f-9fc1-12d6cd10567b"
      },
      "outputs": [
        {
          "data": {
            "text/plain": [
              "(0.211, 0.5029585798816568)"
            ]
          },
          "execution_count": 50,
          "metadata": {},
          "output_type": "execute_result"
        }
      ],
      "source": [
        "# Get the predicted probabilities from the champion model\n",
        "probabilities = xgb_cv.best_estimator_.predict_proba(X_test)\n",
        "\n",
        "# Call the function\n",
        "threshold_finder(y_test, probabilities, 0.5)"
      ]
    },
    {
      "cell_type": "markdown",
      "metadata": {
        "id": "09LHYz5pmmYq"
      },
      "source": [
        "Setting a threshold of 0.124 will result in a recall of 0.503.\n",
        "\n",
        "To verify, we can repeat the steps performed earlier to get the other evaluation metrics for when the model has a threshold of 0.124. Based on the precision-recall curve, a 0.5 recall score should have a precision of \\~0.3."
      ]
    },
    {
      "cell_type": "code",
      "execution_count": null,
      "metadata": {
        "colab": {
          "base_uri": "https://localhost:8080/",
          "height": 81
        },
        "id": "K-8cGALHnTwi",
        "outputId": "b76d85e5-a10b-4e3e-a52a-d87e0f01e634"
      },
      "outputs": [
        {
          "data": {
            "text/html": [
              "<div>\n",
              "<style scoped>\n",
              "    .dataframe tbody tr th:only-of-type {\n",
              "        vertical-align: middle;\n",
              "    }\n",
              "\n",
              "    .dataframe tbody tr th {\n",
              "        vertical-align: top;\n",
              "    }\n",
              "\n",
              "    .dataframe thead th {\n",
              "        text-align: right;\n",
              "    }\n",
              "</style>\n",
              "<table border=\"1\" class=\"dataframe\">\n",
              "  <thead>\n",
              "    <tr style=\"text-align: right;\">\n",
              "      <th></th>\n",
              "      <th>model</th>\n",
              "      <th>precision</th>\n",
              "      <th>recall</th>\n",
              "      <th>F1</th>\n",
              "      <th>accuracy</th>\n",
              "    </tr>\n",
              "  </thead>\n",
              "  <tbody>\n",
              "    <tr>\n",
              "      <th>0</th>\n",
              "      <td>XGB, threshold = 0.124</td>\n",
              "      <td>0.273995</td>\n",
              "      <td>0.658777</td>\n",
              "      <td>0.387022</td>\n",
              "      <td>0.63007</td>\n",
              "    </tr>\n",
              "  </tbody>\n",
              "</table>\n",
              "</div>"
            ],
            "text/plain": [
              "                    model  precision    recall        F1  accuracy\n",
              "0  XGB, threshold = 0.124   0.273995  0.658777  0.387022   0.63007"
            ]
          },
          "execution_count": 51,
          "metadata": {},
          "output_type": "execute_result"
        }
      ],
      "source": [
        "# Create an array of new predictions that assigns a 1 to any value >= 0.124\n",
        "probs = [x[1] for x in probabilities]\n",
        "new_preds = np.array([1 if x >= 0.124 else 0 for x in probs])\n",
        "\n",
        "# Get evaluation metrics for when the threshold is 0.124\n",
        "get_test_scores('XGB, threshold = 0.124', new_preds, y_test)"
      ]
    },
    {
      "cell_type": "markdown",
      "metadata": {
        "id": "gwZs_YN8oEKy"
      },
      "source": [
        "It worked! Hopefully now we understand that changing the decision threshold is another tool that can help us achieve useful results from our model."
      ]
    }
  ],
  "metadata": {
    "colab": {
      "provenance": [],
      "include_colab_link": true
    },
    "kernelspec": {
      "display_name": "Python 3 (ipykernel)",
      "language": "python",
      "name": "python3"
    },
    "language_info": {
      "codemirror_mode": {
        "name": "ipython",
        "version": 3
      },
      "file_extension": ".py",
      "mimetype": "text/x-python",
      "name": "python",
      "nbconvert_exporter": "python",
      "pygments_lexer": "ipython3",
      "version": "3.9.13"
    }
  },
  "nbformat": 4,
  "nbformat_minor": 0
}