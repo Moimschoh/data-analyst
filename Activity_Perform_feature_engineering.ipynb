{
  "cells": [
    {
      "cell_type": "markdown",
      "metadata": {
        "id": "view-in-github",
        "colab_type": "text"
      },
      "source": [
        "<a href=\"https://colab.research.google.com/github/Moimschoh/data-analyst/blob/main/Activity_Perform_feature_engineering.ipynb\" target=\"_parent\"><img src=\"https://colab.research.google.com/assets/colab-badge.svg\" alt=\"Open In Colab\"/></a>"
      ]
    },
    {
      "cell_type": "markdown",
      "metadata": {
        "id": "yugMU9MjJtBl"
      },
      "source": [
        "# Perform feature engineering"
      ]
    },
    {
      "cell_type": "markdown",
      "metadata": {
        "id": "EzWqJunmJotv"
      },
      "source": [
        "## **Introduction**\n",
        "\n",
        "\n",
        "As we're learning, data professionals working on modeling projects use featuring engineering to help them determine which attributes in the data can best predict certain measures.\n",
        "\n",
        "In this activity, we are working for a firm that provides insights to the National Basketball Association (NBA), a professional North American basketball league. we will help NBA managers and coaches identify which players are most likely to thrive in the high-pressure environment of professional basketball and help the team be successful over time.\n",
        "\n",
        "To do this, we will analyze a subset of data that contains information about NBA players and their performance records. we will conduct feature engineering to determine which features will most effectively predict whether a player's NBA career will last at least five years. The insights gained then will be used in the next stage of the project: building the predictive model.\n"
      ]
    },
    {
      "cell_type": "markdown",
      "metadata": {
        "id": "yTVinL1hJqoy"
      },
      "source": [
        "## **Step 1: Imports**\n"
      ]
    },
    {
      "cell_type": "markdown",
      "metadata": {
        "id": "nOYwyorZhA54"
      },
      "source": [
        "Start by importing `pandas`."
      ]
    },
    {
      "cell_type": "code",
      "execution_count": null,
      "metadata": {
        "id": "1nDjAJPa4lVZ"
      },
      "outputs": [],
      "source": [
        "# Import pandas.\n",
        "\n",
        "import pandas as pd\n",
        "import seaborn as sns\n",
        "import matplotlib.pyplot as plt"
      ]
    },
    {
      "cell_type": "markdown",
      "metadata": {
        "id": "hKylHziGzY3X"
      },
      "source": [
        "The dataset is a .csv file named `nba-players.csv`. It consists of performance records for a subset of NBA players."
      ]
    },
    {
      "cell_type": "code",
      "execution_count": null,
      "metadata": {
        "id": "4ebqpNcm4BDH"
      },
      "outputs": [],
      "source": [
        "# RUN THIS CELL TO IMPORT YOUR DATA.\n",
        "\n",
        "# Save in a variable named `data`.\n",
        "\n",
        "\n",
        "\n",
        "data = pd.read_csv(\"nba-players.csv\", index_col=0)"
      ]
    },
    {
      "cell_type": "markdown",
      "metadata": {
        "id": "L41MRy4Yzrjp"
      },
      "source": [
        "\n",
        "\n",
        "The `read_csv()` function from `pandas` allows you to read in data from a csv file and load it into a DataFrame.\n",
        "    \n"
      ]
    },
    {
      "cell_type": "markdown",
      "metadata": {
        "id": "tZeUaTZQqCEH"
      },
      "source": [
        "\n",
        "\n",
        "Call the `read_csv()`, pass in the name of the csv file as a string, followed by `index_col=0` to use the first column from the csv as the index in the DataFrame.\n",
        "    \n"
      ]
    },
    {
      "cell_type": "markdown",
      "metadata": {
        "id": "4zz8claq0Swi"
      },
      "source": [
        "## **Step 2: Data exploration**"
      ]
    },
    {
      "cell_type": "markdown",
      "metadata": {
        "id": "8kgPx_MP0cuc"
      },
      "source": [
        "Display the first 10 rows of the data to get a sense of what it entails."
      ]
    },
    {
      "cell_type": "code",
      "execution_count": null,
      "metadata": {
        "id": "0_U0Rb-x4h77",
        "outputId": "9d7eb9f9-348d-4d3d-a86c-91687088f932"
      },
      "outputs": [
        {
          "data": {
            "text/html": [
              "<div>\n",
              "<style scoped>\n",
              "    .dataframe tbody tr th:only-of-type {\n",
              "        vertical-align: middle;\n",
              "    }\n",
              "\n",
              "    .dataframe tbody tr th {\n",
              "        vertical-align: top;\n",
              "    }\n",
              "\n",
              "    .dataframe thead th {\n",
              "        text-align: right;\n",
              "    }\n",
              "</style>\n",
              "<table border=\"1\" class=\"dataframe\">\n",
              "  <thead>\n",
              "    <tr style=\"text-align: right;\">\n",
              "      <th></th>\n",
              "      <th>name</th>\n",
              "      <th>gp</th>\n",
              "      <th>min</th>\n",
              "      <th>pts</th>\n",
              "      <th>fgm</th>\n",
              "      <th>fga</th>\n",
              "      <th>fg</th>\n",
              "      <th>3p_made</th>\n",
              "      <th>3pa</th>\n",
              "      <th>3p</th>\n",
              "      <th>...</th>\n",
              "      <th>fta</th>\n",
              "      <th>ft</th>\n",
              "      <th>oreb</th>\n",
              "      <th>dreb</th>\n",
              "      <th>reb</th>\n",
              "      <th>ast</th>\n",
              "      <th>stl</th>\n",
              "      <th>blk</th>\n",
              "      <th>tov</th>\n",
              "      <th>target_5yrs</th>\n",
              "    </tr>\n",
              "  </thead>\n",
              "  <tbody>\n",
              "    <tr>\n",
              "      <th>0</th>\n",
              "      <td>Brandon Ingram</td>\n",
              "      <td>36</td>\n",
              "      <td>27.4</td>\n",
              "      <td>7.4</td>\n",
              "      <td>2.6</td>\n",
              "      <td>7.6</td>\n",
              "      <td>34.7</td>\n",
              "      <td>0.5</td>\n",
              "      <td>2.1</td>\n",
              "      <td>25.0</td>\n",
              "      <td>...</td>\n",
              "      <td>2.3</td>\n",
              "      <td>69.9</td>\n",
              "      <td>0.7</td>\n",
              "      <td>3.4</td>\n",
              "      <td>4.1</td>\n",
              "      <td>1.9</td>\n",
              "      <td>0.4</td>\n",
              "      <td>0.4</td>\n",
              "      <td>1.3</td>\n",
              "      <td>0</td>\n",
              "    </tr>\n",
              "    <tr>\n",
              "      <th>1</th>\n",
              "      <td>Andrew Harrison</td>\n",
              "      <td>35</td>\n",
              "      <td>26.9</td>\n",
              "      <td>7.2</td>\n",
              "      <td>2.0</td>\n",
              "      <td>6.7</td>\n",
              "      <td>29.6</td>\n",
              "      <td>0.7</td>\n",
              "      <td>2.8</td>\n",
              "      <td>23.5</td>\n",
              "      <td>...</td>\n",
              "      <td>3.4</td>\n",
              "      <td>76.5</td>\n",
              "      <td>0.5</td>\n",
              "      <td>2.0</td>\n",
              "      <td>2.4</td>\n",
              "      <td>3.7</td>\n",
              "      <td>1.1</td>\n",
              "      <td>0.5</td>\n",
              "      <td>1.6</td>\n",
              "      <td>0</td>\n",
              "    </tr>\n",
              "    <tr>\n",
              "      <th>2</th>\n",
              "      <td>JaKarr Sampson</td>\n",
              "      <td>74</td>\n",
              "      <td>15.3</td>\n",
              "      <td>5.2</td>\n",
              "      <td>2.0</td>\n",
              "      <td>4.7</td>\n",
              "      <td>42.2</td>\n",
              "      <td>0.4</td>\n",
              "      <td>1.7</td>\n",
              "      <td>24.4</td>\n",
              "      <td>...</td>\n",
              "      <td>1.3</td>\n",
              "      <td>67.0</td>\n",
              "      <td>0.5</td>\n",
              "      <td>1.7</td>\n",
              "      <td>2.2</td>\n",
              "      <td>1.0</td>\n",
              "      <td>0.5</td>\n",
              "      <td>0.3</td>\n",
              "      <td>1.0</td>\n",
              "      <td>0</td>\n",
              "    </tr>\n",
              "    <tr>\n",
              "      <th>3</th>\n",
              "      <td>Malik Sealy</td>\n",
              "      <td>58</td>\n",
              "      <td>11.6</td>\n",
              "      <td>5.7</td>\n",
              "      <td>2.3</td>\n",
              "      <td>5.5</td>\n",
              "      <td>42.6</td>\n",
              "      <td>0.1</td>\n",
              "      <td>0.5</td>\n",
              "      <td>22.6</td>\n",
              "      <td>...</td>\n",
              "      <td>1.3</td>\n",
              "      <td>68.9</td>\n",
              "      <td>1.0</td>\n",
              "      <td>0.9</td>\n",
              "      <td>1.9</td>\n",
              "      <td>0.8</td>\n",
              "      <td>0.6</td>\n",
              "      <td>0.1</td>\n",
              "      <td>1.0</td>\n",
              "      <td>1</td>\n",
              "    </tr>\n",
              "    <tr>\n",
              "      <th>4</th>\n",
              "      <td>Matt Geiger</td>\n",
              "      <td>48</td>\n",
              "      <td>11.5</td>\n",
              "      <td>4.5</td>\n",
              "      <td>1.6</td>\n",
              "      <td>3.0</td>\n",
              "      <td>52.4</td>\n",
              "      <td>0.0</td>\n",
              "      <td>0.1</td>\n",
              "      <td>0.0</td>\n",
              "      <td>...</td>\n",
              "      <td>1.9</td>\n",
              "      <td>67.4</td>\n",
              "      <td>1.0</td>\n",
              "      <td>1.5</td>\n",
              "      <td>2.5</td>\n",
              "      <td>0.3</td>\n",
              "      <td>0.3</td>\n",
              "      <td>0.4</td>\n",
              "      <td>0.8</td>\n",
              "      <td>1</td>\n",
              "    </tr>\n",
              "    <tr>\n",
              "      <th>5</th>\n",
              "      <td>Tony Bennett</td>\n",
              "      <td>75</td>\n",
              "      <td>11.4</td>\n",
              "      <td>3.7</td>\n",
              "      <td>1.5</td>\n",
              "      <td>3.5</td>\n",
              "      <td>42.3</td>\n",
              "      <td>0.3</td>\n",
              "      <td>1.1</td>\n",
              "      <td>32.5</td>\n",
              "      <td>...</td>\n",
              "      <td>0.5</td>\n",
              "      <td>73.2</td>\n",
              "      <td>0.2</td>\n",
              "      <td>0.7</td>\n",
              "      <td>0.8</td>\n",
              "      <td>1.8</td>\n",
              "      <td>0.4</td>\n",
              "      <td>0.0</td>\n",
              "      <td>0.7</td>\n",
              "      <td>0</td>\n",
              "    </tr>\n",
              "    <tr>\n",
              "      <th>6</th>\n",
              "      <td>Don MacLean</td>\n",
              "      <td>62</td>\n",
              "      <td>10.9</td>\n",
              "      <td>6.6</td>\n",
              "      <td>2.5</td>\n",
              "      <td>5.8</td>\n",
              "      <td>43.5</td>\n",
              "      <td>0.0</td>\n",
              "      <td>0.1</td>\n",
              "      <td>50.0</td>\n",
              "      <td>...</td>\n",
              "      <td>1.8</td>\n",
              "      <td>81.1</td>\n",
              "      <td>0.5</td>\n",
              "      <td>1.4</td>\n",
              "      <td>2.0</td>\n",
              "      <td>0.6</td>\n",
              "      <td>0.2</td>\n",
              "      <td>0.1</td>\n",
              "      <td>0.7</td>\n",
              "      <td>1</td>\n",
              "    </tr>\n",
              "    <tr>\n",
              "      <th>7</th>\n",
              "      <td>Tracy Murray</td>\n",
              "      <td>48</td>\n",
              "      <td>10.3</td>\n",
              "      <td>5.7</td>\n",
              "      <td>2.3</td>\n",
              "      <td>5.4</td>\n",
              "      <td>41.5</td>\n",
              "      <td>0.4</td>\n",
              "      <td>1.5</td>\n",
              "      <td>30.0</td>\n",
              "      <td>...</td>\n",
              "      <td>0.8</td>\n",
              "      <td>87.5</td>\n",
              "      <td>0.8</td>\n",
              "      <td>0.9</td>\n",
              "      <td>1.7</td>\n",
              "      <td>0.2</td>\n",
              "      <td>0.2</td>\n",
              "      <td>0.1</td>\n",
              "      <td>0.7</td>\n",
              "      <td>1</td>\n",
              "    </tr>\n",
              "    <tr>\n",
              "      <th>8</th>\n",
              "      <td>Duane Cooper</td>\n",
              "      <td>65</td>\n",
              "      <td>9.9</td>\n",
              "      <td>2.4</td>\n",
              "      <td>1.0</td>\n",
              "      <td>2.4</td>\n",
              "      <td>39.2</td>\n",
              "      <td>0.1</td>\n",
              "      <td>0.5</td>\n",
              "      <td>23.3</td>\n",
              "      <td>...</td>\n",
              "      <td>0.5</td>\n",
              "      <td>71.4</td>\n",
              "      <td>0.2</td>\n",
              "      <td>0.6</td>\n",
              "      <td>0.8</td>\n",
              "      <td>2.3</td>\n",
              "      <td>0.3</td>\n",
              "      <td>0.0</td>\n",
              "      <td>1.1</td>\n",
              "      <td>0</td>\n",
              "    </tr>\n",
              "    <tr>\n",
              "      <th>9</th>\n",
              "      <td>Dave Johnson</td>\n",
              "      <td>42</td>\n",
              "      <td>8.5</td>\n",
              "      <td>3.7</td>\n",
              "      <td>1.4</td>\n",
              "      <td>3.5</td>\n",
              "      <td>38.3</td>\n",
              "      <td>0.1</td>\n",
              "      <td>0.3</td>\n",
              "      <td>21.4</td>\n",
              "      <td>...</td>\n",
              "      <td>1.4</td>\n",
              "      <td>67.8</td>\n",
              "      <td>0.4</td>\n",
              "      <td>0.7</td>\n",
              "      <td>1.1</td>\n",
              "      <td>0.3</td>\n",
              "      <td>0.2</td>\n",
              "      <td>0.0</td>\n",
              "      <td>0.7</td>\n",
              "      <td>0</td>\n",
              "    </tr>\n",
              "  </tbody>\n",
              "</table>\n",
              "<p>10 rows × 21 columns</p>\n",
              "</div>"
            ],
            "text/plain": [
              "              name  gp   min  pts  fgm  fga    fg  3p_made  3pa    3p  ...  \\\n",
              "0   Brandon Ingram  36  27.4  7.4  2.6  7.6  34.7      0.5  2.1  25.0  ...   \n",
              "1  Andrew Harrison  35  26.9  7.2  2.0  6.7  29.6      0.7  2.8  23.5  ...   \n",
              "2   JaKarr Sampson  74  15.3  5.2  2.0  4.7  42.2      0.4  1.7  24.4  ...   \n",
              "3      Malik Sealy  58  11.6  5.7  2.3  5.5  42.6      0.1  0.5  22.6  ...   \n",
              "4      Matt Geiger  48  11.5  4.5  1.6  3.0  52.4      0.0  0.1   0.0  ...   \n",
              "5     Tony Bennett  75  11.4  3.7  1.5  3.5  42.3      0.3  1.1  32.5  ...   \n",
              "6      Don MacLean  62  10.9  6.6  2.5  5.8  43.5      0.0  0.1  50.0  ...   \n",
              "7     Tracy Murray  48  10.3  5.7  2.3  5.4  41.5      0.4  1.5  30.0  ...   \n",
              "8     Duane Cooper  65   9.9  2.4  1.0  2.4  39.2      0.1  0.5  23.3  ...   \n",
              "9     Dave Johnson  42   8.5  3.7  1.4  3.5  38.3      0.1  0.3  21.4  ...   \n",
              "\n",
              "   fta    ft  oreb  dreb  reb  ast  stl  blk  tov  target_5yrs  \n",
              "0  2.3  69.9   0.7   3.4  4.1  1.9  0.4  0.4  1.3            0  \n",
              "1  3.4  76.5   0.5   2.0  2.4  3.7  1.1  0.5  1.6            0  \n",
              "2  1.3  67.0   0.5   1.7  2.2  1.0  0.5  0.3  1.0            0  \n",
              "3  1.3  68.9   1.0   0.9  1.9  0.8  0.6  0.1  1.0            1  \n",
              "4  1.9  67.4   1.0   1.5  2.5  0.3  0.3  0.4  0.8            1  \n",
              "5  0.5  73.2   0.2   0.7  0.8  1.8  0.4  0.0  0.7            0  \n",
              "6  1.8  81.1   0.5   1.4  2.0  0.6  0.2  0.1  0.7            1  \n",
              "7  0.8  87.5   0.8   0.9  1.7  0.2  0.2  0.1  0.7            1  \n",
              "8  0.5  71.4   0.2   0.6  0.8  2.3  0.3  0.0  1.1            0  \n",
              "9  1.4  67.8   0.4   0.7  1.1  0.3  0.2  0.0  0.7            0  \n",
              "\n",
              "[10 rows x 21 columns]"
            ]
          },
          "execution_count": 3,
          "metadata": {},
          "output_type": "execute_result"
        }
      ],
      "source": [
        "# Display first 10 rows of data.\n",
        "\n",
        "data.head(10)\n"
      ]
    },
    {
      "cell_type": "markdown",
      "metadata": {
        "id": "ORy1MNR62mKq"
      },
      "source": [
        "\n",
        "\n",
        "Call the `head()` function and pass in 10.\n"
      ]
    },
    {
      "cell_type": "markdown",
      "metadata": {
        "id": "Gjasizab0tSL"
      },
      "source": [
        "Display the number of rows and the number of columns to get a sense of how much data is available to you."
      ]
    },
    {
      "cell_type": "code",
      "execution_count": null,
      "metadata": {
        "id": "xtxpSjCm4jCa",
        "outputId": "52eb6317-3230-4eae-c80f-b373d7b5a9a9"
      },
      "outputs": [
        {
          "data": {
            "text/plain": [
              "(1340, 21)"
            ]
          },
          "execution_count": 4,
          "metadata": {},
          "output_type": "execute_result"
        }
      ],
      "source": [
        "# Display number of rows, number of columns.\n",
        "\n",
        "data.shape\n"
      ]
    },
    {
      "cell_type": "markdown",
      "metadata": {
        "id": "G9pDSxlG2di1"
      },
      "source": [
        "\n",
        "\n",
        "we can call the `shape` attribute.\n"
      ]
    },
    {
      "cell_type": "markdown",
      "metadata": {
        "id": "zZndsnPq1UyL"
      },
      "source": [
        "**Question:** What do we observe about the number of rows and the number of columns in the data?"
      ]
    },
    {
      "cell_type": "markdown",
      "metadata": {
        "id": "27OsOXsfVPC7"
      },
      "source": [
        "Now, display all column names to get a sense of the kinds of metadata available about each player. Use the columns property in pandas.\n"
      ]
    },
    {
      "cell_type": "code",
      "execution_count": null,
      "metadata": {
        "id": "3q9zjB-s1SZt",
        "outputId": "e4099afa-a059-496b-c7f9-c856c81506b9"
      },
      "outputs": [
        {
          "name": "stdout",
          "output_type": "stream",
          "text": [
            "<class 'pandas.core.frame.DataFrame'>\n",
            "Int64Index: 1340 entries, 0 to 1339\n",
            "Data columns (total 21 columns):\n",
            " #   Column       Non-Null Count  Dtype  \n",
            "---  ------       --------------  -----  \n",
            " 0   name         1340 non-null   object \n",
            " 1   gp           1340 non-null   int64  \n",
            " 2   min          1340 non-null   float64\n",
            " 3   pts          1340 non-null   float64\n",
            " 4   fgm          1340 non-null   float64\n",
            " 5   fga          1340 non-null   float64\n",
            " 6   fg           1340 non-null   float64\n",
            " 7   3p_made      1340 non-null   float64\n",
            " 8   3pa          1340 non-null   float64\n",
            " 9   3p           1340 non-null   float64\n",
            " 10  ftm          1340 non-null   float64\n",
            " 11  fta          1340 non-null   float64\n",
            " 12  ft           1340 non-null   float64\n",
            " 13  oreb         1340 non-null   float64\n",
            " 14  dreb         1340 non-null   float64\n",
            " 15  reb          1340 non-null   float64\n",
            " 16  ast          1340 non-null   float64\n",
            " 17  stl          1340 non-null   float64\n",
            " 18  blk          1340 non-null   float64\n",
            " 19  tov          1340 non-null   float64\n",
            " 20  target_5yrs  1340 non-null   int64  \n",
            "dtypes: float64(18), int64(2), object(1)\n",
            "memory usage: 230.3+ KB\n"
          ]
        }
      ],
      "source": [
        "# Display all column names.\n",
        "\n",
        "data.info()\n"
      ]
    },
    {
      "cell_type": "markdown",
      "metadata": {
        "id": "bxS9GyWmjwa-"
      },
      "source": [
        "The following table provides a description of the data in each column. This metadata comes from the data source, which is listed in the references section of this lab.\n",
        "\n",
        "<center>\n",
        "\n",
        "|Column Name|Column Description|\n",
        "|:---|:-------|\n",
        "|`name`|Name of NBA player|\n",
        "|`gp`|Number of games played|\n",
        "|`min`|Number of minutes played per game|\n",
        "|`pts`|Average number of points per game|\n",
        "|`fgm`|Average number of field goals made per game|\n",
        "|`fga`|Average number of field goal attempts per game|\n",
        "|`fg`|Average percent of field goals made per game|\n",
        "|`3p_made`|Average number of three-point field goals made per game|\n",
        "|`3pa`|Average number of three-point field goal attempts per game|\n",
        "|`3p`|Average percent of three-point field goals made per game|\n",
        "|`ftm`|Average number of free throws made per game|\n",
        "|`fta`|Average number of free throw attempts per game|\n",
        "|`ft`|Average percent of free throws made per game|\n",
        "|`oreb`|Average number of offensive rebounds per game|\n",
        "|`dreb`|Average number of defensive rebounds per game|\n",
        "|`reb`|Average number of rebounds per game|\n",
        "|`ast`|Average number of assists per game|\n",
        "|`stl`|Average number of steals per game|\n",
        "|`blk`|Average number of blocks per game|\n",
        "|`tov`|Average number of turnovers per game|\n",
        "|`target_5yrs`|1 if career duration >= 5 yrs, 0 otherwise|\n",
        "\n",
        "</center>"
      ]
    },
    {
      "cell_type": "markdown",
      "metadata": {
        "id": "HvomDnvFq4DW"
      },
      "source": [
        "Next, display a summary of the data to get additional information about the DataFrame, including the types of data in the columns."
      ]
    },
    {
      "cell_type": "code",
      "execution_count": null,
      "metadata": {
        "scrolled": true,
        "id": "QdYdguzdhA58",
        "outputId": "46726315-1175-46c6-a78a-c9e8f4060ebc"
      },
      "outputs": [
        {
          "data": {
            "image/png": "[encoded data removed]",
            "text/plain": [
              "<Figure size 1000x600 with 1 Axes>"
            ]
          },
          "metadata": {},
          "output_type": "display_data"
        }
      ],
      "source": [
        "# Sort the DataFrame by average maximum points per game in descending order\n",
        "sorted_df = data.sort_values(by='pts', ascending=False)\n",
        "\n",
        "# Select the first 10 players\n",
        "top_10_players = sorted_df.head(10)\n",
        "\n",
        "# Plot the first 10 players with their average maximum points per game\n",
        "plt.figure(figsize=(10, 6))\n",
        "plt.bar(top_10_players['name'], top_10_players['pts'], color='skyblue')\n",
        "plt.xlabel('Players')\n",
        "plt.ylabel('Average Max Points per Game')\n",
        "plt.title('Average Max Points per Game for Top 10 Players')\n",
        "plt.xticks(rotation=45)  # Rotate x-axis labels for better readability\n",
        "plt.grid(axis='y')  # Add grid lines only along the y-axis\n",
        "plt.tight_layout()  # Adjust layout to prevent any clipping of labels\n",
        "plt.show()"
      ]
    },
    {
      "cell_type": "code",
      "execution_count": null,
      "metadata": {
        "id": "iVzejFQ1hA58",
        "outputId": "c342c5c0-cf03-4ab3-d8d8-0ff9938c7b81"
      },
      "outputs": [
        {
          "data": {
            "image/png": "[encoded data removed]",
            "text/plain": [
              "<Figure size 1200x600 with 2 Axes>"
            ]
          },
          "metadata": {},
          "output_type": "display_data"
        }
      ],
      "source": [
        "# Calculate points per game (PTS) and assists per game (AST)\n",
        "data['pts_per_game'] = data['pts'] / data['gp']\n",
        "data['ast_per_game'] = data['ast'] / data['gp']\n",
        "\n",
        "# Sort DataFrame based on points per game and assists per game\n",
        "sorted_pts_df = data.sort_values(by='pts_per_game', ascending=False)\n",
        "sorted_ast_df = data.sort_values(by='ast_per_game', ascending=False)\n",
        "\n",
        "# Select the top 10 players with maximum points per game and assists per game\n",
        "top_10_pts_players = sorted_pts_df.head(10)\n",
        "top_10_ast_players = sorted_ast_df.head(10)\n",
        "\n",
        "# Plot Player Performance Analysis for the top 10 players with maximum points per game\n",
        "plt.figure(figsize=(12, 6))\n",
        "\n",
        "# Plot points per game for the top 10 players with maximum points per game\n",
        "plt.subplot(1, 2, 1)\n",
        "plt.bar(top_10_pts_players['name'], top_10_pts_players['pts_per_game'], color='skyblue')\n",
        "plt.xlabel('Players')\n",
        "plt.ylabel('Points per Game')\n",
        "plt.title('Top 10 Players with Maximum Points per Game')\n",
        "plt.xticks(rotation=45)\n",
        "plt.grid(axis='y')\n",
        "\n",
        "# Plot assists per game for the top 10 players with maximum assists per game\n",
        "plt.subplot(1, 2, 2)\n",
        "plt.bar(top_10_ast_players['name'], top_10_ast_players['ast_per_game'], color='lightgreen')\n",
        "plt.xlabel('Players')\n",
        "plt.ylabel('Assists per Game')\n",
        "plt.title('Top 10 Players with Maximum Assists per Game')\n",
        "plt.xticks(rotation=45)\n",
        "plt.grid(axis='y')\n",
        "\n",
        "plt.tight_layout()\n",
        "plt.show()"
      ]
    },
    {
      "cell_type": "code",
      "execution_count": null,
      "metadata": {
        "id": "ur6BQPiyhA59",
        "outputId": "7c9c1a69-5f83-4fc3-ec37-16f07f977f51"
      },
      "outputs": [
        {
          "data": {
            "image/png": "[encoded data removed]",
            "text/plain": [
              "<Figure size 1000x600 with 1 Axes>"
            ]
          },
          "metadata": {},
          "output_type": "display_data"
        }
      ],
      "source": [
        "\n",
        "\n",
        "\n",
        "# Sort the column in descending order\n",
        "sorted_column = average_pts['pts'].sort_values(ascending=False)\n",
        "\n",
        "\n",
        "\n",
        "# Select the top 10 players' names and values\n",
        "top_10_players = sorted_column['name'].head(10)\n",
        "top_10_values = sorted_column['pts'].head(10)\n",
        "\n",
        "# Plot the top 10 values as a scatter plot\n",
        "plt.figure(figsize=(10, 6))\n",
        "plt.scatter(top_10_players, top_10_values, color='red', label='Top 10 Max Values', marker='o')\n",
        "plt.xlabel('Players')\n",
        "plt.ylabel('Values')\n",
        "plt.title('Scatter Plot of Top 10 Max Values')\n",
        "plt.xticks(rotation=45)  # Rotate x-axis labels for better readability\n",
        "plt.legend()\n",
        "plt.grid(True)\n",
        "plt.tight_layout()  # Adjust layout to prevent clipping of labels\n",
        "plt.show()"
      ]
    },
    {
      "cell_type": "code",
      "execution_count": null,
      "metadata": {
        "id": "28h2TzH-o8NQ"
      },
      "outputs": [],
      "source": [
        "# Use .info() to display a summary of the DataFrame.\n",
        "\n",
        "### YOUR CODE HERE ###\n"
      ]
    },
    {
      "cell_type": "markdown",
      "metadata": {
        "id": "0ajEYod6B7QJ"
      },
      "source": [
        "**Question:** Based on the preceding tables, which columns are numerical and which columns are categorical?"
      ]
    },
    {
      "cell_type": "markdown",
      "metadata": {
        "id": "VtL_ZDZC1xgF"
      },
      "source": [
        "### Check for missing values"
      ]
    },
    {
      "cell_type": "markdown",
      "metadata": {
        "id": "AnPkEVwXhA59"
      },
      "source": [
        "Now, review the data to determine whether it contains any missing values. Begin by displaying the number of missing values in each column. After that, use isna() to check whether each value in the data is missing. Finally, use sum() to aggregate the number of missing values per column.\n"
      ]
    },
    {
      "cell_type": "code",
      "execution_count": null,
      "metadata": {
        "id": "_EGgJ5k92KX_",
        "outputId": "3fdcf673-dc1a-43ec-f8c8-b88d8fb8d059"
      },
      "outputs": [
        {
          "data": {
            "text/plain": [
              "name            0\n",
              "gp              0\n",
              "min             0\n",
              "pts             0\n",
              "fgm             0\n",
              "fga             0\n",
              "fg              0\n",
              "3p_made         0\n",
              "3pa             0\n",
              "3p              0\n",
              "ftm             0\n",
              "fta             0\n",
              "ft              0\n",
              "oreb            0\n",
              "dreb            0\n",
              "reb             0\n",
              "ast             0\n",
              "stl             0\n",
              "blk             0\n",
              "tov             0\n",
              "target_5yrs     0\n",
              "pts_per_game    0\n",
              "ast_per_game    0\n",
              "dtype: int64"
            ]
          },
          "execution_count": 21,
          "metadata": {},
          "output_type": "execute_result"
        }
      ],
      "source": [
        "# Display the number of missing values in each column.\n",
        "# Check whether each value is missing.\n",
        "#Aggregate the number of missing values per column.\n",
        "\n",
        "data.isna().sum()"
      ]
    },
    {
      "cell_type": "markdown",
      "metadata": {
        "id": "qcLj6oPd2FVQ"
      },
      "source": [
        "**Question:** What do you observe about the missing values in the columns?"
      ]
    },
    {
      "cell_type": "markdown",
      "metadata": {
        "id": "Vo4Zcb64hA59"
      },
      "source": [
        "**Question:** Why is it important to check for missing values?"
      ]
    },
    {
      "cell_type": "markdown",
      "metadata": {
        "id": "MY0rAjlZAheh"
      },
      "source": [
        "## **Step 3: Statistical tests**\n",
        "\n"
      ]
    },
    {
      "cell_type": "markdown",
      "metadata": {
        "id": "v6VpTiBeGvyO"
      },
      "source": [
        "Next, use a statistical technique to check the class balance in the data. To understand how balanced the dataset is in terms of class, display the percentage of values that belong to each class in the target column. In this context, class 1 indicates an NBA career duration of at least five years, while class 0 indicates an NBA career duration of less than five years."
      ]
    },
    {
      "cell_type": "code",
      "execution_count": null,
      "metadata": {
        "id": "gUEgzQW_6oMV",
        "outputId": "78b31e5a-1b20-4480-d1f6-f356b23a8864"
      },
      "outputs": [
        {
          "data": {
            "text/plain": [
              "1    62.014925\n",
              "0    37.985075\n",
              "Name: target_5yrs, dtype: float64"
            ]
          },
          "execution_count": 9,
          "metadata": {},
          "output_type": "execute_result"
        }
      ],
      "source": [
        "# Display percentage (%) of values for each class (1, 0) represented in the target column of this dataset.\n",
        "\n",
        "data[\"target_5yrs\"].value_counts(normalize=True)*100\n"
      ]
    },
    {
      "cell_type": "markdown",
      "metadata": {
        "id": "N4ITIR9Jlpbr"
      },
      "source": [
        "\n",
        "\n",
        "In `pandas`, `value_counts(normalize=True)` can be used to calculate the frequency of each distinct value in a specific column of a DataFrame.  \n"
      ]
    },
    {
      "cell_type": "markdown",
      "metadata": {
        "id": "2xHH7INqlpbt"
      },
      "source": [
        "\n",
        "\n",
        "After `value_counts(normalize=True)`, multipling by `100` converts the frequencies into percentages (%).\n"
      ]
    },
    {
      "cell_type": "markdown",
      "metadata": {
        "id": "uMcdNVQW8K2D"
      },
      "source": [
        "**Question:** What do you observe about the class balance in the target column?"
      ]
    },
    {
      "cell_type": "markdown",
      "metadata": {
        "id": "YuzXdCUYhA5-"
      },
      "source": [
        "**Question:** Why is it important to check class balance?"
      ]
    },
    {
      "cell_type": "markdown",
      "metadata": {
        "id": "qgV_6xAQAvgg"
      },
      "source": [
        "## **Step 4: Results and evaluation**\n",
        "\n",
        "\n",
        "Now, perform feature engineering, with the goal of identifying and creating features that will serve as useful predictors for the target variable, `target_5yrs`."
      ]
    },
    {
      "cell_type": "markdown",
      "metadata": {
        "id": "r-UHtsTnA5kE"
      },
      "source": [
        "### Feature selection"
      ]
    },
    {
      "cell_type": "markdown",
      "metadata": {
        "id": "atQDf16fK4in"
      },
      "source": [
        "The following table contains descriptions of the data in each column:\n",
        "\n",
        "<center>\n",
        "\n",
        "|Column Name|Column Description|\n",
        "|:---|:-------|\n",
        "|`name`|Name of NBA player|\n",
        "|`gp`|Number of games played|\n",
        "|`min`|Number of minutes played|\n",
        "|`pts`|Average number of points per game|\n",
        "|`fgm`|Average number of field goals made per game|\n",
        "|`fga`|Average number of field goal attempts per game|\n",
        "|`fg`|Average percent of field goals made per game|\n",
        "|`3p_made`|Average number of three-point field goals made per game|\n",
        "|`3pa`|Average number of three-point field goal attempts per game|\n",
        "|`3p`|Average percent of three-point field goals made per game|\n",
        "|`ftm`|Average number of free throws made per game|\n",
        "|`fta`|Average number of free throw attempts per game|\n",
        "|`ft`|Average percent of free throws made per game|\n",
        "|`oreb`|Average number of offensive rebounds per game|\n",
        "|`dreb`|Average number of defensive rebounds per game|\n",
        "|`reb`|Average number of rebounds per game|\n",
        "|`ast`|Average number of assists per game|\n",
        "|`stl`|Average number of steals per game|\n",
        "|`blk`|Average number of blocks per game|\n",
        "|`tov`|Average number of turnovers per game|\n",
        "|`target_5yrs`|1 if career duration >= 5 yrs, 0 otherwise|\n",
        "\n",
        "</center>"
      ]
    },
    {
      "cell_type": "markdown",
      "metadata": {
        "id": "uyUtq03NKe69"
      },
      "source": [
        "**Question:** Which columns would you select and avoid selecting as features, and why? Keep in mind the goal is to identify features that will serve as useful predictors for the target variable, `target_5yrs`."
      ]
    },
    {
      "cell_type": "markdown",
      "metadata": {
        "id": "f0EgC-r_X_gk"
      },
      "source": [
        "Next, select the columns you want to proceed with. Make sure to include the target column, `target_5yrs`. Display the first few rows to confirm they are as expected."
      ]
    },
    {
      "cell_type": "code",
      "execution_count": null,
      "metadata": {
        "id": "jeLHjMh_XwsU",
        "outputId": "01d79b03-a407-4b97-bf72-71f7841f6f80"
      },
      "outputs": [
        {
          "data": {
            "text/html": [
              "<div>\n",
              "<style scoped>\n",
              "    .dataframe tbody tr th:only-of-type {\n",
              "        vertical-align: middle;\n",
              "    }\n",
              "\n",
              "    .dataframe tbody tr th {\n",
              "        vertical-align: top;\n",
              "    }\n",
              "\n",
              "    .dataframe thead th {\n",
              "        text-align: right;\n",
              "    }\n",
              "</style>\n",
              "<table border=\"1\" class=\"dataframe\">\n",
              "  <thead>\n",
              "    <tr style=\"text-align: right;\">\n",
              "      <th></th>\n",
              "      <th>gp</th>\n",
              "      <th>min</th>\n",
              "      <th>pts</th>\n",
              "      <th>fg</th>\n",
              "      <th>3p</th>\n",
              "      <th>ft</th>\n",
              "      <th>reb</th>\n",
              "      <th>ast</th>\n",
              "      <th>stl</th>\n",
              "      <th>blk</th>\n",
              "      <th>tov</th>\n",
              "      <th>target_5yrs</th>\n",
              "    </tr>\n",
              "  </thead>\n",
              "  <tbody>\n",
              "    <tr>\n",
              "      <th>0</th>\n",
              "      <td>36</td>\n",
              "      <td>27.4</td>\n",
              "      <td>7.4</td>\n",
              "      <td>34.7</td>\n",
              "      <td>25.0</td>\n",
              "      <td>69.9</td>\n",
              "      <td>4.1</td>\n",
              "      <td>1.9</td>\n",
              "      <td>0.4</td>\n",
              "      <td>0.4</td>\n",
              "      <td>1.3</td>\n",
              "      <td>0</td>\n",
              "    </tr>\n",
              "    <tr>\n",
              "      <th>1</th>\n",
              "      <td>35</td>\n",
              "      <td>26.9</td>\n",
              "      <td>7.2</td>\n",
              "      <td>29.6</td>\n",
              "      <td>23.5</td>\n",
              "      <td>76.5</td>\n",
              "      <td>2.4</td>\n",
              "      <td>3.7</td>\n",
              "      <td>1.1</td>\n",
              "      <td>0.5</td>\n",
              "      <td>1.6</td>\n",
              "      <td>0</td>\n",
              "    </tr>\n",
              "    <tr>\n",
              "      <th>2</th>\n",
              "      <td>74</td>\n",
              "      <td>15.3</td>\n",
              "      <td>5.2</td>\n",
              "      <td>42.2</td>\n",
              "      <td>24.4</td>\n",
              "      <td>67.0</td>\n",
              "      <td>2.2</td>\n",
              "      <td>1.0</td>\n",
              "      <td>0.5</td>\n",
              "      <td>0.3</td>\n",
              "      <td>1.0</td>\n",
              "      <td>0</td>\n",
              "    </tr>\n",
              "    <tr>\n",
              "      <th>3</th>\n",
              "      <td>58</td>\n",
              "      <td>11.6</td>\n",
              "      <td>5.7</td>\n",
              "      <td>42.6</td>\n",
              "      <td>22.6</td>\n",
              "      <td>68.9</td>\n",
              "      <td>1.9</td>\n",
              "      <td>0.8</td>\n",
              "      <td>0.6</td>\n",
              "      <td>0.1</td>\n",
              "      <td>1.0</td>\n",
              "      <td>1</td>\n",
              "    </tr>\n",
              "    <tr>\n",
              "      <th>4</th>\n",
              "      <td>48</td>\n",
              "      <td>11.5</td>\n",
              "      <td>4.5</td>\n",
              "      <td>52.4</td>\n",
              "      <td>0.0</td>\n",
              "      <td>67.4</td>\n",
              "      <td>2.5</td>\n",
              "      <td>0.3</td>\n",
              "      <td>0.3</td>\n",
              "      <td>0.4</td>\n",
              "      <td>0.8</td>\n",
              "      <td>1</td>\n",
              "    </tr>\n",
              "  </tbody>\n",
              "</table>\n",
              "</div>"
            ],
            "text/plain": [
              "   gp   min  pts    fg    3p    ft  reb  ast  stl  blk  tov  target_5yrs\n",
              "0  36  27.4  7.4  34.7  25.0  69.9  4.1  1.9  0.4  0.4  1.3            0\n",
              "1  35  26.9  7.2  29.6  23.5  76.5  2.4  3.7  1.1  0.5  1.6            0\n",
              "2  74  15.3  5.2  42.2  24.4  67.0  2.2  1.0  0.5  0.3  1.0            0\n",
              "3  58  11.6  5.7  42.6  22.6  68.9  1.9  0.8  0.6  0.1  1.0            1\n",
              "4  48  11.5  4.5  52.4   0.0  67.4  2.5  0.3  0.3  0.4  0.8            1"
            ]
          },
          "execution_count": 22,
          "metadata": {},
          "output_type": "execute_result"
        }
      ],
      "source": [
        "# Select the columns to proceed with and save the DataFrame in new variable `selected_data`.\n",
        "# Include the target column, `target_5yrs`.\n",
        "\n",
        "selected_data = data[[\"gp\", \"min\", \"pts\", \"fg\", \"3p\", \"ft\", \"reb\", \"ast\", \"stl\", \"blk\", \"tov\", \"target_5yrs\"]]\n",
        "\n",
        "# Display the first few rows.\n",
        "\n",
        "selected_data.head(5)\n"
      ]
    },
    {
      "cell_type": "markdown",
      "metadata": {
        "id": "BB6uE5RSitRn"
      },
      "source": [
        "\n",
        "\n",
        "There is a function in `pandas` that can be used to display the first few rows of a DataFrame. Make sure to specify the column names with spelling that matches what's in the data. Use quotes to represent each column name as a string.\n"
      ]
    },
    {
      "cell_type": "markdown",
      "metadata": {
        "id": "m9SD-zhXCLSm"
      },
      "source": [
        "### Feature transformation"
      ]
    },
    {
      "cell_type": "markdown",
      "metadata": {
        "id": "UQwsbcQHWeX1"
      },
      "source": [
        "An important aspect of feature transformation is feature encoding. If there are categorical columns that you would want to use as features, those columns should be transformed to be numerical. This technique is also known as feature encoding."
      ]
    },
    {
      "cell_type": "markdown",
      "metadata": {
        "id": "IMm2PPbvOUHb"
      },
      "source": [
        "**Question:** Why is feature transformation important to consider? Are there any transformations necessary for the features you want to use?"
      ]
    },
    {
      "cell_type": "markdown",
      "metadata": {
        "id": "Kg-1y3f2zmrg"
      },
      "source": [
        " [Write your response here. Double-click (or enter) to edit.]"
      ]
    },
    {
      "cell_type": "markdown",
      "metadata": {
        "id": "yMK4zXxQCNYH"
      },
      "source": [
        "### Feature extraction"
      ]
    },
    {
      "cell_type": "markdown",
      "metadata": {
        "id": "LwU2VgiyfLg7"
      },
      "source": [
        "Display the first few rows containing containing descriptions of the data for reference. The table is as follows:\n",
        "\n",
        "<center>\n",
        "\n",
        "|Column Name|Column Description|\n",
        "|:---|:-------|\n",
        "|`name`|Name of NBA player|\n",
        "|`gp`|Number of games played|\n",
        "|`min`|Number of minutes played per game|\n",
        "|`pts`|Average number of points per game|\n",
        "|`fgm`|Average number of field goals made per game|\n",
        "|`fga`|Average number of field goal attempts per game|\n",
        "|`fg`|Average percent of field goals made per game|\n",
        "|`3p_made`|Average number of three-point field goals made per game|\n",
        "|`3pa`|Average number of three-point field goal attempts per game|\n",
        "|`3p`|Average percent of three-point field goals made per game|\n",
        "|`ftm`|Average number of free throws made per game|\n",
        "|`fta`|Average number of free throw attempts per game|\n",
        "|`ft`|Average percent of free throws made per game|\n",
        "|`oreb`|Average number of offensive rebounds per game|\n",
        "|`dreb`|Average number of defensive rebounds per game|\n",
        "|`reb`|Average number of rebounds per game|\n",
        "|`ast`|Average number of assists per game|\n",
        "|`stl`|Average number of steals per game|\n",
        "|`blk`|Average number of blocks per game|\n",
        "|`tov`|Average number of turnovers per game|\n",
        "|`target_5yrs`|1 if career duration >= 5 yrs, 0 otherwise|\n",
        "\n",
        "</center>"
      ]
    },
    {
      "cell_type": "code",
      "execution_count": null,
      "metadata": {
        "id": "TImr9RUzfNNk",
        "outputId": "9e105c8f-ef57-455f-e925-a4c046277ccd"
      },
      "outputs": [
        {
          "data": {
            "text/html": [
              "<div>\n",
              "<style scoped>\n",
              "    .dataframe tbody tr th:only-of-type {\n",
              "        vertical-align: middle;\n",
              "    }\n",
              "\n",
              "    .dataframe tbody tr th {\n",
              "        vertical-align: top;\n",
              "    }\n",
              "\n",
              "    .dataframe thead th {\n",
              "        text-align: right;\n",
              "    }\n",
              "</style>\n",
              "<table border=\"1\" class=\"dataframe\">\n",
              "  <thead>\n",
              "    <tr style=\"text-align: right;\">\n",
              "      <th></th>\n",
              "      <th>gp</th>\n",
              "      <th>min</th>\n",
              "      <th>pts</th>\n",
              "      <th>fg</th>\n",
              "      <th>3p</th>\n",
              "      <th>ft</th>\n",
              "      <th>reb</th>\n",
              "      <th>ast</th>\n",
              "      <th>stl</th>\n",
              "      <th>blk</th>\n",
              "      <th>tov</th>\n",
              "      <th>target_5yrs</th>\n",
              "    </tr>\n",
              "  </thead>\n",
              "  <tbody>\n",
              "    <tr>\n",
              "      <th>0</th>\n",
              "      <td>36</td>\n",
              "      <td>27.4</td>\n",
              "      <td>7.4</td>\n",
              "      <td>34.7</td>\n",
              "      <td>25.0</td>\n",
              "      <td>69.9</td>\n",
              "      <td>4.1</td>\n",
              "      <td>1.9</td>\n",
              "      <td>0.4</td>\n",
              "      <td>0.4</td>\n",
              "      <td>1.3</td>\n",
              "      <td>0</td>\n",
              "    </tr>\n",
              "    <tr>\n",
              "      <th>1</th>\n",
              "      <td>35</td>\n",
              "      <td>26.9</td>\n",
              "      <td>7.2</td>\n",
              "      <td>29.6</td>\n",
              "      <td>23.5</td>\n",
              "      <td>76.5</td>\n",
              "      <td>2.4</td>\n",
              "      <td>3.7</td>\n",
              "      <td>1.1</td>\n",
              "      <td>0.5</td>\n",
              "      <td>1.6</td>\n",
              "      <td>0</td>\n",
              "    </tr>\n",
              "    <tr>\n",
              "      <th>2</th>\n",
              "      <td>74</td>\n",
              "      <td>15.3</td>\n",
              "      <td>5.2</td>\n",
              "      <td>42.2</td>\n",
              "      <td>24.4</td>\n",
              "      <td>67.0</td>\n",
              "      <td>2.2</td>\n",
              "      <td>1.0</td>\n",
              "      <td>0.5</td>\n",
              "      <td>0.3</td>\n",
              "      <td>1.0</td>\n",
              "      <td>0</td>\n",
              "    </tr>\n",
              "    <tr>\n",
              "      <th>3</th>\n",
              "      <td>58</td>\n",
              "      <td>11.6</td>\n",
              "      <td>5.7</td>\n",
              "      <td>42.6</td>\n",
              "      <td>22.6</td>\n",
              "      <td>68.9</td>\n",
              "      <td>1.9</td>\n",
              "      <td>0.8</td>\n",
              "      <td>0.6</td>\n",
              "      <td>0.1</td>\n",
              "      <td>1.0</td>\n",
              "      <td>1</td>\n",
              "    </tr>\n",
              "    <tr>\n",
              "      <th>4</th>\n",
              "      <td>48</td>\n",
              "      <td>11.5</td>\n",
              "      <td>4.5</td>\n",
              "      <td>52.4</td>\n",
              "      <td>0.0</td>\n",
              "      <td>67.4</td>\n",
              "      <td>2.5</td>\n",
              "      <td>0.3</td>\n",
              "      <td>0.3</td>\n",
              "      <td>0.4</td>\n",
              "      <td>0.8</td>\n",
              "      <td>1</td>\n",
              "    </tr>\n",
              "  </tbody>\n",
              "</table>\n",
              "</div>"
            ],
            "text/plain": [
              "   gp   min  pts    fg    3p    ft  reb  ast  stl  blk  tov  target_5yrs\n",
              "0  36  27.4  7.4  34.7  25.0  69.9  4.1  1.9  0.4  0.4  1.3            0\n",
              "1  35  26.9  7.2  29.6  23.5  76.5  2.4  3.7  1.1  0.5  1.6            0\n",
              "2  74  15.3  5.2  42.2  24.4  67.0  2.2  1.0  0.5  0.3  1.0            0\n",
              "3  58  11.6  5.7  42.6  22.6  68.9  1.9  0.8  0.6  0.1  1.0            1\n",
              "4  48  11.5  4.5  52.4   0.0  67.4  2.5  0.3  0.3  0.4  0.8            1"
            ]
          },
          "execution_count": 11,
          "metadata": {},
          "output_type": "execute_result"
        }
      ],
      "source": [
        "# Display the first few rows of `selected_data` for reference.\n",
        "\n",
        "selected_data.head()"
      ]
    },
    {
      "cell_type": "markdown",
      "metadata": {
        "id": "c5GvdO_Ddgcv"
      },
      "source": [
        "**Question:** Which columns lend themselves to feature extraction?"
      ]
    },
    {
      "cell_type": "markdown",
      "metadata": {
        "id": "TzdzdImXmlVV"
      },
      "source": [
        "Extract two features that you think would help predict `target_5yrs`. Then, create a new variable named 'extracted_data' that contains features from 'selected_data', as well as the features being extracted."
      ]
    },
    {
      "cell_type": "code",
      "execution_count": null,
      "metadata": {
        "id": "-oKr7ZPumP4X",
        "outputId": "37cca847-6f94-4427-f56c-9ceb9b638c70"
      },
      "outputs": [
        {
          "data": {
            "text/html": [
              "<div>\n",
              "<style scoped>\n",
              "    .dataframe tbody tr th:only-of-type {\n",
              "        vertical-align: middle;\n",
              "    }\n",
              "\n",
              "    .dataframe tbody tr th {\n",
              "        vertical-align: top;\n",
              "    }\n",
              "\n",
              "    .dataframe thead th {\n",
              "        text-align: right;\n",
              "    }\n",
              "</style>\n",
              "<table border=\"1\" class=\"dataframe\">\n",
              "  <thead>\n",
              "    <tr style=\"text-align: right;\">\n",
              "      <th></th>\n",
              "      <th>gp</th>\n",
              "      <th>min</th>\n",
              "      <th>pts</th>\n",
              "      <th>fg</th>\n",
              "      <th>3p</th>\n",
              "      <th>ft</th>\n",
              "      <th>reb</th>\n",
              "      <th>ast</th>\n",
              "      <th>stl</th>\n",
              "      <th>blk</th>\n",
              "      <th>tov</th>\n",
              "      <th>target_5yrs</th>\n",
              "      <th>total_points</th>\n",
              "      <th>efficiency</th>\n",
              "    </tr>\n",
              "  </thead>\n",
              "  <tbody>\n",
              "    <tr>\n",
              "      <th>0</th>\n",
              "      <td>36</td>\n",
              "      <td>27.4</td>\n",
              "      <td>7.4</td>\n",
              "      <td>34.7</td>\n",
              "      <td>25.0</td>\n",
              "      <td>69.9</td>\n",
              "      <td>4.1</td>\n",
              "      <td>1.9</td>\n",
              "      <td>0.4</td>\n",
              "      <td>0.4</td>\n",
              "      <td>1.3</td>\n",
              "      <td>0</td>\n",
              "      <td>266.4</td>\n",
              "      <td>0.270073</td>\n",
              "    </tr>\n",
              "    <tr>\n",
              "      <th>1</th>\n",
              "      <td>35</td>\n",
              "      <td>26.9</td>\n",
              "      <td>7.2</td>\n",
              "      <td>29.6</td>\n",
              "      <td>23.5</td>\n",
              "      <td>76.5</td>\n",
              "      <td>2.4</td>\n",
              "      <td>3.7</td>\n",
              "      <td>1.1</td>\n",
              "      <td>0.5</td>\n",
              "      <td>1.6</td>\n",
              "      <td>0</td>\n",
              "      <td>252.0</td>\n",
              "      <td>0.267658</td>\n",
              "    </tr>\n",
              "    <tr>\n",
              "      <th>2</th>\n",
              "      <td>74</td>\n",
              "      <td>15.3</td>\n",
              "      <td>5.2</td>\n",
              "      <td>42.2</td>\n",
              "      <td>24.4</td>\n",
              "      <td>67.0</td>\n",
              "      <td>2.2</td>\n",
              "      <td>1.0</td>\n",
              "      <td>0.5</td>\n",
              "      <td>0.3</td>\n",
              "      <td>1.0</td>\n",
              "      <td>0</td>\n",
              "      <td>384.8</td>\n",
              "      <td>0.339869</td>\n",
              "    </tr>\n",
              "    <tr>\n",
              "      <th>3</th>\n",
              "      <td>58</td>\n",
              "      <td>11.6</td>\n",
              "      <td>5.7</td>\n",
              "      <td>42.6</td>\n",
              "      <td>22.6</td>\n",
              "      <td>68.9</td>\n",
              "      <td>1.9</td>\n",
              "      <td>0.8</td>\n",
              "      <td>0.6</td>\n",
              "      <td>0.1</td>\n",
              "      <td>1.0</td>\n",
              "      <td>1</td>\n",
              "      <td>330.6</td>\n",
              "      <td>0.491379</td>\n",
              "    </tr>\n",
              "    <tr>\n",
              "      <th>4</th>\n",
              "      <td>48</td>\n",
              "      <td>11.5</td>\n",
              "      <td>4.5</td>\n",
              "      <td>52.4</td>\n",
              "      <td>0.0</td>\n",
              "      <td>67.4</td>\n",
              "      <td>2.5</td>\n",
              "      <td>0.3</td>\n",
              "      <td>0.3</td>\n",
              "      <td>0.4</td>\n",
              "      <td>0.8</td>\n",
              "      <td>1</td>\n",
              "      <td>216.0</td>\n",
              "      <td>0.391304</td>\n",
              "    </tr>\n",
              "  </tbody>\n",
              "</table>\n",
              "</div>"
            ],
            "text/plain": [
              "   gp   min  pts    fg    3p    ft  reb  ast  stl  blk  tov  target_5yrs  \\\n",
              "0  36  27.4  7.4  34.7  25.0  69.9  4.1  1.9  0.4  0.4  1.3            0   \n",
              "1  35  26.9  7.2  29.6  23.5  76.5  2.4  3.7  1.1  0.5  1.6            0   \n",
              "2  74  15.3  5.2  42.2  24.4  67.0  2.2  1.0  0.5  0.3  1.0            0   \n",
              "3  58  11.6  5.7  42.6  22.6  68.9  1.9  0.8  0.6  0.1  1.0            1   \n",
              "4  48  11.5  4.5  52.4   0.0  67.4  2.5  0.3  0.3  0.4  0.8            1   \n",
              "\n",
              "   total_points  efficiency  \n",
              "0         266.4    0.270073  \n",
              "1         252.0    0.267658  \n",
              "2         384.8    0.339869  \n",
              "3         330.6    0.491379  \n",
              "4         216.0    0.391304  "
            ]
          },
          "execution_count": 15,
          "metadata": {},
          "output_type": "execute_result"
        }
      ],
      "source": [
        "# Extract two features that would help predict target_5yrs.\n",
        "# Create a new variable named `extracted_data`.\n",
        "\n",
        "extracted_data = selected_data.copy()\n",
        "extracted_data[\"total_points\"] = extracted_data[\"gp\"] * extracted_data[\"pts\"]\n",
        "extracted_data[\"efficiency\"] = extracted_data[\"total_points\"] / (extracted_data[\"min\"] * extracted_data[\"gp\"])\n",
        "\n",
        "extracted_data.head()\n",
        "\n"
      ]
    },
    {
      "cell_type": "markdown",
      "metadata": {
        "id": "nBm31_L4stiM"
      },
      "source": [
        "<details>\n",
        "<summary><h4><strong>Hint 1</strong></h4></summary>\n",
        "\n",
        "Refer to the materials about feature extraction.\n",
        "</details>"
      ]
    },
    {
      "cell_type": "markdown",
      "metadata": {
        "id": "zfJjVoNnstiO"
      },
      "source": [
        "<details>\n",
        "<summary><h4><strong>Hint 2</strong></h4></summary>\n",
        "\n",
        "Use the function `copy()` to make a copy of a DataFrame. To access a specific column from a DataFrame, use a pair of square brackets and place the name of the column as a string inside the brackets.\n",
        "\n",
        "</details>"
      ]
    },
    {
      "cell_type": "markdown",
      "metadata": {
        "id": "5JK2XAKJstiP"
      },
      "source": [
        "<details>\n",
        "<summary><h4><strong>Hint 3</strong></h4></summary>\n",
        "\n",
        "Use a pair of square brackets to create a new column in a DataFrame. The columns in DataFrames are series objects, which support elementwise operations such as multiplication and division. Be sure the column names referenced in your code match the spelling of what's in the DataFrame.\n",
        "</details>"
      ]
    },
    {
      "cell_type": "markdown",
      "metadata": {
        "id": "_HSGCXKZt61x"
      },
      "source": [
        "Now, to prepare for the Naive Bayes model that you will build in a later lab, clean the extracted data and ensure ensure it is concise. Naive Bayes involves an assumption that features are independent of each other given the class. In order to satisfy that criteria, if certain features are aggregated to yield new features, it may be necessary to remove those original features. Therefore, drop the columns that were used to extract new features.\n",
        "\n",
        "**Note:** There are other types of models that do not involve independence assumptions, so this would not be required in those instances. In fact, keeping the original features may be beneficial."
      ]
    },
    {
      "cell_type": "code",
      "execution_count": null,
      "metadata": {
        "id": "9kF4nRy5r1DV",
        "outputId": "efdb7640-d1a3-4bda-834d-662909cf7d04"
      },
      "outputs": [
        {
          "data": {
            "text/html": [
              "<div>\n",
              "<style scoped>\n",
              "    .dataframe tbody tr th:only-of-type {\n",
              "        vertical-align: middle;\n",
              "    }\n",
              "\n",
              "    .dataframe tbody tr th {\n",
              "        vertical-align: top;\n",
              "    }\n",
              "\n",
              "    .dataframe thead th {\n",
              "        text-align: right;\n",
              "    }\n",
              "</style>\n",
              "<table border=\"1\" class=\"dataframe\">\n",
              "  <thead>\n",
              "    <tr style=\"text-align: right;\">\n",
              "      <th></th>\n",
              "      <th>fg</th>\n",
              "      <th>3p</th>\n",
              "      <th>ft</th>\n",
              "      <th>reb</th>\n",
              "      <th>ast</th>\n",
              "      <th>stl</th>\n",
              "      <th>blk</th>\n",
              "      <th>tov</th>\n",
              "      <th>target_5yrs</th>\n",
              "      <th>total_points</th>\n",
              "      <th>efficiency</th>\n",
              "    </tr>\n",
              "  </thead>\n",
              "  <tbody>\n",
              "    <tr>\n",
              "      <th>0</th>\n",
              "      <td>34.7</td>\n",
              "      <td>25.0</td>\n",
              "      <td>69.9</td>\n",
              "      <td>4.1</td>\n",
              "      <td>1.9</td>\n",
              "      <td>0.4</td>\n",
              "      <td>0.4</td>\n",
              "      <td>1.3</td>\n",
              "      <td>0</td>\n",
              "      <td>266.4</td>\n",
              "      <td>0.270073</td>\n",
              "    </tr>\n",
              "    <tr>\n",
              "      <th>1</th>\n",
              "      <td>29.6</td>\n",
              "      <td>23.5</td>\n",
              "      <td>76.5</td>\n",
              "      <td>2.4</td>\n",
              "      <td>3.7</td>\n",
              "      <td>1.1</td>\n",
              "      <td>0.5</td>\n",
              "      <td>1.6</td>\n",
              "      <td>0</td>\n",
              "      <td>252.0</td>\n",
              "      <td>0.267658</td>\n",
              "    </tr>\n",
              "    <tr>\n",
              "      <th>2</th>\n",
              "      <td>42.2</td>\n",
              "      <td>24.4</td>\n",
              "      <td>67.0</td>\n",
              "      <td>2.2</td>\n",
              "      <td>1.0</td>\n",
              "      <td>0.5</td>\n",
              "      <td>0.3</td>\n",
              "      <td>1.0</td>\n",
              "      <td>0</td>\n",
              "      <td>384.8</td>\n",
              "      <td>0.339869</td>\n",
              "    </tr>\n",
              "    <tr>\n",
              "      <th>3</th>\n",
              "      <td>42.6</td>\n",
              "      <td>22.6</td>\n",
              "      <td>68.9</td>\n",
              "      <td>1.9</td>\n",
              "      <td>0.8</td>\n",
              "      <td>0.6</td>\n",
              "      <td>0.1</td>\n",
              "      <td>1.0</td>\n",
              "      <td>1</td>\n",
              "      <td>330.6</td>\n",
              "      <td>0.491379</td>\n",
              "    </tr>\n",
              "    <tr>\n",
              "      <th>4</th>\n",
              "      <td>52.4</td>\n",
              "      <td>0.0</td>\n",
              "      <td>67.4</td>\n",
              "      <td>2.5</td>\n",
              "      <td>0.3</td>\n",
              "      <td>0.3</td>\n",
              "      <td>0.4</td>\n",
              "      <td>0.8</td>\n",
              "      <td>1</td>\n",
              "      <td>216.0</td>\n",
              "      <td>0.391304</td>\n",
              "    </tr>\n",
              "  </tbody>\n",
              "</table>\n",
              "</div>"
            ],
            "text/plain": [
              "     fg    3p    ft  reb  ast  stl  blk  tov  target_5yrs  total_points  \\\n",
              "0  34.7  25.0  69.9  4.1  1.9  0.4  0.4  1.3            0         266.4   \n",
              "1  29.6  23.5  76.5  2.4  3.7  1.1  0.5  1.6            0         252.0   \n",
              "2  42.2  24.4  67.0  2.2  1.0  0.5  0.3  1.0            0         384.8   \n",
              "3  42.6  22.6  68.9  1.9  0.8  0.6  0.1  1.0            1         330.6   \n",
              "4  52.4   0.0  67.4  2.5  0.3  0.3  0.4  0.8            1         216.0   \n",
              "\n",
              "   efficiency  \n",
              "0    0.270073  \n",
              "1    0.267658  \n",
              "2    0.339869  \n",
              "3    0.491379  \n",
              "4    0.391304  "
            ]
          },
          "execution_count": 16,
          "metadata": {},
          "output_type": "execute_result"
        }
      ],
      "source": [
        "# Remove any columns from `extracted_data` that are no longer needed.\n",
        "extracted_data = extracted_data.drop(columns=[\"gp\", \"pts\", \"min\"])\n",
        "\n",
        "# Display the first few rows of `extracted_data` to ensure that column drops took place.\n",
        "\n",
        "extracted_data.head(5)\n",
        "\n"
      ]
    },
    {
      "cell_type": "markdown",
      "metadata": {
        "id": "T-_ViHlcwlik"
      },
      "source": [
        "Next, export the extracted data as a new .csv file. You will use this in a later lab."
      ]
    },
    {
      "cell_type": "code",
      "execution_count": null,
      "metadata": {
        "id": "gZ_DdQx1xIaN"
      },
      "outputs": [],
      "source": [
        "# Export the extracted data.\n",
        "\n",
        "extracted_data.to_csv(\"extracted_nba_players_data.csv\", index=0)\n"
      ]
    },
    {
      "cell_type": "markdown",
      "metadata": {
        "id": "xur2FC5xAzp0"
      },
      "source": [
        "## **Considerations**\n"
      ]
    },
    {
      "cell_type": "markdown",
      "metadata": {
        "id": "cEvvjB_Pgcz6"
      },
      "source": [
        "**What are some key takeaways that you learned during this lab? Consider the process you followed and what tasks were performed during each step, as well as important priorities when training data.**"
      ]
    },
    {
      "cell_type": "markdown",
      "metadata": {
        "id": "WvBogkdfggKN"
      },
      "source": [
        "**What summary would you provide to stakeholders? Consider key attributes to be shared from the data, as well as upcoming project plans.**"
      ]
    }
  ],
  "metadata": {
    "colab": {
      "provenance": [],
      "include_colab_link": true
    },
    "kernelspec": {
      "display_name": "Python 3 (ipykernel)",
      "language": "python",
      "name": "python3"
    },
    "language_info": {
      "codemirror_mode": {
        "name": "ipython",
        "version": 3
      },
      "file_extension": ".py",
      "mimetype": "text/x-python",
      "name": "python",
      "nbconvert_exporter": "python",
      "pygments_lexer": "ipython3",
      "version": "3.9.13"
    }
  },
  "nbformat": 4,
  "nbformat_minor": 0
}