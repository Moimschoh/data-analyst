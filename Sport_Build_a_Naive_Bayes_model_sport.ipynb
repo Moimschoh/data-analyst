{
  "cells": [
    {
      "cell_type": "markdown",
      "metadata": {
        "id": "view-in-github",
        "colab_type": "text"
      },
      "source": [
        "<a href=\"https://colab.research.google.com/github/Moimschoh/data-analyst/blob/main/Sport_Build_a_Naive_Bayes_model_sport.ipynb\" target=\"_parent\"><img src=\"https://colab.research.google.com/assets/colab-badge.svg\" alt=\"Open In Colab\"/></a>"
      ]
    },
    {
      "cell_type": "markdown",
      "metadata": {
        "id": "yugMU9MjJtBl"
      },
      "source": [
        "# Exemplar: Build a Naive Bayes model"
      ]
    },
    {
      "cell_type": "markdown",
      "metadata": {
        "id": "EzWqJunmJotv"
      },
      "source": [
        "## Introduction\n",
        "\n",
        "In this activity, we will build our own Naive Bayes model. Naive Bayes models can be valuable to use any time we are doing work with predictions because they give we a way to account for new information. In today's world, where data is constantly evolving, modeling with Naive Bayes can help us adapt quickly and make more accurate predictions about what could occur.\n",
        "\n",
        "For this activity, we work for a firm that provides insights for management and coaches in the National Basketball Association (NBA), a professional basketball league in North America. The league is interested in retaining players who can last in the high-pressure environment of professional basketball and help the team be successful over time. In the previous activity, we analyzed a subset of data that contained information about the NBA players and their performance records. we conducted feature engineering to determine which features would most effectively predict a player's career duration. we will now use those insights to build a model that predicts whether a player will have an NBA career lasting five years or more.\n",
        "\n",
        "The data for this activity consists of performance statistics from each player's rookie year. There are 1,341 observations, and each observation in the data represents a different player in the NBA. our target variable is a Boolean value that indicates whether a given player will last in the league for five years. Since we previously performed feature engineering on this data, it is now ready for modeling.   "
      ]
    },
    {
      "cell_type": "markdown",
      "metadata": {
        "id": "yTVinL1hJqoy"
      },
      "source": [
        "## Step 1: Imports"
      ]
    },
    {
      "cell_type": "markdown",
      "metadata": {
        "id": "DDIRpqkZJ4S8"
      },
      "source": [
        "### Import packages\n",
        "\n",
        "Begin with your import statements. Of particular note here are `pandas` and from `sklearn`, `naive_bayes`, `model_selection`, and `metrics`."
      ]
    },
    {
      "cell_type": "code",
      "execution_count": null,
      "metadata": {
        "id": "1nDjAJPa4lVZ"
      },
      "outputs": [],
      "source": [
        "# Import relevant libraries and modules.\n",
        "\n",
        "import pandas as pd\n",
        "from sklearn import naive_bayes\n",
        "from sklearn import model_selection\n",
        "from sklearn import metrics"
      ]
    },
    {
      "cell_type": "markdown",
      "metadata": {
        "id": "hKylHziGzY3X"
      },
      "source": [
        "### Load the dataset\n",
        "\n",
        "Recall that in the lab about feature engineering, we outputted features for the NBA player dataset along with the target variable ``target_5yrs``. Data was imported as a DataFrame called `extracted_data`."
      ]
    },
    {
      "cell_type": "code",
      "execution_count": null,
      "metadata": {
        "id": "4ebqpNcm4BDH"
      },
      "outputs": [],
      "source": [
        "# RUN THIS CELL TO IMPORT YOUR DATA.\n",
        "# Load extracted_nba_players_data.csv into a DataFrame called extracted_data.\n",
        "\n",
        "extracted_data = pd.read_csv('extracted_nba_players_data.csv')"
      ]
    },
    {
      "cell_type": "markdown",
      "metadata": {
        "id": "6bg_6M3IRgMU"
      },
      "source": [
        "### Display the data\n",
        "\n",
        "Review the first 10 rows of data."
      ]
    },
    {
      "cell_type": "code",
      "execution_count": null,
      "metadata": {
        "id": "JWu8u19C2sn1",
        "outputId": "d0aa1ea0-3569-4a53-a37c-a59336dacce0"
      },
      "outputs": [
        {
          "data": {
            "text/html": [
              "<div>\n",
              "<style scoped>\n",
              "    .dataframe tbody tr th:only-of-type {\n",
              "        vertical-align: middle;\n",
              "    }\n",
              "\n",
              "    .dataframe tbody tr th {\n",
              "        vertical-align: top;\n",
              "    }\n",
              "\n",
              "    .dataframe thead th {\n",
              "        text-align: right;\n",
              "    }\n",
              "</style>\n",
              "<table border=\"1\" class=\"dataframe\">\n",
              "  <thead>\n",
              "    <tr style=\"text-align: right;\">\n",
              "      <th></th>\n",
              "      <th>fg</th>\n",
              "      <th>3p</th>\n",
              "      <th>ft</th>\n",
              "      <th>reb</th>\n",
              "      <th>ast</th>\n",
              "      <th>stl</th>\n",
              "      <th>blk</th>\n",
              "      <th>tov</th>\n",
              "      <th>target_5yrs</th>\n",
              "      <th>total_points</th>\n",
              "      <th>efficiency</th>\n",
              "    </tr>\n",
              "  </thead>\n",
              "  <tbody>\n",
              "    <tr>\n",
              "      <th>0</th>\n",
              "      <td>34.7</td>\n",
              "      <td>25.0</td>\n",
              "      <td>69.9</td>\n",
              "      <td>4.1</td>\n",
              "      <td>1.9</td>\n",
              "      <td>0.4</td>\n",
              "      <td>0.4</td>\n",
              "      <td>1.3</td>\n",
              "      <td>0</td>\n",
              "      <td>266.4</td>\n",
              "      <td>0.270073</td>\n",
              "    </tr>\n",
              "    <tr>\n",
              "      <th>1</th>\n",
              "      <td>29.6</td>\n",
              "      <td>23.5</td>\n",
              "      <td>76.5</td>\n",
              "      <td>2.4</td>\n",
              "      <td>3.7</td>\n",
              "      <td>1.1</td>\n",
              "      <td>0.5</td>\n",
              "      <td>1.6</td>\n",
              "      <td>0</td>\n",
              "      <td>252.0</td>\n",
              "      <td>0.267658</td>\n",
              "    </tr>\n",
              "    <tr>\n",
              "      <th>2</th>\n",
              "      <td>42.2</td>\n",
              "      <td>24.4</td>\n",
              "      <td>67.0</td>\n",
              "      <td>2.2</td>\n",
              "      <td>1.0</td>\n",
              "      <td>0.5</td>\n",
              "      <td>0.3</td>\n",
              "      <td>1.0</td>\n",
              "      <td>0</td>\n",
              "      <td>384.8</td>\n",
              "      <td>0.339869</td>\n",
              "    </tr>\n",
              "    <tr>\n",
              "      <th>3</th>\n",
              "      <td>42.6</td>\n",
              "      <td>22.6</td>\n",
              "      <td>68.9</td>\n",
              "      <td>1.9</td>\n",
              "      <td>0.8</td>\n",
              "      <td>0.6</td>\n",
              "      <td>0.1</td>\n",
              "      <td>1.0</td>\n",
              "      <td>1</td>\n",
              "      <td>330.6</td>\n",
              "      <td>0.491379</td>\n",
              "    </tr>\n",
              "    <tr>\n",
              "      <th>4</th>\n",
              "      <td>52.4</td>\n",
              "      <td>0.0</td>\n",
              "      <td>67.4</td>\n",
              "      <td>2.5</td>\n",
              "      <td>0.3</td>\n",
              "      <td>0.3</td>\n",
              "      <td>0.4</td>\n",
              "      <td>0.8</td>\n",
              "      <td>1</td>\n",
              "      <td>216.0</td>\n",
              "      <td>0.391304</td>\n",
              "    </tr>\n",
              "    <tr>\n",
              "      <th>5</th>\n",
              "      <td>42.3</td>\n",
              "      <td>32.5</td>\n",
              "      <td>73.2</td>\n",
              "      <td>0.8</td>\n",
              "      <td>1.8</td>\n",
              "      <td>0.4</td>\n",
              "      <td>0.0</td>\n",
              "      <td>0.7</td>\n",
              "      <td>0</td>\n",
              "      <td>277.5</td>\n",
              "      <td>0.324561</td>\n",
              "    </tr>\n",
              "    <tr>\n",
              "      <th>6</th>\n",
              "      <td>43.5</td>\n",
              "      <td>50.0</td>\n",
              "      <td>81.1</td>\n",
              "      <td>2.0</td>\n",
              "      <td>0.6</td>\n",
              "      <td>0.2</td>\n",
              "      <td>0.1</td>\n",
              "      <td>0.7</td>\n",
              "      <td>1</td>\n",
              "      <td>409.2</td>\n",
              "      <td>0.605505</td>\n",
              "    </tr>\n",
              "    <tr>\n",
              "      <th>7</th>\n",
              "      <td>41.5</td>\n",
              "      <td>30.0</td>\n",
              "      <td>87.5</td>\n",
              "      <td>1.7</td>\n",
              "      <td>0.2</td>\n",
              "      <td>0.2</td>\n",
              "      <td>0.1</td>\n",
              "      <td>0.7</td>\n",
              "      <td>1</td>\n",
              "      <td>273.6</td>\n",
              "      <td>0.553398</td>\n",
              "    </tr>\n",
              "    <tr>\n",
              "      <th>8</th>\n",
              "      <td>39.2</td>\n",
              "      <td>23.3</td>\n",
              "      <td>71.4</td>\n",
              "      <td>0.8</td>\n",
              "      <td>2.3</td>\n",
              "      <td>0.3</td>\n",
              "      <td>0.0</td>\n",
              "      <td>1.1</td>\n",
              "      <td>0</td>\n",
              "      <td>156.0</td>\n",
              "      <td>0.242424</td>\n",
              "    </tr>\n",
              "    <tr>\n",
              "      <th>9</th>\n",
              "      <td>38.3</td>\n",
              "      <td>21.4</td>\n",
              "      <td>67.8</td>\n",
              "      <td>1.1</td>\n",
              "      <td>0.3</td>\n",
              "      <td>0.2</td>\n",
              "      <td>0.0</td>\n",
              "      <td>0.7</td>\n",
              "      <td>0</td>\n",
              "      <td>155.4</td>\n",
              "      <td>0.435294</td>\n",
              "    </tr>\n",
              "  </tbody>\n",
              "</table>\n",
              "</div>"
            ],
            "text/plain": [
              "     fg    3p    ft  reb  ast  stl  blk  tov  target_5yrs  total_points  \\\n",
              "0  34.7  25.0  69.9  4.1  1.9  0.4  0.4  1.3            0         266.4   \n",
              "1  29.6  23.5  76.5  2.4  3.7  1.1  0.5  1.6            0         252.0   \n",
              "2  42.2  24.4  67.0  2.2  1.0  0.5  0.3  1.0            0         384.8   \n",
              "3  42.6  22.6  68.9  1.9  0.8  0.6  0.1  1.0            1         330.6   \n",
              "4  52.4   0.0  67.4  2.5  0.3  0.3  0.4  0.8            1         216.0   \n",
              "5  42.3  32.5  73.2  0.8  1.8  0.4  0.0  0.7            0         277.5   \n",
              "6  43.5  50.0  81.1  2.0  0.6  0.2  0.1  0.7            1         409.2   \n",
              "7  41.5  30.0  87.5  1.7  0.2  0.2  0.1  0.7            1         273.6   \n",
              "8  39.2  23.3  71.4  0.8  2.3  0.3  0.0  1.1            0         156.0   \n",
              "9  38.3  21.4  67.8  1.1  0.3  0.2  0.0  0.7            0         155.4   \n",
              "\n",
              "   efficiency  \n",
              "0    0.270073  \n",
              "1    0.267658  \n",
              "2    0.339869  \n",
              "3    0.491379  \n",
              "4    0.391304  \n",
              "5    0.324561  \n",
              "6    0.605505  \n",
              "7    0.553398  \n",
              "8    0.242424  \n",
              "9    0.435294  "
            ]
          },
          "execution_count": 5,
          "metadata": {},
          "output_type": "execute_result"
        }
      ],
      "source": [
        "# Display the first 10 rows of data.\n",
        "\n",
        "\n",
        "extracted_data.head(10)"
      ]
    },
    {
      "cell_type": "markdown",
      "metadata": {
        "id": "4zz8claq0Swi"
      },
      "source": [
        "## Step 2: Model preparation"
      ]
    },
    {
      "cell_type": "markdown",
      "metadata": {
        "id": "8kgPx_MP0cuc"
      },
      "source": [
        "### Isolate your target and predictor variables\n",
        "Separately define the target variable (`target_5yrs`) and the features."
      ]
    },
    {
      "cell_type": "code",
      "execution_count": null,
      "metadata": {
        "id": "xO46EzS8oBIG"
      },
      "outputs": [],
      "source": [
        "# Define the y (target) variable.\n",
        "\n",
        "y = extracted_data['target_5yrs']\n",
        "\n",
        "# Define the X (predictor) variables.\n",
        "\n",
        "X = extracted_data.drop('target_5yrs', axis = 1)"
      ]
    },
    {
      "cell_type": "markdown",
      "metadata": {
        "id": "WWXkObsg5gzd"
      },
      "source": [
        "\n",
        "\n",
        "In `pandas`, subset your DataFrame by using square brackets `[]` to specify which column(s) to select.\n"
      ]
    },
    {
      "cell_type": "markdown",
      "metadata": {
        "id": "JU9z6ufC5n58"
      },
      "source": [
        "\n",
        "\n",
        "Quickly subset a DataFrame to exclude a particular column by using the `drop()` function and specifying the column to drop.\n"
      ]
    },
    {
      "cell_type": "markdown",
      "metadata": {
        "id": "xj8-Pb0N-rjW"
      },
      "source": [
        "### Display the first 10 rows of your target data\n",
        "\n",
        "Display the first 10 rows of your target and predictor variables. This will help you get a sense of how the data is structured."
      ]
    },
    {
      "cell_type": "code",
      "execution_count": null,
      "metadata": {
        "id": "pivKfaxQ5uHZ",
        "outputId": "76f0b077-4564-42a3-e364-aab3ed6d1225"
      },
      "outputs": [
        {
          "data": {
            "text/plain": [
              "0    0\n",
              "1    0\n",
              "2    0\n",
              "3    1\n",
              "4    1\n",
              "5    0\n",
              "6    1\n",
              "7    1\n",
              "8    0\n",
              "9    0\n",
              "Name: target_5yrs, dtype: int64"
            ]
          },
          "execution_count": 7,
          "metadata": {},
          "output_type": "execute_result"
        }
      ],
      "source": [
        "# Display the first 10 rows of your target data.\n",
        "\n",
        "\n",
        "y.head(10)"
      ]
    },
    {
      "cell_type": "markdown",
      "metadata": {
        "id": "oDls2RifZhu2"
      },
      "source": [
        "**Question:** What do we observe about the our target variable?\n",
        "\n",
        "Given that the target variable contains both 1 and 0 indicates that it is binary and requires a model suitable for binary classification."
      ]
    },
    {
      "cell_type": "code",
      "execution_count": null,
      "metadata": {
        "id": "2kDZK5qe-4B0",
        "outputId": "f6af4cf7-6713-448a-93ce-8b117a159053"
      },
      "outputs": [
        {
          "data": {
            "text/html": [
              "<div>\n",
              "<style scoped>\n",
              "    .dataframe tbody tr th:only-of-type {\n",
              "        vertical-align: middle;\n",
              "    }\n",
              "\n",
              "    .dataframe tbody tr th {\n",
              "        vertical-align: top;\n",
              "    }\n",
              "\n",
              "    .dataframe thead th {\n",
              "        text-align: right;\n",
              "    }\n",
              "</style>\n",
              "<table border=\"1\" class=\"dataframe\">\n",
              "  <thead>\n",
              "    <tr style=\"text-align: right;\">\n",
              "      <th></th>\n",
              "      <th>fg</th>\n",
              "      <th>3p</th>\n",
              "      <th>ft</th>\n",
              "      <th>reb</th>\n",
              "      <th>ast</th>\n",
              "      <th>stl</th>\n",
              "      <th>blk</th>\n",
              "      <th>tov</th>\n",
              "      <th>total_points</th>\n",
              "      <th>efficiency</th>\n",
              "    </tr>\n",
              "  </thead>\n",
              "  <tbody>\n",
              "    <tr>\n",
              "      <th>0</th>\n",
              "      <td>34.7</td>\n",
              "      <td>25.0</td>\n",
              "      <td>69.9</td>\n",
              "      <td>4.1</td>\n",
              "      <td>1.9</td>\n",
              "      <td>0.4</td>\n",
              "      <td>0.4</td>\n",
              "      <td>1.3</td>\n",
              "      <td>266.4</td>\n",
              "      <td>0.270073</td>\n",
              "    </tr>\n",
              "    <tr>\n",
              "      <th>1</th>\n",
              "      <td>29.6</td>\n",
              "      <td>23.5</td>\n",
              "      <td>76.5</td>\n",
              "      <td>2.4</td>\n",
              "      <td>3.7</td>\n",
              "      <td>1.1</td>\n",
              "      <td>0.5</td>\n",
              "      <td>1.6</td>\n",
              "      <td>252.0</td>\n",
              "      <td>0.267658</td>\n",
              "    </tr>\n",
              "    <tr>\n",
              "      <th>2</th>\n",
              "      <td>42.2</td>\n",
              "      <td>24.4</td>\n",
              "      <td>67.0</td>\n",
              "      <td>2.2</td>\n",
              "      <td>1.0</td>\n",
              "      <td>0.5</td>\n",
              "      <td>0.3</td>\n",
              "      <td>1.0</td>\n",
              "      <td>384.8</td>\n",
              "      <td>0.339869</td>\n",
              "    </tr>\n",
              "    <tr>\n",
              "      <th>3</th>\n",
              "      <td>42.6</td>\n",
              "      <td>22.6</td>\n",
              "      <td>68.9</td>\n",
              "      <td>1.9</td>\n",
              "      <td>0.8</td>\n",
              "      <td>0.6</td>\n",
              "      <td>0.1</td>\n",
              "      <td>1.0</td>\n",
              "      <td>330.6</td>\n",
              "      <td>0.491379</td>\n",
              "    </tr>\n",
              "    <tr>\n",
              "      <th>4</th>\n",
              "      <td>52.4</td>\n",
              "      <td>0.0</td>\n",
              "      <td>67.4</td>\n",
              "      <td>2.5</td>\n",
              "      <td>0.3</td>\n",
              "      <td>0.3</td>\n",
              "      <td>0.4</td>\n",
              "      <td>0.8</td>\n",
              "      <td>216.0</td>\n",
              "      <td>0.391304</td>\n",
              "    </tr>\n",
              "    <tr>\n",
              "      <th>5</th>\n",
              "      <td>42.3</td>\n",
              "      <td>32.5</td>\n",
              "      <td>73.2</td>\n",
              "      <td>0.8</td>\n",
              "      <td>1.8</td>\n",
              "      <td>0.4</td>\n",
              "      <td>0.0</td>\n",
              "      <td>0.7</td>\n",
              "      <td>277.5</td>\n",
              "      <td>0.324561</td>\n",
              "    </tr>\n",
              "    <tr>\n",
              "      <th>6</th>\n",
              "      <td>43.5</td>\n",
              "      <td>50.0</td>\n",
              "      <td>81.1</td>\n",
              "      <td>2.0</td>\n",
              "      <td>0.6</td>\n",
              "      <td>0.2</td>\n",
              "      <td>0.1</td>\n",
              "      <td>0.7</td>\n",
              "      <td>409.2</td>\n",
              "      <td>0.605505</td>\n",
              "    </tr>\n",
              "    <tr>\n",
              "      <th>7</th>\n",
              "      <td>41.5</td>\n",
              "      <td>30.0</td>\n",
              "      <td>87.5</td>\n",
              "      <td>1.7</td>\n",
              "      <td>0.2</td>\n",
              "      <td>0.2</td>\n",
              "      <td>0.1</td>\n",
              "      <td>0.7</td>\n",
              "      <td>273.6</td>\n",
              "      <td>0.553398</td>\n",
              "    </tr>\n",
              "    <tr>\n",
              "      <th>8</th>\n",
              "      <td>39.2</td>\n",
              "      <td>23.3</td>\n",
              "      <td>71.4</td>\n",
              "      <td>0.8</td>\n",
              "      <td>2.3</td>\n",
              "      <td>0.3</td>\n",
              "      <td>0.0</td>\n",
              "      <td>1.1</td>\n",
              "      <td>156.0</td>\n",
              "      <td>0.242424</td>\n",
              "    </tr>\n",
              "    <tr>\n",
              "      <th>9</th>\n",
              "      <td>38.3</td>\n",
              "      <td>21.4</td>\n",
              "      <td>67.8</td>\n",
              "      <td>1.1</td>\n",
              "      <td>0.3</td>\n",
              "      <td>0.2</td>\n",
              "      <td>0.0</td>\n",
              "      <td>0.7</td>\n",
              "      <td>155.4</td>\n",
              "      <td>0.435294</td>\n",
              "    </tr>\n",
              "  </tbody>\n",
              "</table>\n",
              "</div>"
            ],
            "text/plain": [
              "     fg    3p    ft  reb  ast  stl  blk  tov  total_points  efficiency\n",
              "0  34.7  25.0  69.9  4.1  1.9  0.4  0.4  1.3         266.4    0.270073\n",
              "1  29.6  23.5  76.5  2.4  3.7  1.1  0.5  1.6         252.0    0.267658\n",
              "2  42.2  24.4  67.0  2.2  1.0  0.5  0.3  1.0         384.8    0.339869\n",
              "3  42.6  22.6  68.9  1.9  0.8  0.6  0.1  1.0         330.6    0.491379\n",
              "4  52.4   0.0  67.4  2.5  0.3  0.3  0.4  0.8         216.0    0.391304\n",
              "5  42.3  32.5  73.2  0.8  1.8  0.4  0.0  0.7         277.5    0.324561\n",
              "6  43.5  50.0  81.1  2.0  0.6  0.2  0.1  0.7         409.2    0.605505\n",
              "7  41.5  30.0  87.5  1.7  0.2  0.2  0.1  0.7         273.6    0.553398\n",
              "8  39.2  23.3  71.4  0.8  2.3  0.3  0.0  1.1         156.0    0.242424\n",
              "9  38.3  21.4  67.8  1.1  0.3  0.2  0.0  0.7         155.4    0.435294"
            ]
          },
          "execution_count": 8,
          "metadata": {},
          "output_type": "execute_result"
        }
      ],
      "source": [
        "# Display the first 10 rows of your predictor variables.\n",
        "\n",
        "\n",
        "X.head(10)"
      ]
    },
    {
      "cell_type": "markdown",
      "metadata": {
        "id": "Albdy39HZwQT"
      },
      "source": [
        "**Question:** What do we observe about the your predictor variables?\n",
        "\n",
        "The data indicates that all of the predictor variables are continuous numerical values, so it is important that the model selected is suitable for continuous features."
      ]
    },
    {
      "cell_type": "markdown",
      "metadata": {
        "id": "cQ-wo4UOoBII"
      },
      "source": [
        "### Perform a split operation on your data\n",
        "\n",
        "Divide your data into a training set (75% of data) and test set (25% of data). This is an important step in the process, as it allows you to reserve a part of the data that the model has not observed. This tests how well the model generalizes—or performs—on new data."
      ]
    },
    {
      "cell_type": "code",
      "execution_count": null,
      "metadata": {
        "id": "pO2AdPR7oBIJ"
      },
      "outputs": [],
      "source": [
        "# Perform the split operation on your data.\n",
        "# Assign the outputs as follows: X_train, X_test, y_train, y_test.\n",
        "\n",
        "\n",
        "X_train, X_test, y_train, y_test = model_selection.train_test_split(X, y, test_size=0.25, random_state=0)"
      ]
    },
    {
      "cell_type": "markdown",
      "metadata": {
        "id": "pUmzKZUU2mKp"
      },
      "source": [
        "\n",
        "\n",
        "Call the function in the `model_selection` module of `sklearn` on the features and target variable, in order to perform the splitting.\n"
      ]
    },
    {
      "cell_type": "markdown",
      "metadata": {
        "id": "ORy1MNR62mKq"
      },
      "source": [
        "\n",
        "\n",
        "Call the `model_selection.train_test_split()` function, passing in both `features` and `target`, while configuring the appropriate `test_size`.\n",
        "\n",
        "Assign the output of this split as `X_train`, `X_test`, `y_train`, `y_test`.\n"
      ]
    },
    {
      "cell_type": "markdown",
      "metadata": {
        "id": "Gjasizab0tSL"
      },
      "source": [
        "### Print the shape of each output\n",
        "\n",
        "Print the shape of each output from your train-test split. This will verify that the split operated as expected."
      ]
    },
    {
      "cell_type": "code",
      "execution_count": null,
      "metadata": {
        "id": "xtxpSjCm4jCa",
        "outputId": "93e7802d-bfbf-41fb-8cb6-2b7abe81935c"
      },
      "outputs": [
        {
          "name": "stdout",
          "output_type": "stream",
          "text": [
            "(1005, 10)\n",
            "(335, 10)\n",
            "(1005,)\n",
            "(335,)\n"
          ]
        }
      ],
      "source": [
        "# Print the shape (rows, columns) of the output from the train-test split.\n",
        "\n",
        "# Print the shape of X_train.\n",
        "\n",
        "\n",
        "print(X_train.shape)\n",
        "\n",
        "# Print the shape of X_test.\n",
        "\n",
        "print(X_test.shape)\n",
        "\n",
        "# Print the shape of y_train.\n",
        "\n",
        "\n",
        "print(y_train.shape)\n",
        "\n",
        "# Print the shape of y_test.\n",
        "\n",
        "\n",
        "print(y_test.shape)"
      ]
    },
    {
      "cell_type": "markdown",
      "metadata": {
        "id": "dx8DO1Rw2ZBZ"
      },
      "source": [
        "\n",
        "\n",
        "Call the attribute that DataFrames in `pandas` have to get the number of rows and number of columns as a tuple.\n"
      ]
    },
    {
      "cell_type": "markdown",
      "metadata": {
        "id": "G9pDSxlG2di1"
      },
      "source": [
        "\n",
        "Call the `shape` attribute.\n"
      ]
    },
    {
      "cell_type": "markdown",
      "metadata": {
        "id": "MCIsGmSESpu5"
      },
      "source": [
        "**Question:** How many rows are in each of the outputs?\n",
        "\n",
        "Each training DataFrame contains 1,005 rows, while each test DataFrame contains 335 rows. Additionally, there are 10 columns in each X DataFrame, with only one column in each y DataFrame.\n",
        "\n"
      ]
    },
    {
      "cell_type": "markdown",
      "metadata": {
        "id": "zZndsnPq1UyL"
      },
      "source": [
        "**Question:** What was the effect of the train-test split?\n",
        "\n",
        "The effect of the train-test split showed an approximately 75% training and 25% test split."
      ]
    },
    {
      "cell_type": "markdown",
      "metadata": {
        "id": "MY0rAjlZAheh"
      },
      "source": [
        "## Step 3: Model building"
      ]
    },
    {
      "cell_type": "markdown",
      "metadata": {
        "id": "YS06KhTSoBIM"
      },
      "source": [
        "**Question:** Which Naive Bayes algorithm should we use?\n",
        "\n",
        "Using the assumption that our features are normally distributed and continuous, the Gaussian Naive Bayes algorithm is most appropriate for our data. While our data may not perfectly adhere to these assumptions, this model will still yield the most usable and accurate results."
      ]
    },
    {
      "cell_type": "markdown",
      "metadata": {
        "id": "gzT16WHjoBIM"
      },
      "source": [
        "\n",
        "\n",
        "Note that we are performing binary classification.\n"
      ]
    },
    {
      "cell_type": "markdown",
      "metadata": {
        "id": "IILInxLYoBIN"
      },
      "source": [
        "\n",
        "\n",
        "we can identify the appropriate algorithm to use because we are performing a binary classification and assuming that the features of our model follow a normal distribution.\n"
      ]
    },
    {
      "cell_type": "markdown",
      "metadata": {
        "id": "m5EFtZfXoBIN"
      },
      "source": [
        "### Fit our model to our training data and predict on our test data\n",
        "\n",
        "By creating our model, we will be drawing on our feature engineering work by training the classifier on the `X_train` DataFrame. we will use this to predict `target_5yrs` from `y_train`.\n",
        "\n",
        "Start by defining `nb` to be the relevant algorithm from `sklearn`.`naive_bayes`. Then fit our model to your training data. Use this fitted model to create predictions for our test data."
      ]
    },
    {
      "cell_type": "code",
      "execution_count": null,
      "metadata": {
        "id": "gUEgzQW_6oMV"
      },
      "outputs": [],
      "source": [
        "# Assign `nb` to be the appropriate implementation of Naive Bayes.\n",
        "\n",
        "\n",
        "nb = naive_bayes.GaussianNB()\n",
        "\n",
        "# Fit the model on your training data.\n",
        "\n",
        "\n",
        "nb.fit(X_train, y_train)\n",
        "\n",
        "# Apply your model to predict on your test data. Call this \"y_pred\".\n",
        "\n",
        "\n",
        "y_pred = nb.predict(X_test)"
      ]
    },
    {
      "cell_type": "markdown",
      "metadata": {
        "id": "Vo1E7RjtoBIN"
      },
      "source": [
        "\n",
        "\n",
        "The appropriate implementation in this case is `naive_bayes`.`GaussianNB()`. Fit this model to your training data and predict on your test data.\n"
      ]
    },
    {
      "cell_type": "markdown",
      "metadata": {
        "id": "azSq51xXoBIN"
      },
      "source": [
        "\n",
        "\n",
        "\n",
        "Call `fit()`and pass our training feature set and target variable. Then call `predict()` on your test feature set.\n"
      ]
    },
    {
      "cell_type": "markdown",
      "metadata": {
        "id": "qgV_6xAQAvgg"
      },
      "source": [
        "## Step 4: Results and evaluation\n"
      ]
    },
    {
      "cell_type": "markdown",
      "metadata": {
        "id": "XPswDdr1oBIO"
      },
      "source": [
        "### Leverage metrics to evaluate our model's performance\n",
        "\n",
        "To evaluate the data yielded from our model, you can leverage a series of metrics and evaluation techniques from scikit-learn by examining the actual observed values in the test set relative to our model's prediction. Specifically, print the accuracy score, precision score, recall score, and f1 score associated with your test data and predicted values."
      ]
    },
    {
      "cell_type": "code",
      "execution_count": null,
      "metadata": {
        "id": "INf2Rd_MoBIP",
        "outputId": "64cd6021-81f4-439e-8fe1-e8b75be6f7b2"
      },
      "outputs": [
        {
          "name": "stdout",
          "output_type": "stream",
          "text": [
            "accuracy score:\n",
            "0.6895522388059702\n",
            "precision score:\n",
            "0.8405797101449275\n",
            "recall score:\n",
            "0.5858585858585859\n",
            "f1 score:\n",
            "0.6904761904761905\n"
          ]
        },
        {
          "data": {
            "text/plain": [
              "(None, None)"
            ]
          },
          "execution_count": 12,
          "metadata": {},
          "output_type": "execute_result"
        }
      ],
      "source": [
        "# Print your accuracy score.\n",
        "\n",
        "\n",
        "print('accuracy score:'), print(metrics.accuracy_score(y_test, y_pred))\n",
        "\n",
        "# Print your precision score.\n",
        "\n",
        "\n",
        "print('precision score:'), print(metrics.precision_score(y_test, y_pred))\n",
        "\n",
        "# Print your recall score.\n",
        "\n",
        "\n",
        "print('recall score:'), print(metrics.recall_score(y_test, y_pred))\n",
        "\n",
        "# Print your f1 score.\n",
        "\n",
        "\n",
        "print('f1 score:'), print(metrics.f1_score(y_test, y_pred))"
      ]
    },
    {
      "cell_type": "markdown",
      "metadata": {
        "id": "oT143KsSoBIP"
      },
      "source": [
        "\n",
        "\n",
        "The `metrics` module in `sklearn` has a function for computing each of these metrics.\n"
      ]
    },
    {
      "cell_type": "markdown",
      "metadata": {
        "id": "BECv4a2toBIP"
      },
      "source": [
        "\n",
        "\n",
        "\n",
        "Call `accuracy_score()`, `precision_score()`, `recall_score()`, and `f1_score()`, passing `y_test`, and `y_pred` into each function.\n"
      ]
    },
    {
      "cell_type": "markdown",
      "metadata": {
        "id": "dDx7rrdNoBIP"
      },
      "source": [
        "**Question:** What is the accuracy score for your model, and what does this tell us about the success of the model's performance?\n",
        "\n",
        "The accuracy score for this model is 0.6896, or 69.0% accurate."
      ]
    },
    {
      "cell_type": "markdown",
      "metadata": {
        "id": "QirKWngCah9v"
      },
      "source": [
        "**Question:** Can we evaluate the success of our model by using the accuracy score exclusively?\n",
        "\n",
        "In classification problems, accuracy is useful to know but may not be the best metric by which to evaluate this model. While accuracy is often the most intuitive metric, it is a poor evaluation metric in some cases. In particular, if we have imbalanced classes, a model could appear accurate but be poor at balancing false positives and false negatives."
      ]
    },
    {
      "cell_type": "markdown",
      "metadata": {
        "id": "evpAa_4noBIP"
      },
      "source": [
        "**Question:** What are the precision and recall scores for your model, and what do they mean? Is one of these scores more accurate than the other?\n",
        "\n",
        "Precision and recall scores are both useful to evaluate the correct predictive capability of a model because they balance the false positives and false negatives inherent in prediction.\n",
        "\n",
        "The model shows a precision score of 0.8406, suggesting the model is quite good at predicting true positives—meaning the player will play longer than five years—while balancing false positives. The recall score of 0.5859 shows worse performance in predicting true negatives—where the player will not play for five years or more—while balancing false negatives.These two metrics combined can give a better assessment of model performance than accuracy does alone."
      ]
    },
    {
      "cell_type": "markdown",
      "metadata": {
        "id": "7ghkTwSUoBIP"
      },
      "source": [
        "**Question:** What is the F1 score of our model, and what does this score mean?\n",
        "\n",
        "The F1 score balances the precision and recall performance to give a combined assessment of how well this model delivers predictions. In this case, the F1 score is 0.6905, which suggests reasonable predictive power in this model."
      ]
    },
    {
      "cell_type": "markdown",
      "metadata": {
        "id": "mNzDfI3RoBIQ"
      },
      "source": [
        "### Gain clarity with the confusion matrix\n",
        "\n",
        "Recall that a confusion matrix is a graphic that shows your model's true and false positives and negatives. It helps to create a visual representation of the components feeding into the metrics.\n",
        "\n",
        "Create a confusion matrix based on our predicted values for the test set."
      ]
    },
    {
      "cell_type": "code",
      "execution_count": null,
      "metadata": {
        "id": "ntoJ-YG7oBIQ",
        "outputId": "64e115db-7aca-49cd-dbe8-0f1595d08f3b"
      },
      "outputs": [
        {
          "data": {
            "text/plain": [
              "<sklearn.metrics._plot.confusion_matrix.ConfusionMatrixDisplay at 0x1a1334568e0>"
            ]
          },
          "execution_count": 13,
          "metadata": {},
          "output_type": "execute_result"
        },
        {
          "data": {
            "image/png": "[encoded data removed]",
            "text/plain": [
              "<Figure size 640x480 with 2 Axes>"
            ]
          },
          "metadata": {},
          "output_type": "display_data"
        }
      ],
      "source": [
        "# Construct and display your confusion matrix.\n",
        "\n",
        "# Construct the confusion matrix for your predicted and test values.\n",
        "\n",
        "\n",
        "cm = metrics.confusion_matrix(y_test, y_pred)\n",
        "\n",
        "# Create the display for your confusion matrix.\n",
        "\n",
        "\n",
        "disp = metrics.ConfusionMatrixDisplay(confusion_matrix=cm, display_labels=nb.classes_)\n",
        "\n",
        "# Plot the visual in-line.\n",
        "\n",
        "\n",
        "disp.plot()"
      ]
    },
    {
      "cell_type": "markdown",
      "metadata": {
        "id": "b2lqmzQ-oBIQ"
      },
      "source": [
        "\n",
        "\n",
        "The `metrics` module has functions to create a confusion matrix.\n"
      ]
    },
    {
      "cell_type": "markdown",
      "metadata": {
        "id": "Wi_x2zTDoBIQ"
      },
      "source": [
        "\n",
        "\n",
        "Call `confusion_matrix`, passing in `y_test` and `y_pred`. Then, utilize `ConfusionMatrixDisplay()` to display our confusion matrix.\n"
      ]
    },
    {
      "cell_type": "markdown",
      "metadata": {
        "id": "aLkF5znkNk7m"
      },
      "source": [
        "**Question:** What do you notice when observing your confusion matrix, and does this correlate to any of your other calculations?\n",
        "\n",
        "- The top left to bottom right diagonal in the confusion matrix represents the correct predictions, and the ratio of these squares showcases the accuracy.\n",
        "\n",
        "- The concentration of true positives stands out relative to false positives. This ratio is why the precision score is so high (0.8406).\n",
        "\n",
        "- True negatives and false negatives are closer in number, which explains the worse recall score."
      ]
    },
    {
      "cell_type": "markdown",
      "metadata": {
        "id": "xur2FC5xAzp0"
      },
      "source": [
        "## Considerations\n",
        "\n",
        "**What are some key takeaways that we learned from this lab?**\n",
        "- The evaluation of the model is important to inform if the model has delivered accurate predictions.\n",
        "- Splitting the data was important for ensuring that there was new data for the model to test its predictive performance.\n",
        "- Each metric provided an evaluation from a different standpoint, and accuracy alone was not a strong way to evaluate the model.\n",
        "- Effective assessments balance the true/false positives versus true/false negatives through the confusion matrix and F1 score.\n",
        "\n",
        "**How would we present your results to our team?**\n",
        "- Showcase the data used to create the prediction and the performance of the model overall.\n",
        "- Review the sample output of the features and the confusion matrix to indicate the model's performance.\n",
        "- Highlight the metric values, emphasizing the F1 score.\n",
        "\n",
        "**How would we summarize our findings to stakeholders?**\n",
        "- The model created provides some value in predicting an NBA player's chances of playing for five years or more.\n",
        "- Notably, the model performed better at predicting true positives than it did at predicting true negatives. In other words, it more accurately identified those players who will likely play for more than five years than it did those who likely will not."
      ]
    }
  ],
  "metadata": {
    "colab": {
      "provenance": [],
      "include_colab_link": true
    },
    "kernelspec": {
      "display_name": "Python 3 (ipykernel)",
      "language": "python",
      "name": "python3"
    },
    "language_info": {
      "codemirror_mode": {
        "name": "ipython",
        "version": 3
      },
      "file_extension": ".py",
      "mimetype": "text/x-python",
      "name": "python",
      "nbconvert_exporter": "python",
      "pygments_lexer": "ipython3",
      "version": "3.9.13"
    }
  },
  "nbformat": 4,
  "nbformat_minor": 0
}